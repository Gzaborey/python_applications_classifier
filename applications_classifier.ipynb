{
  "nbformat": 4,
  "nbformat_minor": 0,
  "metadata": {
    "colab": {
      "provenance": [],
      "toc_visible": true,
      "authorship_tag": "ABX9TyNULSO2vCepOF6T6x5xMfBa",
      "include_colab_link": true
    },
    "kernelspec": {
      "name": "python3",
      "display_name": "Python 3"
    }
  },
  "cells": [
    {
      "cell_type": "markdown",
      "metadata": {
        "id": "view-in-github",
        "colab_type": "text"
      },
      "source": [
        "<a href=\"https://colab.research.google.com/github/Gzaborey/python_applications_classifier/blob/main/applications_classifier.ipynb\" target=\"_parent\"><img src=\"https://colab.research.google.com/assets/colab-badge.svg\" alt=\"Open In Colab\"/></a>"
      ]
    },
    {
      "cell_type": "code",
      "metadata": {
        "id": "R28n8Wvf0UAg"
      },
      "source": [
        "# Importing necessary libraries\n",
        "\n",
        "import pandas as pd\n",
        "import numpy as np\n",
        "import string\n",
        "import re\n",
        "import matplotlib.pyplot as plt\n",
        "import sklearn.model_selection as sk_ms\n",
        "import sklearn.preprocessing as sk_preprocessing\n",
        "import sklearn.metrics as sk_metrics\n",
        "from sklearn.feature_extraction.text import CountVectorizer\n",
        "from nltk.corpus import stopwords\n",
        "from nltk.stem.snowball import SnowballStemmer\n",
        "from sklearn.linear_model import LogisticRegression\n",
        "from sklearn.naive_bayes import MultinomialNB"
      ],
      "execution_count": 1,
      "outputs": []
    },
    {
      "cell_type": "code",
      "source": [
        "%matplotlib inline"
      ],
      "metadata": {
        "id": "YLP0mHG_pxlw"
      },
      "execution_count": 2,
      "outputs": []
    },
    {
      "cell_type": "code",
      "metadata": {
        "colab": {
          "base_uri": "https://localhost:8080/"
        },
        "id": "X-Uf0xGb4_D-",
        "outputId": "c8017975-ae02-45e7-c123-df824fdac22f"
      },
      "source": [
        "import nltk\n",
        "nltk.download(\"stopwords\")"
      ],
      "execution_count": 3,
      "outputs": [
        {
          "output_type": "stream",
          "name": "stderr",
          "text": [
            "[nltk_data] Downloading package stopwords to /root/nltk_data...\n",
            "[nltk_data]   Package stopwords is already up-to-date!\n"
          ]
        },
        {
          "output_type": "execute_result",
          "data": {
            "text/plain": [
              "True"
            ]
          },
          "metadata": {},
          "execution_count": 3
        }
      ]
    },
    {
      "cell_type": "code",
      "metadata": {
        "id": "swkkjnmi3ysd"
      },
      "source": [
        "# Defining necessary functions to preprocess the data\n",
        "\n",
        "def process_text(text):\n",
        "\n",
        "  \"\"\"Removes punctuation, whitespases, stopwords, english words, short words and digits.\n",
        "     Returns list of words.\"\"\"\n",
        "\n",
        "  stemmer = SnowballStemmer(\"russian\")\n",
        "  eng_regex = re.compile(r\"[a-zA-Z]\")\n",
        "\n",
        "  nopunc = [char for char in text if char not in string.punctuation]\n",
        "  nopunc = ''.join(nopunc)\n",
        "\n",
        "  processed_words = [stemmer.stem(word.lower()) for word in nopunc.split()\\\n",
        "                      if word.lower() not in stopwords.words(\"russian\")\\\n",
        "                      and word.lower() not in stopwords.words(\"english\")\\\n",
        "                      and word.lower().isalpha()\\\n",
        "                      and len(word.lower()) > 4\\\n",
        "                      and word.lower() not in \"\".join(eng_regex.findall(word.lower()))]\n",
        "  return processed_words \n",
        "\n",
        "def validate_name(string_to_validate, name_data):\n",
        "\n",
        "  \"\"\"Checks if given name is common. \n",
        "      If given name is not common (does not appear in a database of names) \n",
        "      it is considered invalid i.e. fake name.\"\"\"\n",
        "\n",
        "  name_validity = 0\n",
        "  for word in string_to_validate.lower().split():\n",
        "    if word in name_data:\n",
        "      name_validity = 1\n",
        "      break\n",
        "    else:\n",
        "      name_validity = 0\n",
        "  return name_validity\n",
        "\n",
        "def validate_phone_number(phone_number):\n",
        "\n",
        "  \"\"\"Checks if given phone number is from Ukraine.\"\"\"\n",
        "\n",
        "  temp1 = [char for char in phone_number if (char not in string.punctuation \\\n",
        "                                             and char is not ' ')]\n",
        "  temp2 = ''.join(temp1)\n",
        "  if len(temp2) > 12 or len(temp2) < 9:\n",
        "    return 0\n",
        "  else:\n",
        "    for char in range(7):\n",
        "      temp1.pop()\n",
        "    temp2 = ''.join(temp1)\n",
        "    pattern1 = re.compile(r\"(380|0|)\")\n",
        "    first_condition = temp2[-3::-1][::-1] in pattern1.findall(temp2[-3::-1][::-1])\n",
        "    pattern2 = re.compile(r\"(39|67|68|96|97|98|50|66|95|99|63|93|91|92|94)\")\n",
        "    second_condition = temp2[-1:-3:-1][::-1] in pattern2.findall(temp2[-1:-3:-1][::-1])\n",
        "    if first_condition and second_condition:\n",
        "      return 1\n",
        "    else:\n",
        "      return 0"
      ],
      "execution_count": 4,
      "outputs": []
    },
    {
      "cell_type": "markdown",
      "metadata": {
        "id": "OC1FvFJaIWYq"
      },
      "source": [
        "# **Preparing the data**"
      ]
    },
    {
      "cell_type": "markdown",
      "metadata": {
        "id": "P5Z60vHLlNK7"
      },
      "source": [
        "## Loading the data and constructing features"
      ]
    },
    {
      "cell_type": "code",
      "metadata": {
        "id": "YN3XFjejHtr1"
      },
      "source": [
        "# Loading data\n",
        "\n",
        "email_data = pd.read_excel(\"https://github.com/Gzaborey/python_applications_classifier/blob/main/data/email_data.xlsx?raw=true\")\n",
        "email_data = email_data.drop([\"Unnamed: 0\"], axis=1, errors=\"ignore\")\n",
        "email_data = email_data.drop_duplicates()\n",
        "email_data = email_data.reset_index(drop=True)\n",
        "email_data = email_data.rename(columns={\"add\": \"message\"})\n",
        "email_data = email_data.sample(frac=1)\n",
        "email_data = email_data.reset_index(drop=True)\n",
        "email_data[\"message\"] = email_data[\"message\"].astype(\"str\")"
      ],
      "execution_count": 5,
      "outputs": []
    },
    {
      "cell_type": "code",
      "metadata": {
        "colab": {
          "base_uri": "https://localhost:8080/",
          "height": 206
        },
        "id": "yiGuPABXyQVr",
        "outputId": "91306701-562d-4b83-c530-d4fa5b362cac"
      },
      "source": [
        "# Acquaintance with the data\n",
        "\n",
        "email_data.head()"
      ],
      "execution_count": 6,
      "outputs": [
        {
          "output_type": "execute_result",
          "data": {
            "text/plain": [
              "               name        phone                               email  \\\n",
              "0         RonaldSic  82495957796                7vseaez@goposts.site   \n",
              "1         conttpfxk  83124743342  kolomeiskajatansuly1992@rambler.ru   \n",
              "2          Jamesces  83682823669         v.starcev@makao.efastes.com   \n",
              "3           minilia  88356883827                axoplarly@ahmail.xyz   \n",
              "4  Барсегян Даниэль    672923688          daniel.barsehyan@gmail.com   \n",
              "\n",
              "                                             message  is_spam  \n",
              "0                                                nan        1  \n",
              "1  Приветствуем вас! \\n \\nПредлагаем рассылку ваш...        1  \n",
              "2                                                nan        1  \n",
              "3                                                nan        1  \n",
              "4                                                nan        0  "
            ],
            "text/html": [
              "\n",
              "  <div id=\"df-f8e090d3-2fe5-4575-b9d1-96cd3bdebeb5\">\n",
              "    <div class=\"colab-df-container\">\n",
              "      <div>\n",
              "<style scoped>\n",
              "    .dataframe tbody tr th:only-of-type {\n",
              "        vertical-align: middle;\n",
              "    }\n",
              "\n",
              "    .dataframe tbody tr th {\n",
              "        vertical-align: top;\n",
              "    }\n",
              "\n",
              "    .dataframe thead th {\n",
              "        text-align: right;\n",
              "    }\n",
              "</style>\n",
              "<table border=\"1\" class=\"dataframe\">\n",
              "  <thead>\n",
              "    <tr style=\"text-align: right;\">\n",
              "      <th></th>\n",
              "      <th>name</th>\n",
              "      <th>phone</th>\n",
              "      <th>email</th>\n",
              "      <th>message</th>\n",
              "      <th>is_spam</th>\n",
              "    </tr>\n",
              "  </thead>\n",
              "  <tbody>\n",
              "    <tr>\n",
              "      <th>0</th>\n",
              "      <td>RonaldSic</td>\n",
              "      <td>82495957796</td>\n",
              "      <td>7vseaez@goposts.site</td>\n",
              "      <td>nan</td>\n",
              "      <td>1</td>\n",
              "    </tr>\n",
              "    <tr>\n",
              "      <th>1</th>\n",
              "      <td>conttpfxk</td>\n",
              "      <td>83124743342</td>\n",
              "      <td>kolomeiskajatansuly1992@rambler.ru</td>\n",
              "      <td>Приветствуем вас! \\n \\nПредлагаем рассылку ваш...</td>\n",
              "      <td>1</td>\n",
              "    </tr>\n",
              "    <tr>\n",
              "      <th>2</th>\n",
              "      <td>Jamesces</td>\n",
              "      <td>83682823669</td>\n",
              "      <td>v.starcev@makao.efastes.com</td>\n",
              "      <td>nan</td>\n",
              "      <td>1</td>\n",
              "    </tr>\n",
              "    <tr>\n",
              "      <th>3</th>\n",
              "      <td>minilia</td>\n",
              "      <td>88356883827</td>\n",
              "      <td>axoplarly@ahmail.xyz</td>\n",
              "      <td>nan</td>\n",
              "      <td>1</td>\n",
              "    </tr>\n",
              "    <tr>\n",
              "      <th>4</th>\n",
              "      <td>Барсегян Даниэль</td>\n",
              "      <td>672923688</td>\n",
              "      <td>daniel.barsehyan@gmail.com</td>\n",
              "      <td>nan</td>\n",
              "      <td>0</td>\n",
              "    </tr>\n",
              "  </tbody>\n",
              "</table>\n",
              "</div>\n",
              "      <button class=\"colab-df-convert\" onclick=\"convertToInteractive('df-f8e090d3-2fe5-4575-b9d1-96cd3bdebeb5')\"\n",
              "              title=\"Convert this dataframe to an interactive table.\"\n",
              "              style=\"display:none;\">\n",
              "        \n",
              "  <svg xmlns=\"http://www.w3.org/2000/svg\" height=\"24px\"viewBox=\"0 0 24 24\"\n",
              "       width=\"24px\">\n",
              "    <path d=\"M0 0h24v24H0V0z\" fill=\"none\"/>\n",
              "    <path d=\"M18.56 5.44l.94 2.06.94-2.06 2.06-.94-2.06-.94-.94-2.06-.94 2.06-2.06.94zm-11 1L8.5 8.5l.94-2.06 2.06-.94-2.06-.94L8.5 2.5l-.94 2.06-2.06.94zm10 10l.94 2.06.94-2.06 2.06-.94-2.06-.94-.94-2.06-.94 2.06-2.06.94z\"/><path d=\"M17.41 7.96l-1.37-1.37c-.4-.4-.92-.59-1.43-.59-.52 0-1.04.2-1.43.59L10.3 9.45l-7.72 7.72c-.78.78-.78 2.05 0 2.83L4 21.41c.39.39.9.59 1.41.59.51 0 1.02-.2 1.41-.59l7.78-7.78 2.81-2.81c.8-.78.8-2.07 0-2.86zM5.41 20L4 18.59l7.72-7.72 1.47 1.35L5.41 20z\"/>\n",
              "  </svg>\n",
              "      </button>\n",
              "      \n",
              "  <style>\n",
              "    .colab-df-container {\n",
              "      display:flex;\n",
              "      flex-wrap:wrap;\n",
              "      gap: 12px;\n",
              "    }\n",
              "\n",
              "    .colab-df-convert {\n",
              "      background-color: #E8F0FE;\n",
              "      border: none;\n",
              "      border-radius: 50%;\n",
              "      cursor: pointer;\n",
              "      display: none;\n",
              "      fill: #1967D2;\n",
              "      height: 32px;\n",
              "      padding: 0 0 0 0;\n",
              "      width: 32px;\n",
              "    }\n",
              "\n",
              "    .colab-df-convert:hover {\n",
              "      background-color: #E2EBFA;\n",
              "      box-shadow: 0px 1px 2px rgba(60, 64, 67, 0.3), 0px 1px 3px 1px rgba(60, 64, 67, 0.15);\n",
              "      fill: #174EA6;\n",
              "    }\n",
              "\n",
              "    [theme=dark] .colab-df-convert {\n",
              "      background-color: #3B4455;\n",
              "      fill: #D2E3FC;\n",
              "    }\n",
              "\n",
              "    [theme=dark] .colab-df-convert:hover {\n",
              "      background-color: #434B5C;\n",
              "      box-shadow: 0px 1px 3px 1px rgba(0, 0, 0, 0.15);\n",
              "      filter: drop-shadow(0px 1px 2px rgba(0, 0, 0, 0.3));\n",
              "      fill: #FFFFFF;\n",
              "    }\n",
              "  </style>\n",
              "\n",
              "      <script>\n",
              "        const buttonEl =\n",
              "          document.querySelector('#df-f8e090d3-2fe5-4575-b9d1-96cd3bdebeb5 button.colab-df-convert');\n",
              "        buttonEl.style.display =\n",
              "          google.colab.kernel.accessAllowed ? 'block' : 'none';\n",
              "\n",
              "        async function convertToInteractive(key) {\n",
              "          const element = document.querySelector('#df-f8e090d3-2fe5-4575-b9d1-96cd3bdebeb5');\n",
              "          const dataTable =\n",
              "            await google.colab.kernel.invokeFunction('convertToInteractive',\n",
              "                                                     [key], {});\n",
              "          if (!dataTable) return;\n",
              "\n",
              "          const docLinkHtml = 'Like what you see? Visit the ' +\n",
              "            '<a target=\"_blank\" href=https://colab.research.google.com/notebooks/data_table.ipynb>data table notebook</a>'\n",
              "            + ' to learn more about interactive tables.';\n",
              "          element.innerHTML = '';\n",
              "          dataTable['output_type'] = 'display_data';\n",
              "          await google.colab.output.renderOutput(dataTable, element);\n",
              "          const docLink = document.createElement('div');\n",
              "          docLink.innerHTML = docLinkHtml;\n",
              "          element.appendChild(docLink);\n",
              "        }\n",
              "      </script>\n",
              "    </div>\n",
              "  </div>\n",
              "  "
            ]
          },
          "metadata": {},
          "execution_count": 6
        }
      ]
    },
    {
      "cell_type": "code",
      "metadata": {
        "colab": {
          "base_uri": "https://localhost:8080/"
        },
        "id": "Q23yt4RUJa85",
        "outputId": "a766c78b-ed73-4fc1-f2a2-beebd1924c28"
      },
      "source": [
        "# Observing data (looking for missing values, etc)\n",
        "\n",
        "print(email_data[\"is_spam\"].value_counts())\n",
        "print()\n",
        "print(email_data.isna().sum())\n",
        "print()\n",
        "print(email_data.dtypes)"
      ],
      "execution_count": 7,
      "outputs": [
        {
          "output_type": "stream",
          "name": "stdout",
          "text": [
            "1    342\n",
            "0    214\n",
            "Name: is_spam, dtype: int64\n",
            "\n",
            "name        1\n",
            "phone       1\n",
            "email      36\n",
            "message     0\n",
            "is_spam     0\n",
            "dtype: int64\n",
            "\n",
            "name       object\n",
            "phone      object\n",
            "email      object\n",
            "message    object\n",
            "is_spam     int64\n",
            "dtype: object\n"
          ]
        }
      ]
    },
    {
      "cell_type": "code",
      "metadata": {
        "colab": {
          "base_uri": "https://localhost:8080/"
        },
        "id": "_oqRC5Ezr35u",
        "outputId": "22b1a027-5f9f-4a80-c8d5-60b7bf192f23"
      },
      "source": [
        "# Filling in missing values\n",
        "\n",
        "email_data = email_data.fillna('')\n",
        "email_data[\"message\"] = email_data[\"message\"].replace(\"nan\", \"\")\n",
        "print(email_data.isna().sum())"
      ],
      "execution_count": 8,
      "outputs": [
        {
          "output_type": "stream",
          "name": "stdout",
          "text": [
            "name       0\n",
            "phone      0\n",
            "email      0\n",
            "message    0\n",
            "is_spam    0\n",
            "dtype: int64\n"
          ]
        }
      ]
    },
    {
      "cell_type": "code",
      "metadata": {
        "id": "FyTcpRQA1trY"
      },
      "source": [
        "# Loading dataframe of common names\n",
        "\n",
        "names_data = pd.read_csv(\"https://raw.githubusercontent.com/Gzaborey/python_applications_classifier/main/data/names_dataframe.csv\", index_col=\"Unnamed: 0\")\n",
        "names_list = [str(name).lower() for name in names_data.iloc[:, -1]]"
      ],
      "execution_count": 9,
      "outputs": []
    },
    {
      "cell_type": "code",
      "metadata": {
        "id": "N4CJha6sTWa5",
        "colab": {
          "base_uri": "https://localhost:8080/"
        },
        "outputId": "564a8ede-7830-44c8-ec5a-cc05880bc9c2"
      },
      "source": [
        "# Looking at the size of a names database\n",
        "\n",
        "print(len(names_list))"
      ],
      "execution_count": 10,
      "outputs": [
        {
          "output_type": "stream",
          "name": "stdout",
          "text": [
            "97974\n"
          ]
        }
      ]
    },
    {
      "cell_type": "code",
      "metadata": {
        "id": "nbB8fmeWr4RC"
      },
      "source": [
        "# Constructing features ('email_domain', 'valid_first_name' and 'valid_phone_number')\n",
        "\n",
        "email_data.insert(loc=3, column=\"email_domain\", \n",
        "                               value=email_data[\"email\"].apply(lambda x: x.lower().split(\"@\")[-1].strip()))\n",
        "\n",
        "email_data.insert(loc=1, column=\"valid_first_name\", \n",
        "                               value=email_data.name.astype(\"str\")\\\n",
        "                              .apply(lambda x: validate_name(x, names_list)))\n",
        "\n",
        "email_data.insert(loc=3, column=\"valid_phone_number\", \n",
        "                               value=email_data.phone.astype(\"str\").apply(lambda x: validate_phone_number(x)))"
      ],
      "execution_count": 11,
      "outputs": []
    },
    {
      "cell_type": "markdown",
      "metadata": {
        "id": "jUrUfHgMka-Z"
      },
      "source": [
        "## Dividing the data into test, train and validation sets"
      ]
    },
    {
      "cell_type": "code",
      "metadata": {
        "id": "xzOJo_Y1lA-K",
        "colab": {
          "base_uri": "https://localhost:8080/",
          "height": 392
        },
        "outputId": "bc5dc0a7-404b-42f1-cdcb-ef102a5e026b"
      },
      "source": [
        "# Shuffling dataframe rows \n",
        "\n",
        "email_data = email_data.sample(frac=1)\n",
        "email_data = email_data.reset_index(drop=True)\n",
        "\n",
        "X = email_data.drop(\"is_spam\", axis=1)\n",
        "y = email_data.is_spam\n",
        "\n",
        "email_data.head()"
      ],
      "execution_count": 12,
      "outputs": [
        {
          "output_type": "execute_result",
          "data": {
            "text/plain": [
              "                 name  valid_first_name         phone  valid_phone_number  \\\n",
              "0         Dryngasmoom                 0   89831228546                   0   \n",
              "1  Гальцев Владислав                  1  380687000000                   1   \n",
              "2         Eugenerhime                 0   84974855479                   0   \n",
              "3   Русланова Валерия                 1     506842677                   1   \n",
              "4            HymanRam                 0   88842827851                   0   \n",
              "\n",
              "                         email    email_domain  \\\n",
              "0  xfuzgcot1962@wo.malsers.com  wo.malsers.com   \n",
              "1          gva7099od@gmail.com       gmail.com   \n",
              "2     12gyyaqwdst55r@gmail.com       gmail.com   \n",
              "3           valeri_999@ukr.net         ukr.net   \n",
              "4            m07p@goposts.site    goposts.site   \n",
              "\n",
              "                                             message  is_spam  \n",
              "0                                                           1  \n",
              "1                                                           0  \n",
              "2  ####### OPVA ######## \\nULTIMATE РТНС COLLECTI...        1  \n",
              "3                                                           0  \n",
              "4                                                           1  "
            ],
            "text/html": [
              "\n",
              "  <div id=\"df-a1ebd191-8540-4b0c-a876-0830fa06a7bb\">\n",
              "    <div class=\"colab-df-container\">\n",
              "      <div>\n",
              "<style scoped>\n",
              "    .dataframe tbody tr th:only-of-type {\n",
              "        vertical-align: middle;\n",
              "    }\n",
              "\n",
              "    .dataframe tbody tr th {\n",
              "        vertical-align: top;\n",
              "    }\n",
              "\n",
              "    .dataframe thead th {\n",
              "        text-align: right;\n",
              "    }\n",
              "</style>\n",
              "<table border=\"1\" class=\"dataframe\">\n",
              "  <thead>\n",
              "    <tr style=\"text-align: right;\">\n",
              "      <th></th>\n",
              "      <th>name</th>\n",
              "      <th>valid_first_name</th>\n",
              "      <th>phone</th>\n",
              "      <th>valid_phone_number</th>\n",
              "      <th>email</th>\n",
              "      <th>email_domain</th>\n",
              "      <th>message</th>\n",
              "      <th>is_spam</th>\n",
              "    </tr>\n",
              "  </thead>\n",
              "  <tbody>\n",
              "    <tr>\n",
              "      <th>0</th>\n",
              "      <td>Dryngasmoom</td>\n",
              "      <td>0</td>\n",
              "      <td>89831228546</td>\n",
              "      <td>0</td>\n",
              "      <td>xfuzgcot1962@wo.malsers.com</td>\n",
              "      <td>wo.malsers.com</td>\n",
              "      <td></td>\n",
              "      <td>1</td>\n",
              "    </tr>\n",
              "    <tr>\n",
              "      <th>1</th>\n",
              "      <td>Гальцев Владислав</td>\n",
              "      <td>1</td>\n",
              "      <td>380687000000</td>\n",
              "      <td>1</td>\n",
              "      <td>gva7099od@gmail.com</td>\n",
              "      <td>gmail.com</td>\n",
              "      <td></td>\n",
              "      <td>0</td>\n",
              "    </tr>\n",
              "    <tr>\n",
              "      <th>2</th>\n",
              "      <td>Eugenerhime</td>\n",
              "      <td>0</td>\n",
              "      <td>84974855479</td>\n",
              "      <td>0</td>\n",
              "      <td>12gyyaqwdst55r@gmail.com</td>\n",
              "      <td>gmail.com</td>\n",
              "      <td>####### OPVA ######## \\nULTIMATE РТНС COLLECTI...</td>\n",
              "      <td>1</td>\n",
              "    </tr>\n",
              "    <tr>\n",
              "      <th>3</th>\n",
              "      <td>Русланова Валерия</td>\n",
              "      <td>1</td>\n",
              "      <td>506842677</td>\n",
              "      <td>1</td>\n",
              "      <td>valeri_999@ukr.net</td>\n",
              "      <td>ukr.net</td>\n",
              "      <td></td>\n",
              "      <td>0</td>\n",
              "    </tr>\n",
              "    <tr>\n",
              "      <th>4</th>\n",
              "      <td>HymanRam</td>\n",
              "      <td>0</td>\n",
              "      <td>88842827851</td>\n",
              "      <td>0</td>\n",
              "      <td>m07p@goposts.site</td>\n",
              "      <td>goposts.site</td>\n",
              "      <td></td>\n",
              "      <td>1</td>\n",
              "    </tr>\n",
              "  </tbody>\n",
              "</table>\n",
              "</div>\n",
              "      <button class=\"colab-df-convert\" onclick=\"convertToInteractive('df-a1ebd191-8540-4b0c-a876-0830fa06a7bb')\"\n",
              "              title=\"Convert this dataframe to an interactive table.\"\n",
              "              style=\"display:none;\">\n",
              "        \n",
              "  <svg xmlns=\"http://www.w3.org/2000/svg\" height=\"24px\"viewBox=\"0 0 24 24\"\n",
              "       width=\"24px\">\n",
              "    <path d=\"M0 0h24v24H0V0z\" fill=\"none\"/>\n",
              "    <path d=\"M18.56 5.44l.94 2.06.94-2.06 2.06-.94-2.06-.94-.94-2.06-.94 2.06-2.06.94zm-11 1L8.5 8.5l.94-2.06 2.06-.94-2.06-.94L8.5 2.5l-.94 2.06-2.06.94zm10 10l.94 2.06.94-2.06 2.06-.94-2.06-.94-.94-2.06-.94 2.06-2.06.94z\"/><path d=\"M17.41 7.96l-1.37-1.37c-.4-.4-.92-.59-1.43-.59-.52 0-1.04.2-1.43.59L10.3 9.45l-7.72 7.72c-.78.78-.78 2.05 0 2.83L4 21.41c.39.39.9.59 1.41.59.51 0 1.02-.2 1.41-.59l7.78-7.78 2.81-2.81c.8-.78.8-2.07 0-2.86zM5.41 20L4 18.59l7.72-7.72 1.47 1.35L5.41 20z\"/>\n",
              "  </svg>\n",
              "      </button>\n",
              "      \n",
              "  <style>\n",
              "    .colab-df-container {\n",
              "      display:flex;\n",
              "      flex-wrap:wrap;\n",
              "      gap: 12px;\n",
              "    }\n",
              "\n",
              "    .colab-df-convert {\n",
              "      background-color: #E8F0FE;\n",
              "      border: none;\n",
              "      border-radius: 50%;\n",
              "      cursor: pointer;\n",
              "      display: none;\n",
              "      fill: #1967D2;\n",
              "      height: 32px;\n",
              "      padding: 0 0 0 0;\n",
              "      width: 32px;\n",
              "    }\n",
              "\n",
              "    .colab-df-convert:hover {\n",
              "      background-color: #E2EBFA;\n",
              "      box-shadow: 0px 1px 2px rgba(60, 64, 67, 0.3), 0px 1px 3px 1px rgba(60, 64, 67, 0.15);\n",
              "      fill: #174EA6;\n",
              "    }\n",
              "\n",
              "    [theme=dark] .colab-df-convert {\n",
              "      background-color: #3B4455;\n",
              "      fill: #D2E3FC;\n",
              "    }\n",
              "\n",
              "    [theme=dark] .colab-df-convert:hover {\n",
              "      background-color: #434B5C;\n",
              "      box-shadow: 0px 1px 3px 1px rgba(0, 0, 0, 0.15);\n",
              "      filter: drop-shadow(0px 1px 2px rgba(0, 0, 0, 0.3));\n",
              "      fill: #FFFFFF;\n",
              "    }\n",
              "  </style>\n",
              "\n",
              "      <script>\n",
              "        const buttonEl =\n",
              "          document.querySelector('#df-a1ebd191-8540-4b0c-a876-0830fa06a7bb button.colab-df-convert');\n",
              "        buttonEl.style.display =\n",
              "          google.colab.kernel.accessAllowed ? 'block' : 'none';\n",
              "\n",
              "        async function convertToInteractive(key) {\n",
              "          const element = document.querySelector('#df-a1ebd191-8540-4b0c-a876-0830fa06a7bb');\n",
              "          const dataTable =\n",
              "            await google.colab.kernel.invokeFunction('convertToInteractive',\n",
              "                                                     [key], {});\n",
              "          if (!dataTable) return;\n",
              "\n",
              "          const docLinkHtml = 'Like what you see? Visit the ' +\n",
              "            '<a target=\"_blank\" href=https://colab.research.google.com/notebooks/data_table.ipynb>data table notebook</a>'\n",
              "            + ' to learn more about interactive tables.';\n",
              "          element.innerHTML = '';\n",
              "          dataTable['output_type'] = 'display_data';\n",
              "          await google.colab.output.renderOutput(dataTable, element);\n",
              "          const docLink = document.createElement('div');\n",
              "          docLink.innerHTML = docLinkHtml;\n",
              "          element.appendChild(docLink);\n",
              "        }\n",
              "      </script>\n",
              "    </div>\n",
              "  </div>\n",
              "  "
            ]
          },
          "metadata": {},
          "execution_count": 12
        }
      ]
    },
    {
      "cell_type": "code",
      "source": [
        "print(\"Number of entries is\", len(email_data))"
      ],
      "metadata": {
        "colab": {
          "base_uri": "https://localhost:8080/"
        },
        "id": "wWLIAh0ghGp8",
        "outputId": "c4408ffb-9bb6-4425-a0bc-b842b1af48ae"
      },
      "execution_count": 13,
      "outputs": [
        {
          "output_type": "stream",
          "name": "stdout",
          "text": [
            "Number of entries is 556\n"
          ]
        }
      ]
    },
    {
      "cell_type": "code",
      "metadata": {
        "id": "tynMQXiprbON",
        "colab": {
          "base_uri": "https://localhost:8080/",
          "height": 406
        },
        "outputId": "72211229-59b2-462c-e19a-68b48f0beacd"
      },
      "source": [
        "# Splitting data into train, valiation and test sets\n",
        "\n",
        "X_rest, X_test, y_rest, y_test = sk_ms.train_test_split(X, y, test_size=0.2, stratify=y)\n",
        "\n",
        "X_rest = X_rest.reset_index(drop=True)\n",
        "X_test = X_test.reset_index(drop=True)\n",
        "y_rest = y_rest.reset_index(drop=True)\n",
        "y_test = y_test.reset_index(drop=True)\n",
        "\n",
        "X_train, X_valid, y_train, y_valid = sk_ms.train_test_split(X_rest, y_rest, test_size= 0.3, stratify=y_rest)\n",
        "\n",
        "X_train = X_train.reset_index(drop=True)\n",
        "X_valid = X_valid.reset_index(drop=True)\n",
        "y_train = y_train.reset_index(drop=True)\n",
        "y_valid = y_valid.reset_index(drop=True)\n",
        "\n",
        "X_valid.head()"
      ],
      "execution_count": 14,
      "outputs": [
        {
          "output_type": "execute_result",
          "data": {
            "text/plain": [
              "                  name  valid_first_name         phone  valid_phone_number  \\\n",
              "0            rusakovvv                 0   85566963559                   0   \n",
              "1            Josephmup                 0   83291679651                   0   \n",
              "2           Larrystove                 0   89254933719                   0   \n",
              "3  Татьяна Гродзинская                 1  380938000000                   1   \n",
              "4       Ангелов Никита                 1     675198621                   1   \n",
              "\n",
              "                             email        email_domain  \\\n",
              "0     rusakov.valentin.3@yandex.ru           yandex.ru   \n",
              "1  g.severyanov@jodas.enersets.com  jodas.enersets.com   \n",
              "2                 em7evg@gmail.com           gmail.com   \n",
              "3   tatiana.grodzinskaya@gmail.com           gmail.com   \n",
              "4            svevatv2017@gmail.com           gmail.com   \n",
              "\n",
              "                                             message  \n",
              "0  Я так и не могу понять , если казино это плохо...  \n",
              "1                                                     \n",
              "2  Dental Microscope Operating WRAYMER MS-1500D. ...  \n",
              "3                                                     \n",
              "4                                                     "
            ],
            "text/html": [
              "\n",
              "  <div id=\"df-dd8e4513-8a66-4265-8c11-5129d632d7c7\">\n",
              "    <div class=\"colab-df-container\">\n",
              "      <div>\n",
              "<style scoped>\n",
              "    .dataframe tbody tr th:only-of-type {\n",
              "        vertical-align: middle;\n",
              "    }\n",
              "\n",
              "    .dataframe tbody tr th {\n",
              "        vertical-align: top;\n",
              "    }\n",
              "\n",
              "    .dataframe thead th {\n",
              "        text-align: right;\n",
              "    }\n",
              "</style>\n",
              "<table border=\"1\" class=\"dataframe\">\n",
              "  <thead>\n",
              "    <tr style=\"text-align: right;\">\n",
              "      <th></th>\n",
              "      <th>name</th>\n",
              "      <th>valid_first_name</th>\n",
              "      <th>phone</th>\n",
              "      <th>valid_phone_number</th>\n",
              "      <th>email</th>\n",
              "      <th>email_domain</th>\n",
              "      <th>message</th>\n",
              "    </tr>\n",
              "  </thead>\n",
              "  <tbody>\n",
              "    <tr>\n",
              "      <th>0</th>\n",
              "      <td>rusakovvv</td>\n",
              "      <td>0</td>\n",
              "      <td>85566963559</td>\n",
              "      <td>0</td>\n",
              "      <td>rusakov.valentin.3@yandex.ru</td>\n",
              "      <td>yandex.ru</td>\n",
              "      <td>Я так и не могу понять , если казино это плохо...</td>\n",
              "    </tr>\n",
              "    <tr>\n",
              "      <th>1</th>\n",
              "      <td>Josephmup</td>\n",
              "      <td>0</td>\n",
              "      <td>83291679651</td>\n",
              "      <td>0</td>\n",
              "      <td>g.severyanov@jodas.enersets.com</td>\n",
              "      <td>jodas.enersets.com</td>\n",
              "      <td></td>\n",
              "    </tr>\n",
              "    <tr>\n",
              "      <th>2</th>\n",
              "      <td>Larrystove</td>\n",
              "      <td>0</td>\n",
              "      <td>89254933719</td>\n",
              "      <td>0</td>\n",
              "      <td>em7evg@gmail.com</td>\n",
              "      <td>gmail.com</td>\n",
              "      <td>Dental Microscope Operating WRAYMER MS-1500D. ...</td>\n",
              "    </tr>\n",
              "    <tr>\n",
              "      <th>3</th>\n",
              "      <td>Татьяна Гродзинская</td>\n",
              "      <td>1</td>\n",
              "      <td>380938000000</td>\n",
              "      <td>1</td>\n",
              "      <td>tatiana.grodzinskaya@gmail.com</td>\n",
              "      <td>gmail.com</td>\n",
              "      <td></td>\n",
              "    </tr>\n",
              "    <tr>\n",
              "      <th>4</th>\n",
              "      <td>Ангелов Никита</td>\n",
              "      <td>1</td>\n",
              "      <td>675198621</td>\n",
              "      <td>1</td>\n",
              "      <td>svevatv2017@gmail.com</td>\n",
              "      <td>gmail.com</td>\n",
              "      <td></td>\n",
              "    </tr>\n",
              "  </tbody>\n",
              "</table>\n",
              "</div>\n",
              "      <button class=\"colab-df-convert\" onclick=\"convertToInteractive('df-dd8e4513-8a66-4265-8c11-5129d632d7c7')\"\n",
              "              title=\"Convert this dataframe to an interactive table.\"\n",
              "              style=\"display:none;\">\n",
              "        \n",
              "  <svg xmlns=\"http://www.w3.org/2000/svg\" height=\"24px\"viewBox=\"0 0 24 24\"\n",
              "       width=\"24px\">\n",
              "    <path d=\"M0 0h24v24H0V0z\" fill=\"none\"/>\n",
              "    <path d=\"M18.56 5.44l.94 2.06.94-2.06 2.06-.94-2.06-.94-.94-2.06-.94 2.06-2.06.94zm-11 1L8.5 8.5l.94-2.06 2.06-.94-2.06-.94L8.5 2.5l-.94 2.06-2.06.94zm10 10l.94 2.06.94-2.06 2.06-.94-2.06-.94-.94-2.06-.94 2.06-2.06.94z\"/><path d=\"M17.41 7.96l-1.37-1.37c-.4-.4-.92-.59-1.43-.59-.52 0-1.04.2-1.43.59L10.3 9.45l-7.72 7.72c-.78.78-.78 2.05 0 2.83L4 21.41c.39.39.9.59 1.41.59.51 0 1.02-.2 1.41-.59l7.78-7.78 2.81-2.81c.8-.78.8-2.07 0-2.86zM5.41 20L4 18.59l7.72-7.72 1.47 1.35L5.41 20z\"/>\n",
              "  </svg>\n",
              "      </button>\n",
              "      \n",
              "  <style>\n",
              "    .colab-df-container {\n",
              "      display:flex;\n",
              "      flex-wrap:wrap;\n",
              "      gap: 12px;\n",
              "    }\n",
              "\n",
              "    .colab-df-convert {\n",
              "      background-color: #E8F0FE;\n",
              "      border: none;\n",
              "      border-radius: 50%;\n",
              "      cursor: pointer;\n",
              "      display: none;\n",
              "      fill: #1967D2;\n",
              "      height: 32px;\n",
              "      padding: 0 0 0 0;\n",
              "      width: 32px;\n",
              "    }\n",
              "\n",
              "    .colab-df-convert:hover {\n",
              "      background-color: #E2EBFA;\n",
              "      box-shadow: 0px 1px 2px rgba(60, 64, 67, 0.3), 0px 1px 3px 1px rgba(60, 64, 67, 0.15);\n",
              "      fill: #174EA6;\n",
              "    }\n",
              "\n",
              "    [theme=dark] .colab-df-convert {\n",
              "      background-color: #3B4455;\n",
              "      fill: #D2E3FC;\n",
              "    }\n",
              "\n",
              "    [theme=dark] .colab-df-convert:hover {\n",
              "      background-color: #434B5C;\n",
              "      box-shadow: 0px 1px 3px 1px rgba(0, 0, 0, 0.15);\n",
              "      filter: drop-shadow(0px 1px 2px rgba(0, 0, 0, 0.3));\n",
              "      fill: #FFFFFF;\n",
              "    }\n",
              "  </style>\n",
              "\n",
              "      <script>\n",
              "        const buttonEl =\n",
              "          document.querySelector('#df-dd8e4513-8a66-4265-8c11-5129d632d7c7 button.colab-df-convert');\n",
              "        buttonEl.style.display =\n",
              "          google.colab.kernel.accessAllowed ? 'block' : 'none';\n",
              "\n",
              "        async function convertToInteractive(key) {\n",
              "          const element = document.querySelector('#df-dd8e4513-8a66-4265-8c11-5129d632d7c7');\n",
              "          const dataTable =\n",
              "            await google.colab.kernel.invokeFunction('convertToInteractive',\n",
              "                                                     [key], {});\n",
              "          if (!dataTable) return;\n",
              "\n",
              "          const docLinkHtml = 'Like what you see? Visit the ' +\n",
              "            '<a target=\"_blank\" href=https://colab.research.google.com/notebooks/data_table.ipynb>data table notebook</a>'\n",
              "            + ' to learn more about interactive tables.';\n",
              "          element.innerHTML = '';\n",
              "          dataTable['output_type'] = 'display_data';\n",
              "          await google.colab.output.renderOutput(dataTable, element);\n",
              "          const docLink = document.createElement('div');\n",
              "          docLink.innerHTML = docLinkHtml;\n",
              "          element.appendChild(docLink);\n",
              "        }\n",
              "      </script>\n",
              "    </div>\n",
              "  </div>\n",
              "  "
            ]
          },
          "metadata": {},
          "execution_count": 14
        }
      ]
    },
    {
      "cell_type": "code",
      "source": [
        "print(\"Number of training examples\", len(y_train))\n",
        "print(\"Number of validation examples\", len(y_valid))\n",
        "print(\"Number of testing examples\", len(y_test))"
      ],
      "metadata": {
        "colab": {
          "base_uri": "https://localhost:8080/"
        },
        "id": "zfu76gGbiqSr",
        "outputId": "aa096d95-4782-4dbd-e8fb-4b1ba62937b7"
      },
      "execution_count": 15,
      "outputs": [
        {
          "output_type": "stream",
          "name": "stdout",
          "text": [
            "Number of training examples 310\n",
            "Number of validation examples 134\n",
            "Number of testing examples 112\n"
          ]
        }
      ]
    },
    {
      "cell_type": "markdown",
      "metadata": {
        "id": "Mb7eZz4SQWcH"
      },
      "source": [
        "# **Building and training the model**"
      ]
    },
    {
      "cell_type": "markdown",
      "source": [
        "## Converting \"email_domain\" and \"message\" columns into vectors."
      ],
      "metadata": {
        "id": "ryMiZkcbPbi7"
      }
    },
    {
      "cell_type": "code",
      "metadata": {
        "id": "wwHAqetEp4Wj"
      },
      "source": [
        "#Preparing the data vectorizer\n",
        "\n",
        "email_dom_vectorizer = CountVectorizer()\n",
        "email_dom_vectorizer.fit(email_data.email_domain)\n",
        "email_dom_vectorized_train = email_dom_vectorizer.transform(X_train.email_domain)\n",
        "email_dom_vectorized_valid = email_dom_vectorizer.transform(X_valid.email_domain)\n",
        "email_dom_vectorized_test = email_dom_vectorizer.transform(X_test.email_domain)\n",
        "\n",
        "email_message_vectorizer = CountVectorizer(analyzer=process_text)\n",
        "email_message_vectorizer.fit(email_data.message)\n",
        "email_message_vectorized_train = email_message_vectorizer.transform(X_train.message)\n",
        "email_message_vectorized_valid = email_message_vectorizer.transform(X_valid.message)\n",
        "email_message_vectorized_test = email_message_vectorizer.transform(X_test.message)\n"
      ],
      "execution_count": 16,
      "outputs": []
    },
    {
      "cell_type": "code",
      "metadata": {
        "id": "PsFyOojMCZt8"
      },
      "source": [
        " #email_message_vectorizer.get_feature_names()"
      ],
      "execution_count": 17,
      "outputs": []
    },
    {
      "cell_type": "markdown",
      "source": [
        "## Building Naive Bayes model for \"email_domain\" column analysis"
      ],
      "metadata": {
        "id": "P0NFBOYrPhuE"
      }
    },
    {
      "cell_type": "code",
      "source": [
        "# Naive Bayes model for \"email_domain\" column analysis training and tuning\n",
        "\n",
        "NB_dom_model_params = [i/100 for i in range(1, 101)]\n",
        "f1_scores = {}\n",
        "for i in range(len(NB_dom_model_params)):\n",
        "  NB_dom_model = MultinomialNB(alpha=NB_dom_model_params[i])\n",
        "  NB_dom_model.fit(email_dom_vectorized_train, y_train)\n",
        "  NB_dom_predictions = NB_dom_model.predict(email_dom_vectorized_valid)\n",
        "  f1_score = sk_metrics.f1_score(y_valid, NB_dom_predictions, average=\"binary\")\n",
        "  f1_scores[NB_dom_model_params[i]] = f1_score\n"
      ],
      "metadata": {
        "id": "cj-agOMVf7ft"
      },
      "execution_count": 18,
      "outputs": []
    },
    {
      "cell_type": "code",
      "source": [
        "# Determining the optimal value for \"alpha\" hyperparameter.\n",
        "\n",
        "best_score = 0\n",
        "best_alpha = 0\n",
        "\n",
        "for alpha, score in f1_scores.items():\n",
        "    if score >= best_score:\n",
        "      best_alpha = alpha\n",
        "      best_score = score\n",
        "\n",
        "print(\"Optimal 'alpha' hyperparameter value:\", best_alpha)\n",
        "\n",
        "print(\"F1 score for optimal hyperparameter value:\", f1_scores[best_alpha])\n"
      ],
      "metadata": {
        "colab": {
          "base_uri": "https://localhost:8080/"
        },
        "id": "hqL8M608xSId",
        "outputId": "30f7efdd-8f87-44e7-c81e-1270abb3e852"
      },
      "execution_count": 19,
      "outputs": [
        {
          "output_type": "stream",
          "name": "stdout",
          "text": [
            "Optimal 'alpha' hyperparameter value: 0.27\n",
            "F1 score for optimal hyperparameter value: 0.8535031847133757\n"
          ]
        }
      ]
    },
    {
      "cell_type": "code",
      "source": [
        "# Naive Bayes model for \"email_domain\" column analysis efficiency plot\n",
        "\n",
        "x = []\n",
        "y = []\n",
        "\n",
        "for key, value in f1_scores.items():\n",
        "  x.append(key)\n",
        "  y.append(value)\n",
        "\n",
        "fig = plt.figure(figsize=(10,6))\n",
        "\n",
        "plt.plot(x, y)\n",
        "\n",
        "plt.xlabel(\"Alpha value\")\n",
        "plt.ylabel(\"F1 score\")\n",
        "\n",
        "plt.show()\n"
      ],
      "metadata": {
        "colab": {
          "base_uri": "https://localhost:8080/",
          "height": 388
        },
        "id": "Jowb6mA2qpzF",
        "outputId": "44d91b80-ac81-4ff1-f0fa-cee2e4376960"
      },
      "execution_count": 20,
      "outputs": [
        {
          "output_type": "display_data",
          "data": {
            "text/plain": [
              "<Figure size 720x432 with 1 Axes>"
            ],
            "image/png": "[encoded data removed]"
          },
          "metadata": {
            "needs_background": "light"
          }
        }
      ]
    },
    {
      "cell_type": "code",
      "source": [
        "# Training the model using the optimal \"alpha\" hyperparameter value\n",
        "\n",
        "NB_dom_model = MultinomialNB(alpha=best_alpha)\n",
        "\n",
        "NB_dom_model.fit(email_dom_vectorized_train, y_train)\n",
        "\n",
        "NB_dom_predictions = NB_dom_model.predict(email_dom_vectorized_valid)\n",
        "\n",
        "NB_dom_train_proba = NB_dom_model.predict_proba(email_dom_vectorized_train)[:, 1]\n",
        "NB_dom_valid_proba = NB_dom_model.predict_proba(email_dom_vectorized_valid)[:, 1]\n"
      ],
      "metadata": {
        "id": "F8z2khkz_vwH"
      },
      "execution_count": 21,
      "outputs": []
    },
    {
      "cell_type": "code",
      "metadata": {
        "id": "kPDFXdo2rnSi",
        "colab": {
          "base_uri": "https://localhost:8080/"
        },
        "outputId": "720ace1a-9508-4e67-8cce-1a968db442e4"
      },
      "source": [
        "# NB model performance results\n",
        "\n",
        "print(sk_metrics.classification_report(y_valid, NB_dom_predictions))\n",
        "print()\n",
        "print(\"Accuracy score:\", sk_metrics.accuracy_score(y_valid, NB_dom_predictions))"
      ],
      "execution_count": 22,
      "outputs": [
        {
          "output_type": "stream",
          "name": "stdout",
          "text": [
            "              precision    recall  f1-score   support\n",
            "\n",
            "           0       0.75      0.85      0.79        52\n",
            "           1       0.89      0.82      0.85        82\n",
            "\n",
            "    accuracy                           0.83       134\n",
            "   macro avg       0.82      0.83      0.82       134\n",
            "weighted avg       0.84      0.83      0.83       134\n",
            "\n",
            "\n",
            "Accuracy score: 0.8283582089552238\n"
          ]
        }
      ]
    },
    {
      "cell_type": "markdown",
      "source": [
        "## Building Naive Bayes model for \"message\" column analysis"
      ],
      "metadata": {
        "id": "pF8Bt4yYPpKd"
      }
    },
    {
      "cell_type": "code",
      "metadata": {
        "id": "EaZwlYy2s_ki"
      },
      "source": [
        "# Naive Bayes model for \"message\" column analysis training and tuning\n",
        "\n",
        "NB_mes_model_params = [i/100 for i in range(1, 201)]\n",
        "f1_scores = {}\n",
        "for i in range(len(NB_mes_model_params)):\n",
        "  NB_mes_model = MultinomialNB(alpha=NB_mes_model_params[i])\n",
        "  NB_mes_model.fit(email_message_vectorized_train, y_train)\n",
        "  NB_mes_predictions = NB_mes_model.predict(email_message_vectorized_valid)\n",
        "  f1_score = sk_metrics.f1_score(y_valid, NB_mes_predictions)\n",
        "  f1_scores[NB_mes_model_params[i]] = f1_score\n",
        "  "
      ],
      "execution_count": 23,
      "outputs": []
    },
    {
      "cell_type": "code",
      "source": [
        "# Determining the optimal value for \"alpha\" hyperparameter.\n",
        "\n",
        "best_score = 0\n",
        "best_alpha = 0\n",
        "\n",
        "for alpha, score in f1_scores.items():\n",
        "    if score >= best_score:\n",
        "      best_alpha = alpha\n",
        "      best_score = score\n",
        "\n",
        "print(\"Optimal 'alpha' hyperparameter value:\", best_alpha)\n",
        "\n",
        "print(\"F1 score for optimal hyperparameter value:\", f1_scores[best_alpha])\n"
      ],
      "metadata": {
        "colab": {
          "base_uri": "https://localhost:8080/"
        },
        "id": "R9YeK1AyTOba",
        "outputId": "c87883c9-9965-4574-bd8d-2d57e4e23c3a"
      },
      "execution_count": 24,
      "outputs": [
        {
          "output_type": "stream",
          "name": "stdout",
          "text": [
            "Optimal 'alpha' hyperparameter value: 0.12\n",
            "F1 score for optimal hyperparameter value: 0.7668393782383419\n"
          ]
        }
      ]
    },
    {
      "cell_type": "code",
      "source": [
        "# Naive Bayes model for \"message\" column analysis efficiency plot\n",
        "\n",
        "x = []\n",
        "y = []\n",
        "\n",
        "for key, value in f1_scores.items():\n",
        "  x.append(key)\n",
        "  y.append(value)\n",
        "\n",
        "fig = plt.figure(figsize=(10,6))\n",
        "\n",
        "plt.plot(x, y)\n",
        "\n",
        "plt.xlabel(\"Alpha value\")\n",
        "plt.ylabel(\"F1 score\")\n",
        "\n",
        "plt.show()\n"
      ],
      "metadata": {
        "colab": {
          "base_uri": "https://localhost:8080/",
          "height": 388
        },
        "id": "kwy8rzn3TR3m",
        "outputId": "a60d80a3-f625-4220-af64-3bd6c675642d"
      },
      "execution_count": 25,
      "outputs": [
        {
          "output_type": "display_data",
          "data": {
            "text/plain": [
              "<Figure size 720x432 with 1 Axes>"
            ],
            "image/png": "[encoded data removed]"
          },
          "metadata": {
            "needs_background": "light"
          }
        }
      ]
    },
    {
      "cell_type": "code",
      "source": [
        "# Training the model using the optimal \"alpha\" hyperparameter value\n",
        "\n",
        "NB_mes_model = MultinomialNB(alpha=best_alpha)\n",
        "\n",
        "NB_mes_model.fit(email_message_vectorized_train, y_train)\n",
        "\n",
        "NB_mes_predictions = NB_mes_model.predict(email_message_vectorized_valid)\n",
        "\n",
        "NB_mes_train_proba = NB_mes_model.predict_proba(email_message_vectorized_train)[:, 1]\n",
        "NB_mes_valid_proba = NB_mes_model.predict_proba(email_message_vectorized_valid)[:, 1]"
      ],
      "metadata": {
        "id": "16dE1psrTftM"
      },
      "execution_count": 26,
      "outputs": []
    },
    {
      "cell_type": "code",
      "source": [
        "# NB model performance results\n",
        "\n",
        "print(sk_metrics.classification_report(y_valid, NB_mes_predictions))\n",
        "print()\n",
        "print(\"Accuracy score:\", sk_metrics.accuracy_score(y_valid, NB_mes_predictions))"
      ],
      "metadata": {
        "colab": {
          "base_uri": "https://localhost:8080/"
        },
        "id": "fY-au1DWTpOE",
        "outputId": "c5e6e8c9-1548-4295-ba1b-c26dd37e1ef7"
      },
      "execution_count": 27,
      "outputs": [
        {
          "output_type": "stream",
          "name": "stdout",
          "text": [
            "              precision    recall  f1-score   support\n",
            "\n",
            "           0       0.65      0.29      0.40        52\n",
            "           1       0.67      0.90      0.77        82\n",
            "\n",
            "    accuracy                           0.66       134\n",
            "   macro avg       0.66      0.60      0.58       134\n",
            "weighted avg       0.66      0.66      0.62       134\n",
            "\n",
            "\n",
            "Accuracy score: 0.664179104477612\n"
          ]
        }
      ]
    },
    {
      "cell_type": "markdown",
      "source": [
        "## Building Logistic Regression model for predicting the validity of applications"
      ],
      "metadata": {
        "id": "Pw4Mn4mHPqg8"
      }
    },
    {
      "cell_type": "code",
      "metadata": {
        "colab": {
          "base_uri": "https://localhost:8080/",
          "height": 206
        },
        "id": "bZeP41c7vGOJ",
        "outputId": "e36d3b0d-1812-4187-969a-e3dc9d7d97fd"
      },
      "source": [
        "# Data to train and tune LR\n",
        "\n",
        "X_train = X_train.loc[:, [\"valid_first_name\", \"valid_phone_number\"]]\n",
        "X_train = pd.concat([X_train, pd.Series(NB_dom_train_proba, name=\"domain_validity_proba\")], axis=1)\n",
        "X_train = pd.concat([X_train, pd.Series(NB_mes_train_proba, name=\"message_validity_proba\")], axis=1)\n",
        "\n",
        "X_valid_temp = X_valid.loc[:, [\"valid_first_name\", \"valid_phone_number\"]]\n",
        "X_valid_temp = pd.concat([X_valid_temp, pd.Series(NB_dom_valid_proba, name=\"domain_validity_proba\")], axis=1)\n",
        "X_valid_temp = pd.concat([X_valid_temp, pd.Series(NB_mes_valid_proba, name=\"message_validity_proba\")], axis=1)\n",
        "\n",
        "X_train.head()"
      ],
      "execution_count": 28,
      "outputs": [
        {
          "output_type": "execute_result",
          "data": {
            "text/plain": [
              "   valid_first_name  valid_phone_number  domain_validity_proba  \\\n",
              "0                 0                   0               0.179517   \n",
              "1                 1                   1               0.006522   \n",
              "2                 1                   1               0.179517   \n",
              "3                 1                   0               0.179517   \n",
              "4                 0                   0               0.179517   \n",
              "\n",
              "   message_validity_proba  \n",
              "0                0.616129  \n",
              "1                0.616129  \n",
              "2                0.003600  \n",
              "3                0.000105  \n",
              "4                0.616129  "
            ],
            "text/html": [
              "\n",
              "  <div id=\"df-19622ec1-24d3-4f66-9b32-7986e5677fcf\">\n",
              "    <div class=\"colab-df-container\">\n",
              "      <div>\n",
              "<style scoped>\n",
              "    .dataframe tbody tr th:only-of-type {\n",
              "        vertical-align: middle;\n",
              "    }\n",
              "\n",
              "    .dataframe tbody tr th {\n",
              "        vertical-align: top;\n",
              "    }\n",
              "\n",
              "    .dataframe thead th {\n",
              "        text-align: right;\n",
              "    }\n",
              "</style>\n",
              "<table border=\"1\" class=\"dataframe\">\n",
              "  <thead>\n",
              "    <tr style=\"text-align: right;\">\n",
              "      <th></th>\n",
              "      <th>valid_first_name</th>\n",
              "      <th>valid_phone_number</th>\n",
              "      <th>domain_validity_proba</th>\n",
              "      <th>message_validity_proba</th>\n",
              "    </tr>\n",
              "  </thead>\n",
              "  <tbody>\n",
              "    <tr>\n",
              "      <th>0</th>\n",
              "      <td>0</td>\n",
              "      <td>0</td>\n",
              "      <td>0.179517</td>\n",
              "      <td>0.616129</td>\n",
              "    </tr>\n",
              "    <tr>\n",
              "      <th>1</th>\n",
              "      <td>1</td>\n",
              "      <td>1</td>\n",
              "      <td>0.006522</td>\n",
              "      <td>0.616129</td>\n",
              "    </tr>\n",
              "    <tr>\n",
              "      <th>2</th>\n",
              "      <td>1</td>\n",
              "      <td>1</td>\n",
              "      <td>0.179517</td>\n",
              "      <td>0.003600</td>\n",
              "    </tr>\n",
              "    <tr>\n",
              "      <th>3</th>\n",
              "      <td>1</td>\n",
              "      <td>0</td>\n",
              "      <td>0.179517</td>\n",
              "      <td>0.000105</td>\n",
              "    </tr>\n",
              "    <tr>\n",
              "      <th>4</th>\n",
              "      <td>0</td>\n",
              "      <td>0</td>\n",
              "      <td>0.179517</td>\n",
              "      <td>0.616129</td>\n",
              "    </tr>\n",
              "  </tbody>\n",
              "</table>\n",
              "</div>\n",
              "      <button class=\"colab-df-convert\" onclick=\"convertToInteractive('df-19622ec1-24d3-4f66-9b32-7986e5677fcf')\"\n",
              "              title=\"Convert this dataframe to an interactive table.\"\n",
              "              style=\"display:none;\">\n",
              "        \n",
              "  <svg xmlns=\"http://www.w3.org/2000/svg\" height=\"24px\"viewBox=\"0 0 24 24\"\n",
              "       width=\"24px\">\n",
              "    <path d=\"M0 0h24v24H0V0z\" fill=\"none\"/>\n",
              "    <path d=\"M18.56 5.44l.94 2.06.94-2.06 2.06-.94-2.06-.94-.94-2.06-.94 2.06-2.06.94zm-11 1L8.5 8.5l.94-2.06 2.06-.94-2.06-.94L8.5 2.5l-.94 2.06-2.06.94zm10 10l.94 2.06.94-2.06 2.06-.94-2.06-.94-.94-2.06-.94 2.06-2.06.94z\"/><path d=\"M17.41 7.96l-1.37-1.37c-.4-.4-.92-.59-1.43-.59-.52 0-1.04.2-1.43.59L10.3 9.45l-7.72 7.72c-.78.78-.78 2.05 0 2.83L4 21.41c.39.39.9.59 1.41.59.51 0 1.02-.2 1.41-.59l7.78-7.78 2.81-2.81c.8-.78.8-2.07 0-2.86zM5.41 20L4 18.59l7.72-7.72 1.47 1.35L5.41 20z\"/>\n",
              "  </svg>\n",
              "      </button>\n",
              "      \n",
              "  <style>\n",
              "    .colab-df-container {\n",
              "      display:flex;\n",
              "      flex-wrap:wrap;\n",
              "      gap: 12px;\n",
              "    }\n",
              "\n",
              "    .colab-df-convert {\n",
              "      background-color: #E8F0FE;\n",
              "      border: none;\n",
              "      border-radius: 50%;\n",
              "      cursor: pointer;\n",
              "      display: none;\n",
              "      fill: #1967D2;\n",
              "      height: 32px;\n",
              "      padding: 0 0 0 0;\n",
              "      width: 32px;\n",
              "    }\n",
              "\n",
              "    .colab-df-convert:hover {\n",
              "      background-color: #E2EBFA;\n",
              "      box-shadow: 0px 1px 2px rgba(60, 64, 67, 0.3), 0px 1px 3px 1px rgba(60, 64, 67, 0.15);\n",
              "      fill: #174EA6;\n",
              "    }\n",
              "\n",
              "    [theme=dark] .colab-df-convert {\n",
              "      background-color: #3B4455;\n",
              "      fill: #D2E3FC;\n",
              "    }\n",
              "\n",
              "    [theme=dark] .colab-df-convert:hover {\n",
              "      background-color: #434B5C;\n",
              "      box-shadow: 0px 1px 3px 1px rgba(0, 0, 0, 0.15);\n",
              "      filter: drop-shadow(0px 1px 2px rgba(0, 0, 0, 0.3));\n",
              "      fill: #FFFFFF;\n",
              "    }\n",
              "  </style>\n",
              "\n",
              "      <script>\n",
              "        const buttonEl =\n",
              "          document.querySelector('#df-19622ec1-24d3-4f66-9b32-7986e5677fcf button.colab-df-convert');\n",
              "        buttonEl.style.display =\n",
              "          google.colab.kernel.accessAllowed ? 'block' : 'none';\n",
              "\n",
              "        async function convertToInteractive(key) {\n",
              "          const element = document.querySelector('#df-19622ec1-24d3-4f66-9b32-7986e5677fcf');\n",
              "          const dataTable =\n",
              "            await google.colab.kernel.invokeFunction('convertToInteractive',\n",
              "                                                     [key], {});\n",
              "          if (!dataTable) return;\n",
              "\n",
              "          const docLinkHtml = 'Like what you see? Visit the ' +\n",
              "            '<a target=\"_blank\" href=https://colab.research.google.com/notebooks/data_table.ipynb>data table notebook</a>'\n",
              "            + ' to learn more about interactive tables.';\n",
              "          element.innerHTML = '';\n",
              "          dataTable['output_type'] = 'display_data';\n",
              "          await google.colab.output.renderOutput(dataTable, element);\n",
              "          const docLink = document.createElement('div');\n",
              "          docLink.innerHTML = docLinkHtml;\n",
              "          element.appendChild(docLink);\n",
              "        }\n",
              "      </script>\n",
              "    </div>\n",
              "  </div>\n",
              "  "
            ]
          },
          "metadata": {},
          "execution_count": 28
        }
      ]
    },
    {
      "cell_type": "code",
      "source": [
        "# Logistic Regression сlassifier training and tuning\n",
        "\n",
        "LR_model = LogisticRegression(max_iter=300)\n",
        "LR_params = {\"penalty\": [\"l1\", \"l2\"],\n",
        "             \"C\": [i/100 for i in range(1, 1001, 10)],\n",
        "             \"solver\": [\"liblinear\", \"saga\"]}\n",
        "\n",
        "clf = sk_ms.GridSearchCV(LR_model, LR_params)\n",
        "\n",
        "clf.fit(X_train, y_train)"
      ],
      "metadata": {
        "id": "FA1yUG75R5o6"
      },
      "execution_count": null,
      "outputs": []
    },
    {
      "cell_type": "code",
      "source": [
        "print(\"Optimal set of hyperparameters:\", clf.best_params_)"
      ],
      "metadata": {
        "colab": {
          "base_uri": "https://localhost:8080/"
        },
        "id": "2e9o0GoydEB5",
        "outputId": "f1dc53de-d001-4a21-a534-86f4e355f96b"
      },
      "execution_count": 30,
      "outputs": [
        {
          "output_type": "stream",
          "name": "stdout",
          "text": [
            "Optimal set of hyperparameters: {'C': 5.41, 'penalty': 'l1', 'solver': 'saga'}\n"
          ]
        }
      ]
    },
    {
      "cell_type": "code",
      "metadata": {
        "colab": {
          "base_uri": "https://localhost:8080/"
        },
        "id": "-9zwdJt84Ewt",
        "outputId": "312ace5a-8175-4c4d-d829-ac8f4b53ed43"
      },
      "source": [
        "# Logistic Regression classifier performance results\n",
        "\n",
        "LR_predictions = clf.predict(X_valid_temp)\n",
        "\n",
        "print(sk_metrics.classification_report(y_valid, LR_predictions))\n",
        "print()\n",
        "print(\"Accuracy score:\", sk_metrics.accuracy_score(y_valid, LR_predictions))"
      ],
      "execution_count": 31,
      "outputs": [
        {
          "output_type": "stream",
          "name": "stdout",
          "text": [
            "              precision    recall  f1-score   support\n",
            "\n",
            "           0       0.85      1.00      0.92        52\n",
            "           1       1.00      0.89      0.94        82\n",
            "\n",
            "    accuracy                           0.93       134\n",
            "   macro avg       0.93      0.95      0.93       134\n",
            "weighted avg       0.94      0.93      0.93       134\n",
            "\n",
            "\n",
            "Accuracy score: 0.9328358208955224\n"
          ]
        }
      ]
    },
    {
      "cell_type": "markdown",
      "metadata": {
        "id": "pcDkRH-WcdNk"
      },
      "source": [
        "# **Testing the model on test data set**"
      ]
    },
    {
      "cell_type": "code",
      "metadata": {
        "id": "HUYx728wdAYe"
      },
      "source": [
        "# NB model analysis of \"email_domain\" column\n",
        "\n",
        "NB_dom_predictions = NB_dom_model.predict_proba(email_dom_vectorized_test)[:, 1]"
      ],
      "execution_count": 32,
      "outputs": []
    },
    {
      "cell_type": "code",
      "metadata": {
        "id": "XXkfBi0sdAYj"
      },
      "source": [
        "# NB model analysis of \"message\" column\n",
        "\n",
        "NB_mes_predictions = NB_mes_model.predict_proba(email_message_vectorized_test)[:, 1]"
      ],
      "execution_count": 33,
      "outputs": []
    },
    {
      "cell_type": "code",
      "metadata": {
        "colab": {
          "base_uri": "https://localhost:8080/",
          "height": 206
        },
        "id": "A-F480fBdAYl",
        "outputId": "f9c2396e-7213-4131-8697-8e2561db159d"
      },
      "source": [
        "# Preparing data for LR\n",
        "\n",
        "temp_df = X_test.loc[:, [\"valid_first_name\", \"valid_phone_number\"]]\n",
        "temp_df = pd.concat([temp_df, pd.Series(NB_dom_predictions, name=\"domain_validity_proba\")], axis=1)\n",
        "temp_df = pd.concat([temp_df, pd.Series(NB_mes_predictions, name=\"message_validity_proba\")], axis=1)\n",
        "\n",
        "temp_df.head()"
      ],
      "execution_count": 34,
      "outputs": [
        {
          "output_type": "execute_result",
          "data": {
            "text/plain": [
              "   valid_first_name  valid_phone_number  domain_validity_proba  \\\n",
              "0                 1                   1               0.179517   \n",
              "1                 0                   0               0.983969   \n",
              "2                 0                   0               0.179517   \n",
              "3                 0                   0               0.908473   \n",
              "4                 0                   0               0.330353   \n",
              "\n",
              "   message_validity_proba  \n",
              "0                0.000001  \n",
              "1                0.616129  \n",
              "2                0.983972  \n",
              "3                0.616129  \n",
              "4                0.616129  "
            ],
            "text/html": [
              "\n",
              "  <div id=\"df-b7350a3a-61dc-4c4f-ac1f-ae5a3fbe9f6c\">\n",
              "    <div class=\"colab-df-container\">\n",
              "      <div>\n",
              "<style scoped>\n",
              "    .dataframe tbody tr th:only-of-type {\n",
              "        vertical-align: middle;\n",
              "    }\n",
              "\n",
              "    .dataframe tbody tr th {\n",
              "        vertical-align: top;\n",
              "    }\n",
              "\n",
              "    .dataframe thead th {\n",
              "        text-align: right;\n",
              "    }\n",
              "</style>\n",
              "<table border=\"1\" class=\"dataframe\">\n",
              "  <thead>\n",
              "    <tr style=\"text-align: right;\">\n",
              "      <th></th>\n",
              "      <th>valid_first_name</th>\n",
              "      <th>valid_phone_number</th>\n",
              "      <th>domain_validity_proba</th>\n",
              "      <th>message_validity_proba</th>\n",
              "    </tr>\n",
              "  </thead>\n",
              "  <tbody>\n",
              "    <tr>\n",
              "      <th>0</th>\n",
              "      <td>1</td>\n",
              "      <td>1</td>\n",
              "      <td>0.179517</td>\n",
              "      <td>0.000001</td>\n",
              "    </tr>\n",
              "    <tr>\n",
              "      <th>1</th>\n",
              "      <td>0</td>\n",
              "      <td>0</td>\n",
              "      <td>0.983969</td>\n",
              "      <td>0.616129</td>\n",
              "    </tr>\n",
              "    <tr>\n",
              "      <th>2</th>\n",
              "      <td>0</td>\n",
              "      <td>0</td>\n",
              "      <td>0.179517</td>\n",
              "      <td>0.983972</td>\n",
              "    </tr>\n",
              "    <tr>\n",
              "      <th>3</th>\n",
              "      <td>0</td>\n",
              "      <td>0</td>\n",
              "      <td>0.908473</td>\n",
              "      <td>0.616129</td>\n",
              "    </tr>\n",
              "    <tr>\n",
              "      <th>4</th>\n",
              "      <td>0</td>\n",
              "      <td>0</td>\n",
              "      <td>0.330353</td>\n",
              "      <td>0.616129</td>\n",
              "    </tr>\n",
              "  </tbody>\n",
              "</table>\n",
              "</div>\n",
              "      <button class=\"colab-df-convert\" onclick=\"convertToInteractive('df-b7350a3a-61dc-4c4f-ac1f-ae5a3fbe9f6c')\"\n",
              "              title=\"Convert this dataframe to an interactive table.\"\n",
              "              style=\"display:none;\">\n",
              "        \n",
              "  <svg xmlns=\"http://www.w3.org/2000/svg\" height=\"24px\"viewBox=\"0 0 24 24\"\n",
              "       width=\"24px\">\n",
              "    <path d=\"M0 0h24v24H0V0z\" fill=\"none\"/>\n",
              "    <path d=\"M18.56 5.44l.94 2.06.94-2.06 2.06-.94-2.06-.94-.94-2.06-.94 2.06-2.06.94zm-11 1L8.5 8.5l.94-2.06 2.06-.94-2.06-.94L8.5 2.5l-.94 2.06-2.06.94zm10 10l.94 2.06.94-2.06 2.06-.94-2.06-.94-.94-2.06-.94 2.06-2.06.94z\"/><path d=\"M17.41 7.96l-1.37-1.37c-.4-.4-.92-.59-1.43-.59-.52 0-1.04.2-1.43.59L10.3 9.45l-7.72 7.72c-.78.78-.78 2.05 0 2.83L4 21.41c.39.39.9.59 1.41.59.51 0 1.02-.2 1.41-.59l7.78-7.78 2.81-2.81c.8-.78.8-2.07 0-2.86zM5.41 20L4 18.59l7.72-7.72 1.47 1.35L5.41 20z\"/>\n",
              "  </svg>\n",
              "      </button>\n",
              "      \n",
              "  <style>\n",
              "    .colab-df-container {\n",
              "      display:flex;\n",
              "      flex-wrap:wrap;\n",
              "      gap: 12px;\n",
              "    }\n",
              "\n",
              "    .colab-df-convert {\n",
              "      background-color: #E8F0FE;\n",
              "      border: none;\n",
              "      border-radius: 50%;\n",
              "      cursor: pointer;\n",
              "      display: none;\n",
              "      fill: #1967D2;\n",
              "      height: 32px;\n",
              "      padding: 0 0 0 0;\n",
              "      width: 32px;\n",
              "    }\n",
              "\n",
              "    .colab-df-convert:hover {\n",
              "      background-color: #E2EBFA;\n",
              "      box-shadow: 0px 1px 2px rgba(60, 64, 67, 0.3), 0px 1px 3px 1px rgba(60, 64, 67, 0.15);\n",
              "      fill: #174EA6;\n",
              "    }\n",
              "\n",
              "    [theme=dark] .colab-df-convert {\n",
              "      background-color: #3B4455;\n",
              "      fill: #D2E3FC;\n",
              "    }\n",
              "\n",
              "    [theme=dark] .colab-df-convert:hover {\n",
              "      background-color: #434B5C;\n",
              "      box-shadow: 0px 1px 3px 1px rgba(0, 0, 0, 0.15);\n",
              "      filter: drop-shadow(0px 1px 2px rgba(0, 0, 0, 0.3));\n",
              "      fill: #FFFFFF;\n",
              "    }\n",
              "  </style>\n",
              "\n",
              "      <script>\n",
              "        const buttonEl =\n",
              "          document.querySelector('#df-b7350a3a-61dc-4c4f-ac1f-ae5a3fbe9f6c button.colab-df-convert');\n",
              "        buttonEl.style.display =\n",
              "          google.colab.kernel.accessAllowed ? 'block' : 'none';\n",
              "\n",
              "        async function convertToInteractive(key) {\n",
              "          const element = document.querySelector('#df-b7350a3a-61dc-4c4f-ac1f-ae5a3fbe9f6c');\n",
              "          const dataTable =\n",
              "            await google.colab.kernel.invokeFunction('convertToInteractive',\n",
              "                                                     [key], {});\n",
              "          if (!dataTable) return;\n",
              "\n",
              "          const docLinkHtml = 'Like what you see? Visit the ' +\n",
              "            '<a target=\"_blank\" href=https://colab.research.google.com/notebooks/data_table.ipynb>data table notebook</a>'\n",
              "            + ' to learn more about interactive tables.';\n",
              "          element.innerHTML = '';\n",
              "          dataTable['output_type'] = 'display_data';\n",
              "          await google.colab.output.renderOutput(dataTable, element);\n",
              "          const docLink = document.createElement('div');\n",
              "          docLink.innerHTML = docLinkHtml;\n",
              "          element.appendChild(docLink);\n",
              "        }\n",
              "      </script>\n",
              "    </div>\n",
              "  </div>\n",
              "  "
            ]
          },
          "metadata": {},
          "execution_count": 34
        }
      ]
    },
    {
      "cell_type": "code",
      "metadata": {
        "colab": {
          "base_uri": "https://localhost:8080/"
        },
        "id": "7bdkNaEfdAYm",
        "outputId": "507783cd-bf6c-4b52-f645-6218c5d71985"
      },
      "source": [
        "# Logistic Regression performance results on a test dataset\n",
        "\n",
        "LR_predictions = clf.predict(temp_df)\n",
        "\n",
        "print(sk_metrics.classification_report(y_test, LR_predictions))\n",
        "print(\"Accuracy score:\", sk_metrics.accuracy_score(y_test, LR_predictions))"
      ],
      "execution_count": 35,
      "outputs": [
        {
          "output_type": "stream",
          "name": "stdout",
          "text": [
            "              precision    recall  f1-score   support\n",
            "\n",
            "           0       0.91      1.00      0.96        43\n",
            "           1       1.00      0.94      0.97        69\n",
            "\n",
            "    accuracy                           0.96       112\n",
            "   macro avg       0.96      0.97      0.96       112\n",
            "weighted avg       0.97      0.96      0.96       112\n",
            "\n",
            "Accuracy score: 0.9642857142857143\n"
          ]
        }
      ]
    },
    {
      "cell_type": "code",
      "metadata": {
        "colab": {
          "base_uri": "https://localhost:8080/",
          "height": 809
        },
        "id": "ty2D4jvPdAYn",
        "outputId": "2b141add-d789-4c8c-c84c-c0e295ced142"
      },
      "source": [
        "# Inspecting performance of a model on a test dataset visually\n",
        "\n",
        "inspect_df = pd.concat([X_test, pd.Series(LR_predictions, name=\"prediction\")], axis=1)\n",
        "inspect_df = pd.concat([inspect_df, y_test], axis=1)\n",
        "inspect_df.head(10)"
      ],
      "execution_count": 36,
      "outputs": [
        {
          "output_type": "execute_result",
          "data": {
            "text/plain": [
              "                   name  valid_first_name         phone  valid_phone_number  \\\n",
              "0          Лесков Денис                 1  380939000000                   1   \n",
              "1              RubenMew                 0   87667954846                   0   \n",
              "2           Eugenerhime                 0   89626886473                   0   \n",
              "3            gmzxjyjjjo                 0   12134251453                   0   \n",
              "4          Charleselict                 0   89366333945                   0   \n",
              "5           Yvettetarly                 0   86335282374                   0   \n",
              "6  Александр Медведенко                 1  380676000000                   1   \n",
              "7         LeniAreriuche                 0   83321697722                   0   \n",
              "8    Екатерина Лабутина                 1  380980000000                   1   \n",
              "9     Константин Карауш                 1  380934000000                   1   \n",
              "\n",
              "                                               email    email_domain  \\\n",
              "0                             bengaminfein@gmail.com       gmail.com   \n",
              "1                              bbbbbbbbbbbbbb@box.it          box.it   \n",
              "2                           12gyyaqwdst55r@gmail.com       gmail.com   \n",
              "3  29fbabaaecfbd96ea251b2669d64ce33.roopert@ssema...       ssemarket   \n",
              "4                       novostroyka63@seoturbina.com  seoturbina.com   \n",
              "5                                    essay_6@mail.ru         mail.ru   \n",
              "6                                buromaxod@gmail.com       gmail.com   \n",
              "7                            terrance.riley@inbox.ru        inbox.ru   \n",
              "8                                   kabutina@ukr.net         ukr.net   \n",
              "9                              kostia90rus@gmail.com       gmail.com   \n",
              "\n",
              "                                             message  prediction  is_spam  \n",
              "0  Здравствуйте, хочу записаться на ваши курсы с ...           0        0  \n",
              "1  :::::::::::::::: ONLY THE BEST :::::::::::::::...           1        1  \n",
              "2  ######## FREE ######### \\nULTIMATE РТНС COLLEC...           1        1  \n",
              "3        Muchas gracias. ?Como puedo iniciar sesion?           1        1  \n",
              "4                                                              1        1  \n",
              "5                                                              1        1  \n",
              "6                     Свяжитесь со мной пожалуйста..           0        0  \n",
              "7                                           gislaved           1        1  \n",
              "8                                                              0        0  \n",
              "9         Для связи через телеграмм норме 0672967922           0        0  "
            ],
            "text/html": [
              "\n",
              "  <div id=\"df-94ffa0db-c348-4141-9214-36f7c1324522\">\n",
              "    <div class=\"colab-df-container\">\n",
              "      <div>\n",
              "<style scoped>\n",
              "    .dataframe tbody tr th:only-of-type {\n",
              "        vertical-align: middle;\n",
              "    }\n",
              "\n",
              "    .dataframe tbody tr th {\n",
              "        vertical-align: top;\n",
              "    }\n",
              "\n",
              "    .dataframe thead th {\n",
              "        text-align: right;\n",
              "    }\n",
              "</style>\n",
              "<table border=\"1\" class=\"dataframe\">\n",
              "  <thead>\n",
              "    <tr style=\"text-align: right;\">\n",
              "      <th></th>\n",
              "      <th>name</th>\n",
              "      <th>valid_first_name</th>\n",
              "      <th>phone</th>\n",
              "      <th>valid_phone_number</th>\n",
              "      <th>email</th>\n",
              "      <th>email_domain</th>\n",
              "      <th>message</th>\n",
              "      <th>prediction</th>\n",
              "      <th>is_spam</th>\n",
              "    </tr>\n",
              "  </thead>\n",
              "  <tbody>\n",
              "    <tr>\n",
              "      <th>0</th>\n",
              "      <td>Лесков Денис</td>\n",
              "      <td>1</td>\n",
              "      <td>380939000000</td>\n",
              "      <td>1</td>\n",
              "      <td>bengaminfein@gmail.com</td>\n",
              "      <td>gmail.com</td>\n",
              "      <td>Здравствуйте, хочу записаться на ваши курсы с ...</td>\n",
              "      <td>0</td>\n",
              "      <td>0</td>\n",
              "    </tr>\n",
              "    <tr>\n",
              "      <th>1</th>\n",
              "      <td>RubenMew</td>\n",
              "      <td>0</td>\n",
              "      <td>87667954846</td>\n",
              "      <td>0</td>\n",
              "      <td>bbbbbbbbbbbbbb@box.it</td>\n",
              "      <td>box.it</td>\n",
              "      <td>:::::::::::::::: ONLY THE BEST :::::::::::::::...</td>\n",
              "      <td>1</td>\n",
              "      <td>1</td>\n",
              "    </tr>\n",
              "    <tr>\n",
              "      <th>2</th>\n",
              "      <td>Eugenerhime</td>\n",
              "      <td>0</td>\n",
              "      <td>89626886473</td>\n",
              "      <td>0</td>\n",
              "      <td>12gyyaqwdst55r@gmail.com</td>\n",
              "      <td>gmail.com</td>\n",
              "      <td>######## FREE ######### \\nULTIMATE РТНС COLLEC...</td>\n",
              "      <td>1</td>\n",
              "      <td>1</td>\n",
              "    </tr>\n",
              "    <tr>\n",
              "      <th>3</th>\n",
              "      <td>gmzxjyjjjo</td>\n",
              "      <td>0</td>\n",
              "      <td>12134251453</td>\n",
              "      <td>0</td>\n",
              "      <td>29fbabaaecfbd96ea251b2669d64ce33.roopert@ssema...</td>\n",
              "      <td>ssemarket</td>\n",
              "      <td>Muchas gracias. ?Como puedo iniciar sesion?</td>\n",
              "      <td>1</td>\n",
              "      <td>1</td>\n",
              "    </tr>\n",
              "    <tr>\n",
              "      <th>4</th>\n",
              "      <td>Charleselict</td>\n",
              "      <td>0</td>\n",
              "      <td>89366333945</td>\n",
              "      <td>0</td>\n",
              "      <td>novostroyka63@seoturbina.com</td>\n",
              "      <td>seoturbina.com</td>\n",
              "      <td></td>\n",
              "      <td>1</td>\n",
              "      <td>1</td>\n",
              "    </tr>\n",
              "    <tr>\n",
              "      <th>5</th>\n",
              "      <td>Yvettetarly</td>\n",
              "      <td>0</td>\n",
              "      <td>86335282374</td>\n",
              "      <td>0</td>\n",
              "      <td>essay_6@mail.ru</td>\n",
              "      <td>mail.ru</td>\n",
              "      <td></td>\n",
              "      <td>1</td>\n",
              "      <td>1</td>\n",
              "    </tr>\n",
              "    <tr>\n",
              "      <th>6</th>\n",
              "      <td>Александр Медведенко</td>\n",
              "      <td>1</td>\n",
              "      <td>380676000000</td>\n",
              "      <td>1</td>\n",
              "      <td>buromaxod@gmail.com</td>\n",
              "      <td>gmail.com</td>\n",
              "      <td>Свяжитесь со мной пожалуйста..</td>\n",
              "      <td>0</td>\n",
              "      <td>0</td>\n",
              "    </tr>\n",
              "    <tr>\n",
              "      <th>7</th>\n",
              "      <td>LeniAreriuche</td>\n",
              "      <td>0</td>\n",
              "      <td>83321697722</td>\n",
              "      <td>0</td>\n",
              "      <td>terrance.riley@inbox.ru</td>\n",
              "      <td>inbox.ru</td>\n",
              "      <td>gislaved</td>\n",
              "      <td>1</td>\n",
              "      <td>1</td>\n",
              "    </tr>\n",
              "    <tr>\n",
              "      <th>8</th>\n",
              "      <td>Екатерина Лабутина</td>\n",
              "      <td>1</td>\n",
              "      <td>380980000000</td>\n",
              "      <td>1</td>\n",
              "      <td>kabutina@ukr.net</td>\n",
              "      <td>ukr.net</td>\n",
              "      <td></td>\n",
              "      <td>0</td>\n",
              "      <td>0</td>\n",
              "    </tr>\n",
              "    <tr>\n",
              "      <th>9</th>\n",
              "      <td>Константин Карауш</td>\n",
              "      <td>1</td>\n",
              "      <td>380934000000</td>\n",
              "      <td>1</td>\n",
              "      <td>kostia90rus@gmail.com</td>\n",
              "      <td>gmail.com</td>\n",
              "      <td>Для связи через телеграмм норме 0672967922</td>\n",
              "      <td>0</td>\n",
              "      <td>0</td>\n",
              "    </tr>\n",
              "  </tbody>\n",
              "</table>\n",
              "</div>\n",
              "      <button class=\"colab-df-convert\" onclick=\"convertToInteractive('df-94ffa0db-c348-4141-9214-36f7c1324522')\"\n",
              "              title=\"Convert this dataframe to an interactive table.\"\n",
              "              style=\"display:none;\">\n",
              "        \n",
              "  <svg xmlns=\"http://www.w3.org/2000/svg\" height=\"24px\"viewBox=\"0 0 24 24\"\n",
              "       width=\"24px\">\n",
              "    <path d=\"M0 0h24v24H0V0z\" fill=\"none\"/>\n",
              "    <path d=\"M18.56 5.44l.94 2.06.94-2.06 2.06-.94-2.06-.94-.94-2.06-.94 2.06-2.06.94zm-11 1L8.5 8.5l.94-2.06 2.06-.94-2.06-.94L8.5 2.5l-.94 2.06-2.06.94zm10 10l.94 2.06.94-2.06 2.06-.94-2.06-.94-.94-2.06-.94 2.06-2.06.94z\"/><path d=\"M17.41 7.96l-1.37-1.37c-.4-.4-.92-.59-1.43-.59-.52 0-1.04.2-1.43.59L10.3 9.45l-7.72 7.72c-.78.78-.78 2.05 0 2.83L4 21.41c.39.39.9.59 1.41.59.51 0 1.02-.2 1.41-.59l7.78-7.78 2.81-2.81c.8-.78.8-2.07 0-2.86zM5.41 20L4 18.59l7.72-7.72 1.47 1.35L5.41 20z\"/>\n",
              "  </svg>\n",
              "      </button>\n",
              "      \n",
              "  <style>\n",
              "    .colab-df-container {\n",
              "      display:flex;\n",
              "      flex-wrap:wrap;\n",
              "      gap: 12px;\n",
              "    }\n",
              "\n",
              "    .colab-df-convert {\n",
              "      background-color: #E8F0FE;\n",
              "      border: none;\n",
              "      border-radius: 50%;\n",
              "      cursor: pointer;\n",
              "      display: none;\n",
              "      fill: #1967D2;\n",
              "      height: 32px;\n",
              "      padding: 0 0 0 0;\n",
              "      width: 32px;\n",
              "    }\n",
              "\n",
              "    .colab-df-convert:hover {\n",
              "      background-color: #E2EBFA;\n",
              "      box-shadow: 0px 1px 2px rgba(60, 64, 67, 0.3), 0px 1px 3px 1px rgba(60, 64, 67, 0.15);\n",
              "      fill: #174EA6;\n",
              "    }\n",
              "\n",
              "    [theme=dark] .colab-df-convert {\n",
              "      background-color: #3B4455;\n",
              "      fill: #D2E3FC;\n",
              "    }\n",
              "\n",
              "    [theme=dark] .colab-df-convert:hover {\n",
              "      background-color: #434B5C;\n",
              "      box-shadow: 0px 1px 3px 1px rgba(0, 0, 0, 0.15);\n",
              "      filter: drop-shadow(0px 1px 2px rgba(0, 0, 0, 0.3));\n",
              "      fill: #FFFFFF;\n",
              "    }\n",
              "  </style>\n",
              "\n",
              "      <script>\n",
              "        const buttonEl =\n",
              "          document.querySelector('#df-94ffa0db-c348-4141-9214-36f7c1324522 button.colab-df-convert');\n",
              "        buttonEl.style.display =\n",
              "          google.colab.kernel.accessAllowed ? 'block' : 'none';\n",
              "\n",
              "        async function convertToInteractive(key) {\n",
              "          const element = document.querySelector('#df-94ffa0db-c348-4141-9214-36f7c1324522');\n",
              "          const dataTable =\n",
              "            await google.colab.kernel.invokeFunction('convertToInteractive',\n",
              "                                                     [key], {});\n",
              "          if (!dataTable) return;\n",
              "\n",
              "          const docLinkHtml = 'Like what you see? Visit the ' +\n",
              "            '<a target=\"_blank\" href=https://colab.research.google.com/notebooks/data_table.ipynb>data table notebook</a>'\n",
              "            + ' to learn more about interactive tables.';\n",
              "          element.innerHTML = '';\n",
              "          dataTable['output_type'] = 'display_data';\n",
              "          await google.colab.output.renderOutput(dataTable, element);\n",
              "          const docLink = document.createElement('div');\n",
              "          docLink.innerHTML = docLinkHtml;\n",
              "          element.appendChild(docLink);\n",
              "        }\n",
              "      </script>\n",
              "    </div>\n",
              "  </div>\n",
              "  "
            ]
          },
          "metadata": {},
          "execution_count": 36
        }
      ]
    }
  ]
}