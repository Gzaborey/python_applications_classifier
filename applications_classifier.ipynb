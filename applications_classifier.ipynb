{
  "nbformat": 4,
  "nbformat_minor": 0,
  "metadata": {
    "colab": {
      "provenance": [],
      "toc_visible": true,
      "collapsed_sections": [
        "P5Z60vHLlNK7"
      ],
      "authorship_tag": "ABX9TyOLPA/OBDmpSqxZDAUI5F3Q",
      "include_colab_link": true
    },
    "kernelspec": {
      "name": "python3",
      "display_name": "Python 3"
    }
  },
  "cells": [
    {
      "cell_type": "markdown",
      "metadata": {
        "id": "view-in-github",
        "colab_type": "text"
      },
      "source": [
        "<a href=\"https://colab.research.google.com/github/Gzaborey/python_applications_classifier/blob/main/applications_classifier.ipynb\" target=\"_parent\"><img src=\"https://colab.research.google.com/assets/colab-badge.svg\" alt=\"Open In Colab\"/></a>"
      ]
    },
    {
      "cell_type": "code",
      "metadata": {
        "id": "R28n8Wvf0UAg"
      },
      "source": [
        "# Importing necessary libraries\n",
        "\n",
        "import pandas as pd\n",
        "import numpy as np\n",
        "import string\n",
        "import re\n",
        "import matplotlib.pyplot as plt\n",
        "import sklearn.model_selection as sk_ms\n",
        "import sklearn.preprocessing as sk_preprocessing\n",
        "import sklearn.metrics as sk_metrics\n",
        "from sklearn.feature_extraction.text import CountVectorizer\n",
        "from nltk.corpus import stopwords\n",
        "from nltk.stem.snowball import SnowballStemmer\n",
        "from sklearn.linear_model import LogisticRegression\n",
        "from sklearn.naive_bayes import MultinomialNB"
      ],
      "execution_count": 192,
      "outputs": []
    },
    {
      "cell_type": "code",
      "source": [
        "%matplotlib inline"
      ],
      "metadata": {
        "id": "YLP0mHG_pxlw"
      },
      "execution_count": 193,
      "outputs": []
    },
    {
      "cell_type": "code",
      "metadata": {
        "colab": {
          "base_uri": "https://localhost:8080/"
        },
        "id": "X-Uf0xGb4_D-",
        "outputId": "ec485131-2bcf-4b4d-f92c-81260dc1cb30"
      },
      "source": [
        "import nltk\n",
        "nltk.download(\"stopwords\")"
      ],
      "execution_count": 194,
      "outputs": [
        {
          "output_type": "stream",
          "name": "stderr",
          "text": [
            "[nltk_data] Downloading package stopwords to /root/nltk_data...\n",
            "[nltk_data]   Package stopwords is already up-to-date!\n"
          ]
        },
        {
          "output_type": "execute_result",
          "data": {
            "text/plain": [
              "True"
            ]
          },
          "metadata": {},
          "execution_count": 194
        }
      ]
    },
    {
      "cell_type": "code",
      "metadata": {
        "id": "swkkjnmi3ysd"
      },
      "source": [
        "# Defining necessary functions to preprocess the data\n",
        "\n",
        "def process_text(text):\n",
        "\n",
        "  \"\"\"Removes punctuation, whitespases, stopwords, english words, short words and digits.\n",
        "     Returns list of words.\"\"\"\n",
        "\n",
        "  stemmer = SnowballStemmer(\"russian\")\n",
        "  eng_regex = re.compile(r\"[a-zA-Z]\")\n",
        "\n",
        "  nopunc = [char for char in text if char not in string.punctuation]\n",
        "  nopunc = ''.join(nopunc)\n",
        "\n",
        "  processed_words = [stemmer.stem(word.lower()) for word in nopunc.split()\\\n",
        "                      if word.lower() not in stopwords.words(\"russian\")\\\n",
        "                      and word.lower() not in stopwords.words(\"english\")\\\n",
        "                      and word.lower().isalpha()\\\n",
        "                      and len(word.lower()) > 4\\\n",
        "                      and word.lower() not in \"\".join(eng_regex.findall(word.lower()))]\n",
        "  return processed_words \n",
        "\n",
        "def validate_name(string_to_validate, name_data):\n",
        "\n",
        "  \"\"\"Checks if given name is common. \n",
        "      If given name is not common (does not appear in a database of names) \n",
        "      it is considered invalid i.e. fake name.\"\"\"\n",
        "\n",
        "  name_validity = 0\n",
        "  for word in string_to_validate.lower().split():\n",
        "    if word in name_data:\n",
        "      name_validity = 1\n",
        "      break\n",
        "    else:\n",
        "      name_validity = 0\n",
        "  return name_validity\n",
        "\n",
        "def validate_phone_number(phone_number):\n",
        "\n",
        "  \"\"\"Checks if given phone number is from Ukraine.\"\"\"\n",
        "\n",
        "  temp1 = [char for char in phone_number if (char not in string.punctuation \\\n",
        "                                             and char is not ' ')]\n",
        "  temp2 = ''.join(temp1)\n",
        "  if len(temp2) > 12 or len(temp2) < 9:\n",
        "    return 0\n",
        "  else:\n",
        "    for char in range(7):\n",
        "      temp1.pop()\n",
        "    temp2 = ''.join(temp1)\n",
        "    pattern1 = re.compile(r\"(380|0|)\")\n",
        "    first_condition = temp2[-3::-1][::-1] in pattern1.findall(temp2[-3::-1][::-1])\n",
        "    pattern2 = re.compile(r\"(39|67|68|96|97|98|50|66|95|99|63|93|91|92|94)\")\n",
        "    second_condition = temp2[-1:-3:-1][::-1] in pattern2.findall(temp2[-1:-3:-1][::-1])\n",
        "    if first_condition and second_condition:\n",
        "      return 1\n",
        "    else:\n",
        "      return 0"
      ],
      "execution_count": 195,
      "outputs": []
    },
    {
      "cell_type": "markdown",
      "metadata": {
        "id": "OC1FvFJaIWYq"
      },
      "source": [
        "# **Preparing the data**"
      ]
    },
    {
      "cell_type": "markdown",
      "metadata": {
        "id": "P5Z60vHLlNK7"
      },
      "source": [
        "## Loading the data and constructing features"
      ]
    },
    {
      "cell_type": "code",
      "metadata": {
        "id": "YN3XFjejHtr1"
      },
      "source": [
        "# Loading data\n",
        "\n",
        "email_data = pd.read_excel(\"https://github.com/Gzaborey/python_applications_classifier/blob/main/data/email_data.xlsx?raw=true\")\n",
        "email_data = email_data.drop([\"Unnamed: 0\"], axis=1, errors=\"ignore\")\n",
        "email_data = email_data.drop_duplicates()\n",
        "email_data = email_data.reset_index(drop=True)\n",
        "email_data = email_data.rename(columns={\"add\": \"message\"})\n",
        "email_data = email_data.sample(frac=1)\n",
        "email_data = email_data.reset_index(drop=True)\n",
        "email_data[\"message\"] = email_data[\"message\"].astype(\"str\")"
      ],
      "execution_count": 196,
      "outputs": []
    },
    {
      "cell_type": "code",
      "metadata": {
        "colab": {
          "base_uri": "https://localhost:8080/",
          "height": 206
        },
        "id": "yiGuPABXyQVr",
        "outputId": "0388eba4-3649-4332-e960-edc5c702ac8f"
      },
      "source": [
        "# Acquaintance with the data\n",
        "\n",
        "email_data.head()"
      ],
      "execution_count": 197,
      "outputs": [
        {
          "output_type": "execute_result",
          "data": {
            "text/plain": [
              "                 name        phone                              email  \\\n",
              "0        sexy_girlTaf  84329242267                evgenijkihx@mail.ru   \n",
              "1    Жисентаев Андрей    683127867                 xutor09@rambler.ru   \n",
              "2  Макидонски Татьяна    939315058                                NaN   \n",
              "3    Ларченко Василий    939808600             omeratol5555@gmail.com   \n",
              "4           stellasa3  83594815563  marcusoc3@hiroyuki74.pushmail.fun   \n",
              "\n",
              "                                             message  is_spam  \n",
              "0   mrvine net forum\\n \\n \\nwww.enah.edu.mx/enahf...        1  \n",
              "1                                                  +        0  \n",
              "2                                                nan        0  \n",
              "3                                                nan        0  \n",
              "4                                                nan        1  "
            ],
            "text/html": [
              "\n",
              "  <div id=\"df-d879d582-f5e1-415a-9fe2-327321b4dc53\">\n",
              "    <div class=\"colab-df-container\">\n",
              "      <div>\n",
              "<style scoped>\n",
              "    .dataframe tbody tr th:only-of-type {\n",
              "        vertical-align: middle;\n",
              "    }\n",
              "\n",
              "    .dataframe tbody tr th {\n",
              "        vertical-align: top;\n",
              "    }\n",
              "\n",
              "    .dataframe thead th {\n",
              "        text-align: right;\n",
              "    }\n",
              "</style>\n",
              "<table border=\"1\" class=\"dataframe\">\n",
              "  <thead>\n",
              "    <tr style=\"text-align: right;\">\n",
              "      <th></th>\n",
              "      <th>name</th>\n",
              "      <th>phone</th>\n",
              "      <th>email</th>\n",
              "      <th>message</th>\n",
              "      <th>is_spam</th>\n",
              "    </tr>\n",
              "  </thead>\n",
              "  <tbody>\n",
              "    <tr>\n",
              "      <th>0</th>\n",
              "      <td>sexy_girlTaf</td>\n",
              "      <td>84329242267</td>\n",
              "      <td>evgenijkihx@mail.ru</td>\n",
              "      <td>mrvine net forum\\n \\n \\nwww.enah.edu.mx/enahf...</td>\n",
              "      <td>1</td>\n",
              "    </tr>\n",
              "    <tr>\n",
              "      <th>1</th>\n",
              "      <td>Жисентаев Андрей</td>\n",
              "      <td>683127867</td>\n",
              "      <td>xutor09@rambler.ru</td>\n",
              "      <td>+</td>\n",
              "      <td>0</td>\n",
              "    </tr>\n",
              "    <tr>\n",
              "      <th>2</th>\n",
              "      <td>Макидонски Татьяна</td>\n",
              "      <td>939315058</td>\n",
              "      <td>NaN</td>\n",
              "      <td>nan</td>\n",
              "      <td>0</td>\n",
              "    </tr>\n",
              "    <tr>\n",
              "      <th>3</th>\n",
              "      <td>Ларченко Василий</td>\n",
              "      <td>939808600</td>\n",
              "      <td>omeratol5555@gmail.com</td>\n",
              "      <td>nan</td>\n",
              "      <td>0</td>\n",
              "    </tr>\n",
              "    <tr>\n",
              "      <th>4</th>\n",
              "      <td>stellasa3</td>\n",
              "      <td>83594815563</td>\n",
              "      <td>marcusoc3@hiroyuki74.pushmail.fun</td>\n",
              "      <td>nan</td>\n",
              "      <td>1</td>\n",
              "    </tr>\n",
              "  </tbody>\n",
              "</table>\n",
              "</div>\n",
              "      <button class=\"colab-df-convert\" onclick=\"convertToInteractive('df-d879d582-f5e1-415a-9fe2-327321b4dc53')\"\n",
              "              title=\"Convert this dataframe to an interactive table.\"\n",
              "              style=\"display:none;\">\n",
              "        \n",
              "  <svg xmlns=\"http://www.w3.org/2000/svg\" height=\"24px\"viewBox=\"0 0 24 24\"\n",
              "       width=\"24px\">\n",
              "    <path d=\"M0 0h24v24H0V0z\" fill=\"none\"/>\n",
              "    <path d=\"M18.56 5.44l.94 2.06.94-2.06 2.06-.94-2.06-.94-.94-2.06-.94 2.06-2.06.94zm-11 1L8.5 8.5l.94-2.06 2.06-.94-2.06-.94L8.5 2.5l-.94 2.06-2.06.94zm10 10l.94 2.06.94-2.06 2.06-.94-2.06-.94-.94-2.06-.94 2.06-2.06.94z\"/><path d=\"M17.41 7.96l-1.37-1.37c-.4-.4-.92-.59-1.43-.59-.52 0-1.04.2-1.43.59L10.3 9.45l-7.72 7.72c-.78.78-.78 2.05 0 2.83L4 21.41c.39.39.9.59 1.41.59.51 0 1.02-.2 1.41-.59l7.78-7.78 2.81-2.81c.8-.78.8-2.07 0-2.86zM5.41 20L4 18.59l7.72-7.72 1.47 1.35L5.41 20z\"/>\n",
              "  </svg>\n",
              "      </button>\n",
              "      \n",
              "  <style>\n",
              "    .colab-df-container {\n",
              "      display:flex;\n",
              "      flex-wrap:wrap;\n",
              "      gap: 12px;\n",
              "    }\n",
              "\n",
              "    .colab-df-convert {\n",
              "      background-color: #E8F0FE;\n",
              "      border: none;\n",
              "      border-radius: 50%;\n",
              "      cursor: pointer;\n",
              "      display: none;\n",
              "      fill: #1967D2;\n",
              "      height: 32px;\n",
              "      padding: 0 0 0 0;\n",
              "      width: 32px;\n",
              "    }\n",
              "\n",
              "    .colab-df-convert:hover {\n",
              "      background-color: #E2EBFA;\n",
              "      box-shadow: 0px 1px 2px rgba(60, 64, 67, 0.3), 0px 1px 3px 1px rgba(60, 64, 67, 0.15);\n",
              "      fill: #174EA6;\n",
              "    }\n",
              "\n",
              "    [theme=dark] .colab-df-convert {\n",
              "      background-color: #3B4455;\n",
              "      fill: #D2E3FC;\n",
              "    }\n",
              "\n",
              "    [theme=dark] .colab-df-convert:hover {\n",
              "      background-color: #434B5C;\n",
              "      box-shadow: 0px 1px 3px 1px rgba(0, 0, 0, 0.15);\n",
              "      filter: drop-shadow(0px 1px 2px rgba(0, 0, 0, 0.3));\n",
              "      fill: #FFFFFF;\n",
              "    }\n",
              "  </style>\n",
              "\n",
              "      <script>\n",
              "        const buttonEl =\n",
              "          document.querySelector('#df-d879d582-f5e1-415a-9fe2-327321b4dc53 button.colab-df-convert');\n",
              "        buttonEl.style.display =\n",
              "          google.colab.kernel.accessAllowed ? 'block' : 'none';\n",
              "\n",
              "        async function convertToInteractive(key) {\n",
              "          const element = document.querySelector('#df-d879d582-f5e1-415a-9fe2-327321b4dc53');\n",
              "          const dataTable =\n",
              "            await google.colab.kernel.invokeFunction('convertToInteractive',\n",
              "                                                     [key], {});\n",
              "          if (!dataTable) return;\n",
              "\n",
              "          const docLinkHtml = 'Like what you see? Visit the ' +\n",
              "            '<a target=\"_blank\" href=https://colab.research.google.com/notebooks/data_table.ipynb>data table notebook</a>'\n",
              "            + ' to learn more about interactive tables.';\n",
              "          element.innerHTML = '';\n",
              "          dataTable['output_type'] = 'display_data';\n",
              "          await google.colab.output.renderOutput(dataTable, element);\n",
              "          const docLink = document.createElement('div');\n",
              "          docLink.innerHTML = docLinkHtml;\n",
              "          element.appendChild(docLink);\n",
              "        }\n",
              "      </script>\n",
              "    </div>\n",
              "  </div>\n",
              "  "
            ]
          },
          "metadata": {},
          "execution_count": 197
        }
      ]
    },
    {
      "cell_type": "code",
      "metadata": {
        "colab": {
          "base_uri": "https://localhost:8080/"
        },
        "id": "Q23yt4RUJa85",
        "outputId": "f8ba945b-3c1b-4fc4-e4f2-fafa86e3dbfd"
      },
      "source": [
        "# Observing data (looking for missing values, etc)\n",
        "\n",
        "print(email_data[\"is_spam\"].value_counts())\n",
        "print()\n",
        "print(email_data.isna().sum())\n",
        "print()\n",
        "print(email_data.dtypes)"
      ],
      "execution_count": 198,
      "outputs": [
        {
          "output_type": "stream",
          "name": "stdout",
          "text": [
            "1    342\n",
            "0    214\n",
            "Name: is_spam, dtype: int64\n",
            "\n",
            "name        1\n",
            "phone       1\n",
            "email      36\n",
            "message     0\n",
            "is_spam     0\n",
            "dtype: int64\n",
            "\n",
            "name       object\n",
            "phone      object\n",
            "email      object\n",
            "message    object\n",
            "is_spam     int64\n",
            "dtype: object\n"
          ]
        }
      ]
    },
    {
      "cell_type": "code",
      "metadata": {
        "colab": {
          "base_uri": "https://localhost:8080/"
        },
        "id": "_oqRC5Ezr35u",
        "outputId": "8d704bad-857f-4f8a-9c73-a52738dfcd90"
      },
      "source": [
        "# Filling in missing values\n",
        "\n",
        "email_data = email_data.fillna('')\n",
        "email_data[\"message\"] = email_data[\"message\"].replace(\"nan\", \"\")\n",
        "print(email_data.isna().sum())\n",
        "print()"
      ],
      "execution_count": 199,
      "outputs": [
        {
          "output_type": "stream",
          "name": "stdout",
          "text": [
            "name       0\n",
            "phone      0\n",
            "email      0\n",
            "message    0\n",
            "is_spam    0\n",
            "dtype: int64\n",
            "\n"
          ]
        }
      ]
    },
    {
      "cell_type": "code",
      "metadata": {
        "id": "FyTcpRQA1trY"
      },
      "source": [
        "# Loading dataframe of common names\n",
        "\n",
        "names_data = pd.read_csv(\"https://raw.githubusercontent.com/Gzaborey/python_applications_classifier/main/data/names_dataframe.csv\", index_col=\"Unnamed: 0\")\n",
        "names_list = [str(name).lower() for name in names_data.iloc[:, -1]]"
      ],
      "execution_count": 200,
      "outputs": []
    },
    {
      "cell_type": "code",
      "metadata": {
        "id": "N4CJha6sTWa5",
        "colab": {
          "base_uri": "https://localhost:8080/"
        },
        "outputId": "f5c75dbe-fdba-4e3d-86d1-b3e2f5c70960"
      },
      "source": [
        "# Looking at the size of a names database\n",
        "\n",
        "print(len(names_list))"
      ],
      "execution_count": 201,
      "outputs": [
        {
          "output_type": "stream",
          "name": "stdout",
          "text": [
            "97974\n"
          ]
        }
      ]
    },
    {
      "cell_type": "code",
      "metadata": {
        "id": "nbB8fmeWr4RC"
      },
      "source": [
        "# Constructing features ('email_domain', 'valid_first_name' and 'valid_phone_number')\n",
        "\n",
        "email_data.insert(loc=3, column=\"email_domain\", \n",
        "                               value=email_data[\"email\"].apply(lambda x: x.lower().split(\"@\")[-1].strip()))\n",
        "\n",
        "email_data.insert(loc=1, column=\"valid_first_name\", \n",
        "                               value=email_data.name.astype(\"str\")\\\n",
        "                              .apply(lambda x: validate_name(x, names_list)))\n",
        "\n",
        "email_data.insert(loc=3, column=\"valid_phone_number\", \n",
        "                               value=email_data.phone.astype(\"str\").apply(lambda x: validate_phone_number(x)))"
      ],
      "execution_count": 202,
      "outputs": []
    },
    {
      "cell_type": "markdown",
      "metadata": {
        "id": "jUrUfHgMka-Z"
      },
      "source": [
        "## Dividing the data into test, train and validation sets"
      ]
    },
    {
      "cell_type": "code",
      "metadata": {
        "id": "xzOJo_Y1lA-K",
        "colab": {
          "base_uri": "https://localhost:8080/",
          "height": 302
        },
        "outputId": "b7e75ce0-f346-45e3-db6d-bcd2ed011621"
      },
      "source": [
        "# Shuffling dataframe rows \n",
        "\n",
        "email_data = email_data.sample(frac=1)\n",
        "email_data = email_data.reset_index(drop=True)\n",
        "\n",
        "X = email_data.drop(\"is_spam\", axis=1)\n",
        "y = email_data.is_spam\n",
        "\n",
        "email_data.head()"
      ],
      "execution_count": 203,
      "outputs": [
        {
          "output_type": "execute_result",
          "data": {
            "text/plain": [
              "              name  valid_first_name        phone  valid_phone_number  \\\n",
              "0  Наталья Танчук                  1    978033778                   1   \n",
              "1          minilia                 0  82835814455                   0   \n",
              "2   Пазюк Виктория                 1    509086474                   1   \n",
              "3      Ronaldaccef                 0  84484826321                   0   \n",
              "4       ufigogudim                 0  85241824773                   0   \n",
              "\n",
              "                          email         email_domain                  message  \\\n",
              "0  natali.komarnitska@gmail.com            gmail.com      Хочу у вас учиться    \n",
              "1          axoplarly@ahmail.xyz           ahmail.xyz                            \n",
              "2           p.viktoriia@ukr.net              ukr.net  Хочу записаться на курс   \n",
              "3          8tgxsq0@goposts.site         goposts.site                            \n",
              "4   iyilese@otnis.jonjamail.com  otnis.jonjamail.com                            \n",
              "\n",
              "   is_spam  \n",
              "0        0  \n",
              "1        1  \n",
              "2        0  \n",
              "3        1  \n",
              "4        1  "
            ],
            "text/html": [
              "\n",
              "  <div id=\"df-274c117f-8fca-428b-817f-f965ba748da9\">\n",
              "    <div class=\"colab-df-container\">\n",
              "      <div>\n",
              "<style scoped>\n",
              "    .dataframe tbody tr th:only-of-type {\n",
              "        vertical-align: middle;\n",
              "    }\n",
              "\n",
              "    .dataframe tbody tr th {\n",
              "        vertical-align: top;\n",
              "    }\n",
              "\n",
              "    .dataframe thead th {\n",
              "        text-align: right;\n",
              "    }\n",
              "</style>\n",
              "<table border=\"1\" class=\"dataframe\">\n",
              "  <thead>\n",
              "    <tr style=\"text-align: right;\">\n",
              "      <th></th>\n",
              "      <th>name</th>\n",
              "      <th>valid_first_name</th>\n",
              "      <th>phone</th>\n",
              "      <th>valid_phone_number</th>\n",
              "      <th>email</th>\n",
              "      <th>email_domain</th>\n",
              "      <th>message</th>\n",
              "      <th>is_spam</th>\n",
              "    </tr>\n",
              "  </thead>\n",
              "  <tbody>\n",
              "    <tr>\n",
              "      <th>0</th>\n",
              "      <td>Наталья Танчук</td>\n",
              "      <td>1</td>\n",
              "      <td>978033778</td>\n",
              "      <td>1</td>\n",
              "      <td>natali.komarnitska@gmail.com</td>\n",
              "      <td>gmail.com</td>\n",
              "      <td>Хочу у вас учиться</td>\n",
              "      <td>0</td>\n",
              "    </tr>\n",
              "    <tr>\n",
              "      <th>1</th>\n",
              "      <td>minilia</td>\n",
              "      <td>0</td>\n",
              "      <td>82835814455</td>\n",
              "      <td>0</td>\n",
              "      <td>axoplarly@ahmail.xyz</td>\n",
              "      <td>ahmail.xyz</td>\n",
              "      <td></td>\n",
              "      <td>1</td>\n",
              "    </tr>\n",
              "    <tr>\n",
              "      <th>2</th>\n",
              "      <td>Пазюк Виктория</td>\n",
              "      <td>1</td>\n",
              "      <td>509086474</td>\n",
              "      <td>1</td>\n",
              "      <td>p.viktoriia@ukr.net</td>\n",
              "      <td>ukr.net</td>\n",
              "      <td>Хочу записаться на курс</td>\n",
              "      <td>0</td>\n",
              "    </tr>\n",
              "    <tr>\n",
              "      <th>3</th>\n",
              "      <td>Ronaldaccef</td>\n",
              "      <td>0</td>\n",
              "      <td>84484826321</td>\n",
              "      <td>0</td>\n",
              "      <td>8tgxsq0@goposts.site</td>\n",
              "      <td>goposts.site</td>\n",
              "      <td></td>\n",
              "      <td>1</td>\n",
              "    </tr>\n",
              "    <tr>\n",
              "      <th>4</th>\n",
              "      <td>ufigogudim</td>\n",
              "      <td>0</td>\n",
              "      <td>85241824773</td>\n",
              "      <td>0</td>\n",
              "      <td>iyilese@otnis.jonjamail.com</td>\n",
              "      <td>otnis.jonjamail.com</td>\n",
              "      <td></td>\n",
              "      <td>1</td>\n",
              "    </tr>\n",
              "  </tbody>\n",
              "</table>\n",
              "</div>\n",
              "      <button class=\"colab-df-convert\" onclick=\"convertToInteractive('df-274c117f-8fca-428b-817f-f965ba748da9')\"\n",
              "              title=\"Convert this dataframe to an interactive table.\"\n",
              "              style=\"display:none;\">\n",
              "        \n",
              "  <svg xmlns=\"http://www.w3.org/2000/svg\" height=\"24px\"viewBox=\"0 0 24 24\"\n",
              "       width=\"24px\">\n",
              "    <path d=\"M0 0h24v24H0V0z\" fill=\"none\"/>\n",
              "    <path d=\"M18.56 5.44l.94 2.06.94-2.06 2.06-.94-2.06-.94-.94-2.06-.94 2.06-2.06.94zm-11 1L8.5 8.5l.94-2.06 2.06-.94-2.06-.94L8.5 2.5l-.94 2.06-2.06.94zm10 10l.94 2.06.94-2.06 2.06-.94-2.06-.94-.94-2.06-.94 2.06-2.06.94z\"/><path d=\"M17.41 7.96l-1.37-1.37c-.4-.4-.92-.59-1.43-.59-.52 0-1.04.2-1.43.59L10.3 9.45l-7.72 7.72c-.78.78-.78 2.05 0 2.83L4 21.41c.39.39.9.59 1.41.59.51 0 1.02-.2 1.41-.59l7.78-7.78 2.81-2.81c.8-.78.8-2.07 0-2.86zM5.41 20L4 18.59l7.72-7.72 1.47 1.35L5.41 20z\"/>\n",
              "  </svg>\n",
              "      </button>\n",
              "      \n",
              "  <style>\n",
              "    .colab-df-container {\n",
              "      display:flex;\n",
              "      flex-wrap:wrap;\n",
              "      gap: 12px;\n",
              "    }\n",
              "\n",
              "    .colab-df-convert {\n",
              "      background-color: #E8F0FE;\n",
              "      border: none;\n",
              "      border-radius: 50%;\n",
              "      cursor: pointer;\n",
              "      display: none;\n",
              "      fill: #1967D2;\n",
              "      height: 32px;\n",
              "      padding: 0 0 0 0;\n",
              "      width: 32px;\n",
              "    }\n",
              "\n",
              "    .colab-df-convert:hover {\n",
              "      background-color: #E2EBFA;\n",
              "      box-shadow: 0px 1px 2px rgba(60, 64, 67, 0.3), 0px 1px 3px 1px rgba(60, 64, 67, 0.15);\n",
              "      fill: #174EA6;\n",
              "    }\n",
              "\n",
              "    [theme=dark] .colab-df-convert {\n",
              "      background-color: #3B4455;\n",
              "      fill: #D2E3FC;\n",
              "    }\n",
              "\n",
              "    [theme=dark] .colab-df-convert:hover {\n",
              "      background-color: #434B5C;\n",
              "      box-shadow: 0px 1px 3px 1px rgba(0, 0, 0, 0.15);\n",
              "      filter: drop-shadow(0px 1px 2px rgba(0, 0, 0, 0.3));\n",
              "      fill: #FFFFFF;\n",
              "    }\n",
              "  </style>\n",
              "\n",
              "      <script>\n",
              "        const buttonEl =\n",
              "          document.querySelector('#df-274c117f-8fca-428b-817f-f965ba748da9 button.colab-df-convert');\n",
              "        buttonEl.style.display =\n",
              "          google.colab.kernel.accessAllowed ? 'block' : 'none';\n",
              "\n",
              "        async function convertToInteractive(key) {\n",
              "          const element = document.querySelector('#df-274c117f-8fca-428b-817f-f965ba748da9');\n",
              "          const dataTable =\n",
              "            await google.colab.kernel.invokeFunction('convertToInteractive',\n",
              "                                                     [key], {});\n",
              "          if (!dataTable) return;\n",
              "\n",
              "          const docLinkHtml = 'Like what you see? Visit the ' +\n",
              "            '<a target=\"_blank\" href=https://colab.research.google.com/notebooks/data_table.ipynb>data table notebook</a>'\n",
              "            + ' to learn more about interactive tables.';\n",
              "          element.innerHTML = '';\n",
              "          dataTable['output_type'] = 'display_data';\n",
              "          await google.colab.output.renderOutput(dataTable, element);\n",
              "          const docLink = document.createElement('div');\n",
              "          docLink.innerHTML = docLinkHtml;\n",
              "          element.appendChild(docLink);\n",
              "        }\n",
              "      </script>\n",
              "    </div>\n",
              "  </div>\n",
              "  "
            ]
          },
          "metadata": {},
          "execution_count": 203
        }
      ]
    },
    {
      "cell_type": "code",
      "source": [
        "print(\"Number of entries is\", len(email_data))"
      ],
      "metadata": {
        "colab": {
          "base_uri": "https://localhost:8080/"
        },
        "id": "wWLIAh0ghGp8",
        "outputId": "7e7686dc-70ac-4026-cdab-2f9ab020e6ae"
      },
      "execution_count": 204,
      "outputs": [
        {
          "output_type": "stream",
          "name": "stdout",
          "text": [
            "Number of entries is 556\n"
          ]
        }
      ]
    },
    {
      "cell_type": "code",
      "metadata": {
        "id": "tynMQXiprbON",
        "colab": {
          "base_uri": "https://localhost:8080/",
          "height": 319
        },
        "outputId": "c1b3ca92-270e-4a87-f733-6a36a55807da"
      },
      "source": [
        "# Spliting data into train, valiation and test sets\n",
        "\n",
        "X_rest, X_test, y_rest, y_test = sk_ms.train_test_split(X, y, test_size=0.2, shuffle=True, stratify=y)\n",
        "\n",
        "X_rest = X_rest.reset_index(drop=True)\n",
        "X_test = X_test.reset_index(drop=True)\n",
        "y_rest = y_rest.reset_index(drop=True)\n",
        "y_test = y_test.reset_index(drop=True)\n",
        "\n",
        "X_train, X_valid, y_train, y_valid = sk_ms.train_test_split(X_rest, y_rest, test_size= 0.3, stratify=y_rest)\n",
        "\n",
        "X_train = X_train.reset_index(drop=True)\n",
        "X_valid = X_valid.reset_index(drop=True)\n",
        "y_train = y_train.reset_index(drop=True)\n",
        "y_valid = y_valid.reset_index(drop=True)\n",
        "\n",
        "X_valid.head()"
      ],
      "execution_count": 205,
      "outputs": [
        {
          "output_type": "execute_result",
          "data": {
            "text/plain": [
              "              name  valid_first_name        phone  valid_phone_number  \\\n",
              "0         RubenMew                 0  87667954846                   0   \n",
              "1      Косюга Анна                 1    637865653                   1   \n",
              "2    Будько Андрей                 1    635024068                   1   \n",
              "3     Бодоса Ольга                 1    668210251                   1   \n",
              "4  Левенец Евгения                 1    939692980                   1   \n",
              "\n",
              "                       email email_domain  \\\n",
              "0      bbbbbbbbbbbbbb@box.it       box.it   \n",
              "1       kosyuga.aa@gmail.com    gmail.com   \n",
              "2       budko16103@gmail.com    gmail.com   \n",
              "3    beladonna195515@ukr.net      ukr.net   \n",
              "4  eugenialevenets@gmail.com    gmail.com   \n",
              "\n",
              "                                             message  \n",
              "0  :::::::::::::::: ONLY THE BEST :::::::::::::::...  \n",
              "1                                                     \n",
              "2                                                     \n",
              "3                                                     \n",
              "4  Добрый день. \\nХотела бы уточнить детали курса...  "
            ],
            "text/html": [
              "\n",
              "  <div id=\"df-40d96fe4-8847-4086-bfcf-49a200c3085c\">\n",
              "    <div class=\"colab-df-container\">\n",
              "      <div>\n",
              "<style scoped>\n",
              "    .dataframe tbody tr th:only-of-type {\n",
              "        vertical-align: middle;\n",
              "    }\n",
              "\n",
              "    .dataframe tbody tr th {\n",
              "        vertical-align: top;\n",
              "    }\n",
              "\n",
              "    .dataframe thead th {\n",
              "        text-align: right;\n",
              "    }\n",
              "</style>\n",
              "<table border=\"1\" class=\"dataframe\">\n",
              "  <thead>\n",
              "    <tr style=\"text-align: right;\">\n",
              "      <th></th>\n",
              "      <th>name</th>\n",
              "      <th>valid_first_name</th>\n",
              "      <th>phone</th>\n",
              "      <th>valid_phone_number</th>\n",
              "      <th>email</th>\n",
              "      <th>email_domain</th>\n",
              "      <th>message</th>\n",
              "    </tr>\n",
              "  </thead>\n",
              "  <tbody>\n",
              "    <tr>\n",
              "      <th>0</th>\n",
              "      <td>RubenMew</td>\n",
              "      <td>0</td>\n",
              "      <td>87667954846</td>\n",
              "      <td>0</td>\n",
              "      <td>bbbbbbbbbbbbbb@box.it</td>\n",
              "      <td>box.it</td>\n",
              "      <td>:::::::::::::::: ONLY THE BEST :::::::::::::::...</td>\n",
              "    </tr>\n",
              "    <tr>\n",
              "      <th>1</th>\n",
              "      <td>Косюга Анна</td>\n",
              "      <td>1</td>\n",
              "      <td>637865653</td>\n",
              "      <td>1</td>\n",
              "      <td>kosyuga.aa@gmail.com</td>\n",
              "      <td>gmail.com</td>\n",
              "      <td></td>\n",
              "    </tr>\n",
              "    <tr>\n",
              "      <th>2</th>\n",
              "      <td>Будько Андрей</td>\n",
              "      <td>1</td>\n",
              "      <td>635024068</td>\n",
              "      <td>1</td>\n",
              "      <td>budko16103@gmail.com</td>\n",
              "      <td>gmail.com</td>\n",
              "      <td></td>\n",
              "    </tr>\n",
              "    <tr>\n",
              "      <th>3</th>\n",
              "      <td>Бодоса Ольга</td>\n",
              "      <td>1</td>\n",
              "      <td>668210251</td>\n",
              "      <td>1</td>\n",
              "      <td>beladonna195515@ukr.net</td>\n",
              "      <td>ukr.net</td>\n",
              "      <td></td>\n",
              "    </tr>\n",
              "    <tr>\n",
              "      <th>4</th>\n",
              "      <td>Левенец Евгения</td>\n",
              "      <td>1</td>\n",
              "      <td>939692980</td>\n",
              "      <td>1</td>\n",
              "      <td>eugenialevenets@gmail.com</td>\n",
              "      <td>gmail.com</td>\n",
              "      <td>Добрый день. \\nХотела бы уточнить детали курса...</td>\n",
              "    </tr>\n",
              "  </tbody>\n",
              "</table>\n",
              "</div>\n",
              "      <button class=\"colab-df-convert\" onclick=\"convertToInteractive('df-40d96fe4-8847-4086-bfcf-49a200c3085c')\"\n",
              "              title=\"Convert this dataframe to an interactive table.\"\n",
              "              style=\"display:none;\">\n",
              "        \n",
              "  <svg xmlns=\"http://www.w3.org/2000/svg\" height=\"24px\"viewBox=\"0 0 24 24\"\n",
              "       width=\"24px\">\n",
              "    <path d=\"M0 0h24v24H0V0z\" fill=\"none\"/>\n",
              "    <path d=\"M18.56 5.44l.94 2.06.94-2.06 2.06-.94-2.06-.94-.94-2.06-.94 2.06-2.06.94zm-11 1L8.5 8.5l.94-2.06 2.06-.94-2.06-.94L8.5 2.5l-.94 2.06-2.06.94zm10 10l.94 2.06.94-2.06 2.06-.94-2.06-.94-.94-2.06-.94 2.06-2.06.94z\"/><path d=\"M17.41 7.96l-1.37-1.37c-.4-.4-.92-.59-1.43-.59-.52 0-1.04.2-1.43.59L10.3 9.45l-7.72 7.72c-.78.78-.78 2.05 0 2.83L4 21.41c.39.39.9.59 1.41.59.51 0 1.02-.2 1.41-.59l7.78-7.78 2.81-2.81c.8-.78.8-2.07 0-2.86zM5.41 20L4 18.59l7.72-7.72 1.47 1.35L5.41 20z\"/>\n",
              "  </svg>\n",
              "      </button>\n",
              "      \n",
              "  <style>\n",
              "    .colab-df-container {\n",
              "      display:flex;\n",
              "      flex-wrap:wrap;\n",
              "      gap: 12px;\n",
              "    }\n",
              "\n",
              "    .colab-df-convert {\n",
              "      background-color: #E8F0FE;\n",
              "      border: none;\n",
              "      border-radius: 50%;\n",
              "      cursor: pointer;\n",
              "      display: none;\n",
              "      fill: #1967D2;\n",
              "      height: 32px;\n",
              "      padding: 0 0 0 0;\n",
              "      width: 32px;\n",
              "    }\n",
              "\n",
              "    .colab-df-convert:hover {\n",
              "      background-color: #E2EBFA;\n",
              "      box-shadow: 0px 1px 2px rgba(60, 64, 67, 0.3), 0px 1px 3px 1px rgba(60, 64, 67, 0.15);\n",
              "      fill: #174EA6;\n",
              "    }\n",
              "\n",
              "    [theme=dark] .colab-df-convert {\n",
              "      background-color: #3B4455;\n",
              "      fill: #D2E3FC;\n",
              "    }\n",
              "\n",
              "    [theme=dark] .colab-df-convert:hover {\n",
              "      background-color: #434B5C;\n",
              "      box-shadow: 0px 1px 3px 1px rgba(0, 0, 0, 0.15);\n",
              "      filter: drop-shadow(0px 1px 2px rgba(0, 0, 0, 0.3));\n",
              "      fill: #FFFFFF;\n",
              "    }\n",
              "  </style>\n",
              "\n",
              "      <script>\n",
              "        const buttonEl =\n",
              "          document.querySelector('#df-40d96fe4-8847-4086-bfcf-49a200c3085c button.colab-df-convert');\n",
              "        buttonEl.style.display =\n",
              "          google.colab.kernel.accessAllowed ? 'block' : 'none';\n",
              "\n",
              "        async function convertToInteractive(key) {\n",
              "          const element = document.querySelector('#df-40d96fe4-8847-4086-bfcf-49a200c3085c');\n",
              "          const dataTable =\n",
              "            await google.colab.kernel.invokeFunction('convertToInteractive',\n",
              "                                                     [key], {});\n",
              "          if (!dataTable) return;\n",
              "\n",
              "          const docLinkHtml = 'Like what you see? Visit the ' +\n",
              "            '<a target=\"_blank\" href=https://colab.research.google.com/notebooks/data_table.ipynb>data table notebook</a>'\n",
              "            + ' to learn more about interactive tables.';\n",
              "          element.innerHTML = '';\n",
              "          dataTable['output_type'] = 'display_data';\n",
              "          await google.colab.output.renderOutput(dataTable, element);\n",
              "          const docLink = document.createElement('div');\n",
              "          docLink.innerHTML = docLinkHtml;\n",
              "          element.appendChild(docLink);\n",
              "        }\n",
              "      </script>\n",
              "    </div>\n",
              "  </div>\n",
              "  "
            ]
          },
          "metadata": {},
          "execution_count": 205
        }
      ]
    },
    {
      "cell_type": "code",
      "source": [
        "print(\"Number of training examples\", len(y_train))\n",
        "print(\"Number of validation examples\", len(y_valid))\n",
        "print(\"Number of testing examples\", len(y_test))"
      ],
      "metadata": {
        "colab": {
          "base_uri": "https://localhost:8080/"
        },
        "id": "zfu76gGbiqSr",
        "outputId": "96a3a9b8-a55a-4398-aba1-44c2530632a7"
      },
      "execution_count": 206,
      "outputs": [
        {
          "output_type": "stream",
          "name": "stdout",
          "text": [
            "Number of training examples 310\n",
            "Number of validation examples 134\n",
            "Number of testing examples 112\n"
          ]
        }
      ]
    },
    {
      "cell_type": "markdown",
      "metadata": {
        "id": "Mb7eZz4SQWcH"
      },
      "source": [
        "# **Building and training the model**"
      ]
    },
    {
      "cell_type": "markdown",
      "source": [
        "## Converting \"email_domain\" and \"message\" columns into vectors."
      ],
      "metadata": {
        "id": "ryMiZkcbPbi7"
      }
    },
    {
      "cell_type": "code",
      "metadata": {
        "id": "wwHAqetEp4Wj"
      },
      "source": [
        "#Preparing the data vectorizer\n",
        "\n",
        "email_dom_vectorizer = CountVectorizer()\n",
        "email_dom_vectorizer.fit(email_data.email_domain)\n",
        "email_dom_vectorized_train = email_dom_vectorizer.transform(X_train.email_domain)\n",
        "email_dom_vectorized_valid = email_dom_vectorizer.transform(X_valid.email_domain)\n",
        "email_dom_vectorized_test = email_dom_vectorizer.transform(X_test.email_domain)\n",
        "\n",
        "email_message_vectorizer = CountVectorizer(analyzer=process_text)\n",
        "email_message_vectorizer.fit(email_data.message)\n",
        "email_message_vectorized_train = email_message_vectorizer.transform(X_train.message)\n",
        "email_message_vectorized_valid = email_message_vectorizer.transform(X_valid.message)\n",
        "email_message_vectorized_test = email_message_vectorizer.transform(X_test.message)\n"
      ],
      "execution_count": 207,
      "outputs": []
    },
    {
      "cell_type": "code",
      "metadata": {
        "id": "PsFyOojMCZt8"
      },
      "source": [
        " #email_message_vectorizer.get_feature_names()"
      ],
      "execution_count": 208,
      "outputs": []
    },
    {
      "cell_type": "markdown",
      "source": [
        "## Building Naive Bayes model for \"email_domain\" column analysis"
      ],
      "metadata": {
        "id": "P0NFBOYrPhuE"
      }
    },
    {
      "cell_type": "code",
      "source": [
        "# Naive Bayes model for 'email_domain' column analysis training and tuning\n",
        "\n",
        "NB_dom_model_params = [i/100 for i in range(1, 101)]\n",
        "f1_scores = {}\n",
        "for i in range(len(NB_dom_model_params)):\n",
        "  NB_dom_model = MultinomialNB(alpha=NB_dom_model_params[i])\n",
        "  NB_dom_model.fit(email_dom_vectorized_train, y_train)\n",
        "  NB_dom_predictions = NB_dom_model.predict(email_dom_vectorized_valid)\n",
        "  f1_score = sk_metrics.f1_score(y_valid, NB_dom_predictions, average=\"binary\")\n",
        "  f1_scores[NB_dom_model_params[i]] = f1_score\n"
      ],
      "metadata": {
        "id": "cj-agOMVf7ft"
      },
      "execution_count": 209,
      "outputs": []
    },
    {
      "cell_type": "code",
      "source": [
        "# Determining the optimal value for \"alpha\" hyperparameter.\n",
        "\n",
        "best_score = 0\n",
        "best_alpha = 0\n",
        "\n",
        "for alpha, score in f1_scores.items():\n",
        "    if score >= best_score:\n",
        "      best_alpha = alpha\n",
        "      best_score = score\n",
        "\n",
        "print(\"Optimal 'alpha' hyperparameter value:\", best_alpha)\n",
        "\n",
        "print(\"F1 score for optimal hyperparameter value:\", f1_scores[best_alpha])\n"
      ],
      "metadata": {
        "colab": {
          "base_uri": "https://localhost:8080/"
        },
        "id": "hqL8M608xSId",
        "outputId": "c991b848-c665-4493-9189-227e3e7bce8e"
      },
      "execution_count": 210,
      "outputs": [
        {
          "output_type": "stream",
          "name": "stdout",
          "text": [
            "Optimal 'alpha' hyperparameter value: 0.32\n",
            "F1 score for optimal hyperparameter value: 0.8205128205128206\n"
          ]
        }
      ]
    },
    {
      "cell_type": "code",
      "source": [
        "# Naive Bayes model for \"email_domain\" column analysis efficiency plot\n",
        "\n",
        "x = []\n",
        "y = []\n",
        "\n",
        "for key, value in f1_scores.items():\n",
        "  x.append(key)\n",
        "  y.append(value)\n",
        "\n",
        "fig = plt.figure(figsize=(10,6))\n",
        "\n",
        "plt.plot(x, y)\n",
        "\n",
        "plt.xlabel(\"Alpha value\")\n",
        "plt.ylabel(\"F1 score\")\n",
        "\n",
        "plt.show()\n"
      ],
      "metadata": {
        "colab": {
          "base_uri": "https://localhost:8080/",
          "height": 388
        },
        "id": "Jowb6mA2qpzF",
        "outputId": "48acc569-eea8-44c3-f306-4fb2788a6831"
      },
      "execution_count": 211,
      "outputs": [
        {
          "output_type": "display_data",
          "data": {
            "text/plain": [
              "<Figure size 720x432 with 1 Axes>"
            ],
            "image/png": "[encoded data removed]"
          },
          "metadata": {
            "needs_background": "light"
          }
        }
      ]
    },
    {
      "cell_type": "code",
      "source": [
        "# Training the model using the optimal \"alpha\" hyperparameter value\n",
        "\n",
        "NB_dom_model = MultinomialNB(alpha=best_alpha)\n",
        "\n",
        "NB_dom_model.fit(email_dom_vectorized_train, y_train)\n",
        "\n",
        "NB_dom_predictions = NB_dom_model.predict(email_dom_vectorized_valid)\n",
        "\n",
        "NB_dom_train_proba = NB_dom_model.predict_proba(email_dom_vectorized_train)[:, 1]\n",
        "NB_dom_valid_proba = NB_dom_model.predict_proba(email_dom_vectorized_valid)[:, 1]\n"
      ],
      "metadata": {
        "id": "F8z2khkz_vwH"
      },
      "execution_count": 212,
      "outputs": []
    },
    {
      "cell_type": "code",
      "metadata": {
        "id": "kPDFXdo2rnSi",
        "colab": {
          "base_uri": "https://localhost:8080/"
        },
        "outputId": "3e7af719-3f01-4f39-c53d-45c03638c1e5"
      },
      "source": [
        "# NB model performance results\n",
        "\n",
        "print(sk_metrics.classification_report(y_valid, NB_dom_predictions))\n",
        "print()\n",
        "print(\"Accuracy score:\", sk_metrics.accuracy_score(y_valid, NB_dom_predictions))"
      ],
      "execution_count": 213,
      "outputs": [
        {
          "output_type": "stream",
          "name": "stdout",
          "text": [
            "              precision    recall  f1-score   support\n",
            "\n",
            "           0       0.70      0.81      0.75        52\n",
            "           1       0.86      0.78      0.82        82\n",
            "\n",
            "    accuracy                           0.79       134\n",
            "   macro avg       0.78      0.79      0.79       134\n",
            "weighted avg       0.80      0.79      0.79       134\n",
            "\n",
            "\n",
            "Accuracy score: 0.7910447761194029\n"
          ]
        }
      ]
    },
    {
      "cell_type": "markdown",
      "source": [
        "## Building Naive Bayes model for \"message\" column analysis"
      ],
      "metadata": {
        "id": "pF8Bt4yYPpKd"
      }
    },
    {
      "cell_type": "code",
      "metadata": {
        "id": "EaZwlYy2s_ki"
      },
      "source": [
        "# Naive Bayes model for \"message\" column analysis training and tuning\n",
        "\n",
        "NB_mes_model_params = [i/100 for i in range(1, 201)]\n",
        "f1_scores = {}\n",
        "for i in range(len(NB_mes_model_params)):\n",
        "  NB_mes_model = MultinomialNB(alpha=NB_mes_model_params[i])\n",
        "  NB_mes_model.fit(email_message_vectorized_train, y_train)\n",
        "  NB_mes_predictions = NB_mes_model.predict(email_message_vectorized_valid)\n",
        "  f1_score = sk_metrics.f1_score(y_valid, NB_mes_predictions)\n",
        "  f1_scores[NB_mes_model_params[i]] = f1_score\n",
        "  "
      ],
      "execution_count": 214,
      "outputs": []
    },
    {
      "cell_type": "code",
      "source": [
        "# Determining the optimal value for \"alpha\" hyperparameter.\n",
        "\n",
        "best_score = 0\n",
        "best_alpha = 0\n",
        "\n",
        "for alpha, score in f1_scores.items():\n",
        "    if score >= best_score:\n",
        "      best_alpha = alpha\n",
        "      best_score = score\n",
        "\n",
        "print(\"Optimal 'alpha' hyperparameter value:\", best_alpha)\n",
        "\n",
        "print(\"F1 score for optimal hyperparameter value:\", f1_scores[best_alpha])\n"
      ],
      "metadata": {
        "colab": {
          "base_uri": "https://localhost:8080/"
        },
        "id": "R9YeK1AyTOba",
        "outputId": "35a792b9-ff21-4801-f0cd-00fd89937a6d"
      },
      "execution_count": 215,
      "outputs": [
        {
          "output_type": "stream",
          "name": "stdout",
          "text": [
            "Optimal 'alpha' hyperparameter value: 0.03\n",
            "F1 score for optimal hyperparameter value: 0.7999999999999999\n"
          ]
        }
      ]
    },
    {
      "cell_type": "code",
      "source": [
        "# Naive Bayes model for \"message\" column analysis efficiency plot\n",
        "\n",
        "x = []\n",
        "y = []\n",
        "\n",
        "for key, value in f1_scores.items():\n",
        "  x.append(key)\n",
        "  y.append(value)\n",
        "\n",
        "fig = plt.figure(figsize=(10,6))\n",
        "\n",
        "plt.plot(x, y)\n",
        "\n",
        "plt.xlabel(\"Alpha value\")\n",
        "plt.ylabel(\"F1 score\")\n",
        "\n",
        "plt.show()\n"
      ],
      "metadata": {
        "colab": {
          "base_uri": "https://localhost:8080/",
          "height": 388
        },
        "id": "kwy8rzn3TR3m",
        "outputId": "63b0c476-19c3-45ab-a28d-4d4e5daf06ab"
      },
      "execution_count": 216,
      "outputs": [
        {
          "output_type": "display_data",
          "data": {
            "text/plain": [
              "<Figure size 720x432 with 1 Axes>"
            ],
            "image/png": "[encoded data removed]"
          },
          "metadata": {
            "needs_background": "light"
          }
        }
      ]
    },
    {
      "cell_type": "code",
      "source": [
        "# Training the model using the optimal \"alpha\" hyperparameter value\n",
        "\n",
        "NB_mes_model = MultinomialNB(alpha=best_alpha)\n",
        "\n",
        "NB_mes_model.fit(email_message_vectorized_train, y_train)\n",
        "\n",
        "NB_mes_predictions = NB_mes_model.predict(email_message_vectorized_valid)\n",
        "\n",
        "NB_mes_train_proba = NB_mes_model.predict_proba(email_message_vectorized_train)[:, 1]\n",
        "NB_mes_valid_proba = NB_mes_model.predict_proba(email_message_vectorized_valid)[:, 1]"
      ],
      "metadata": {
        "id": "16dE1psrTftM"
      },
      "execution_count": 217,
      "outputs": []
    },
    {
      "cell_type": "code",
      "source": [
        "# NB model performance results\n",
        "\n",
        "print(sk_metrics.classification_report(y_valid, NB_mes_predictions))\n",
        "print()\n",
        "print(\"Accuracy score:\", sk_metrics.accuracy_score(y_valid, NB_mes_predictions))"
      ],
      "metadata": {
        "colab": {
          "base_uri": "https://localhost:8080/"
        },
        "id": "fY-au1DWTpOE",
        "outputId": "bea4a7ca-6f62-4be1-b2d3-efd133fd483c"
      },
      "execution_count": 218,
      "outputs": [
        {
          "output_type": "stream",
          "name": "stdout",
          "text": [
            "              precision    recall  f1-score   support\n",
            "\n",
            "           0       0.81      0.33      0.47        52\n",
            "           1       0.69      0.95      0.80        82\n",
            "\n",
            "    accuracy                           0.71       134\n",
            "   macro avg       0.75      0.64      0.63       134\n",
            "weighted avg       0.74      0.71      0.67       134\n",
            "\n",
            "\n",
            "Accuracy score: 0.7089552238805971\n"
          ]
        }
      ]
    },
    {
      "cell_type": "markdown",
      "source": [
        "## Building Logistic Regression model for predicting the validity of applications"
      ],
      "metadata": {
        "id": "Pw4Mn4mHPqg8"
      }
    },
    {
      "cell_type": "code",
      "metadata": {
        "colab": {
          "base_uri": "https://localhost:8080/",
          "height": 206
        },
        "id": "bZeP41c7vGOJ",
        "outputId": "a6ac2362-af81-4a8d-ee38-f5ae11073406"
      },
      "source": [
        "# Data to train and tune LR\n",
        "\n",
        "X_train = X_train.loc[:, [\"valid_first_name\", \"valid_phone_number\"]]\n",
        "X_train = pd.concat([X_train, pd.Series(NB_dom_train_proba, name=\"domain_validity_proba\")], axis=1)\n",
        "X_train = pd.concat([X_train, pd.Series(NB_mes_train_proba, name=\"message_validity_proba\")], axis=1)\n",
        "\n",
        "X_valid_temp = X_valid.loc[:, [\"valid_first_name\", \"valid_phone_number\"]]\n",
        "X_valid_temp = pd.concat([X_valid_temp, pd.Series(NB_dom_valid_proba, name=\"domain_validity_proba\")], axis=1)\n",
        "X_valid_temp = pd.concat([X_valid_temp, pd.Series(NB_mes_valid_proba, name=\"message_validity_proba\")], axis=1)\n",
        "\n",
        "X_train.head()"
      ],
      "execution_count": 219,
      "outputs": [
        {
          "output_type": "execute_result",
          "data": {
            "text/plain": [
              "   valid_first_name  valid_phone_number  domain_validity_proba  \\\n",
              "0                 0                   0               0.996729   \n",
              "1                 0                   0               0.019181   \n",
              "2                 0                   0               0.996729   \n",
              "3                 0                   0               0.986138   \n",
              "4                 1                   1               0.186119   \n",
              "\n",
              "   message_validity_proba  \n",
              "0                0.616129  \n",
              "1                0.616129  \n",
              "2                0.616129  \n",
              "3                0.616129  \n",
              "4                0.616129  "
            ],
            "text/html": [
              "\n",
              "  <div id=\"df-565fa2f7-9de3-46c4-9bf1-0c039b80725e\">\n",
              "    <div class=\"colab-df-container\">\n",
              "      <div>\n",
              "<style scoped>\n",
              "    .dataframe tbody tr th:only-of-type {\n",
              "        vertical-align: middle;\n",
              "    }\n",
              "\n",
              "    .dataframe tbody tr th {\n",
              "        vertical-align: top;\n",
              "    }\n",
              "\n",
              "    .dataframe thead th {\n",
              "        text-align: right;\n",
              "    }\n",
              "</style>\n",
              "<table border=\"1\" class=\"dataframe\">\n",
              "  <thead>\n",
              "    <tr style=\"text-align: right;\">\n",
              "      <th></th>\n",
              "      <th>valid_first_name</th>\n",
              "      <th>valid_phone_number</th>\n",
              "      <th>domain_validity_proba</th>\n",
              "      <th>message_validity_proba</th>\n",
              "    </tr>\n",
              "  </thead>\n",
              "  <tbody>\n",
              "    <tr>\n",
              "      <th>0</th>\n",
              "      <td>0</td>\n",
              "      <td>0</td>\n",
              "      <td>0.996729</td>\n",
              "      <td>0.616129</td>\n",
              "    </tr>\n",
              "    <tr>\n",
              "      <th>1</th>\n",
              "      <td>0</td>\n",
              "      <td>0</td>\n",
              "      <td>0.019181</td>\n",
              "      <td>0.616129</td>\n",
              "    </tr>\n",
              "    <tr>\n",
              "      <th>2</th>\n",
              "      <td>0</td>\n",
              "      <td>0</td>\n",
              "      <td>0.996729</td>\n",
              "      <td>0.616129</td>\n",
              "    </tr>\n",
              "    <tr>\n",
              "      <th>3</th>\n",
              "      <td>0</td>\n",
              "      <td>0</td>\n",
              "      <td>0.986138</td>\n",
              "      <td>0.616129</td>\n",
              "    </tr>\n",
              "    <tr>\n",
              "      <th>4</th>\n",
              "      <td>1</td>\n",
              "      <td>1</td>\n",
              "      <td>0.186119</td>\n",
              "      <td>0.616129</td>\n",
              "    </tr>\n",
              "  </tbody>\n",
              "</table>\n",
              "</div>\n",
              "      <button class=\"colab-df-convert\" onclick=\"convertToInteractive('df-565fa2f7-9de3-46c4-9bf1-0c039b80725e')\"\n",
              "              title=\"Convert this dataframe to an interactive table.\"\n",
              "              style=\"display:none;\">\n",
              "        \n",
              "  <svg xmlns=\"http://www.w3.org/2000/svg\" height=\"24px\"viewBox=\"0 0 24 24\"\n",
              "       width=\"24px\">\n",
              "    <path d=\"M0 0h24v24H0V0z\" fill=\"none\"/>\n",
              "    <path d=\"M18.56 5.44l.94 2.06.94-2.06 2.06-.94-2.06-.94-.94-2.06-.94 2.06-2.06.94zm-11 1L8.5 8.5l.94-2.06 2.06-.94-2.06-.94L8.5 2.5l-.94 2.06-2.06.94zm10 10l.94 2.06.94-2.06 2.06-.94-2.06-.94-.94-2.06-.94 2.06-2.06.94z\"/><path d=\"M17.41 7.96l-1.37-1.37c-.4-.4-.92-.59-1.43-.59-.52 0-1.04.2-1.43.59L10.3 9.45l-7.72 7.72c-.78.78-.78 2.05 0 2.83L4 21.41c.39.39.9.59 1.41.59.51 0 1.02-.2 1.41-.59l7.78-7.78 2.81-2.81c.8-.78.8-2.07 0-2.86zM5.41 20L4 18.59l7.72-7.72 1.47 1.35L5.41 20z\"/>\n",
              "  </svg>\n",
              "      </button>\n",
              "      \n",
              "  <style>\n",
              "    .colab-df-container {\n",
              "      display:flex;\n",
              "      flex-wrap:wrap;\n",
              "      gap: 12px;\n",
              "    }\n",
              "\n",
              "    .colab-df-convert {\n",
              "      background-color: #E8F0FE;\n",
              "      border: none;\n",
              "      border-radius: 50%;\n",
              "      cursor: pointer;\n",
              "      display: none;\n",
              "      fill: #1967D2;\n",
              "      height: 32px;\n",
              "      padding: 0 0 0 0;\n",
              "      width: 32px;\n",
              "    }\n",
              "\n",
              "    .colab-df-convert:hover {\n",
              "      background-color: #E2EBFA;\n",
              "      box-shadow: 0px 1px 2px rgba(60, 64, 67, 0.3), 0px 1px 3px 1px rgba(60, 64, 67, 0.15);\n",
              "      fill: #174EA6;\n",
              "    }\n",
              "\n",
              "    [theme=dark] .colab-df-convert {\n",
              "      background-color: #3B4455;\n",
              "      fill: #D2E3FC;\n",
              "    }\n",
              "\n",
              "    [theme=dark] .colab-df-convert:hover {\n",
              "      background-color: #434B5C;\n",
              "      box-shadow: 0px 1px 3px 1px rgba(0, 0, 0, 0.15);\n",
              "      filter: drop-shadow(0px 1px 2px rgba(0, 0, 0, 0.3));\n",
              "      fill: #FFFFFF;\n",
              "    }\n",
              "  </style>\n",
              "\n",
              "      <script>\n",
              "        const buttonEl =\n",
              "          document.querySelector('#df-565fa2f7-9de3-46c4-9bf1-0c039b80725e button.colab-df-convert');\n",
              "        buttonEl.style.display =\n",
              "          google.colab.kernel.accessAllowed ? 'block' : 'none';\n",
              "\n",
              "        async function convertToInteractive(key) {\n",
              "          const element = document.querySelector('#df-565fa2f7-9de3-46c4-9bf1-0c039b80725e');\n",
              "          const dataTable =\n",
              "            await google.colab.kernel.invokeFunction('convertToInteractive',\n",
              "                                                     [key], {});\n",
              "          if (!dataTable) return;\n",
              "\n",
              "          const docLinkHtml = 'Like what you see? Visit the ' +\n",
              "            '<a target=\"_blank\" href=https://colab.research.google.com/notebooks/data_table.ipynb>data table notebook</a>'\n",
              "            + ' to learn more about interactive tables.';\n",
              "          element.innerHTML = '';\n",
              "          dataTable['output_type'] = 'display_data';\n",
              "          await google.colab.output.renderOutput(dataTable, element);\n",
              "          const docLink = document.createElement('div');\n",
              "          docLink.innerHTML = docLinkHtml;\n",
              "          element.appendChild(docLink);\n",
              "        }\n",
              "      </script>\n",
              "    </div>\n",
              "  </div>\n",
              "  "
            ]
          },
          "metadata": {},
          "execution_count": 219
        }
      ]
    },
    {
      "cell_type": "code",
      "source": [
        "# Logistic Regression сlassifier training and tuning\n",
        "\n",
        "LR_model = LogisticRegression(max_iter=300)\n",
        "LR_params = {\"penalty\": [\"l1\", \"l2\"],\n",
        "             \"C\": [i/100 for i in range(1, 1001, 10)],\n",
        "             \"solver\": [\"liblinear\", \"saga\"]}\n",
        "\n",
        "clf = sk_ms.GridSearchCV(LR_model, LR_params)\n",
        "\n",
        "clf.fit(X_train, y_train)"
      ],
      "metadata": {
        "id": "FA1yUG75R5o6"
      },
      "execution_count": null,
      "outputs": []
    },
    {
      "cell_type": "code",
      "source": [
        "print(\"Optimal set of hyperparameters:\", clf.best_params_)"
      ],
      "metadata": {
        "colab": {
          "base_uri": "https://localhost:8080/"
        },
        "id": "2e9o0GoydEB5",
        "outputId": "ad544d3e-075f-46ce-db0c-d9b3745c41a6"
      },
      "execution_count": 221,
      "outputs": [
        {
          "output_type": "stream",
          "name": "stdout",
          "text": [
            "Optimal set of hyperparameters: {'C': 0.11, 'penalty': 'l2', 'solver': 'liblinear'}\n"
          ]
        }
      ]
    },
    {
      "cell_type": "code",
      "metadata": {
        "colab": {
          "base_uri": "https://localhost:8080/"
        },
        "id": "-9zwdJt84Ewt",
        "outputId": "b95b7815-9318-4f34-a136-0a3e473adbcb"
      },
      "source": [
        "# Logistic Regression classifier performance results\n",
        "\n",
        "LR_predictions = clf.predict(X_valid_temp)\n",
        "\n",
        "print(sk_metrics.classification_report(y_valid, LR_predictions))\n",
        "print()\n",
        "print(\"Accuracy score:\", sk_metrics.accuracy_score(y_valid, LR_predictions))"
      ],
      "execution_count": 222,
      "outputs": [
        {
          "output_type": "stream",
          "name": "stdout",
          "text": [
            "              precision    recall  f1-score   support\n",
            "\n",
            "           0       1.00      0.96      0.98        52\n",
            "           1       0.98      1.00      0.99        82\n",
            "\n",
            "    accuracy                           0.99       134\n",
            "   macro avg       0.99      0.98      0.98       134\n",
            "weighted avg       0.99      0.99      0.99       134\n",
            "\n",
            "\n",
            "Accuracy score: 0.9850746268656716\n"
          ]
        }
      ]
    },
    {
      "cell_type": "markdown",
      "metadata": {
        "id": "pcDkRH-WcdNk"
      },
      "source": [
        "# **Testing the model on test data set**"
      ]
    },
    {
      "cell_type": "code",
      "metadata": {
        "id": "HUYx728wdAYe"
      },
      "source": [
        "# NB model analysis of \"email_domain\" column\n",
        "\n",
        "NB_dom_predictions = NB_dom_model.predict_proba(email_dom_vectorized_test)[:, 1]"
      ],
      "execution_count": 223,
      "outputs": []
    },
    {
      "cell_type": "code",
      "metadata": {
        "id": "XXkfBi0sdAYj"
      },
      "source": [
        "# NB model analysis of \"message\" column\n",
        "\n",
        "NB_mes_predictions = NB_mes_model.predict_proba(email_message_vectorized_test)[:, 1]"
      ],
      "execution_count": 224,
      "outputs": []
    },
    {
      "cell_type": "code",
      "metadata": {
        "colab": {
          "base_uri": "https://localhost:8080/",
          "height": 206
        },
        "id": "A-F480fBdAYl",
        "outputId": "bc5183a7-c099-4dc4-8b56-1cffad3fd39d"
      },
      "source": [
        "# Preparing data for LR\n",
        "\n",
        "temp_df = X_test.loc[:, [\"valid_first_name\", \"valid_phone_number\"]]\n",
        "temp_df = temp_df.reset_index(drop=True)\n",
        "temp_df = pd.concat([temp_df, pd.Series(NB_dom_predictions, name=\"domain_validity_proba\")], axis=1)\n",
        "temp_df = pd.concat([temp_df, pd.Series(NB_mes_predictions, name=\"message_validity_proba\")], axis=1)\n",
        "\n",
        "temp_df.head()"
      ],
      "execution_count": 225,
      "outputs": [
        {
          "output_type": "execute_result",
          "data": {
            "text/plain": [
              "   valid_first_name  valid_phone_number  domain_validity_proba  \\\n",
              "0                 0                   0               0.953685   \n",
              "1                 1                   1               0.616129   \n",
              "2                 0                   0               0.920320   \n",
              "3                 0                   0               0.995827   \n",
              "4                 1                   0               0.986138   \n",
              "\n",
              "   message_validity_proba  \n",
              "0            6.161290e-01  \n",
              "1            1.491977e-15  \n",
              "2            6.161290e-01  \n",
              "3            6.161290e-01  \n",
              "4            5.251653e-12  "
            ],
            "text/html": [
              "\n",
              "  <div id=\"df-d563cc31-5647-4629-81e1-ebe0e7126b7c\">\n",
              "    <div class=\"colab-df-container\">\n",
              "      <div>\n",
              "<style scoped>\n",
              "    .dataframe tbody tr th:only-of-type {\n",
              "        vertical-align: middle;\n",
              "    }\n",
              "\n",
              "    .dataframe tbody tr th {\n",
              "        vertical-align: top;\n",
              "    }\n",
              "\n",
              "    .dataframe thead th {\n",
              "        text-align: right;\n",
              "    }\n",
              "</style>\n",
              "<table border=\"1\" class=\"dataframe\">\n",
              "  <thead>\n",
              "    <tr style=\"text-align: right;\">\n",
              "      <th></th>\n",
              "      <th>valid_first_name</th>\n",
              "      <th>valid_phone_number</th>\n",
              "      <th>domain_validity_proba</th>\n",
              "      <th>message_validity_proba</th>\n",
              "    </tr>\n",
              "  </thead>\n",
              "  <tbody>\n",
              "    <tr>\n",
              "      <th>0</th>\n",
              "      <td>0</td>\n",
              "      <td>0</td>\n",
              "      <td>0.953685</td>\n",
              "      <td>6.161290e-01</td>\n",
              "    </tr>\n",
              "    <tr>\n",
              "      <th>1</th>\n",
              "      <td>1</td>\n",
              "      <td>1</td>\n",
              "      <td>0.616129</td>\n",
              "      <td>1.491977e-15</td>\n",
              "    </tr>\n",
              "    <tr>\n",
              "      <th>2</th>\n",
              "      <td>0</td>\n",
              "      <td>0</td>\n",
              "      <td>0.920320</td>\n",
              "      <td>6.161290e-01</td>\n",
              "    </tr>\n",
              "    <tr>\n",
              "      <th>3</th>\n",
              "      <td>0</td>\n",
              "      <td>0</td>\n",
              "      <td>0.995827</td>\n",
              "      <td>6.161290e-01</td>\n",
              "    </tr>\n",
              "    <tr>\n",
              "      <th>4</th>\n",
              "      <td>1</td>\n",
              "      <td>0</td>\n",
              "      <td>0.986138</td>\n",
              "      <td>5.251653e-12</td>\n",
              "    </tr>\n",
              "  </tbody>\n",
              "</table>\n",
              "</div>\n",
              "      <button class=\"colab-df-convert\" onclick=\"convertToInteractive('df-d563cc31-5647-4629-81e1-ebe0e7126b7c')\"\n",
              "              title=\"Convert this dataframe to an interactive table.\"\n",
              "              style=\"display:none;\">\n",
              "        \n",
              "  <svg xmlns=\"http://www.w3.org/2000/svg\" height=\"24px\"viewBox=\"0 0 24 24\"\n",
              "       width=\"24px\">\n",
              "    <path d=\"M0 0h24v24H0V0z\" fill=\"none\"/>\n",
              "    <path d=\"M18.56 5.44l.94 2.06.94-2.06 2.06-.94-2.06-.94-.94-2.06-.94 2.06-2.06.94zm-11 1L8.5 8.5l.94-2.06 2.06-.94-2.06-.94L8.5 2.5l-.94 2.06-2.06.94zm10 10l.94 2.06.94-2.06 2.06-.94-2.06-.94-.94-2.06-.94 2.06-2.06.94z\"/><path d=\"M17.41 7.96l-1.37-1.37c-.4-.4-.92-.59-1.43-.59-.52 0-1.04.2-1.43.59L10.3 9.45l-7.72 7.72c-.78.78-.78 2.05 0 2.83L4 21.41c.39.39.9.59 1.41.59.51 0 1.02-.2 1.41-.59l7.78-7.78 2.81-2.81c.8-.78.8-2.07 0-2.86zM5.41 20L4 18.59l7.72-7.72 1.47 1.35L5.41 20z\"/>\n",
              "  </svg>\n",
              "      </button>\n",
              "      \n",
              "  <style>\n",
              "    .colab-df-container {\n",
              "      display:flex;\n",
              "      flex-wrap:wrap;\n",
              "      gap: 12px;\n",
              "    }\n",
              "\n",
              "    .colab-df-convert {\n",
              "      background-color: #E8F0FE;\n",
              "      border: none;\n",
              "      border-radius: 50%;\n",
              "      cursor: pointer;\n",
              "      display: none;\n",
              "      fill: #1967D2;\n",
              "      height: 32px;\n",
              "      padding: 0 0 0 0;\n",
              "      width: 32px;\n",
              "    }\n",
              "\n",
              "    .colab-df-convert:hover {\n",
              "      background-color: #E2EBFA;\n",
              "      box-shadow: 0px 1px 2px rgba(60, 64, 67, 0.3), 0px 1px 3px 1px rgba(60, 64, 67, 0.15);\n",
              "      fill: #174EA6;\n",
              "    }\n",
              "\n",
              "    [theme=dark] .colab-df-convert {\n",
              "      background-color: #3B4455;\n",
              "      fill: #D2E3FC;\n",
              "    }\n",
              "\n",
              "    [theme=dark] .colab-df-convert:hover {\n",
              "      background-color: #434B5C;\n",
              "      box-shadow: 0px 1px 3px 1px rgba(0, 0, 0, 0.15);\n",
              "      filter: drop-shadow(0px 1px 2px rgba(0, 0, 0, 0.3));\n",
              "      fill: #FFFFFF;\n",
              "    }\n",
              "  </style>\n",
              "\n",
              "      <script>\n",
              "        const buttonEl =\n",
              "          document.querySelector('#df-d563cc31-5647-4629-81e1-ebe0e7126b7c button.colab-df-convert');\n",
              "        buttonEl.style.display =\n",
              "          google.colab.kernel.accessAllowed ? 'block' : 'none';\n",
              "\n",
              "        async function convertToInteractive(key) {\n",
              "          const element = document.querySelector('#df-d563cc31-5647-4629-81e1-ebe0e7126b7c');\n",
              "          const dataTable =\n",
              "            await google.colab.kernel.invokeFunction('convertToInteractive',\n",
              "                                                     [key], {});\n",
              "          if (!dataTable) return;\n",
              "\n",
              "          const docLinkHtml = 'Like what you see? Visit the ' +\n",
              "            '<a target=\"_blank\" href=https://colab.research.google.com/notebooks/data_table.ipynb>data table notebook</a>'\n",
              "            + ' to learn more about interactive tables.';\n",
              "          element.innerHTML = '';\n",
              "          dataTable['output_type'] = 'display_data';\n",
              "          await google.colab.output.renderOutput(dataTable, element);\n",
              "          const docLink = document.createElement('div');\n",
              "          docLink.innerHTML = docLinkHtml;\n",
              "          element.appendChild(docLink);\n",
              "        }\n",
              "      </script>\n",
              "    </div>\n",
              "  </div>\n",
              "  "
            ]
          },
          "metadata": {},
          "execution_count": 225
        }
      ]
    },
    {
      "cell_type": "code",
      "metadata": {
        "colab": {
          "base_uri": "https://localhost:8080/"
        },
        "id": "7bdkNaEfdAYm",
        "outputId": "e610dadc-8b95-4da6-a149-4fbc91a3ae24"
      },
      "source": [
        "# Logistic Regression performance results on a test dataset\n",
        "\n",
        "LR_predictions = clf.predict(temp_df)\n",
        "\n",
        "print(sk_metrics.classification_report(y_test, LR_predictions))\n",
        "print(\"Accuracy score:\", sk_metrics.accuracy_score(y_test, LR_predictions))"
      ],
      "execution_count": 226,
      "outputs": [
        {
          "output_type": "stream",
          "name": "stdout",
          "text": [
            "              precision    recall  f1-score   support\n",
            "\n",
            "           0       1.00      1.00      1.00        43\n",
            "           1       1.00      1.00      1.00        69\n",
            "\n",
            "    accuracy                           1.00       112\n",
            "   macro avg       1.00      1.00      1.00       112\n",
            "weighted avg       1.00      1.00      1.00       112\n",
            "\n",
            "Accuracy score: 1.0\n"
          ]
        }
      ]
    },
    {
      "cell_type": "code",
      "metadata": {
        "colab": {
          "base_uri": "https://localhost:8080/",
          "height": 531
        },
        "id": "ty2D4jvPdAYn",
        "outputId": "c8a65396-3c1d-49b5-9bdf-ac80f4caa075"
      },
      "source": [
        "# Inspecting performance of a model on a test dataset visually\n",
        "\n",
        "inspect_df = pd.concat([X_test.reset_index(drop=True), pd.Series(LR_predictions, name=\"prediction\")], axis=1)\n",
        "inspect_df = pd.concat([inspect_df, y_test], axis=1)\n",
        "inspect_df.head(10)"
      ],
      "execution_count": 227,
      "outputs": [
        {
          "output_type": "execute_result",
          "data": {
            "text/plain": [
              "             name  valid_first_name        phone  valid_phone_number  \\\n",
              "0     Andreasmoom                 0  85244447388                   0   \n",
              "1  Бойко Светлана                 1    938451707                   1   \n",
              "2      grcsibgwsn                 0  12134251453                   0   \n",
              "3         minilia                 0  89834875676                   0   \n",
              "4          Сергей                 1  79123456791                   0   \n",
              "5     RupertPoece                 0  81779914633                   0   \n",
              "6             111                 0          222                   0   \n",
              "7        oxoziica                 0  83753186649                   0   \n",
              "8       Светлана                  1    671337353                   1   \n",
              "9        Mariatok                 0  89691274965                   0   \n",
              "\n",
              "                                               email         email_domain  \\\n",
              "0                        mqkticot1979@sn.goaglie.com       sn.goaglie.com   \n",
              "1                                                                           \n",
              "2  5cd2d70d1abe92c76601031a9b7de5d8.roopert@ssema...            ssemarket   \n",
              "3                               axoplarly@ahmail.xyz           ahmail.xyz   \n",
              "4                            ssilraibosa1973@mail.ru              mail.ru   \n",
              "5                       AlexaBen1992@fte.goaglie.com      fte.goaglie.com   \n",
              "6                                                                           \n",
              "7                         ifeafi@otnis.jonjamail.com  otnis.jonjamail.com   \n",
              "8                                                                           \n",
              "9                           anbfccdaesa52@a.masum.cc           a.masum.cc   \n",
              "\n",
              "                                             message  prediction  is_spam  \n",
              "0                                                              1        1  \n",
              "1  Интересует также веб дизайн\\nПосоветовала цчит...           0        0  \n",
              "2        Muchas gracias. ?Como puedo iniciar sesion?           1        1  \n",
              "3                                                              1        1  \n",
              "4  Здравствуйте! \\nСейчас сезон календарей. Мы де...           1        1  \n",
              "5                                                              1        1  \n",
              "6                                                333           1        1  \n",
              "7                                                              1        1  \n",
              "8                                                              0        0  \n",
              "9                                                              1        1  "
            ],
            "text/html": [
              "\n",
              "  <div id=\"df-f2d71716-108a-476e-9c38-49abf6ad78a1\">\n",
              "    <div class=\"colab-df-container\">\n",
              "      <div>\n",
              "<style scoped>\n",
              "    .dataframe tbody tr th:only-of-type {\n",
              "        vertical-align: middle;\n",
              "    }\n",
              "\n",
              "    .dataframe tbody tr th {\n",
              "        vertical-align: top;\n",
              "    }\n",
              "\n",
              "    .dataframe thead th {\n",
              "        text-align: right;\n",
              "    }\n",
              "</style>\n",
              "<table border=\"1\" class=\"dataframe\">\n",
              "  <thead>\n",
              "    <tr style=\"text-align: right;\">\n",
              "      <th></th>\n",
              "      <th>name</th>\n",
              "      <th>valid_first_name</th>\n",
              "      <th>phone</th>\n",
              "      <th>valid_phone_number</th>\n",
              "      <th>email</th>\n",
              "      <th>email_domain</th>\n",
              "      <th>message</th>\n",
              "      <th>prediction</th>\n",
              "      <th>is_spam</th>\n",
              "    </tr>\n",
              "  </thead>\n",
              "  <tbody>\n",
              "    <tr>\n",
              "      <th>0</th>\n",
              "      <td>Andreasmoom</td>\n",
              "      <td>0</td>\n",
              "      <td>85244447388</td>\n",
              "      <td>0</td>\n",
              "      <td>mqkticot1979@sn.goaglie.com</td>\n",
              "      <td>sn.goaglie.com</td>\n",
              "      <td></td>\n",
              "      <td>1</td>\n",
              "      <td>1</td>\n",
              "    </tr>\n",
              "    <tr>\n",
              "      <th>1</th>\n",
              "      <td>Бойко Светлана</td>\n",
              "      <td>1</td>\n",
              "      <td>938451707</td>\n",
              "      <td>1</td>\n",
              "      <td></td>\n",
              "      <td></td>\n",
              "      <td>Интересует также веб дизайн\\nПосоветовала цчит...</td>\n",
              "      <td>0</td>\n",
              "      <td>0</td>\n",
              "    </tr>\n",
              "    <tr>\n",
              "      <th>2</th>\n",
              "      <td>grcsibgwsn</td>\n",
              "      <td>0</td>\n",
              "      <td>12134251453</td>\n",
              "      <td>0</td>\n",
              "      <td>5cd2d70d1abe92c76601031a9b7de5d8.roopert@ssema...</td>\n",
              "      <td>ssemarket</td>\n",
              "      <td>Muchas gracias. ?Como puedo iniciar sesion?</td>\n",
              "      <td>1</td>\n",
              "      <td>1</td>\n",
              "    </tr>\n",
              "    <tr>\n",
              "      <th>3</th>\n",
              "      <td>minilia</td>\n",
              "      <td>0</td>\n",
              "      <td>89834875676</td>\n",
              "      <td>0</td>\n",
              "      <td>axoplarly@ahmail.xyz</td>\n",
              "      <td>ahmail.xyz</td>\n",
              "      <td></td>\n",
              "      <td>1</td>\n",
              "      <td>1</td>\n",
              "    </tr>\n",
              "    <tr>\n",
              "      <th>4</th>\n",
              "      <td>Сергей</td>\n",
              "      <td>1</td>\n",
              "      <td>79123456791</td>\n",
              "      <td>0</td>\n",
              "      <td>ssilraibosa1973@mail.ru</td>\n",
              "      <td>mail.ru</td>\n",
              "      <td>Здравствуйте! \\nСейчас сезон календарей. Мы де...</td>\n",
              "      <td>1</td>\n",
              "      <td>1</td>\n",
              "    </tr>\n",
              "    <tr>\n",
              "      <th>5</th>\n",
              "      <td>RupertPoece</td>\n",
              "      <td>0</td>\n",
              "      <td>81779914633</td>\n",
              "      <td>0</td>\n",
              "      <td>AlexaBen1992@fte.goaglie.com</td>\n",
              "      <td>fte.goaglie.com</td>\n",
              "      <td></td>\n",
              "      <td>1</td>\n",
              "      <td>1</td>\n",
              "    </tr>\n",
              "    <tr>\n",
              "      <th>6</th>\n",
              "      <td>111</td>\n",
              "      <td>0</td>\n",
              "      <td>222</td>\n",
              "      <td>0</td>\n",
              "      <td></td>\n",
              "      <td></td>\n",
              "      <td>333</td>\n",
              "      <td>1</td>\n",
              "      <td>1</td>\n",
              "    </tr>\n",
              "    <tr>\n",
              "      <th>7</th>\n",
              "      <td>oxoziica</td>\n",
              "      <td>0</td>\n",
              "      <td>83753186649</td>\n",
              "      <td>0</td>\n",
              "      <td>ifeafi@otnis.jonjamail.com</td>\n",
              "      <td>otnis.jonjamail.com</td>\n",
              "      <td></td>\n",
              "      <td>1</td>\n",
              "      <td>1</td>\n",
              "    </tr>\n",
              "    <tr>\n",
              "      <th>8</th>\n",
              "      <td>Светлана</td>\n",
              "      <td>1</td>\n",
              "      <td>671337353</td>\n",
              "      <td>1</td>\n",
              "      <td></td>\n",
              "      <td></td>\n",
              "      <td></td>\n",
              "      <td>0</td>\n",
              "      <td>0</td>\n",
              "    </tr>\n",
              "    <tr>\n",
              "      <th>9</th>\n",
              "      <td>Mariatok</td>\n",
              "      <td>0</td>\n",
              "      <td>89691274965</td>\n",
              "      <td>0</td>\n",
              "      <td>anbfccdaesa52@a.masum.cc</td>\n",
              "      <td>a.masum.cc</td>\n",
              "      <td></td>\n",
              "      <td>1</td>\n",
              "      <td>1</td>\n",
              "    </tr>\n",
              "  </tbody>\n",
              "</table>\n",
              "</div>\n",
              "      <button class=\"colab-df-convert\" onclick=\"convertToInteractive('df-f2d71716-108a-476e-9c38-49abf6ad78a1')\"\n",
              "              title=\"Convert this dataframe to an interactive table.\"\n",
              "              style=\"display:none;\">\n",
              "        \n",
              "  <svg xmlns=\"http://www.w3.org/2000/svg\" height=\"24px\"viewBox=\"0 0 24 24\"\n",
              "       width=\"24px\">\n",
              "    <path d=\"M0 0h24v24H0V0z\" fill=\"none\"/>\n",
              "    <path d=\"M18.56 5.44l.94 2.06.94-2.06 2.06-.94-2.06-.94-.94-2.06-.94 2.06-2.06.94zm-11 1L8.5 8.5l.94-2.06 2.06-.94-2.06-.94L8.5 2.5l-.94 2.06-2.06.94zm10 10l.94 2.06.94-2.06 2.06-.94-2.06-.94-.94-2.06-.94 2.06-2.06.94z\"/><path d=\"M17.41 7.96l-1.37-1.37c-.4-.4-.92-.59-1.43-.59-.52 0-1.04.2-1.43.59L10.3 9.45l-7.72 7.72c-.78.78-.78 2.05 0 2.83L4 21.41c.39.39.9.59 1.41.59.51 0 1.02-.2 1.41-.59l7.78-7.78 2.81-2.81c.8-.78.8-2.07 0-2.86zM5.41 20L4 18.59l7.72-7.72 1.47 1.35L5.41 20z\"/>\n",
              "  </svg>\n",
              "      </button>\n",
              "      \n",
              "  <style>\n",
              "    .colab-df-container {\n",
              "      display:flex;\n",
              "      flex-wrap:wrap;\n",
              "      gap: 12px;\n",
              "    }\n",
              "\n",
              "    .colab-df-convert {\n",
              "      background-color: #E8F0FE;\n",
              "      border: none;\n",
              "      border-radius: 50%;\n",
              "      cursor: pointer;\n",
              "      display: none;\n",
              "      fill: #1967D2;\n",
              "      height: 32px;\n",
              "      padding: 0 0 0 0;\n",
              "      width: 32px;\n",
              "    }\n",
              "\n",
              "    .colab-df-convert:hover {\n",
              "      background-color: #E2EBFA;\n",
              "      box-shadow: 0px 1px 2px rgba(60, 64, 67, 0.3), 0px 1px 3px 1px rgba(60, 64, 67, 0.15);\n",
              "      fill: #174EA6;\n",
              "    }\n",
              "\n",
              "    [theme=dark] .colab-df-convert {\n",
              "      background-color: #3B4455;\n",
              "      fill: #D2E3FC;\n",
              "    }\n",
              "\n",
              "    [theme=dark] .colab-df-convert:hover {\n",
              "      background-color: #434B5C;\n",
              "      box-shadow: 0px 1px 3px 1px rgba(0, 0, 0, 0.15);\n",
              "      filter: drop-shadow(0px 1px 2px rgba(0, 0, 0, 0.3));\n",
              "      fill: #FFFFFF;\n",
              "    }\n",
              "  </style>\n",
              "\n",
              "      <script>\n",
              "        const buttonEl =\n",
              "          document.querySelector('#df-f2d71716-108a-476e-9c38-49abf6ad78a1 button.colab-df-convert');\n",
              "        buttonEl.style.display =\n",
              "          google.colab.kernel.accessAllowed ? 'block' : 'none';\n",
              "\n",
              "        async function convertToInteractive(key) {\n",
              "          const element = document.querySelector('#df-f2d71716-108a-476e-9c38-49abf6ad78a1');\n",
              "          const dataTable =\n",
              "            await google.colab.kernel.invokeFunction('convertToInteractive',\n",
              "                                                     [key], {});\n",
              "          if (!dataTable) return;\n",
              "\n",
              "          const docLinkHtml = 'Like what you see? Visit the ' +\n",
              "            '<a target=\"_blank\" href=https://colab.research.google.com/notebooks/data_table.ipynb>data table notebook</a>'\n",
              "            + ' to learn more about interactive tables.';\n",
              "          element.innerHTML = '';\n",
              "          dataTable['output_type'] = 'display_data';\n",
              "          await google.colab.output.renderOutput(dataTable, element);\n",
              "          const docLink = document.createElement('div');\n",
              "          docLink.innerHTML = docLinkHtml;\n",
              "          element.appendChild(docLink);\n",
              "        }\n",
              "      </script>\n",
              "    </div>\n",
              "  </div>\n",
              "  "
            ]
          },
          "metadata": {},
          "execution_count": 227
        }
      ]
    }
  ]
}