{
  "nbformat": 4,
  "nbformat_minor": 0,
  "metadata": {
    "colab": {
      "provenance": [],
      "toc_visible": true,
      "authorship_tag": "ABX9TyMrv8Rvq3HVAUSJ95dn1ZVA",
      "include_colab_link": true
    },
    "kernelspec": {
      "name": "python3",
      "display_name": "Python 3"
    }
  },
  "cells": [
    {
      "cell_type": "markdown",
      "metadata": {
        "id": "view-in-github",
        "colab_type": "text"
      },
      "source": [
        "<a href=\"https://colab.research.google.com/github/Gzaborey/python_applications_classifier/blob/main/applications_classifier.ipynb\" target=\"_parent\"><img src=\"https://colab.research.google.com/assets/colab-badge.svg\" alt=\"Open In Colab\"/></a>"
      ]
    },
    {
      "cell_type": "code",
      "metadata": {
        "id": "R28n8Wvf0UAg"
      },
      "source": [
        "# Importing necessary libraries\n",
        "\n",
        "import pandas as pd\n",
        "import numpy as np\n",
        "import string\n",
        "import re\n",
        "import matplotlib.pyplot as plt\n",
        "import sklearn.model_selection as sk_ms\n",
        "import sklearn.preprocessing as sk_preprocessing\n",
        "import sklearn.metrics as sk_metrics\n",
        "from sklearn.feature_extraction.text import CountVectorizer\n",
        "from nltk.corpus import stopwords\n",
        "from nltk.stem.snowball import SnowballStemmer\n",
        "from sklearn.linear_model import LogisticRegression\n",
        "from sklearn.naive_bayes import MultinomialNB"
      ],
      "execution_count": 1,
      "outputs": []
    },
    {
      "cell_type": "code",
      "source": [
        "%matplotlib inline"
      ],
      "metadata": {
        "id": "YLP0mHG_pxlw"
      },
      "execution_count": 2,
      "outputs": []
    },
    {
      "cell_type": "code",
      "metadata": {
        "colab": {
          "base_uri": "https://localhost:8080/"
        },
        "id": "X-Uf0xGb4_D-",
        "outputId": "fd1765a8-49ed-456d-e7dd-055f4fe70703"
      },
      "source": [
        "import nltk\n",
        "nltk.download(\"stopwords\")"
      ],
      "execution_count": 3,
      "outputs": [
        {
          "output_type": "stream",
          "name": "stderr",
          "text": [
            "[nltk_data] Downloading package stopwords to /root/nltk_data...\n",
            "[nltk_data]   Package stopwords is already up-to-date!\n"
          ]
        },
        {
          "output_type": "execute_result",
          "data": {
            "text/plain": [
              "True"
            ]
          },
          "metadata": {},
          "execution_count": 3
        }
      ]
    },
    {
      "cell_type": "code",
      "metadata": {
        "id": "swkkjnmi3ysd"
      },
      "source": [
        "# Defining necessary functions to preprocess the data\n",
        "\n",
        "def process_text(text):\n",
        "\n",
        "  \"\"\"Removes punctuation, whitespases, stopwords, english words, short words and digits.\n",
        "     Returns list of words.\"\"\"\n",
        "\n",
        "  stemmer = SnowballStemmer(\"russian\")\n",
        "  eng_regex = re.compile(r\"[a-zA-Z]\")\n",
        "\n",
        "  nopunc = [char for char in text if char not in string.punctuation]\n",
        "  nopunc = ''.join(nopunc)\n",
        "\n",
        "  processed_words = [stemmer.stem(word.lower()) for word in nopunc.split()\\\n",
        "                      if word.lower() not in stopwords.words(\"russian\")\\\n",
        "                      and word.lower() not in stopwords.words(\"english\")\\\n",
        "                      and word.lower().isalpha()\\\n",
        "                      and len(word.lower()) > 4\\\n",
        "                      and word.lower() not in \"\".join(eng_regex.findall(word.lower()))]\n",
        "  return processed_words \n",
        "\n",
        "\n",
        "def validate_name(string_to_validate, name_data):\n",
        "\n",
        "  \"\"\"Checks if given name is common. \n",
        "      If given name is not common (does not appear in a database of names) \n",
        "      it is considered invalid i.e. fake name.\"\"\"\n",
        "\n",
        "  name_validity = 0\n",
        "  for word in string_to_validate.lower().split():\n",
        "    if word in name_data:\n",
        "      name_validity = 1\n",
        "      break\n",
        "    else:\n",
        "      name_validity = 0\n",
        "  return name_validity\n",
        "\n",
        "\n",
        "def validate_phone_number(phone_number):\n",
        "\n",
        "  \"\"\"Checks if given phone number is from Ukraine.\"\"\"\n",
        "\n",
        "  temp1 = [char for char in phone_number if (char not in string.punctuation \\\n",
        "                                             and char is not ' ')]\n",
        "  temp2 = ''.join(temp1)\n",
        "  if len(temp2) > 12 or len(temp2) < 9:\n",
        "    return 0\n",
        "  else:\n",
        "    for char in range(7):\n",
        "      temp1.pop()\n",
        "    temp2 = ''.join(temp1)\n",
        "    pattern1 = re.compile(r\"(380|0|)\")\n",
        "    first_condition = temp2[-3::-1][::-1] in pattern1.findall(temp2[-3::-1][::-1])\n",
        "    pattern2 = re.compile(r\"(39|67|68|96|97|98|50|66|95|99|63|93|91|92|94)\")\n",
        "    second_condition = temp2[-1:-3:-1][::-1] in pattern2.findall(temp2[-1:-3:-1][::-1])\n",
        "    if first_condition and second_condition:\n",
        "      return 1\n",
        "    else:\n",
        "      return 0"
      ],
      "execution_count": 4,
      "outputs": []
    },
    {
      "cell_type": "markdown",
      "metadata": {
        "id": "OC1FvFJaIWYq"
      },
      "source": [
        "# **Preparing the data**"
      ]
    },
    {
      "cell_type": "markdown",
      "metadata": {
        "id": "P5Z60vHLlNK7"
      },
      "source": [
        "## Loading the data and constructing features"
      ]
    },
    {
      "cell_type": "code",
      "metadata": {
        "id": "YN3XFjejHtr1"
      },
      "source": [
        "# Loading data\n",
        "\n",
        "email_data = pd.read_excel(\"https://github.com/Gzaborey/python_applications_classifier/blob/main/data/email_data.xlsx?raw=true\")\n",
        "email_data = email_data.drop([\"Unnamed: 0\"], axis=1, errors=\"ignore\")\n",
        "email_data = email_data.drop_duplicates()\n",
        "email_data = email_data.rename(columns={\"add\": \"message\"})\n",
        "email_data = email_data.sample(frac=1)\n",
        "email_data = email_data.reset_index(drop=True)\n",
        "email_data[\"message\"] = email_data[\"message\"].astype(\"str\")"
      ],
      "execution_count": 5,
      "outputs": []
    },
    {
      "cell_type": "code",
      "metadata": {
        "colab": {
          "base_uri": "https://localhost:8080/",
          "height": 206
        },
        "id": "yiGuPABXyQVr",
        "outputId": "3fc0ac89-28c8-48d9-853a-efbf1db310ce"
      },
      "source": [
        "# Acquaintance with the data\n",
        "\n",
        "email_data.head()"
      ],
      "execution_count": 6,
      "outputs": [
        {
          "output_type": "execute_result",
          "data": {
            "text/plain": [
              "                          name        phone                         email  \\\n",
              "0                          222          222                           NaN   \n",
              "1                Лукашова Анна    952893676                           NaN   \n",
              "2  Fomin Aleksandr Alekseevich    674812290     aleksandr.fomin@gmail.com   \n",
              "3                   uijibalute  88172376177    oaeixt@otnis.jonjamail.com   \n",
              "4                   ecaigimeem  84163726533  umaikosu@ifowe.jonjamail.com   \n",
              "\n",
              "  message  is_spam  \n",
              "0     333        1  \n",
              "1     nan        0  \n",
              "2     111        0  \n",
              "3     nan        1  \n",
              "4     nan        1  "
            ],
            "text/html": [
              "\n",
              "  <div id=\"df-da69177e-d871-4285-b16f-131691d4ad0d\">\n",
              "    <div class=\"colab-df-container\">\n",
              "      <div>\n",
              "<style scoped>\n",
              "    .dataframe tbody tr th:only-of-type {\n",
              "        vertical-align: middle;\n",
              "    }\n",
              "\n",
              "    .dataframe tbody tr th {\n",
              "        vertical-align: top;\n",
              "    }\n",
              "\n",
              "    .dataframe thead th {\n",
              "        text-align: right;\n",
              "    }\n",
              "</style>\n",
              "<table border=\"1\" class=\"dataframe\">\n",
              "  <thead>\n",
              "    <tr style=\"text-align: right;\">\n",
              "      <th></th>\n",
              "      <th>name</th>\n",
              "      <th>phone</th>\n",
              "      <th>email</th>\n",
              "      <th>message</th>\n",
              "      <th>is_spam</th>\n",
              "    </tr>\n",
              "  </thead>\n",
              "  <tbody>\n",
              "    <tr>\n",
              "      <th>0</th>\n",
              "      <td>222</td>\n",
              "      <td>222</td>\n",
              "      <td>NaN</td>\n",
              "      <td>333</td>\n",
              "      <td>1</td>\n",
              "    </tr>\n",
              "    <tr>\n",
              "      <th>1</th>\n",
              "      <td>Лукашова Анна</td>\n",
              "      <td>952893676</td>\n",
              "      <td>NaN</td>\n",
              "      <td>nan</td>\n",
              "      <td>0</td>\n",
              "    </tr>\n",
              "    <tr>\n",
              "      <th>2</th>\n",
              "      <td>Fomin Aleksandr Alekseevich</td>\n",
              "      <td>674812290</td>\n",
              "      <td>aleksandr.fomin@gmail.com</td>\n",
              "      <td>111</td>\n",
              "      <td>0</td>\n",
              "    </tr>\n",
              "    <tr>\n",
              "      <th>3</th>\n",
              "      <td>uijibalute</td>\n",
              "      <td>88172376177</td>\n",
              "      <td>oaeixt@otnis.jonjamail.com</td>\n",
              "      <td>nan</td>\n",
              "      <td>1</td>\n",
              "    </tr>\n",
              "    <tr>\n",
              "      <th>4</th>\n",
              "      <td>ecaigimeem</td>\n",
              "      <td>84163726533</td>\n",
              "      <td>umaikosu@ifowe.jonjamail.com</td>\n",
              "      <td>nan</td>\n",
              "      <td>1</td>\n",
              "    </tr>\n",
              "  </tbody>\n",
              "</table>\n",
              "</div>\n",
              "      <button class=\"colab-df-convert\" onclick=\"convertToInteractive('df-da69177e-d871-4285-b16f-131691d4ad0d')\"\n",
              "              title=\"Convert this dataframe to an interactive table.\"\n",
              "              style=\"display:none;\">\n",
              "        \n",
              "  <svg xmlns=\"http://www.w3.org/2000/svg\" height=\"24px\"viewBox=\"0 0 24 24\"\n",
              "       width=\"24px\">\n",
              "    <path d=\"M0 0h24v24H0V0z\" fill=\"none\"/>\n",
              "    <path d=\"M18.56 5.44l.94 2.06.94-2.06 2.06-.94-2.06-.94-.94-2.06-.94 2.06-2.06.94zm-11 1L8.5 8.5l.94-2.06 2.06-.94-2.06-.94L8.5 2.5l-.94 2.06-2.06.94zm10 10l.94 2.06.94-2.06 2.06-.94-2.06-.94-.94-2.06-.94 2.06-2.06.94z\"/><path d=\"M17.41 7.96l-1.37-1.37c-.4-.4-.92-.59-1.43-.59-.52 0-1.04.2-1.43.59L10.3 9.45l-7.72 7.72c-.78.78-.78 2.05 0 2.83L4 21.41c.39.39.9.59 1.41.59.51 0 1.02-.2 1.41-.59l7.78-7.78 2.81-2.81c.8-.78.8-2.07 0-2.86zM5.41 20L4 18.59l7.72-7.72 1.47 1.35L5.41 20z\"/>\n",
              "  </svg>\n",
              "      </button>\n",
              "      \n",
              "  <style>\n",
              "    .colab-df-container {\n",
              "      display:flex;\n",
              "      flex-wrap:wrap;\n",
              "      gap: 12px;\n",
              "    }\n",
              "\n",
              "    .colab-df-convert {\n",
              "      background-color: #E8F0FE;\n",
              "      border: none;\n",
              "      border-radius: 50%;\n",
              "      cursor: pointer;\n",
              "      display: none;\n",
              "      fill: #1967D2;\n",
              "      height: 32px;\n",
              "      padding: 0 0 0 0;\n",
              "      width: 32px;\n",
              "    }\n",
              "\n",
              "    .colab-df-convert:hover {\n",
              "      background-color: #E2EBFA;\n",
              "      box-shadow: 0px 1px 2px rgba(60, 64, 67, 0.3), 0px 1px 3px 1px rgba(60, 64, 67, 0.15);\n",
              "      fill: #174EA6;\n",
              "    }\n",
              "\n",
              "    [theme=dark] .colab-df-convert {\n",
              "      background-color: #3B4455;\n",
              "      fill: #D2E3FC;\n",
              "    }\n",
              "\n",
              "    [theme=dark] .colab-df-convert:hover {\n",
              "      background-color: #434B5C;\n",
              "      box-shadow: 0px 1px 3px 1px rgba(0, 0, 0, 0.15);\n",
              "      filter: drop-shadow(0px 1px 2px rgba(0, 0, 0, 0.3));\n",
              "      fill: #FFFFFF;\n",
              "    }\n",
              "  </style>\n",
              "\n",
              "      <script>\n",
              "        const buttonEl =\n",
              "          document.querySelector('#df-da69177e-d871-4285-b16f-131691d4ad0d button.colab-df-convert');\n",
              "        buttonEl.style.display =\n",
              "          google.colab.kernel.accessAllowed ? 'block' : 'none';\n",
              "\n",
              "        async function convertToInteractive(key) {\n",
              "          const element = document.querySelector('#df-da69177e-d871-4285-b16f-131691d4ad0d');\n",
              "          const dataTable =\n",
              "            await google.colab.kernel.invokeFunction('convertToInteractive',\n",
              "                                                     [key], {});\n",
              "          if (!dataTable) return;\n",
              "\n",
              "          const docLinkHtml = 'Like what you see? Visit the ' +\n",
              "            '<a target=\"_blank\" href=https://colab.research.google.com/notebooks/data_table.ipynb>data table notebook</a>'\n",
              "            + ' to learn more about interactive tables.';\n",
              "          element.innerHTML = '';\n",
              "          dataTable['output_type'] = 'display_data';\n",
              "          await google.colab.output.renderOutput(dataTable, element);\n",
              "          const docLink = document.createElement('div');\n",
              "          docLink.innerHTML = docLinkHtml;\n",
              "          element.appendChild(docLink);\n",
              "        }\n",
              "      </script>\n",
              "    </div>\n",
              "  </div>\n",
              "  "
            ]
          },
          "metadata": {},
          "execution_count": 6
        }
      ]
    },
    {
      "cell_type": "code",
      "metadata": {
        "colab": {
          "base_uri": "https://localhost:8080/"
        },
        "id": "Q23yt4RUJa85",
        "outputId": "f0320d71-e2e9-4cf4-ef3f-b0295a9f4285"
      },
      "source": [
        "# Observing data (looking for missing values, etc)\n",
        "\n",
        "print(email_data[\"is_spam\"].value_counts())\n",
        "print()\n",
        "print(email_data.isna().sum())\n",
        "print()\n",
        "print(email_data.dtypes)"
      ],
      "execution_count": 7,
      "outputs": [
        {
          "output_type": "stream",
          "name": "stdout",
          "text": [
            "1    342\n",
            "0    214\n",
            "Name: is_spam, dtype: int64\n",
            "\n",
            "name        1\n",
            "phone       1\n",
            "email      36\n",
            "message     0\n",
            "is_spam     0\n",
            "dtype: int64\n",
            "\n",
            "name       object\n",
            "phone      object\n",
            "email      object\n",
            "message    object\n",
            "is_spam     int64\n",
            "dtype: object\n"
          ]
        }
      ]
    },
    {
      "cell_type": "code",
      "metadata": {
        "colab": {
          "base_uri": "https://localhost:8080/"
        },
        "id": "_oqRC5Ezr35u",
        "outputId": "f52678a5-fea1-43cd-8284-126f69a799c6"
      },
      "source": [
        "# Filling in missing values\n",
        "\n",
        "email_data = email_data.fillna('')\n",
        "email_data[\"message\"] = email_data[\"message\"].replace(\"nan\", \"\")\n",
        "print(email_data.isna().sum())"
      ],
      "execution_count": 8,
      "outputs": [
        {
          "output_type": "stream",
          "name": "stdout",
          "text": [
            "name       0\n",
            "phone      0\n",
            "email      0\n",
            "message    0\n",
            "is_spam    0\n",
            "dtype: int64\n"
          ]
        }
      ]
    },
    {
      "cell_type": "code",
      "metadata": {
        "id": "FyTcpRQA1trY"
      },
      "source": [
        "# Loading dataframe of common names\n",
        "\n",
        "names_data = pd.read_csv(\"https://raw.githubusercontent.com/Gzaborey/python_applications_classifier/main/data/names_dataframe.csv\", index_col=\"Unnamed: 0\")\n",
        "names_list = [str(name).lower() for name in names_data.iloc[:, -1]]"
      ],
      "execution_count": 9,
      "outputs": []
    },
    {
      "cell_type": "code",
      "metadata": {
        "id": "N4CJha6sTWa5",
        "colab": {
          "base_uri": "https://localhost:8080/"
        },
        "outputId": "706ad6b1-b77c-419b-da33-32555ea406e1"
      },
      "source": [
        "# Looking at the size of a names database\n",
        "\n",
        "print(len(names_list))"
      ],
      "execution_count": 10,
      "outputs": [
        {
          "output_type": "stream",
          "name": "stdout",
          "text": [
            "97974\n"
          ]
        }
      ]
    },
    {
      "cell_type": "code",
      "metadata": {
        "id": "nbB8fmeWr4RC"
      },
      "source": [
        "# Constructing features ('email_domain', 'valid_first_name' and 'valid_phone_number')\n",
        "\n",
        "email_data.insert(loc=3, column=\"email_domain\", \n",
        "                               value=email_data[\"email\"].apply(lambda x: x.lower().split(\"@\")[-1].strip()))\n",
        "\n",
        "email_data.insert(loc=1, column=\"valid_first_name\", \n",
        "                               value=email_data.name.astype(\"str\")\\\n",
        "                              .apply(lambda x: validate_name(x, names_list)))\n",
        "\n",
        "email_data.insert(loc=3, column=\"valid_phone_number\", \n",
        "                               value=email_data.phone.astype(\"str\").apply(lambda x: validate_phone_number(x)))"
      ],
      "execution_count": 11,
      "outputs": []
    },
    {
      "cell_type": "markdown",
      "metadata": {
        "id": "jUrUfHgMka-Z"
      },
      "source": [
        "## Dividing the data into test, train and validation sets"
      ]
    },
    {
      "cell_type": "code",
      "metadata": {
        "id": "xzOJo_Y1lA-K",
        "colab": {
          "base_uri": "https://localhost:8080/",
          "height": 305
        },
        "outputId": "aa1b8ddd-8e1f-480a-fc54-e7654d142be6"
      },
      "source": [
        "# Shuffling dataframe rows \n",
        "\n",
        "email_data = email_data.sample(frac=1)\n",
        "email_data = email_data.reset_index(drop=True)\n",
        "\n",
        "X = email_data.drop(\"is_spam\", axis=1)\n",
        "y = email_data.is_spam\n",
        "\n",
        "email_data.head()"
      ],
      "execution_count": 12,
      "outputs": [
        {
          "output_type": "execute_result",
          "data": {
            "text/plain": [
              "                name  valid_first_name               phone  \\\n",
              "0       olyabibykova                 0         82651551247   \n",
              "1          samuelMus                 0         86149551378   \n",
              "2          contttjeb                 0         83341271966   \n",
              "3                Нил                 1  +38 (063) 744 2447   \n",
              "4  Кучеренко Руслан                  1           669087208   \n",
              "\n",
              "   valid_phone_number                                              email  \\\n",
              "0                   0                             olyabibykova@yandex.ru   \n",
              "1                   0  c.oo.per.a.l.e.x.an.dr.h.o.m.ewor.k.8.4.8.@gma...   \n",
              "2                   0                     fedonovandronja1988@rambler.ru   \n",
              "3                   1                                 bbamblbe@gmail.com   \n",
              "4                   1                                kmr200116@gmail.com   \n",
              "\n",
              "  email_domain message  is_spam  \n",
              "0    yandex.ru                1  \n",
              "1      gmail.c                1  \n",
              "2   rambler.ru                1  \n",
              "3    gmail.com                0  \n",
              "4    gmail.com                0  "
            ],
            "text/html": [
              "\n",
              "  <div id=\"df-778e1f4a-91f0-445f-b032-7dbb99346b8f\">\n",
              "    <div class=\"colab-df-container\">\n",
              "      <div>\n",
              "<style scoped>\n",
              "    .dataframe tbody tr th:only-of-type {\n",
              "        vertical-align: middle;\n",
              "    }\n",
              "\n",
              "    .dataframe tbody tr th {\n",
              "        vertical-align: top;\n",
              "    }\n",
              "\n",
              "    .dataframe thead th {\n",
              "        text-align: right;\n",
              "    }\n",
              "</style>\n",
              "<table border=\"1\" class=\"dataframe\">\n",
              "  <thead>\n",
              "    <tr style=\"text-align: right;\">\n",
              "      <th></th>\n",
              "      <th>name</th>\n",
              "      <th>valid_first_name</th>\n",
              "      <th>phone</th>\n",
              "      <th>valid_phone_number</th>\n",
              "      <th>email</th>\n",
              "      <th>email_domain</th>\n",
              "      <th>message</th>\n",
              "      <th>is_spam</th>\n",
              "    </tr>\n",
              "  </thead>\n",
              "  <tbody>\n",
              "    <tr>\n",
              "      <th>0</th>\n",
              "      <td>olyabibykova</td>\n",
              "      <td>0</td>\n",
              "      <td>82651551247</td>\n",
              "      <td>0</td>\n",
              "      <td>olyabibykova@yandex.ru</td>\n",
              "      <td>yandex.ru</td>\n",
              "      <td></td>\n",
              "      <td>1</td>\n",
              "    </tr>\n",
              "    <tr>\n",
              "      <th>1</th>\n",
              "      <td>samuelMus</td>\n",
              "      <td>0</td>\n",
              "      <td>86149551378</td>\n",
              "      <td>0</td>\n",
              "      <td>c.oo.per.a.l.e.x.an.dr.h.o.m.ewor.k.8.4.8.@gma...</td>\n",
              "      <td>gmail.c</td>\n",
              "      <td></td>\n",
              "      <td>1</td>\n",
              "    </tr>\n",
              "    <tr>\n",
              "      <th>2</th>\n",
              "      <td>contttjeb</td>\n",
              "      <td>0</td>\n",
              "      <td>83341271966</td>\n",
              "      <td>0</td>\n",
              "      <td>fedonovandronja1988@rambler.ru</td>\n",
              "      <td>rambler.ru</td>\n",
              "      <td></td>\n",
              "      <td>1</td>\n",
              "    </tr>\n",
              "    <tr>\n",
              "      <th>3</th>\n",
              "      <td>Нил</td>\n",
              "      <td>1</td>\n",
              "      <td>+38 (063) 744 2447</td>\n",
              "      <td>1</td>\n",
              "      <td>bbamblbe@gmail.com</td>\n",
              "      <td>gmail.com</td>\n",
              "      <td></td>\n",
              "      <td>0</td>\n",
              "    </tr>\n",
              "    <tr>\n",
              "      <th>4</th>\n",
              "      <td>Кучеренко Руслан</td>\n",
              "      <td>1</td>\n",
              "      <td>669087208</td>\n",
              "      <td>1</td>\n",
              "      <td>kmr200116@gmail.com</td>\n",
              "      <td>gmail.com</td>\n",
              "      <td></td>\n",
              "      <td>0</td>\n",
              "    </tr>\n",
              "  </tbody>\n",
              "</table>\n",
              "</div>\n",
              "      <button class=\"colab-df-convert\" onclick=\"convertToInteractive('df-778e1f4a-91f0-445f-b032-7dbb99346b8f')\"\n",
              "              title=\"Convert this dataframe to an interactive table.\"\n",
              "              style=\"display:none;\">\n",
              "        \n",
              "  <svg xmlns=\"http://www.w3.org/2000/svg\" height=\"24px\"viewBox=\"0 0 24 24\"\n",
              "       width=\"24px\">\n",
              "    <path d=\"M0 0h24v24H0V0z\" fill=\"none\"/>\n",
              "    <path d=\"M18.56 5.44l.94 2.06.94-2.06 2.06-.94-2.06-.94-.94-2.06-.94 2.06-2.06.94zm-11 1L8.5 8.5l.94-2.06 2.06-.94-2.06-.94L8.5 2.5l-.94 2.06-2.06.94zm10 10l.94 2.06.94-2.06 2.06-.94-2.06-.94-.94-2.06-.94 2.06-2.06.94z\"/><path d=\"M17.41 7.96l-1.37-1.37c-.4-.4-.92-.59-1.43-.59-.52 0-1.04.2-1.43.59L10.3 9.45l-7.72 7.72c-.78.78-.78 2.05 0 2.83L4 21.41c.39.39.9.59 1.41.59.51 0 1.02-.2 1.41-.59l7.78-7.78 2.81-2.81c.8-.78.8-2.07 0-2.86zM5.41 20L4 18.59l7.72-7.72 1.47 1.35L5.41 20z\"/>\n",
              "  </svg>\n",
              "      </button>\n",
              "      \n",
              "  <style>\n",
              "    .colab-df-container {\n",
              "      display:flex;\n",
              "      flex-wrap:wrap;\n",
              "      gap: 12px;\n",
              "    }\n",
              "\n",
              "    .colab-df-convert {\n",
              "      background-color: #E8F0FE;\n",
              "      border: none;\n",
              "      border-radius: 50%;\n",
              "      cursor: pointer;\n",
              "      display: none;\n",
              "      fill: #1967D2;\n",
              "      height: 32px;\n",
              "      padding: 0 0 0 0;\n",
              "      width: 32px;\n",
              "    }\n",
              "\n",
              "    .colab-df-convert:hover {\n",
              "      background-color: #E2EBFA;\n",
              "      box-shadow: 0px 1px 2px rgba(60, 64, 67, 0.3), 0px 1px 3px 1px rgba(60, 64, 67, 0.15);\n",
              "      fill: #174EA6;\n",
              "    }\n",
              "\n",
              "    [theme=dark] .colab-df-convert {\n",
              "      background-color: #3B4455;\n",
              "      fill: #D2E3FC;\n",
              "    }\n",
              "\n",
              "    [theme=dark] .colab-df-convert:hover {\n",
              "      background-color: #434B5C;\n",
              "      box-shadow: 0px 1px 3px 1px rgba(0, 0, 0, 0.15);\n",
              "      filter: drop-shadow(0px 1px 2px rgba(0, 0, 0, 0.3));\n",
              "      fill: #FFFFFF;\n",
              "    }\n",
              "  </style>\n",
              "\n",
              "      <script>\n",
              "        const buttonEl =\n",
              "          document.querySelector('#df-778e1f4a-91f0-445f-b032-7dbb99346b8f button.colab-df-convert');\n",
              "        buttonEl.style.display =\n",
              "          google.colab.kernel.accessAllowed ? 'block' : 'none';\n",
              "\n",
              "        async function convertToInteractive(key) {\n",
              "          const element = document.querySelector('#df-778e1f4a-91f0-445f-b032-7dbb99346b8f');\n",
              "          const dataTable =\n",
              "            await google.colab.kernel.invokeFunction('convertToInteractive',\n",
              "                                                     [key], {});\n",
              "          if (!dataTable) return;\n",
              "\n",
              "          const docLinkHtml = 'Like what you see? Visit the ' +\n",
              "            '<a target=\"_blank\" href=https://colab.research.google.com/notebooks/data_table.ipynb>data table notebook</a>'\n",
              "            + ' to learn more about interactive tables.';\n",
              "          element.innerHTML = '';\n",
              "          dataTable['output_type'] = 'display_data';\n",
              "          await google.colab.output.renderOutput(dataTable, element);\n",
              "          const docLink = document.createElement('div');\n",
              "          docLink.innerHTML = docLinkHtml;\n",
              "          element.appendChild(docLink);\n",
              "        }\n",
              "      </script>\n",
              "    </div>\n",
              "  </div>\n",
              "  "
            ]
          },
          "metadata": {},
          "execution_count": 12
        }
      ]
    },
    {
      "cell_type": "code",
      "source": [
        "print(\"Number of entries is\", len(email_data))"
      ],
      "metadata": {
        "colab": {
          "base_uri": "https://localhost:8080/"
        },
        "id": "wWLIAh0ghGp8",
        "outputId": "21f1a7f7-ec2e-488c-c79c-9faaef5a0fde"
      },
      "execution_count": 13,
      "outputs": [
        {
          "output_type": "stream",
          "name": "stdout",
          "text": [
            "Number of entries is 556\n"
          ]
        }
      ]
    },
    {
      "cell_type": "code",
      "metadata": {
        "id": "tynMQXiprbON",
        "colab": {
          "base_uri": "https://localhost:8080/",
          "height": 426
        },
        "outputId": "6718da64-1600-43ae-8d7a-05a042081c26"
      },
      "source": [
        "# Splitting data into train, valiation and test sets\n",
        "\n",
        "X_rest, X_test, y_rest, y_test = sk_ms.train_test_split(X, y, test_size=0.2, stratify=y)\n",
        "\n",
        "X_rest = X_rest.reset_index(drop=True)\n",
        "X_test = X_test.reset_index(drop=True)\n",
        "y_rest = y_rest.reset_index(drop=True)\n",
        "y_test = y_test.reset_index(drop=True)\n",
        "\n",
        "X_train, X_valid, y_train, y_valid = sk_ms.train_test_split(X_rest, y_rest, test_size= 0.3, stratify=y_rest)\n",
        "\n",
        "X_train = X_train.reset_index(drop=True)\n",
        "X_valid = X_valid.reset_index(drop=True)\n",
        "y_train = y_train.reset_index(drop=True)\n",
        "y_valid = y_valid.reset_index(drop=True)\n",
        "\n",
        "X_valid.head()"
      ],
      "execution_count": 14,
      "outputs": [
        {
          "output_type": "execute_result",
          "data": {
            "text/plain": [
              "            name  valid_first_name        phone  valid_phone_number  \\\n",
              "0        olyshka                 0  88151848742                   0   \n",
              "1  LeniAreriuche                 0  83321697722                   0   \n",
              "2      uyuducolo                 0  84574274532                   0   \n",
              "3        Дмитрий                 1  79123456150                   0   \n",
              "4      Donaldlqe                 0  87875352762                   0   \n",
              "\n",
              "                                   email         email_domain  \\\n",
              "0                         32galy@mail.ru              mail.ru   \n",
              "1                terrance.riley@inbox.ru             inbox.ru   \n",
              "2             axojif@otnis.jonjamail.com  otnis.jonjamail.com   \n",
              "3                 noilacenma1982@mail.ru              mail.ru   \n",
              "4  u.serzalevs.ki.j.a2.2.201@gmail.com\\n            gmail.com   \n",
              "\n",
              "                                             message  \n",
              "0                                                     \n",
              "1                                           gislaved  \n",
              "2                                                     \n",
              "3  Здравствуйте. Оказываю полный спектр юридическ...  \n",
              "4  Привет господа \\nБурение скважин Бурение скваж...  "
            ],
            "text/html": [
              "\n",
              "  <div id=\"df-45764a39-a644-44e6-92f4-d814dbbf093b\">\n",
              "    <div class=\"colab-df-container\">\n",
              "      <div>\n",
              "<style scoped>\n",
              "    .dataframe tbody tr th:only-of-type {\n",
              "        vertical-align: middle;\n",
              "    }\n",
              "\n",
              "    .dataframe tbody tr th {\n",
              "        vertical-align: top;\n",
              "    }\n",
              "\n",
              "    .dataframe thead th {\n",
              "        text-align: right;\n",
              "    }\n",
              "</style>\n",
              "<table border=\"1\" class=\"dataframe\">\n",
              "  <thead>\n",
              "    <tr style=\"text-align: right;\">\n",
              "      <th></th>\n",
              "      <th>name</th>\n",
              "      <th>valid_first_name</th>\n",
              "      <th>phone</th>\n",
              "      <th>valid_phone_number</th>\n",
              "      <th>email</th>\n",
              "      <th>email_domain</th>\n",
              "      <th>message</th>\n",
              "    </tr>\n",
              "  </thead>\n",
              "  <tbody>\n",
              "    <tr>\n",
              "      <th>0</th>\n",
              "      <td>olyshka</td>\n",
              "      <td>0</td>\n",
              "      <td>88151848742</td>\n",
              "      <td>0</td>\n",
              "      <td>32galy@mail.ru</td>\n",
              "      <td>mail.ru</td>\n",
              "      <td></td>\n",
              "    </tr>\n",
              "    <tr>\n",
              "      <th>1</th>\n",
              "      <td>LeniAreriuche</td>\n",
              "      <td>0</td>\n",
              "      <td>83321697722</td>\n",
              "      <td>0</td>\n",
              "      <td>terrance.riley@inbox.ru</td>\n",
              "      <td>inbox.ru</td>\n",
              "      <td>gislaved</td>\n",
              "    </tr>\n",
              "    <tr>\n",
              "      <th>2</th>\n",
              "      <td>uyuducolo</td>\n",
              "      <td>0</td>\n",
              "      <td>84574274532</td>\n",
              "      <td>0</td>\n",
              "      <td>axojif@otnis.jonjamail.com</td>\n",
              "      <td>otnis.jonjamail.com</td>\n",
              "      <td></td>\n",
              "    </tr>\n",
              "    <tr>\n",
              "      <th>3</th>\n",
              "      <td>Дмитрий</td>\n",
              "      <td>1</td>\n",
              "      <td>79123456150</td>\n",
              "      <td>0</td>\n",
              "      <td>noilacenma1982@mail.ru</td>\n",
              "      <td>mail.ru</td>\n",
              "      <td>Здравствуйте. Оказываю полный спектр юридическ...</td>\n",
              "    </tr>\n",
              "    <tr>\n",
              "      <th>4</th>\n",
              "      <td>Donaldlqe</td>\n",
              "      <td>0</td>\n",
              "      <td>87875352762</td>\n",
              "      <td>0</td>\n",
              "      <td>u.serzalevs.ki.j.a2.2.201@gmail.com\\n</td>\n",
              "      <td>gmail.com</td>\n",
              "      <td>Привет господа \\nБурение скважин Бурение скваж...</td>\n",
              "    </tr>\n",
              "  </tbody>\n",
              "</table>\n",
              "</div>\n",
              "      <button class=\"colab-df-convert\" onclick=\"convertToInteractive('df-45764a39-a644-44e6-92f4-d814dbbf093b')\"\n",
              "              title=\"Convert this dataframe to an interactive table.\"\n",
              "              style=\"display:none;\">\n",
              "        \n",
              "  <svg xmlns=\"http://www.w3.org/2000/svg\" height=\"24px\"viewBox=\"0 0 24 24\"\n",
              "       width=\"24px\">\n",
              "    <path d=\"M0 0h24v24H0V0z\" fill=\"none\"/>\n",
              "    <path d=\"M18.56 5.44l.94 2.06.94-2.06 2.06-.94-2.06-.94-.94-2.06-.94 2.06-2.06.94zm-11 1L8.5 8.5l.94-2.06 2.06-.94-2.06-.94L8.5 2.5l-.94 2.06-2.06.94zm10 10l.94 2.06.94-2.06 2.06-.94-2.06-.94-.94-2.06-.94 2.06-2.06.94z\"/><path d=\"M17.41 7.96l-1.37-1.37c-.4-.4-.92-.59-1.43-.59-.52 0-1.04.2-1.43.59L10.3 9.45l-7.72 7.72c-.78.78-.78 2.05 0 2.83L4 21.41c.39.39.9.59 1.41.59.51 0 1.02-.2 1.41-.59l7.78-7.78 2.81-2.81c.8-.78.8-2.07 0-2.86zM5.41 20L4 18.59l7.72-7.72 1.47 1.35L5.41 20z\"/>\n",
              "  </svg>\n",
              "      </button>\n",
              "      \n",
              "  <style>\n",
              "    .colab-df-container {\n",
              "      display:flex;\n",
              "      flex-wrap:wrap;\n",
              "      gap: 12px;\n",
              "    }\n",
              "\n",
              "    .colab-df-convert {\n",
              "      background-color: #E8F0FE;\n",
              "      border: none;\n",
              "      border-radius: 50%;\n",
              "      cursor: pointer;\n",
              "      display: none;\n",
              "      fill: #1967D2;\n",
              "      height: 32px;\n",
              "      padding: 0 0 0 0;\n",
              "      width: 32px;\n",
              "    }\n",
              "\n",
              "    .colab-df-convert:hover {\n",
              "      background-color: #E2EBFA;\n",
              "      box-shadow: 0px 1px 2px rgba(60, 64, 67, 0.3), 0px 1px 3px 1px rgba(60, 64, 67, 0.15);\n",
              "      fill: #174EA6;\n",
              "    }\n",
              "\n",
              "    [theme=dark] .colab-df-convert {\n",
              "      background-color: #3B4455;\n",
              "      fill: #D2E3FC;\n",
              "    }\n",
              "\n",
              "    [theme=dark] .colab-df-convert:hover {\n",
              "      background-color: #434B5C;\n",
              "      box-shadow: 0px 1px 3px 1px rgba(0, 0, 0, 0.15);\n",
              "      filter: drop-shadow(0px 1px 2px rgba(0, 0, 0, 0.3));\n",
              "      fill: #FFFFFF;\n",
              "    }\n",
              "  </style>\n",
              "\n",
              "      <script>\n",
              "        const buttonEl =\n",
              "          document.querySelector('#df-45764a39-a644-44e6-92f4-d814dbbf093b button.colab-df-convert');\n",
              "        buttonEl.style.display =\n",
              "          google.colab.kernel.accessAllowed ? 'block' : 'none';\n",
              "\n",
              "        async function convertToInteractive(key) {\n",
              "          const element = document.querySelector('#df-45764a39-a644-44e6-92f4-d814dbbf093b');\n",
              "          const dataTable =\n",
              "            await google.colab.kernel.invokeFunction('convertToInteractive',\n",
              "                                                     [key], {});\n",
              "          if (!dataTable) return;\n",
              "\n",
              "          const docLinkHtml = 'Like what you see? Visit the ' +\n",
              "            '<a target=\"_blank\" href=https://colab.research.google.com/notebooks/data_table.ipynb>data table notebook</a>'\n",
              "            + ' to learn more about interactive tables.';\n",
              "          element.innerHTML = '';\n",
              "          dataTable['output_type'] = 'display_data';\n",
              "          await google.colab.output.renderOutput(dataTable, element);\n",
              "          const docLink = document.createElement('div');\n",
              "          docLink.innerHTML = docLinkHtml;\n",
              "          element.appendChild(docLink);\n",
              "        }\n",
              "      </script>\n",
              "    </div>\n",
              "  </div>\n",
              "  "
            ]
          },
          "metadata": {},
          "execution_count": 14
        }
      ]
    },
    {
      "cell_type": "code",
      "source": [
        "print(\"Number of training examples\", len(y_train))\n",
        "print(\"Number of validation examples\", len(y_valid))\n",
        "print(\"Number of testing examples\", len(y_test))"
      ],
      "metadata": {
        "colab": {
          "base_uri": "https://localhost:8080/"
        },
        "id": "zfu76gGbiqSr",
        "outputId": "7a363685-abd2-4824-8411-380e12eba3d5"
      },
      "execution_count": 15,
      "outputs": [
        {
          "output_type": "stream",
          "name": "stdout",
          "text": [
            "Number of training examples 310\n",
            "Number of validation examples 134\n",
            "Number of testing examples 112\n"
          ]
        }
      ]
    },
    {
      "cell_type": "markdown",
      "metadata": {
        "id": "Mb7eZz4SQWcH"
      },
      "source": [
        "# **Building and training the model**"
      ]
    },
    {
      "cell_type": "markdown",
      "source": [
        "## Converting \"email_domain\" and \"message\" columns into vectors."
      ],
      "metadata": {
        "id": "ryMiZkcbPbi7"
      }
    },
    {
      "cell_type": "code",
      "metadata": {
        "id": "wwHAqetEp4Wj"
      },
      "source": [
        "#Preparing the data vectorizer\n",
        "\n",
        "email_dom_vectorizer = CountVectorizer()\n",
        "email_dom_vectorizer.fit(email_data.email_domain)\n",
        "email_dom_vectorized_train = email_dom_vectorizer.transform(X_train.email_domain)\n",
        "email_dom_vectorized_valid = email_dom_vectorizer.transform(X_valid.email_domain)\n",
        "email_dom_vectorized_test = email_dom_vectorizer.transform(X_test.email_domain)\n",
        "\n",
        "email_message_vectorizer = CountVectorizer(analyzer=process_text)\n",
        "email_message_vectorizer.fit(email_data.message)\n",
        "email_message_vectorized_train = email_message_vectorizer.transform(X_train.message)\n",
        "email_message_vectorized_valid = email_message_vectorizer.transform(X_valid.message)\n",
        "email_message_vectorized_test = email_message_vectorizer.transform(X_test.message)\n"
      ],
      "execution_count": 16,
      "outputs": []
    },
    {
      "cell_type": "code",
      "metadata": {
        "id": "PsFyOojMCZt8"
      },
      "source": [
        " #email_message_vectorizer.get_feature_names()"
      ],
      "execution_count": 17,
      "outputs": []
    },
    {
      "cell_type": "markdown",
      "source": [
        "## Building Naive Bayes model for \"email_domain\" column analysis"
      ],
      "metadata": {
        "id": "P0NFBOYrPhuE"
      }
    },
    {
      "cell_type": "code",
      "source": [
        "# Naive Bayes model for \"email_domain\" column analysis training and tuning\n",
        "\n",
        "NB_dom_model_params = [i/100 for i in range(1, 101)]\n",
        "f1_scores = {}\n",
        "for i in range(len(NB_dom_model_params)):\n",
        "  NB_dom_model = MultinomialNB(alpha=NB_dom_model_params[i])\n",
        "  NB_dom_model.fit(email_dom_vectorized_train, y_train)\n",
        "  NB_dom_predictions = NB_dom_model.predict(email_dom_vectorized_valid)\n",
        "  f1_score = sk_metrics.f1_score(y_valid, NB_dom_predictions, average=\"binary\")\n",
        "  f1_scores[NB_dom_model_params[i]] = f1_score\n"
      ],
      "metadata": {
        "id": "cj-agOMVf7ft"
      },
      "execution_count": 18,
      "outputs": []
    },
    {
      "cell_type": "code",
      "source": [
        "# Determining the optimal value for \"alpha\" hyperparameter.\n",
        "\n",
        "best_score = 0\n",
        "best_alpha = 0\n",
        "\n",
        "for alpha, score in f1_scores.items():\n",
        "    if score >= best_score:\n",
        "      best_alpha = alpha\n",
        "      best_score = score\n",
        "\n",
        "print(\"Optimal 'alpha' hyperparameter value:\", best_alpha)\n",
        "\n",
        "print(\"F1 score for optimal hyperparameter value:\", f1_scores[best_alpha])\n"
      ],
      "metadata": {
        "colab": {
          "base_uri": "https://localhost:8080/"
        },
        "id": "hqL8M608xSId",
        "outputId": "22560868-f2e0-4c31-9f20-0418da68cc30"
      },
      "execution_count": 19,
      "outputs": [
        {
          "output_type": "stream",
          "name": "stdout",
          "text": [
            "Optimal 'alpha' hyperparameter value: 0.28\n",
            "F1 score for optimal hyperparameter value: 0.810126582278481\n"
          ]
        }
      ]
    },
    {
      "cell_type": "code",
      "source": [
        "# Naive Bayes model for \"email_domain\" column analysis efficiency plot\n",
        "\n",
        "x = []\n",
        "y = []\n",
        "\n",
        "for key, value in f1_scores.items():\n",
        "  x.append(key)\n",
        "  y.append(value)\n",
        "\n",
        "fig = plt.figure(figsize=(10,6))\n",
        "\n",
        "plt.plot(x, y)\n",
        "\n",
        "plt.xlabel(\"Alpha value\")\n",
        "plt.ylabel(\"F1 score\")\n",
        "\n",
        "plt.show()\n"
      ],
      "metadata": {
        "colab": {
          "base_uri": "https://localhost:8080/",
          "height": 388
        },
        "id": "Jowb6mA2qpzF",
        "outputId": "baec88fa-db6f-4b6a-d228-8feff031ab29"
      },
      "execution_count": 20,
      "outputs": [
        {
          "output_type": "display_data",
          "data": {
            "text/plain": [
              "<Figure size 720x432 with 1 Axes>"
            ],
            "image/png": "[encoded data removed]"
          },
          "metadata": {
            "needs_background": "light"
          }
        }
      ]
    },
    {
      "cell_type": "code",
      "source": [
        "# Training the model using the optimal \"alpha\" hyperparameter value\n",
        "\n",
        "NB_dom_model = MultinomialNB(alpha=best_alpha)\n",
        "\n",
        "NB_dom_model.fit(email_dom_vectorized_train, y_train)\n",
        "\n",
        "NB_dom_predictions = NB_dom_model.predict(email_dom_vectorized_valid)\n",
        "\n",
        "NB_dom_train_proba = NB_dom_model.predict_proba(email_dom_vectorized_train)[:, 1]\n",
        "NB_dom_valid_proba = NB_dom_model.predict_proba(email_dom_vectorized_valid)[:, 1]\n"
      ],
      "metadata": {
        "id": "F8z2khkz_vwH"
      },
      "execution_count": 21,
      "outputs": []
    },
    {
      "cell_type": "code",
      "metadata": {
        "id": "kPDFXdo2rnSi",
        "colab": {
          "base_uri": "https://localhost:8080/"
        },
        "outputId": "b930c1b8-9413-4974-da4b-59006db1aecf"
      },
      "source": [
        "# NB model performance results\n",
        "\n",
        "print(sk_metrics.classification_report(y_valid, NB_dom_predictions))\n",
        "print()\n",
        "print(\"Accuracy score:\", sk_metrics.accuracy_score(y_valid, NB_dom_predictions))"
      ],
      "execution_count": 22,
      "outputs": [
        {
          "output_type": "stream",
          "name": "stdout",
          "text": [
            "              precision    recall  f1-score   support\n",
            "\n",
            "           0       0.69      0.77      0.73        52\n",
            "           1       0.84      0.78      0.81        82\n",
            "\n",
            "    accuracy                           0.78       134\n",
            "   macro avg       0.77      0.77      0.77       134\n",
            "weighted avg       0.78      0.78      0.78       134\n",
            "\n",
            "\n",
            "Accuracy score: 0.7761194029850746\n"
          ]
        }
      ]
    },
    {
      "cell_type": "markdown",
      "source": [
        "## Building Naive Bayes model for \"message\" column analysis"
      ],
      "metadata": {
        "id": "pF8Bt4yYPpKd"
      }
    },
    {
      "cell_type": "code",
      "metadata": {
        "id": "EaZwlYy2s_ki"
      },
      "source": [
        "# Naive Bayes model for \"message\" column analysis training and tuning\n",
        "\n",
        "NB_mes_model_params = [i/100 for i in range(1, 201)]\n",
        "f1_scores = {}\n",
        "for i in range(len(NB_mes_model_params)):\n",
        "  NB_mes_model = MultinomialNB(alpha=NB_mes_model_params[i])\n",
        "  NB_mes_model.fit(email_message_vectorized_train, y_train)\n",
        "  NB_mes_predictions = NB_mes_model.predict(email_message_vectorized_valid)\n",
        "  f1_score = sk_metrics.f1_score(y_valid, NB_mes_predictions)\n",
        "  f1_scores[NB_mes_model_params[i]] = f1_score\n",
        "  "
      ],
      "execution_count": 23,
      "outputs": []
    },
    {
      "cell_type": "code",
      "source": [
        "# Determining the optimal value for \"alpha\" hyperparameter.\n",
        "\n",
        "best_score = 0\n",
        "best_alpha = 0\n",
        "\n",
        "for alpha, score in f1_scores.items():\n",
        "    if score >= best_score:\n",
        "      best_alpha = alpha\n",
        "      best_score = score\n",
        "\n",
        "print(\"Optimal 'alpha' hyperparameter value:\", best_alpha)\n",
        "\n",
        "print(\"F1 score for optimal hyperparameter value:\", f1_scores[best_alpha])\n"
      ],
      "metadata": {
        "colab": {
          "base_uri": "https://localhost:8080/"
        },
        "id": "R9YeK1AyTOba",
        "outputId": "fe6720fd-eb8a-4d94-9c8e-de58c49b4b09"
      },
      "execution_count": 24,
      "outputs": [
        {
          "output_type": "stream",
          "name": "stdout",
          "text": [
            "Optimal 'alpha' hyperparameter value: 0.08\n",
            "F1 score for optimal hyperparameter value: 0.7684210526315789\n"
          ]
        }
      ]
    },
    {
      "cell_type": "code",
      "source": [
        "# Naive Bayes model for \"message\" column analysis efficiency plot\n",
        "\n",
        "x = []\n",
        "y = []\n",
        "\n",
        "for key, value in f1_scores.items():\n",
        "  x.append(key)\n",
        "  y.append(value)\n",
        "\n",
        "fig = plt.figure(figsize=(10,6))\n",
        "\n",
        "plt.plot(x, y)\n",
        "\n",
        "plt.xlabel(\"Alpha value\")\n",
        "plt.ylabel(\"F1 score\")\n",
        "\n",
        "plt.show()\n"
      ],
      "metadata": {
        "colab": {
          "base_uri": "https://localhost:8080/",
          "height": 388
        },
        "id": "kwy8rzn3TR3m",
        "outputId": "3ad71185-14ac-43b0-b68f-95102c2d0e99"
      },
      "execution_count": 25,
      "outputs": [
        {
          "output_type": "display_data",
          "data": {
            "text/plain": [
              "<Figure size 720x432 with 1 Axes>"
            ],
            "image/png": "[encoded data removed]"
          },
          "metadata": {
            "needs_background": "light"
          }
        }
      ]
    },
    {
      "cell_type": "code",
      "source": [
        "# Training the model using the optimal \"alpha\" hyperparameter value\n",
        "\n",
        "NB_mes_model = MultinomialNB(alpha=best_alpha)\n",
        "\n",
        "NB_mes_model.fit(email_message_vectorized_train, y_train)\n",
        "\n",
        "NB_mes_predictions = NB_mes_model.predict(email_message_vectorized_valid)\n",
        "\n",
        "NB_mes_train_proba = NB_mes_model.predict_proba(email_message_vectorized_train)[:, 1]\n",
        "NB_mes_valid_proba = NB_mes_model.predict_proba(email_message_vectorized_valid)[:, 1]"
      ],
      "metadata": {
        "id": "16dE1psrTftM"
      },
      "execution_count": 26,
      "outputs": []
    },
    {
      "cell_type": "code",
      "source": [
        "# NB model performance results\n",
        "\n",
        "print(sk_metrics.classification_report(y_valid, NB_mes_predictions))\n",
        "print()\n",
        "print(\"Accuracy score:\", sk_metrics.accuracy_score(y_valid, NB_mes_predictions))"
      ],
      "metadata": {
        "colab": {
          "base_uri": "https://localhost:8080/"
        },
        "id": "fY-au1DWTpOE",
        "outputId": "840e17a7-b960-437e-c65e-ae1d60b0ca06"
      },
      "execution_count": 27,
      "outputs": [
        {
          "output_type": "stream",
          "name": "stdout",
          "text": [
            "              precision    recall  f1-score   support\n",
            "\n",
            "           0       0.65      0.33      0.44        52\n",
            "           1       0.68      0.89      0.77        82\n",
            "\n",
            "    accuracy                           0.67       134\n",
            "   macro avg       0.66      0.61      0.60       134\n",
            "weighted avg       0.67      0.67      0.64       134\n",
            "\n",
            "\n",
            "Accuracy score: 0.6716417910447762\n"
          ]
        }
      ]
    },
    {
      "cell_type": "markdown",
      "source": [
        "## Building Logistic Regression model for predicting the validity of applications"
      ],
      "metadata": {
        "id": "Pw4Mn4mHPqg8"
      }
    },
    {
      "cell_type": "code",
      "metadata": {
        "colab": {
          "base_uri": "https://localhost:8080/",
          "height": 206
        },
        "id": "bZeP41c7vGOJ",
        "outputId": "5aba6261-4120-490f-dfba-4cd69e3704a2"
      },
      "source": [
        "# Data to train and tune LR\n",
        "\n",
        "X_train = X_train.loc[:, [\"valid_first_name\", \"valid_phone_number\"]]\n",
        "X_train = pd.concat([X_train, pd.Series(NB_dom_train_proba, name=\"domain_validity_proba\")], axis=1)\n",
        "X_train = pd.concat([X_train, pd.Series(NB_mes_train_proba, name=\"message_validity_proba\")], axis=1)\n",
        "\n",
        "X_valid_temp = X_valid.loc[:, [\"valid_first_name\", \"valid_phone_number\"]]\n",
        "X_valid_temp = pd.concat([X_valid_temp, pd.Series(NB_dom_valid_proba, name=\"domain_validity_proba\")], axis=1)\n",
        "X_valid_temp = pd.concat([X_valid_temp, pd.Series(NB_mes_valid_proba, name=\"message_validity_proba\")], axis=1)\n",
        "\n",
        "X_train.head()"
      ],
      "execution_count": 28,
      "outputs": [
        {
          "output_type": "execute_result",
          "data": {
            "text/plain": [
              "   valid_first_name  valid_phone_number  domain_validity_proba  \\\n",
              "0                 0                   0               0.696737   \n",
              "1                 0                   0               0.970037   \n",
              "2                 1                   1               0.153292   \n",
              "3                 0                   0               0.998605   \n",
              "4                 0                   0               0.991660   \n",
              "\n",
              "   message_validity_proba  \n",
              "0                0.616129  \n",
              "1                0.616129  \n",
              "2                0.616129  \n",
              "3                0.616129  \n",
              "4                0.616129  "
            ],
            "text/html": [
              "\n",
              "  <div id=\"df-993e285f-ca60-4f69-92ef-ce6145fac020\">\n",
              "    <div class=\"colab-df-container\">\n",
              "      <div>\n",
              "<style scoped>\n",
              "    .dataframe tbody tr th:only-of-type {\n",
              "        vertical-align: middle;\n",
              "    }\n",
              "\n",
              "    .dataframe tbody tr th {\n",
              "        vertical-align: top;\n",
              "    }\n",
              "\n",
              "    .dataframe thead th {\n",
              "        text-align: right;\n",
              "    }\n",
              "</style>\n",
              "<table border=\"1\" class=\"dataframe\">\n",
              "  <thead>\n",
              "    <tr style=\"text-align: right;\">\n",
              "      <th></th>\n",
              "      <th>valid_first_name</th>\n",
              "      <th>valid_phone_number</th>\n",
              "      <th>domain_validity_proba</th>\n",
              "      <th>message_validity_proba</th>\n",
              "    </tr>\n",
              "  </thead>\n",
              "  <tbody>\n",
              "    <tr>\n",
              "      <th>0</th>\n",
              "      <td>0</td>\n",
              "      <td>0</td>\n",
              "      <td>0.696737</td>\n",
              "      <td>0.616129</td>\n",
              "    </tr>\n",
              "    <tr>\n",
              "      <th>1</th>\n",
              "      <td>0</td>\n",
              "      <td>0</td>\n",
              "      <td>0.970037</td>\n",
              "      <td>0.616129</td>\n",
              "    </tr>\n",
              "    <tr>\n",
              "      <th>2</th>\n",
              "      <td>1</td>\n",
              "      <td>1</td>\n",
              "      <td>0.153292</td>\n",
              "      <td>0.616129</td>\n",
              "    </tr>\n",
              "    <tr>\n",
              "      <th>3</th>\n",
              "      <td>0</td>\n",
              "      <td>0</td>\n",
              "      <td>0.998605</td>\n",
              "      <td>0.616129</td>\n",
              "    </tr>\n",
              "    <tr>\n",
              "      <th>4</th>\n",
              "      <td>0</td>\n",
              "      <td>0</td>\n",
              "      <td>0.991660</td>\n",
              "      <td>0.616129</td>\n",
              "    </tr>\n",
              "  </tbody>\n",
              "</table>\n",
              "</div>\n",
              "      <button class=\"colab-df-convert\" onclick=\"convertToInteractive('df-993e285f-ca60-4f69-92ef-ce6145fac020')\"\n",
              "              title=\"Convert this dataframe to an interactive table.\"\n",
              "              style=\"display:none;\">\n",
              "        \n",
              "  <svg xmlns=\"http://www.w3.org/2000/svg\" height=\"24px\"viewBox=\"0 0 24 24\"\n",
              "       width=\"24px\">\n",
              "    <path d=\"M0 0h24v24H0V0z\" fill=\"none\"/>\n",
              "    <path d=\"M18.56 5.44l.94 2.06.94-2.06 2.06-.94-2.06-.94-.94-2.06-.94 2.06-2.06.94zm-11 1L8.5 8.5l.94-2.06 2.06-.94-2.06-.94L8.5 2.5l-.94 2.06-2.06.94zm10 10l.94 2.06.94-2.06 2.06-.94-2.06-.94-.94-2.06-.94 2.06-2.06.94z\"/><path d=\"M17.41 7.96l-1.37-1.37c-.4-.4-.92-.59-1.43-.59-.52 0-1.04.2-1.43.59L10.3 9.45l-7.72 7.72c-.78.78-.78 2.05 0 2.83L4 21.41c.39.39.9.59 1.41.59.51 0 1.02-.2 1.41-.59l7.78-7.78 2.81-2.81c.8-.78.8-2.07 0-2.86zM5.41 20L4 18.59l7.72-7.72 1.47 1.35L5.41 20z\"/>\n",
              "  </svg>\n",
              "      </button>\n",
              "      \n",
              "  <style>\n",
              "    .colab-df-container {\n",
              "      display:flex;\n",
              "      flex-wrap:wrap;\n",
              "      gap: 12px;\n",
              "    }\n",
              "\n",
              "    .colab-df-convert {\n",
              "      background-color: #E8F0FE;\n",
              "      border: none;\n",
              "      border-radius: 50%;\n",
              "      cursor: pointer;\n",
              "      display: none;\n",
              "      fill: #1967D2;\n",
              "      height: 32px;\n",
              "      padding: 0 0 0 0;\n",
              "      width: 32px;\n",
              "    }\n",
              "\n",
              "    .colab-df-convert:hover {\n",
              "      background-color: #E2EBFA;\n",
              "      box-shadow: 0px 1px 2px rgba(60, 64, 67, 0.3), 0px 1px 3px 1px rgba(60, 64, 67, 0.15);\n",
              "      fill: #174EA6;\n",
              "    }\n",
              "\n",
              "    [theme=dark] .colab-df-convert {\n",
              "      background-color: #3B4455;\n",
              "      fill: #D2E3FC;\n",
              "    }\n",
              "\n",
              "    [theme=dark] .colab-df-convert:hover {\n",
              "      background-color: #434B5C;\n",
              "      box-shadow: 0px 1px 3px 1px rgba(0, 0, 0, 0.15);\n",
              "      filter: drop-shadow(0px 1px 2px rgba(0, 0, 0, 0.3));\n",
              "      fill: #FFFFFF;\n",
              "    }\n",
              "  </style>\n",
              "\n",
              "      <script>\n",
              "        const buttonEl =\n",
              "          document.querySelector('#df-993e285f-ca60-4f69-92ef-ce6145fac020 button.colab-df-convert');\n",
              "        buttonEl.style.display =\n",
              "          google.colab.kernel.accessAllowed ? 'block' : 'none';\n",
              "\n",
              "        async function convertToInteractive(key) {\n",
              "          const element = document.querySelector('#df-993e285f-ca60-4f69-92ef-ce6145fac020');\n",
              "          const dataTable =\n",
              "            await google.colab.kernel.invokeFunction('convertToInteractive',\n",
              "                                                     [key], {});\n",
              "          if (!dataTable) return;\n",
              "\n",
              "          const docLinkHtml = 'Like what you see? Visit the ' +\n",
              "            '<a target=\"_blank\" href=https://colab.research.google.com/notebooks/data_table.ipynb>data table notebook</a>'\n",
              "            + ' to learn more about interactive tables.';\n",
              "          element.innerHTML = '';\n",
              "          dataTable['output_type'] = 'display_data';\n",
              "          await google.colab.output.renderOutput(dataTable, element);\n",
              "          const docLink = document.createElement('div');\n",
              "          docLink.innerHTML = docLinkHtml;\n",
              "          element.appendChild(docLink);\n",
              "        }\n",
              "      </script>\n",
              "    </div>\n",
              "  </div>\n",
              "  "
            ]
          },
          "metadata": {},
          "execution_count": 28
        }
      ]
    },
    {
      "cell_type": "code",
      "source": [
        "# Logistic Regression сlassifier training and tuning\n",
        "\n",
        "LR_model = LogisticRegression(max_iter=300)\n",
        "LR_params = {\"penalty\": [\"l1\", \"l2\"],\n",
        "             \"C\": [i/100 for i in range(1, 1001, 10)],\n",
        "             \"solver\": [\"liblinear\", \"saga\"]}\n",
        "\n",
        "clf = sk_ms.GridSearchCV(LR_model, LR_params)\n",
        "\n",
        "clf.fit(X_train, y_train)"
      ],
      "metadata": {
        "id": "FA1yUG75R5o6"
      },
      "execution_count": null,
      "outputs": []
    },
    {
      "cell_type": "code",
      "source": [
        "print(\"Optimal set of hyperparameters:\", clf.best_params_)"
      ],
      "metadata": {
        "colab": {
          "base_uri": "https://localhost:8080/"
        },
        "id": "2e9o0GoydEB5",
        "outputId": "543b38dc-f0a9-43e6-87ee-bfd72c2685cb"
      },
      "execution_count": 30,
      "outputs": [
        {
          "output_type": "stream",
          "name": "stdout",
          "text": [
            "Optimal set of hyperparameters: {'C': 0.11, 'penalty': 'l2', 'solver': 'liblinear'}\n"
          ]
        }
      ]
    },
    {
      "cell_type": "code",
      "metadata": {
        "colab": {
          "base_uri": "https://localhost:8080/"
        },
        "id": "-9zwdJt84Ewt",
        "outputId": "9e29e75f-4b5a-4f49-c56b-f38d6fbd9dfb"
      },
      "source": [
        "# Logistic Regression classifier performance results\n",
        "\n",
        "LR_predictions = clf.predict(X_valid_temp)\n",
        "\n",
        "print(sk_metrics.classification_report(y_valid, LR_predictions))\n",
        "print()\n",
        "print(\"Accuracy score:\", sk_metrics.accuracy_score(y_valid, LR_predictions))"
      ],
      "execution_count": 31,
      "outputs": [
        {
          "output_type": "stream",
          "name": "stdout",
          "text": [
            "              precision    recall  f1-score   support\n",
            "\n",
            "           0       0.98      0.98      0.98        52\n",
            "           1       0.99      0.99      0.99        82\n",
            "\n",
            "    accuracy                           0.99       134\n",
            "   macro avg       0.98      0.98      0.98       134\n",
            "weighted avg       0.99      0.99      0.99       134\n",
            "\n",
            "\n",
            "Accuracy score: 0.9850746268656716\n"
          ]
        }
      ]
    },
    {
      "cell_type": "markdown",
      "metadata": {
        "id": "pcDkRH-WcdNk"
      },
      "source": [
        "# **Testing the model on test data set**"
      ]
    },
    {
      "cell_type": "code",
      "metadata": {
        "id": "HUYx728wdAYe"
      },
      "source": [
        "# NB model analysis of \"email_domain\" column\n",
        "\n",
        "NB_dom_predictions = NB_dom_model.predict_proba(email_dom_vectorized_test)[:, 1]"
      ],
      "execution_count": 32,
      "outputs": []
    },
    {
      "cell_type": "code",
      "metadata": {
        "id": "XXkfBi0sdAYj"
      },
      "source": [
        "# NB model analysis of \"message\" column\n",
        "\n",
        "NB_mes_predictions = NB_mes_model.predict_proba(email_message_vectorized_test)[:, 1]"
      ],
      "execution_count": 33,
      "outputs": []
    },
    {
      "cell_type": "code",
      "metadata": {
        "colab": {
          "base_uri": "https://localhost:8080/",
          "height": 206
        },
        "id": "A-F480fBdAYl",
        "outputId": "377eb717-39e1-4149-d2bb-38166c4d05e0"
      },
      "source": [
        "# Preparing data for LR\n",
        "\n",
        "temp_df = X_test.loc[:, [\"valid_first_name\", \"valid_phone_number\"]]\n",
        "temp_df = pd.concat([temp_df, pd.Series(NB_dom_predictions, name=\"domain_validity_proba\")], axis=1)\n",
        "temp_df = pd.concat([temp_df, pd.Series(NB_mes_predictions, name=\"message_validity_proba\")], axis=1)\n",
        "\n",
        "temp_df.head()"
      ],
      "execution_count": 34,
      "outputs": [
        {
          "output_type": "execute_result",
          "data": {
            "text/plain": [
              "   valid_first_name  valid_phone_number  domain_validity_proba  \\\n",
              "0                 1                   1               0.153292   \n",
              "1                 0                   0               0.153292   \n",
              "2                 1                   1               0.153292   \n",
              "3                 1                   1               0.017646   \n",
              "4                 1                   1               0.153292   \n",
              "\n",
              "   message_validity_proba  \n",
              "0                0.000365  \n",
              "1                0.616129  \n",
              "2                0.000005  \n",
              "3                0.616129  \n",
              "4                0.005835  "
            ],
            "text/html": [
              "\n",
              "  <div id=\"df-3236d7fa-ab16-470c-9948-28f1e3048d5a\">\n",
              "    <div class=\"colab-df-container\">\n",
              "      <div>\n",
              "<style scoped>\n",
              "    .dataframe tbody tr th:only-of-type {\n",
              "        vertical-align: middle;\n",
              "    }\n",
              "\n",
              "    .dataframe tbody tr th {\n",
              "        vertical-align: top;\n",
              "    }\n",
              "\n",
              "    .dataframe thead th {\n",
              "        text-align: right;\n",
              "    }\n",
              "</style>\n",
              "<table border=\"1\" class=\"dataframe\">\n",
              "  <thead>\n",
              "    <tr style=\"text-align: right;\">\n",
              "      <th></th>\n",
              "      <th>valid_first_name</th>\n",
              "      <th>valid_phone_number</th>\n",
              "      <th>domain_validity_proba</th>\n",
              "      <th>message_validity_proba</th>\n",
              "    </tr>\n",
              "  </thead>\n",
              "  <tbody>\n",
              "    <tr>\n",
              "      <th>0</th>\n",
              "      <td>1</td>\n",
              "      <td>1</td>\n",
              "      <td>0.153292</td>\n",
              "      <td>0.000365</td>\n",
              "    </tr>\n",
              "    <tr>\n",
              "      <th>1</th>\n",
              "      <td>0</td>\n",
              "      <td>0</td>\n",
              "      <td>0.153292</td>\n",
              "      <td>0.616129</td>\n",
              "    </tr>\n",
              "    <tr>\n",
              "      <th>2</th>\n",
              "      <td>1</td>\n",
              "      <td>1</td>\n",
              "      <td>0.153292</td>\n",
              "      <td>0.000005</td>\n",
              "    </tr>\n",
              "    <tr>\n",
              "      <th>3</th>\n",
              "      <td>1</td>\n",
              "      <td>1</td>\n",
              "      <td>0.017646</td>\n",
              "      <td>0.616129</td>\n",
              "    </tr>\n",
              "    <tr>\n",
              "      <th>4</th>\n",
              "      <td>1</td>\n",
              "      <td>1</td>\n",
              "      <td>0.153292</td>\n",
              "      <td>0.005835</td>\n",
              "    </tr>\n",
              "  </tbody>\n",
              "</table>\n",
              "</div>\n",
              "      <button class=\"colab-df-convert\" onclick=\"convertToInteractive('df-3236d7fa-ab16-470c-9948-28f1e3048d5a')\"\n",
              "              title=\"Convert this dataframe to an interactive table.\"\n",
              "              style=\"display:none;\">\n",
              "        \n",
              "  <svg xmlns=\"http://www.w3.org/2000/svg\" height=\"24px\"viewBox=\"0 0 24 24\"\n",
              "       width=\"24px\">\n",
              "    <path d=\"M0 0h24v24H0V0z\" fill=\"none\"/>\n",
              "    <path d=\"M18.56 5.44l.94 2.06.94-2.06 2.06-.94-2.06-.94-.94-2.06-.94 2.06-2.06.94zm-11 1L8.5 8.5l.94-2.06 2.06-.94-2.06-.94L8.5 2.5l-.94 2.06-2.06.94zm10 10l.94 2.06.94-2.06 2.06-.94-2.06-.94-.94-2.06-.94 2.06-2.06.94z\"/><path d=\"M17.41 7.96l-1.37-1.37c-.4-.4-.92-.59-1.43-.59-.52 0-1.04.2-1.43.59L10.3 9.45l-7.72 7.72c-.78.78-.78 2.05 0 2.83L4 21.41c.39.39.9.59 1.41.59.51 0 1.02-.2 1.41-.59l7.78-7.78 2.81-2.81c.8-.78.8-2.07 0-2.86zM5.41 20L4 18.59l7.72-7.72 1.47 1.35L5.41 20z\"/>\n",
              "  </svg>\n",
              "      </button>\n",
              "      \n",
              "  <style>\n",
              "    .colab-df-container {\n",
              "      display:flex;\n",
              "      flex-wrap:wrap;\n",
              "      gap: 12px;\n",
              "    }\n",
              "\n",
              "    .colab-df-convert {\n",
              "      background-color: #E8F0FE;\n",
              "      border: none;\n",
              "      border-radius: 50%;\n",
              "      cursor: pointer;\n",
              "      display: none;\n",
              "      fill: #1967D2;\n",
              "      height: 32px;\n",
              "      padding: 0 0 0 0;\n",
              "      width: 32px;\n",
              "    }\n",
              "\n",
              "    .colab-df-convert:hover {\n",
              "      background-color: #E2EBFA;\n",
              "      box-shadow: 0px 1px 2px rgba(60, 64, 67, 0.3), 0px 1px 3px 1px rgba(60, 64, 67, 0.15);\n",
              "      fill: #174EA6;\n",
              "    }\n",
              "\n",
              "    [theme=dark] .colab-df-convert {\n",
              "      background-color: #3B4455;\n",
              "      fill: #D2E3FC;\n",
              "    }\n",
              "\n",
              "    [theme=dark] .colab-df-convert:hover {\n",
              "      background-color: #434B5C;\n",
              "      box-shadow: 0px 1px 3px 1px rgba(0, 0, 0, 0.15);\n",
              "      filter: drop-shadow(0px 1px 2px rgba(0, 0, 0, 0.3));\n",
              "      fill: #FFFFFF;\n",
              "    }\n",
              "  </style>\n",
              "\n",
              "      <script>\n",
              "        const buttonEl =\n",
              "          document.querySelector('#df-3236d7fa-ab16-470c-9948-28f1e3048d5a button.colab-df-convert');\n",
              "        buttonEl.style.display =\n",
              "          google.colab.kernel.accessAllowed ? 'block' : 'none';\n",
              "\n",
              "        async function convertToInteractive(key) {\n",
              "          const element = document.querySelector('#df-3236d7fa-ab16-470c-9948-28f1e3048d5a');\n",
              "          const dataTable =\n",
              "            await google.colab.kernel.invokeFunction('convertToInteractive',\n",
              "                                                     [key], {});\n",
              "          if (!dataTable) return;\n",
              "\n",
              "          const docLinkHtml = 'Like what you see? Visit the ' +\n",
              "            '<a target=\"_blank\" href=https://colab.research.google.com/notebooks/data_table.ipynb>data table notebook</a>'\n",
              "            + ' to learn more about interactive tables.';\n",
              "          element.innerHTML = '';\n",
              "          dataTable['output_type'] = 'display_data';\n",
              "          await google.colab.output.renderOutput(dataTable, element);\n",
              "          const docLink = document.createElement('div');\n",
              "          docLink.innerHTML = docLinkHtml;\n",
              "          element.appendChild(docLink);\n",
              "        }\n",
              "      </script>\n",
              "    </div>\n",
              "  </div>\n",
              "  "
            ]
          },
          "metadata": {},
          "execution_count": 34
        }
      ]
    },
    {
      "cell_type": "code",
      "metadata": {
        "colab": {
          "base_uri": "https://localhost:8080/"
        },
        "id": "7bdkNaEfdAYm",
        "outputId": "a6430af8-6d3f-42ee-e164-a77e1abdc37e"
      },
      "source": [
        "# Logistic Regression performance results on a test dataset\n",
        "\n",
        "LR_predictions = clf.predict(temp_df)\n",
        "\n",
        "print(sk_metrics.classification_report(y_test, LR_predictions))\n",
        "print(\"Accuracy score:\", sk_metrics.accuracy_score(y_test, LR_predictions))"
      ],
      "execution_count": 35,
      "outputs": [
        {
          "output_type": "stream",
          "name": "stdout",
          "text": [
            "              precision    recall  f1-score   support\n",
            "\n",
            "           0       1.00      1.00      1.00        43\n",
            "           1       1.00      1.00      1.00        69\n",
            "\n",
            "    accuracy                           1.00       112\n",
            "   macro avg       1.00      1.00      1.00       112\n",
            "weighted avg       1.00      1.00      1.00       112\n",
            "\n",
            "Accuracy score: 1.0\n"
          ]
        }
      ]
    },
    {
      "cell_type": "code",
      "metadata": {
        "colab": {
          "base_uri": "https://localhost:8080/",
          "height": 670
        },
        "id": "ty2D4jvPdAYn",
        "outputId": "596615a5-197c-4869-c91f-b3fa355cce90"
      },
      "source": [
        "# Inspecting performance of a model on a test dataset visually\n",
        "\n",
        "inspect_df = pd.concat([X_test, pd.Series(LR_predictions, name=\"prediction\")], axis=1)\n",
        "inspect_df = pd.concat([inspect_df, y_test], axis=1)\n",
        "inspect_df.head(10)"
      ],
      "execution_count": 36,
      "outputs": [
        {
          "output_type": "execute_result",
          "data": {
            "text/plain": [
              "                              name  valid_first_name         phone  \\\n",
              "0                  Заноза Светлана                 1  380631000000   \n",
              "1                     StephenPealf                 0   87597338877   \n",
              "2  Заикин Андрей Викторович (папа)                 1     672949941   \n",
              "3               Екатерина Лабутина                 1  380980000000   \n",
              "4                  Наталья Танчук                  1     978033778   \n",
              "5                           monyya                 0   85876247953   \n",
              "6                           monyya                 0   88658147571   \n",
              "7                          minilia                 0   86835326898   \n",
              "8                  Пилаева Наталья                 1     506007045   \n",
              "9                        niczorrrr                 0   88891222667   \n",
              "\n",
              "   valid_phone_number                         email email_domain  \\\n",
              "0                   1           sa.zanoza@gmail.com    gmail.com   \n",
              "1                   0              em7evg@gmail.com    gmail.com   \n",
              "2                   1   masterkrovlia2017@gmail.com    gmail.com   \n",
              "3                   1              kabutina@ukr.net      ukr.net   \n",
              "4                   1  natali.komarnitska@gmail.com    gmail.com   \n",
              "5                   0              shisha71@list.ru      list.ru   \n",
              "6                   0              shisha71@list.ru      list.ru   \n",
              "7                   0          axoplarly@ahmail.xyz   ahmail.xyz   \n",
              "8                   1            0506007045@ukr.net      ukr.net   \n",
              "9                   0            alex2131@gmail.com    gmail.com   \n",
              "\n",
              "                                             message  prediction  is_spam  \n",
              "0              Будет ли возможность обучения онлайн?           0        0  \n",
              "1                                                              1        1  \n",
              "2      Нужно прособеседовать, т.к. возможно на Юнити           0        0  \n",
              "3                                                              0        0  \n",
              "4                                Хочу у вас учиться            0        0  \n",
              "5                                                              1        1  \n",
              "6  Заказать seo поисковую оптимизацию сайта, Зака...           1        1  \n",
              "7                                                              1        1  \n",
              "8  Добрый вечер! Мы хотели бы заниматься дистанци...           0        0  \n",
              "9                                                              1        1  "
            ],
            "text/html": [
              "\n",
              "  <div id=\"df-bab0550f-af92-4f7b-a38e-d4d19375c8fd\">\n",
              "    <div class=\"colab-df-container\">\n",
              "      <div>\n",
              "<style scoped>\n",
              "    .dataframe tbody tr th:only-of-type {\n",
              "        vertical-align: middle;\n",
              "    }\n",
              "\n",
              "    .dataframe tbody tr th {\n",
              "        vertical-align: top;\n",
              "    }\n",
              "\n",
              "    .dataframe thead th {\n",
              "        text-align: right;\n",
              "    }\n",
              "</style>\n",
              "<table border=\"1\" class=\"dataframe\">\n",
              "  <thead>\n",
              "    <tr style=\"text-align: right;\">\n",
              "      <th></th>\n",
              "      <th>name</th>\n",
              "      <th>valid_first_name</th>\n",
              "      <th>phone</th>\n",
              "      <th>valid_phone_number</th>\n",
              "      <th>email</th>\n",
              "      <th>email_domain</th>\n",
              "      <th>message</th>\n",
              "      <th>prediction</th>\n",
              "      <th>is_spam</th>\n",
              "    </tr>\n",
              "  </thead>\n",
              "  <tbody>\n",
              "    <tr>\n",
              "      <th>0</th>\n",
              "      <td>Заноза Светлана</td>\n",
              "      <td>1</td>\n",
              "      <td>380631000000</td>\n",
              "      <td>1</td>\n",
              "      <td>sa.zanoza@gmail.com</td>\n",
              "      <td>gmail.com</td>\n",
              "      <td>Будет ли возможность обучения онлайн?</td>\n",
              "      <td>0</td>\n",
              "      <td>0</td>\n",
              "    </tr>\n",
              "    <tr>\n",
              "      <th>1</th>\n",
              "      <td>StephenPealf</td>\n",
              "      <td>0</td>\n",
              "      <td>87597338877</td>\n",
              "      <td>0</td>\n",
              "      <td>em7evg@gmail.com</td>\n",
              "      <td>gmail.com</td>\n",
              "      <td></td>\n",
              "      <td>1</td>\n",
              "      <td>1</td>\n",
              "    </tr>\n",
              "    <tr>\n",
              "      <th>2</th>\n",
              "      <td>Заикин Андрей Викторович (папа)</td>\n",
              "      <td>1</td>\n",
              "      <td>672949941</td>\n",
              "      <td>1</td>\n",
              "      <td>masterkrovlia2017@gmail.com</td>\n",
              "      <td>gmail.com</td>\n",
              "      <td>Нужно прособеседовать, т.к. возможно на Юнити</td>\n",
              "      <td>0</td>\n",
              "      <td>0</td>\n",
              "    </tr>\n",
              "    <tr>\n",
              "      <th>3</th>\n",
              "      <td>Екатерина Лабутина</td>\n",
              "      <td>1</td>\n",
              "      <td>380980000000</td>\n",
              "      <td>1</td>\n",
              "      <td>kabutina@ukr.net</td>\n",
              "      <td>ukr.net</td>\n",
              "      <td></td>\n",
              "      <td>0</td>\n",
              "      <td>0</td>\n",
              "    </tr>\n",
              "    <tr>\n",
              "      <th>4</th>\n",
              "      <td>Наталья Танчук</td>\n",
              "      <td>1</td>\n",
              "      <td>978033778</td>\n",
              "      <td>1</td>\n",
              "      <td>natali.komarnitska@gmail.com</td>\n",
              "      <td>gmail.com</td>\n",
              "      <td>Хочу у вас учиться</td>\n",
              "      <td>0</td>\n",
              "      <td>0</td>\n",
              "    </tr>\n",
              "    <tr>\n",
              "      <th>5</th>\n",
              "      <td>monyya</td>\n",
              "      <td>0</td>\n",
              "      <td>85876247953</td>\n",
              "      <td>0</td>\n",
              "      <td>shisha71@list.ru</td>\n",
              "      <td>list.ru</td>\n",
              "      <td></td>\n",
              "      <td>1</td>\n",
              "      <td>1</td>\n",
              "    </tr>\n",
              "    <tr>\n",
              "      <th>6</th>\n",
              "      <td>monyya</td>\n",
              "      <td>0</td>\n",
              "      <td>88658147571</td>\n",
              "      <td>0</td>\n",
              "      <td>shisha71@list.ru</td>\n",
              "      <td>list.ru</td>\n",
              "      <td>Заказать seo поисковую оптимизацию сайта, Зака...</td>\n",
              "      <td>1</td>\n",
              "      <td>1</td>\n",
              "    </tr>\n",
              "    <tr>\n",
              "      <th>7</th>\n",
              "      <td>minilia</td>\n",
              "      <td>0</td>\n",
              "      <td>86835326898</td>\n",
              "      <td>0</td>\n",
              "      <td>axoplarly@ahmail.xyz</td>\n",
              "      <td>ahmail.xyz</td>\n",
              "      <td></td>\n",
              "      <td>1</td>\n",
              "      <td>1</td>\n",
              "    </tr>\n",
              "    <tr>\n",
              "      <th>8</th>\n",
              "      <td>Пилаева Наталья</td>\n",
              "      <td>1</td>\n",
              "      <td>506007045</td>\n",
              "      <td>1</td>\n",
              "      <td>0506007045@ukr.net</td>\n",
              "      <td>ukr.net</td>\n",
              "      <td>Добрый вечер! Мы хотели бы заниматься дистанци...</td>\n",
              "      <td>0</td>\n",
              "      <td>0</td>\n",
              "    </tr>\n",
              "    <tr>\n",
              "      <th>9</th>\n",
              "      <td>niczorrrr</td>\n",
              "      <td>0</td>\n",
              "      <td>88891222667</td>\n",
              "      <td>0</td>\n",
              "      <td>alex2131@gmail.com</td>\n",
              "      <td>gmail.com</td>\n",
              "      <td></td>\n",
              "      <td>1</td>\n",
              "      <td>1</td>\n",
              "    </tr>\n",
              "  </tbody>\n",
              "</table>\n",
              "</div>\n",
              "      <button class=\"colab-df-convert\" onclick=\"convertToInteractive('df-bab0550f-af92-4f7b-a38e-d4d19375c8fd')\"\n",
              "              title=\"Convert this dataframe to an interactive table.\"\n",
              "              style=\"display:none;\">\n",
              "        \n",
              "  <svg xmlns=\"http://www.w3.org/2000/svg\" height=\"24px\"viewBox=\"0 0 24 24\"\n",
              "       width=\"24px\">\n",
              "    <path d=\"M0 0h24v24H0V0z\" fill=\"none\"/>\n",
              "    <path d=\"M18.56 5.44l.94 2.06.94-2.06 2.06-.94-2.06-.94-.94-2.06-.94 2.06-2.06.94zm-11 1L8.5 8.5l.94-2.06 2.06-.94-2.06-.94L8.5 2.5l-.94 2.06-2.06.94zm10 10l.94 2.06.94-2.06 2.06-.94-2.06-.94-.94-2.06-.94 2.06-2.06.94z\"/><path d=\"M17.41 7.96l-1.37-1.37c-.4-.4-.92-.59-1.43-.59-.52 0-1.04.2-1.43.59L10.3 9.45l-7.72 7.72c-.78.78-.78 2.05 0 2.83L4 21.41c.39.39.9.59 1.41.59.51 0 1.02-.2 1.41-.59l7.78-7.78 2.81-2.81c.8-.78.8-2.07 0-2.86zM5.41 20L4 18.59l7.72-7.72 1.47 1.35L5.41 20z\"/>\n",
              "  </svg>\n",
              "      </button>\n",
              "      \n",
              "  <style>\n",
              "    .colab-df-container {\n",
              "      display:flex;\n",
              "      flex-wrap:wrap;\n",
              "      gap: 12px;\n",
              "    }\n",
              "\n",
              "    .colab-df-convert {\n",
              "      background-color: #E8F0FE;\n",
              "      border: none;\n",
              "      border-radius: 50%;\n",
              "      cursor: pointer;\n",
              "      display: none;\n",
              "      fill: #1967D2;\n",
              "      height: 32px;\n",
              "      padding: 0 0 0 0;\n",
              "      width: 32px;\n",
              "    }\n",
              "\n",
              "    .colab-df-convert:hover {\n",
              "      background-color: #E2EBFA;\n",
              "      box-shadow: 0px 1px 2px rgba(60, 64, 67, 0.3), 0px 1px 3px 1px rgba(60, 64, 67, 0.15);\n",
              "      fill: #174EA6;\n",
              "    }\n",
              "\n",
              "    [theme=dark] .colab-df-convert {\n",
              "      background-color: #3B4455;\n",
              "      fill: #D2E3FC;\n",
              "    }\n",
              "\n",
              "    [theme=dark] .colab-df-convert:hover {\n",
              "      background-color: #434B5C;\n",
              "      box-shadow: 0px 1px 3px 1px rgba(0, 0, 0, 0.15);\n",
              "      filter: drop-shadow(0px 1px 2px rgba(0, 0, 0, 0.3));\n",
              "      fill: #FFFFFF;\n",
              "    }\n",
              "  </style>\n",
              "\n",
              "      <script>\n",
              "        const buttonEl =\n",
              "          document.querySelector('#df-bab0550f-af92-4f7b-a38e-d4d19375c8fd button.colab-df-convert');\n",
              "        buttonEl.style.display =\n",
              "          google.colab.kernel.accessAllowed ? 'block' : 'none';\n",
              "\n",
              "        async function convertToInteractive(key) {\n",
              "          const element = document.querySelector('#df-bab0550f-af92-4f7b-a38e-d4d19375c8fd');\n",
              "          const dataTable =\n",
              "            await google.colab.kernel.invokeFunction('convertToInteractive',\n",
              "                                                     [key], {});\n",
              "          if (!dataTable) return;\n",
              "\n",
              "          const docLinkHtml = 'Like what you see? Visit the ' +\n",
              "            '<a target=\"_blank\" href=https://colab.research.google.com/notebooks/data_table.ipynb>data table notebook</a>'\n",
              "            + ' to learn more about interactive tables.';\n",
              "          element.innerHTML = '';\n",
              "          dataTable['output_type'] = 'display_data';\n",
              "          await google.colab.output.renderOutput(dataTable, element);\n",
              "          const docLink = document.createElement('div');\n",
              "          docLink.innerHTML = docLinkHtml;\n",
              "          element.appendChild(docLink);\n",
              "        }\n",
              "      </script>\n",
              "    </div>\n",
              "  </div>\n",
              "  "
            ]
          },
          "metadata": {},
          "execution_count": 36
        }
      ]
    }
  ]
}