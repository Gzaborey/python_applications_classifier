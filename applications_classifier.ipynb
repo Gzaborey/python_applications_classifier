{
  "nbformat": 4,
  "nbformat_minor": 0,
  "metadata": {
    "colab": {
      "provenance": [],
      "toc_visible": true,
      "authorship_tag": "ABX9TyOIrbloQyZtx7FjUYnGqSnn",
      "include_colab_link": true
    },
    "kernelspec": {
      "name": "python3",
      "display_name": "Python 3"
    }
  },
  "cells": [
    {
      "cell_type": "markdown",
      "metadata": {
        "id": "view-in-github",
        "colab_type": "text"
      },
      "source": [
        "<a href=\"https://colab.research.google.com/github/Gzaborey/python_applications_classifier/blob/main/applications_classifier.ipynb\" target=\"_parent\"><img src=\"https://colab.research.google.com/assets/colab-badge.svg\" alt=\"Open In Colab\"/></a>"
      ]
    },
    {
      "cell_type": "code",
      "metadata": {
        "id": "R28n8Wvf0UAg"
      },
      "source": [
        "# Importing necessary libraries\n",
        "\n",
        "import pandas as pd\n",
        "import numpy as np\n",
        "import string\n",
        "import re\n",
        "import matplotlib.pyplot as plt\n",
        "import sklearn.model_selection as sk_ms\n",
        "import sklearn.preprocessing as sk_preprocessing\n",
        "import sklearn.metrics as sk_metrics\n",
        "from sklearn.feature_extraction.text import CountVectorizer\n",
        "from nltk.corpus import stopwords\n",
        "from nltk.stem.snowball import SnowballStemmer\n",
        "from sklearn.linear_model import LogisticRegression\n",
        "from sklearn.naive_bayes import MultinomialNB"
      ],
      "execution_count": 228,
      "outputs": []
    },
    {
      "cell_type": "code",
      "source": [
        "%matplotlib inline"
      ],
      "metadata": {
        "id": "YLP0mHG_pxlw"
      },
      "execution_count": 229,
      "outputs": []
    },
    {
      "cell_type": "code",
      "metadata": {
        "colab": {
          "base_uri": "https://localhost:8080/"
        },
        "id": "X-Uf0xGb4_D-",
        "outputId": "f4c30b91-3dca-43f9-9a03-b28b9e5ab262"
      },
      "source": [
        "import nltk\n",
        "nltk.download(\"stopwords\")"
      ],
      "execution_count": 230,
      "outputs": [
        {
          "output_type": "stream",
          "name": "stderr",
          "text": [
            "[nltk_data] Downloading package stopwords to /root/nltk_data...\n",
            "[nltk_data]   Package stopwords is already up-to-date!\n"
          ]
        },
        {
          "output_type": "execute_result",
          "data": {
            "text/plain": [
              "True"
            ]
          },
          "metadata": {},
          "execution_count": 230
        }
      ]
    },
    {
      "cell_type": "code",
      "metadata": {
        "id": "swkkjnmi3ysd"
      },
      "source": [
        "# Defining necessary functions to preprocess the data\n",
        "\n",
        "def process_text(text):\n",
        "\n",
        "  \"\"\"Removes punctuation, whitespases, stopwords, english words, short words and digits.\n",
        "     Returns list of words.\"\"\"\n",
        "\n",
        "  stemmer = SnowballStemmer(\"russian\")\n",
        "  eng_regex = re.compile(r\"[a-zA-Z]\")\n",
        "\n",
        "  nopunc = [char for char in text if char not in string.punctuation]\n",
        "  nopunc = ''.join(nopunc)\n",
        "\n",
        "  processed_words = [stemmer.stem(word.lower()) for word in nopunc.split()\\\n",
        "                      if word.lower() not in stopwords.words(\"russian\")\\\n",
        "                      and word.lower() not in stopwords.words(\"english\")\\\n",
        "                      and word.lower().isalpha()\\\n",
        "                      and len(word.lower()) > 4\\\n",
        "                      and word.lower() not in \"\".join(eng_regex.findall(word.lower()))]\n",
        "  return processed_words \n",
        "\n",
        "def validate_name(string_to_validate, name_data):\n",
        "\n",
        "  \"\"\"Checks if given name is common. \n",
        "      If given name is not common (does not appear in a database of names) \n",
        "      it is considered invalid i.e. fake name.\"\"\"\n",
        "\n",
        "  name_validity = 0\n",
        "  for word in string_to_validate.lower().split():\n",
        "    if word in name_data:\n",
        "      name_validity = 1\n",
        "      break\n",
        "    else:\n",
        "      name_validity = 0\n",
        "  return name_validity\n",
        "\n",
        "def validate_phone_number(phone_number):\n",
        "\n",
        "  \"\"\"Checks if given phone number is from Ukraine.\"\"\"\n",
        "\n",
        "  temp1 = [char for char in phone_number if (char not in string.punctuation \\\n",
        "                                             and char is not ' ')]\n",
        "  temp2 = ''.join(temp1)\n",
        "  if len(temp2) > 12 or len(temp2) < 9:\n",
        "    return 0\n",
        "  else:\n",
        "    for char in range(7):\n",
        "      temp1.pop()\n",
        "    temp2 = ''.join(temp1)\n",
        "    pattern1 = re.compile(r\"(380|0|)\")\n",
        "    first_condition = temp2[-3::-1][::-1] in pattern1.findall(temp2[-3::-1][::-1])\n",
        "    pattern2 = re.compile(r\"(39|67|68|96|97|98|50|66|95|99|63|93|91|92|94)\")\n",
        "    second_condition = temp2[-1:-3:-1][::-1] in pattern2.findall(temp2[-1:-3:-1][::-1])\n",
        "    if first_condition and second_condition:\n",
        "      return 1\n",
        "    else:\n",
        "      return 0"
      ],
      "execution_count": 231,
      "outputs": []
    },
    {
      "cell_type": "markdown",
      "metadata": {
        "id": "OC1FvFJaIWYq"
      },
      "source": [
        "# **Preparing the data**"
      ]
    },
    {
      "cell_type": "markdown",
      "metadata": {
        "id": "P5Z60vHLlNK7"
      },
      "source": [
        "## Loading the data and constructing features"
      ]
    },
    {
      "cell_type": "code",
      "metadata": {
        "id": "YN3XFjejHtr1"
      },
      "source": [
        "# Loading data\n",
        "\n",
        "email_data = pd.read_excel(\"https://github.com/Gzaborey/python_applications_classifier/blob/main/data/email_data.xlsx?raw=true\")\n",
        "email_data = email_data.drop([\"Unnamed: 0\"], axis=1, errors=\"ignore\")\n",
        "email_data = email_data.drop_duplicates()\n",
        "email_data = email_data.reset_index(drop=True)\n",
        "email_data = email_data.rename(columns={\"add\": \"message\"})\n",
        "email_data = email_data.sample(frac=1)\n",
        "email_data = email_data.reset_index(drop=True)\n",
        "email_data[\"message\"] = email_data[\"message\"].astype(\"str\")"
      ],
      "execution_count": 232,
      "outputs": []
    },
    {
      "cell_type": "code",
      "metadata": {
        "colab": {
          "base_uri": "https://localhost:8080/",
          "height": 206
        },
        "id": "yiGuPABXyQVr",
        "outputId": "af1b8adf-c5b8-4b28-8f00-ba7f66a638fe"
      },
      "source": [
        "# Acquaintance with the data\n",
        "\n",
        "email_data.head()"
      ],
      "execution_count": 233,
      "outputs": [
        {
          "output_type": "execute_result",
          "data": {
            "text/plain": [
              "                          name         phone                      email  \\\n",
              "0  Fomin Aleksandr Alekseevich     674812290  aleksandr.fomin@gmail.com   \n",
              "1          Рожовецкая Людмила      678823020     rojevetskaya@gmail.com   \n",
              "2                          222           222                        NaN   \n",
              "3              Миколенко Иван   380962000000  ivanmikolenko03@gmail.com   \n",
              "4              Левенец Евгения     939692980  eugenialevenets@gmail.com   \n",
              "\n",
              "                                             message  is_spam  \n",
              "0                                              TEST2        0  \n",
              "1                                                nan        0  \n",
              "2                                                333        1  \n",
              "3                                                nan        0  \n",
              "4  Добрый день. \\nХотела бы уточнить детали курса...        0  "
            ],
            "text/html": [
              "\n",
              "  <div id=\"df-68bad12c-8732-4013-832b-78828ce57b06\">\n",
              "    <div class=\"colab-df-container\">\n",
              "      <div>\n",
              "<style scoped>\n",
              "    .dataframe tbody tr th:only-of-type {\n",
              "        vertical-align: middle;\n",
              "    }\n",
              "\n",
              "    .dataframe tbody tr th {\n",
              "        vertical-align: top;\n",
              "    }\n",
              "\n",
              "    .dataframe thead th {\n",
              "        text-align: right;\n",
              "    }\n",
              "</style>\n",
              "<table border=\"1\" class=\"dataframe\">\n",
              "  <thead>\n",
              "    <tr style=\"text-align: right;\">\n",
              "      <th></th>\n",
              "      <th>name</th>\n",
              "      <th>phone</th>\n",
              "      <th>email</th>\n",
              "      <th>message</th>\n",
              "      <th>is_spam</th>\n",
              "    </tr>\n",
              "  </thead>\n",
              "  <tbody>\n",
              "    <tr>\n",
              "      <th>0</th>\n",
              "      <td>Fomin Aleksandr Alekseevich</td>\n",
              "      <td>674812290</td>\n",
              "      <td>aleksandr.fomin@gmail.com</td>\n",
              "      <td>TEST2</td>\n",
              "      <td>0</td>\n",
              "    </tr>\n",
              "    <tr>\n",
              "      <th>1</th>\n",
              "      <td>Рожовецкая Людмила</td>\n",
              "      <td>678823020</td>\n",
              "      <td>rojevetskaya@gmail.com</td>\n",
              "      <td>nan</td>\n",
              "      <td>0</td>\n",
              "    </tr>\n",
              "    <tr>\n",
              "      <th>2</th>\n",
              "      <td>222</td>\n",
              "      <td>222</td>\n",
              "      <td>NaN</td>\n",
              "      <td>333</td>\n",
              "      <td>1</td>\n",
              "    </tr>\n",
              "    <tr>\n",
              "      <th>3</th>\n",
              "      <td>Миколенко Иван</td>\n",
              "      <td>380962000000</td>\n",
              "      <td>ivanmikolenko03@gmail.com</td>\n",
              "      <td>nan</td>\n",
              "      <td>0</td>\n",
              "    </tr>\n",
              "    <tr>\n",
              "      <th>4</th>\n",
              "      <td>Левенец Евгения</td>\n",
              "      <td>939692980</td>\n",
              "      <td>eugenialevenets@gmail.com</td>\n",
              "      <td>Добрый день. \\nХотела бы уточнить детали курса...</td>\n",
              "      <td>0</td>\n",
              "    </tr>\n",
              "  </tbody>\n",
              "</table>\n",
              "</div>\n",
              "      <button class=\"colab-df-convert\" onclick=\"convertToInteractive('df-68bad12c-8732-4013-832b-78828ce57b06')\"\n",
              "              title=\"Convert this dataframe to an interactive table.\"\n",
              "              style=\"display:none;\">\n",
              "        \n",
              "  <svg xmlns=\"http://www.w3.org/2000/svg\" height=\"24px\"viewBox=\"0 0 24 24\"\n",
              "       width=\"24px\">\n",
              "    <path d=\"M0 0h24v24H0V0z\" fill=\"none\"/>\n",
              "    <path d=\"M18.56 5.44l.94 2.06.94-2.06 2.06-.94-2.06-.94-.94-2.06-.94 2.06-2.06.94zm-11 1L8.5 8.5l.94-2.06 2.06-.94-2.06-.94L8.5 2.5l-.94 2.06-2.06.94zm10 10l.94 2.06.94-2.06 2.06-.94-2.06-.94-.94-2.06-.94 2.06-2.06.94z\"/><path d=\"M17.41 7.96l-1.37-1.37c-.4-.4-.92-.59-1.43-.59-.52 0-1.04.2-1.43.59L10.3 9.45l-7.72 7.72c-.78.78-.78 2.05 0 2.83L4 21.41c.39.39.9.59 1.41.59.51 0 1.02-.2 1.41-.59l7.78-7.78 2.81-2.81c.8-.78.8-2.07 0-2.86zM5.41 20L4 18.59l7.72-7.72 1.47 1.35L5.41 20z\"/>\n",
              "  </svg>\n",
              "      </button>\n",
              "      \n",
              "  <style>\n",
              "    .colab-df-container {\n",
              "      display:flex;\n",
              "      flex-wrap:wrap;\n",
              "      gap: 12px;\n",
              "    }\n",
              "\n",
              "    .colab-df-convert {\n",
              "      background-color: #E8F0FE;\n",
              "      border: none;\n",
              "      border-radius: 50%;\n",
              "      cursor: pointer;\n",
              "      display: none;\n",
              "      fill: #1967D2;\n",
              "      height: 32px;\n",
              "      padding: 0 0 0 0;\n",
              "      width: 32px;\n",
              "    }\n",
              "\n",
              "    .colab-df-convert:hover {\n",
              "      background-color: #E2EBFA;\n",
              "      box-shadow: 0px 1px 2px rgba(60, 64, 67, 0.3), 0px 1px 3px 1px rgba(60, 64, 67, 0.15);\n",
              "      fill: #174EA6;\n",
              "    }\n",
              "\n",
              "    [theme=dark] .colab-df-convert {\n",
              "      background-color: #3B4455;\n",
              "      fill: #D2E3FC;\n",
              "    }\n",
              "\n",
              "    [theme=dark] .colab-df-convert:hover {\n",
              "      background-color: #434B5C;\n",
              "      box-shadow: 0px 1px 3px 1px rgba(0, 0, 0, 0.15);\n",
              "      filter: drop-shadow(0px 1px 2px rgba(0, 0, 0, 0.3));\n",
              "      fill: #FFFFFF;\n",
              "    }\n",
              "  </style>\n",
              "\n",
              "      <script>\n",
              "        const buttonEl =\n",
              "          document.querySelector('#df-68bad12c-8732-4013-832b-78828ce57b06 button.colab-df-convert');\n",
              "        buttonEl.style.display =\n",
              "          google.colab.kernel.accessAllowed ? 'block' : 'none';\n",
              "\n",
              "        async function convertToInteractive(key) {\n",
              "          const element = document.querySelector('#df-68bad12c-8732-4013-832b-78828ce57b06');\n",
              "          const dataTable =\n",
              "            await google.colab.kernel.invokeFunction('convertToInteractive',\n",
              "                                                     [key], {});\n",
              "          if (!dataTable) return;\n",
              "\n",
              "          const docLinkHtml = 'Like what you see? Visit the ' +\n",
              "            '<a target=\"_blank\" href=https://colab.research.google.com/notebooks/data_table.ipynb>data table notebook</a>'\n",
              "            + ' to learn more about interactive tables.';\n",
              "          element.innerHTML = '';\n",
              "          dataTable['output_type'] = 'display_data';\n",
              "          await google.colab.output.renderOutput(dataTable, element);\n",
              "          const docLink = document.createElement('div');\n",
              "          docLink.innerHTML = docLinkHtml;\n",
              "          element.appendChild(docLink);\n",
              "        }\n",
              "      </script>\n",
              "    </div>\n",
              "  </div>\n",
              "  "
            ]
          },
          "metadata": {},
          "execution_count": 233
        }
      ]
    },
    {
      "cell_type": "code",
      "metadata": {
        "colab": {
          "base_uri": "https://localhost:8080/"
        },
        "id": "Q23yt4RUJa85",
        "outputId": "7ef11ba3-e1e0-45ff-ddb4-d6ba21be8efa"
      },
      "source": [
        "# Observing data (looking for missing values, etc)\n",
        "\n",
        "print(email_data[\"is_spam\"].value_counts())\n",
        "print()\n",
        "print(email_data.isna().sum())\n",
        "print()\n",
        "print(email_data.dtypes)"
      ],
      "execution_count": 234,
      "outputs": [
        {
          "output_type": "stream",
          "name": "stdout",
          "text": [
            "1    342\n",
            "0    214\n",
            "Name: is_spam, dtype: int64\n",
            "\n",
            "name        1\n",
            "phone       1\n",
            "email      36\n",
            "message     0\n",
            "is_spam     0\n",
            "dtype: int64\n",
            "\n",
            "name       object\n",
            "phone      object\n",
            "email      object\n",
            "message    object\n",
            "is_spam     int64\n",
            "dtype: object\n"
          ]
        }
      ]
    },
    {
      "cell_type": "code",
      "metadata": {
        "colab": {
          "base_uri": "https://localhost:8080/"
        },
        "id": "_oqRC5Ezr35u",
        "outputId": "74dd3b45-0160-4e56-c40e-796dcd41ee0b"
      },
      "source": [
        "# Filling in missing values\n",
        "\n",
        "email_data = email_data.fillna('')\n",
        "email_data[\"message\"] = email_data[\"message\"].replace(\"nan\", \"\")\n",
        "print(email_data.isna().sum())"
      ],
      "execution_count": 235,
      "outputs": [
        {
          "output_type": "stream",
          "name": "stdout",
          "text": [
            "name       0\n",
            "phone      0\n",
            "email      0\n",
            "message    0\n",
            "is_spam    0\n",
            "dtype: int64\n"
          ]
        }
      ]
    },
    {
      "cell_type": "code",
      "metadata": {
        "id": "FyTcpRQA1trY"
      },
      "source": [
        "# Loading dataframe of common names\n",
        "\n",
        "names_data = pd.read_csv(\"https://raw.githubusercontent.com/Gzaborey/python_applications_classifier/main/data/names_dataframe.csv\", index_col=\"Unnamed: 0\")\n",
        "names_list = [str(name).lower() for name in names_data.iloc[:, -1]]"
      ],
      "execution_count": 236,
      "outputs": []
    },
    {
      "cell_type": "code",
      "metadata": {
        "id": "N4CJha6sTWa5",
        "colab": {
          "base_uri": "https://localhost:8080/"
        },
        "outputId": "5e2d5176-aeb1-4e5e-d7e3-6007d3f74078"
      },
      "source": [
        "# Looking at the size of a names database\n",
        "\n",
        "print(len(names_list))"
      ],
      "execution_count": 237,
      "outputs": [
        {
          "output_type": "stream",
          "name": "stdout",
          "text": [
            "97974\n"
          ]
        }
      ]
    },
    {
      "cell_type": "code",
      "metadata": {
        "id": "nbB8fmeWr4RC"
      },
      "source": [
        "# Constructing features ('email_domain', 'valid_first_name' and 'valid_phone_number')\n",
        "\n",
        "email_data.insert(loc=3, column=\"email_domain\", \n",
        "                               value=email_data[\"email\"].apply(lambda x: x.lower().split(\"@\")[-1].strip()))\n",
        "\n",
        "email_data.insert(loc=1, column=\"valid_first_name\", \n",
        "                               value=email_data.name.astype(\"str\")\\\n",
        "                              .apply(lambda x: validate_name(x, names_list)))\n",
        "\n",
        "email_data.insert(loc=3, column=\"valid_phone_number\", \n",
        "                               value=email_data.phone.astype(\"str\").apply(lambda x: validate_phone_number(x)))"
      ],
      "execution_count": 238,
      "outputs": []
    },
    {
      "cell_type": "markdown",
      "metadata": {
        "id": "jUrUfHgMka-Z"
      },
      "source": [
        "## Dividing the data into test, train and validation sets"
      ]
    },
    {
      "cell_type": "code",
      "metadata": {
        "id": "xzOJo_Y1lA-K",
        "colab": {
          "base_uri": "https://localhost:8080/",
          "height": 285
        },
        "outputId": "1682bf6b-3026-47c6-bf14-298b5f5a65f8"
      },
      "source": [
        "# Shuffling dataframe rows \n",
        "\n",
        "email_data = email_data.sample(frac=1)\n",
        "email_data = email_data.reset_index(drop=True)\n",
        "\n",
        "X = email_data.drop(\"is_spam\", axis=1)\n",
        "y = email_data.is_spam\n",
        "\n",
        "email_data.head()"
      ],
      "execution_count": 239,
      "outputs": [
        {
          "output_type": "execute_result",
          "data": {
            "text/plain": [
              "                  name  valid_first_name         phone  valid_phone_number  \\\n",
              "0       Штерева Оксана                 1     631411921                   1   \n",
              "1              rimmfus                 0   89129827615                   0   \n",
              "2         avisofuriqai                 0   83972385273                   0   \n",
              "3  Мирослава Білінська                 1  380680000000                   1   \n",
              "4                   11                 0           111                   0   \n",
              "\n",
              "                        email         email_domain message  is_spam  \n",
              "0         okdidenko@gmail.com            gmail.com                0  \n",
              "1            s_gorlin@list.ru              list.ru                1  \n",
              "2  abakze@otnis.jonjamail.com  otnis.jonjamail.com                1  \n",
              "3     murosia220294@gmail.com            gmail.com                0  \n",
              "4              1111@gmail.com            gmail.com                1  "
            ],
            "text/html": [
              "\n",
              "  <div id=\"df-5044ba77-aabe-4ce5-8e61-b3d9bcb0a2ef\">\n",
              "    <div class=\"colab-df-container\">\n",
              "      <div>\n",
              "<style scoped>\n",
              "    .dataframe tbody tr th:only-of-type {\n",
              "        vertical-align: middle;\n",
              "    }\n",
              "\n",
              "    .dataframe tbody tr th {\n",
              "        vertical-align: top;\n",
              "    }\n",
              "\n",
              "    .dataframe thead th {\n",
              "        text-align: right;\n",
              "    }\n",
              "</style>\n",
              "<table border=\"1\" class=\"dataframe\">\n",
              "  <thead>\n",
              "    <tr style=\"text-align: right;\">\n",
              "      <th></th>\n",
              "      <th>name</th>\n",
              "      <th>valid_first_name</th>\n",
              "      <th>phone</th>\n",
              "      <th>valid_phone_number</th>\n",
              "      <th>email</th>\n",
              "      <th>email_domain</th>\n",
              "      <th>message</th>\n",
              "      <th>is_spam</th>\n",
              "    </tr>\n",
              "  </thead>\n",
              "  <tbody>\n",
              "    <tr>\n",
              "      <th>0</th>\n",
              "      <td>Штерева Оксана</td>\n",
              "      <td>1</td>\n",
              "      <td>631411921</td>\n",
              "      <td>1</td>\n",
              "      <td>okdidenko@gmail.com</td>\n",
              "      <td>gmail.com</td>\n",
              "      <td></td>\n",
              "      <td>0</td>\n",
              "    </tr>\n",
              "    <tr>\n",
              "      <th>1</th>\n",
              "      <td>rimmfus</td>\n",
              "      <td>0</td>\n",
              "      <td>89129827615</td>\n",
              "      <td>0</td>\n",
              "      <td>s_gorlin@list.ru</td>\n",
              "      <td>list.ru</td>\n",
              "      <td></td>\n",
              "      <td>1</td>\n",
              "    </tr>\n",
              "    <tr>\n",
              "      <th>2</th>\n",
              "      <td>avisofuriqai</td>\n",
              "      <td>0</td>\n",
              "      <td>83972385273</td>\n",
              "      <td>0</td>\n",
              "      <td>abakze@otnis.jonjamail.com</td>\n",
              "      <td>otnis.jonjamail.com</td>\n",
              "      <td></td>\n",
              "      <td>1</td>\n",
              "    </tr>\n",
              "    <tr>\n",
              "      <th>3</th>\n",
              "      <td>Мирослава Білінська</td>\n",
              "      <td>1</td>\n",
              "      <td>380680000000</td>\n",
              "      <td>1</td>\n",
              "      <td>murosia220294@gmail.com</td>\n",
              "      <td>gmail.com</td>\n",
              "      <td></td>\n",
              "      <td>0</td>\n",
              "    </tr>\n",
              "    <tr>\n",
              "      <th>4</th>\n",
              "      <td>11</td>\n",
              "      <td>0</td>\n",
              "      <td>111</td>\n",
              "      <td>0</td>\n",
              "      <td>1111@gmail.com</td>\n",
              "      <td>gmail.com</td>\n",
              "      <td></td>\n",
              "      <td>1</td>\n",
              "    </tr>\n",
              "  </tbody>\n",
              "</table>\n",
              "</div>\n",
              "      <button class=\"colab-df-convert\" onclick=\"convertToInteractive('df-5044ba77-aabe-4ce5-8e61-b3d9bcb0a2ef')\"\n",
              "              title=\"Convert this dataframe to an interactive table.\"\n",
              "              style=\"display:none;\">\n",
              "        \n",
              "  <svg xmlns=\"http://www.w3.org/2000/svg\" height=\"24px\"viewBox=\"0 0 24 24\"\n",
              "       width=\"24px\">\n",
              "    <path d=\"M0 0h24v24H0V0z\" fill=\"none\"/>\n",
              "    <path d=\"M18.56 5.44l.94 2.06.94-2.06 2.06-.94-2.06-.94-.94-2.06-.94 2.06-2.06.94zm-11 1L8.5 8.5l.94-2.06 2.06-.94-2.06-.94L8.5 2.5l-.94 2.06-2.06.94zm10 10l.94 2.06.94-2.06 2.06-.94-2.06-.94-.94-2.06-.94 2.06-2.06.94z\"/><path d=\"M17.41 7.96l-1.37-1.37c-.4-.4-.92-.59-1.43-.59-.52 0-1.04.2-1.43.59L10.3 9.45l-7.72 7.72c-.78.78-.78 2.05 0 2.83L4 21.41c.39.39.9.59 1.41.59.51 0 1.02-.2 1.41-.59l7.78-7.78 2.81-2.81c.8-.78.8-2.07 0-2.86zM5.41 20L4 18.59l7.72-7.72 1.47 1.35L5.41 20z\"/>\n",
              "  </svg>\n",
              "      </button>\n",
              "      \n",
              "  <style>\n",
              "    .colab-df-container {\n",
              "      display:flex;\n",
              "      flex-wrap:wrap;\n",
              "      gap: 12px;\n",
              "    }\n",
              "\n",
              "    .colab-df-convert {\n",
              "      background-color: #E8F0FE;\n",
              "      border: none;\n",
              "      border-radius: 50%;\n",
              "      cursor: pointer;\n",
              "      display: none;\n",
              "      fill: #1967D2;\n",
              "      height: 32px;\n",
              "      padding: 0 0 0 0;\n",
              "      width: 32px;\n",
              "    }\n",
              "\n",
              "    .colab-df-convert:hover {\n",
              "      background-color: #E2EBFA;\n",
              "      box-shadow: 0px 1px 2px rgba(60, 64, 67, 0.3), 0px 1px 3px 1px rgba(60, 64, 67, 0.15);\n",
              "      fill: #174EA6;\n",
              "    }\n",
              "\n",
              "    [theme=dark] .colab-df-convert {\n",
              "      background-color: #3B4455;\n",
              "      fill: #D2E3FC;\n",
              "    }\n",
              "\n",
              "    [theme=dark] .colab-df-convert:hover {\n",
              "      background-color: #434B5C;\n",
              "      box-shadow: 0px 1px 3px 1px rgba(0, 0, 0, 0.15);\n",
              "      filter: drop-shadow(0px 1px 2px rgba(0, 0, 0, 0.3));\n",
              "      fill: #FFFFFF;\n",
              "    }\n",
              "  </style>\n",
              "\n",
              "      <script>\n",
              "        const buttonEl =\n",
              "          document.querySelector('#df-5044ba77-aabe-4ce5-8e61-b3d9bcb0a2ef button.colab-df-convert');\n",
              "        buttonEl.style.display =\n",
              "          google.colab.kernel.accessAllowed ? 'block' : 'none';\n",
              "\n",
              "        async function convertToInteractive(key) {\n",
              "          const element = document.querySelector('#df-5044ba77-aabe-4ce5-8e61-b3d9bcb0a2ef');\n",
              "          const dataTable =\n",
              "            await google.colab.kernel.invokeFunction('convertToInteractive',\n",
              "                                                     [key], {});\n",
              "          if (!dataTable) return;\n",
              "\n",
              "          const docLinkHtml = 'Like what you see? Visit the ' +\n",
              "            '<a target=\"_blank\" href=https://colab.research.google.com/notebooks/data_table.ipynb>data table notebook</a>'\n",
              "            + ' to learn more about interactive tables.';\n",
              "          element.innerHTML = '';\n",
              "          dataTable['output_type'] = 'display_data';\n",
              "          await google.colab.output.renderOutput(dataTable, element);\n",
              "          const docLink = document.createElement('div');\n",
              "          docLink.innerHTML = docLinkHtml;\n",
              "          element.appendChild(docLink);\n",
              "        }\n",
              "      </script>\n",
              "    </div>\n",
              "  </div>\n",
              "  "
            ]
          },
          "metadata": {},
          "execution_count": 239
        }
      ]
    },
    {
      "cell_type": "code",
      "source": [
        "print(\"Number of entries is\", len(email_data))"
      ],
      "metadata": {
        "colab": {
          "base_uri": "https://localhost:8080/"
        },
        "id": "wWLIAh0ghGp8",
        "outputId": "030965ec-97a2-46a9-ee3e-d21f50efb459"
      },
      "execution_count": 240,
      "outputs": [
        {
          "output_type": "stream",
          "name": "stdout",
          "text": [
            "Number of entries is 556\n"
          ]
        }
      ]
    },
    {
      "cell_type": "code",
      "metadata": {
        "id": "tynMQXiprbON",
        "colab": {
          "base_uri": "https://localhost:8080/",
          "height": 322
        },
        "outputId": "e48aed5c-1717-4bee-9cc8-276e03cd5408"
      },
      "source": [
        "# Splitting data into train, valiation and test sets\n",
        "\n",
        "X_rest, X_test, y_rest, y_test = sk_ms.train_test_split(X, y, test_size=0.2, shuffle=True, stratify=y)\n",
        "\n",
        "X_rest = X_rest.reset_index(drop=True)\n",
        "X_test = X_test.reset_index(drop=True)\n",
        "y_rest = y_rest.reset_index(drop=True)\n",
        "y_test = y_test.reset_index(drop=True)\n",
        "\n",
        "X_train, X_valid, y_train, y_valid = sk_ms.train_test_split(X_rest, y_rest, test_size= 0.3, stratify=y_rest)\n",
        "\n",
        "X_train = X_train.reset_index(drop=True)\n",
        "X_valid = X_valid.reset_index(drop=True)\n",
        "y_train = y_train.reset_index(drop=True)\n",
        "y_valid = y_valid.reset_index(drop=True)\n",
        "\n",
        "X_valid.head()"
      ],
      "execution_count": 241,
      "outputs": [
        {
          "output_type": "execute_result",
          "data": {
            "text/plain": [
              "                name  valid_first_name        phone  valid_phone_number  \\\n",
              "0         Larrystove                 0  89286179369                   0   \n",
              "1      Будько Андрей                 1    635024068                   1   \n",
              "2              11111                 0      1111111                   0   \n",
              "3       Charleselict                 0  86894782322                   0   \n",
              "4  Александр Гандзий                 1    978552237                   1   \n",
              "\n",
              "                            email   email_domain  \\\n",
              "0                em7evg@gmail.com      gmail.com   \n",
              "1            budko16103@gmail.com      gmail.com   \n",
              "2  ekaterinaselifonova7@gmail.com      gmail.com   \n",
              "3     novostroyka63@lakidsbed.com  lakidsbed.com   \n",
              "4     aleksandergandziy@gmail.com      gmail.com   \n",
              "\n",
              "                                             message  \n",
              "0                                                     \n",
              "1                                                     \n",
              "2  Тестик........    ..шинщсешчегчеснчегчнщснснщм...  \n",
              "3                                                     \n",
              "4                                                     "
            ],
            "text/html": [
              "\n",
              "  <div id=\"df-b53c606b-75ad-4e1b-8b9b-b9d78f4310e6\">\n",
              "    <div class=\"colab-df-container\">\n",
              "      <div>\n",
              "<style scoped>\n",
              "    .dataframe tbody tr th:only-of-type {\n",
              "        vertical-align: middle;\n",
              "    }\n",
              "\n",
              "    .dataframe tbody tr th {\n",
              "        vertical-align: top;\n",
              "    }\n",
              "\n",
              "    .dataframe thead th {\n",
              "        text-align: right;\n",
              "    }\n",
              "</style>\n",
              "<table border=\"1\" class=\"dataframe\">\n",
              "  <thead>\n",
              "    <tr style=\"text-align: right;\">\n",
              "      <th></th>\n",
              "      <th>name</th>\n",
              "      <th>valid_first_name</th>\n",
              "      <th>phone</th>\n",
              "      <th>valid_phone_number</th>\n",
              "      <th>email</th>\n",
              "      <th>email_domain</th>\n",
              "      <th>message</th>\n",
              "    </tr>\n",
              "  </thead>\n",
              "  <tbody>\n",
              "    <tr>\n",
              "      <th>0</th>\n",
              "      <td>Larrystove</td>\n",
              "      <td>0</td>\n",
              "      <td>89286179369</td>\n",
              "      <td>0</td>\n",
              "      <td>em7evg@gmail.com</td>\n",
              "      <td>gmail.com</td>\n",
              "      <td></td>\n",
              "    </tr>\n",
              "    <tr>\n",
              "      <th>1</th>\n",
              "      <td>Будько Андрей</td>\n",
              "      <td>1</td>\n",
              "      <td>635024068</td>\n",
              "      <td>1</td>\n",
              "      <td>budko16103@gmail.com</td>\n",
              "      <td>gmail.com</td>\n",
              "      <td></td>\n",
              "    </tr>\n",
              "    <tr>\n",
              "      <th>2</th>\n",
              "      <td>11111</td>\n",
              "      <td>0</td>\n",
              "      <td>1111111</td>\n",
              "      <td>0</td>\n",
              "      <td>ekaterinaselifonova7@gmail.com</td>\n",
              "      <td>gmail.com</td>\n",
              "      <td>Тестик........    ..шинщсешчегчеснчегчнщснснщм...</td>\n",
              "    </tr>\n",
              "    <tr>\n",
              "      <th>3</th>\n",
              "      <td>Charleselict</td>\n",
              "      <td>0</td>\n",
              "      <td>86894782322</td>\n",
              "      <td>0</td>\n",
              "      <td>novostroyka63@lakidsbed.com</td>\n",
              "      <td>lakidsbed.com</td>\n",
              "      <td></td>\n",
              "    </tr>\n",
              "    <tr>\n",
              "      <th>4</th>\n",
              "      <td>Александр Гандзий</td>\n",
              "      <td>1</td>\n",
              "      <td>978552237</td>\n",
              "      <td>1</td>\n",
              "      <td>aleksandergandziy@gmail.com</td>\n",
              "      <td>gmail.com</td>\n",
              "      <td></td>\n",
              "    </tr>\n",
              "  </tbody>\n",
              "</table>\n",
              "</div>\n",
              "      <button class=\"colab-df-convert\" onclick=\"convertToInteractive('df-b53c606b-75ad-4e1b-8b9b-b9d78f4310e6')\"\n",
              "              title=\"Convert this dataframe to an interactive table.\"\n",
              "              style=\"display:none;\">\n",
              "        \n",
              "  <svg xmlns=\"http://www.w3.org/2000/svg\" height=\"24px\"viewBox=\"0 0 24 24\"\n",
              "       width=\"24px\">\n",
              "    <path d=\"M0 0h24v24H0V0z\" fill=\"none\"/>\n",
              "    <path d=\"M18.56 5.44l.94 2.06.94-2.06 2.06-.94-2.06-.94-.94-2.06-.94 2.06-2.06.94zm-11 1L8.5 8.5l.94-2.06 2.06-.94-2.06-.94L8.5 2.5l-.94 2.06-2.06.94zm10 10l.94 2.06.94-2.06 2.06-.94-2.06-.94-.94-2.06-.94 2.06-2.06.94z\"/><path d=\"M17.41 7.96l-1.37-1.37c-.4-.4-.92-.59-1.43-.59-.52 0-1.04.2-1.43.59L10.3 9.45l-7.72 7.72c-.78.78-.78 2.05 0 2.83L4 21.41c.39.39.9.59 1.41.59.51 0 1.02-.2 1.41-.59l7.78-7.78 2.81-2.81c.8-.78.8-2.07 0-2.86zM5.41 20L4 18.59l7.72-7.72 1.47 1.35L5.41 20z\"/>\n",
              "  </svg>\n",
              "      </button>\n",
              "      \n",
              "  <style>\n",
              "    .colab-df-container {\n",
              "      display:flex;\n",
              "      flex-wrap:wrap;\n",
              "      gap: 12px;\n",
              "    }\n",
              "\n",
              "    .colab-df-convert {\n",
              "      background-color: #E8F0FE;\n",
              "      border: none;\n",
              "      border-radius: 50%;\n",
              "      cursor: pointer;\n",
              "      display: none;\n",
              "      fill: #1967D2;\n",
              "      height: 32px;\n",
              "      padding: 0 0 0 0;\n",
              "      width: 32px;\n",
              "    }\n",
              "\n",
              "    .colab-df-convert:hover {\n",
              "      background-color: #E2EBFA;\n",
              "      box-shadow: 0px 1px 2px rgba(60, 64, 67, 0.3), 0px 1px 3px 1px rgba(60, 64, 67, 0.15);\n",
              "      fill: #174EA6;\n",
              "    }\n",
              "\n",
              "    [theme=dark] .colab-df-convert {\n",
              "      background-color: #3B4455;\n",
              "      fill: #D2E3FC;\n",
              "    }\n",
              "\n",
              "    [theme=dark] .colab-df-convert:hover {\n",
              "      background-color: #434B5C;\n",
              "      box-shadow: 0px 1px 3px 1px rgba(0, 0, 0, 0.15);\n",
              "      filter: drop-shadow(0px 1px 2px rgba(0, 0, 0, 0.3));\n",
              "      fill: #FFFFFF;\n",
              "    }\n",
              "  </style>\n",
              "\n",
              "      <script>\n",
              "        const buttonEl =\n",
              "          document.querySelector('#df-b53c606b-75ad-4e1b-8b9b-b9d78f4310e6 button.colab-df-convert');\n",
              "        buttonEl.style.display =\n",
              "          google.colab.kernel.accessAllowed ? 'block' : 'none';\n",
              "\n",
              "        async function convertToInteractive(key) {\n",
              "          const element = document.querySelector('#df-b53c606b-75ad-4e1b-8b9b-b9d78f4310e6');\n",
              "          const dataTable =\n",
              "            await google.colab.kernel.invokeFunction('convertToInteractive',\n",
              "                                                     [key], {});\n",
              "          if (!dataTable) return;\n",
              "\n",
              "          const docLinkHtml = 'Like what you see? Visit the ' +\n",
              "            '<a target=\"_blank\" href=https://colab.research.google.com/notebooks/data_table.ipynb>data table notebook</a>'\n",
              "            + ' to learn more about interactive tables.';\n",
              "          element.innerHTML = '';\n",
              "          dataTable['output_type'] = 'display_data';\n",
              "          await google.colab.output.renderOutput(dataTable, element);\n",
              "          const docLink = document.createElement('div');\n",
              "          docLink.innerHTML = docLinkHtml;\n",
              "          element.appendChild(docLink);\n",
              "        }\n",
              "      </script>\n",
              "    </div>\n",
              "  </div>\n",
              "  "
            ]
          },
          "metadata": {},
          "execution_count": 241
        }
      ]
    },
    {
      "cell_type": "code",
      "source": [
        "print(\"Number of training examples\", len(y_train))\n",
        "print(\"Number of validation examples\", len(y_valid))\n",
        "print(\"Number of testing examples\", len(y_test))"
      ],
      "metadata": {
        "colab": {
          "base_uri": "https://localhost:8080/"
        },
        "id": "zfu76gGbiqSr",
        "outputId": "e9a98580-fa50-4610-894a-0a82732ddcb1"
      },
      "execution_count": 242,
      "outputs": [
        {
          "output_type": "stream",
          "name": "stdout",
          "text": [
            "Number of training examples 310\n",
            "Number of validation examples 134\n",
            "Number of testing examples 112\n"
          ]
        }
      ]
    },
    {
      "cell_type": "markdown",
      "metadata": {
        "id": "Mb7eZz4SQWcH"
      },
      "source": [
        "# **Building and training the model**"
      ]
    },
    {
      "cell_type": "markdown",
      "source": [
        "## Converting \"email_domain\" and \"message\" columns into vectors."
      ],
      "metadata": {
        "id": "ryMiZkcbPbi7"
      }
    },
    {
      "cell_type": "code",
      "metadata": {
        "id": "wwHAqetEp4Wj"
      },
      "source": [
        "#Preparing the data vectorizer\n",
        "\n",
        "email_dom_vectorizer = CountVectorizer()\n",
        "email_dom_vectorizer.fit(email_data.email_domain)\n",
        "email_dom_vectorized_train = email_dom_vectorizer.transform(X_train.email_domain)\n",
        "email_dom_vectorized_valid = email_dom_vectorizer.transform(X_valid.email_domain)\n",
        "email_dom_vectorized_test = email_dom_vectorizer.transform(X_test.email_domain)\n",
        "\n",
        "email_message_vectorizer = CountVectorizer(analyzer=process_text)\n",
        "email_message_vectorizer.fit(email_data.message)\n",
        "email_message_vectorized_train = email_message_vectorizer.transform(X_train.message)\n",
        "email_message_vectorized_valid = email_message_vectorizer.transform(X_valid.message)\n",
        "email_message_vectorized_test = email_message_vectorizer.transform(X_test.message)\n"
      ],
      "execution_count": 243,
      "outputs": []
    },
    {
      "cell_type": "code",
      "metadata": {
        "id": "PsFyOojMCZt8"
      },
      "source": [
        " #email_message_vectorizer.get_feature_names()"
      ],
      "execution_count": 244,
      "outputs": []
    },
    {
      "cell_type": "markdown",
      "source": [
        "## Building Naive Bayes model for \"email_domain\" column analysis"
      ],
      "metadata": {
        "id": "P0NFBOYrPhuE"
      }
    },
    {
      "cell_type": "code",
      "source": [
        "# Naive Bayes model for \"email_domain\" column analysis training and tuning\n",
        "\n",
        "NB_dom_model_params = [i/100 for i in range(1, 101)]\n",
        "f1_scores = {}\n",
        "for i in range(len(NB_dom_model_params)):\n",
        "  NB_dom_model = MultinomialNB(alpha=NB_dom_model_params[i])\n",
        "  NB_dom_model.fit(email_dom_vectorized_train, y_train)\n",
        "  NB_dom_predictions = NB_dom_model.predict(email_dom_vectorized_valid)\n",
        "  f1_score = sk_metrics.f1_score(y_valid, NB_dom_predictions, average=\"binary\")\n",
        "  f1_scores[NB_dom_model_params[i]] = f1_score\n"
      ],
      "metadata": {
        "id": "cj-agOMVf7ft"
      },
      "execution_count": 245,
      "outputs": []
    },
    {
      "cell_type": "code",
      "source": [
        "# Determining the optimal value for \"alpha\" hyperparameter.\n",
        "\n",
        "best_score = 0\n",
        "best_alpha = 0\n",
        "\n",
        "for alpha, score in f1_scores.items():\n",
        "    if score >= best_score:\n",
        "      best_alpha = alpha\n",
        "      best_score = score\n",
        "\n",
        "print(\"Optimal 'alpha' hyperparameter value:\", best_alpha)\n",
        "\n",
        "print(\"F1 score for optimal hyperparameter value:\", f1_scores[best_alpha])\n"
      ],
      "metadata": {
        "colab": {
          "base_uri": "https://localhost:8080/"
        },
        "id": "hqL8M608xSId",
        "outputId": "1129afa1-69a4-41f4-a985-8999c7087c48"
      },
      "execution_count": 246,
      "outputs": [
        {
          "output_type": "stream",
          "name": "stdout",
          "text": [
            "Optimal 'alpha' hyperparameter value: 0.34\n",
            "F1 score for optimal hyperparameter value: 0.8187919463087248\n"
          ]
        }
      ]
    },
    {
      "cell_type": "code",
      "source": [
        "# Naive Bayes model for \"email_domain\" column analysis efficiency plot\n",
        "\n",
        "x = []\n",
        "y = []\n",
        "\n",
        "for key, value in f1_scores.items():\n",
        "  x.append(key)\n",
        "  y.append(value)\n",
        "\n",
        "fig = plt.figure(figsize=(10,6))\n",
        "\n",
        "plt.plot(x, y)\n",
        "\n",
        "plt.xlabel(\"Alpha value\")\n",
        "plt.ylabel(\"F1 score\")\n",
        "\n",
        "plt.show()\n"
      ],
      "metadata": {
        "colab": {
          "base_uri": "https://localhost:8080/",
          "height": 392
        },
        "id": "Jowb6mA2qpzF",
        "outputId": "716a4b61-a523-476a-a00d-586840ce6d1c"
      },
      "execution_count": 247,
      "outputs": [
        {
          "output_type": "display_data",
          "data": {
            "text/plain": [
              "<Figure size 720x432 with 1 Axes>"
            ],
            "image/png": "[encoded data removed]"
          },
          "metadata": {
            "needs_background": "light"
          }
        }
      ]
    },
    {
      "cell_type": "code",
      "source": [
        "# Training the model using the optimal \"alpha\" hyperparameter value\n",
        "\n",
        "NB_dom_model = MultinomialNB(alpha=best_alpha)\n",
        "\n",
        "NB_dom_model.fit(email_dom_vectorized_train, y_train)\n",
        "\n",
        "NB_dom_predictions = NB_dom_model.predict(email_dom_vectorized_valid)\n",
        "\n",
        "NB_dom_train_proba = NB_dom_model.predict_proba(email_dom_vectorized_train)[:, 1]\n",
        "NB_dom_valid_proba = NB_dom_model.predict_proba(email_dom_vectorized_valid)[:, 1]\n"
      ],
      "metadata": {
        "id": "F8z2khkz_vwH"
      },
      "execution_count": 248,
      "outputs": []
    },
    {
      "cell_type": "code",
      "metadata": {
        "id": "kPDFXdo2rnSi",
        "colab": {
          "base_uri": "https://localhost:8080/"
        },
        "outputId": "4dccdc5f-75dc-46e6-e176-b83479d6b19f"
      },
      "source": [
        "# NB model performance results\n",
        "\n",
        "print(sk_metrics.classification_report(y_valid, NB_dom_predictions))\n",
        "print()\n",
        "print(\"Accuracy score:\", sk_metrics.accuracy_score(y_valid, NB_dom_predictions))"
      ],
      "execution_count": 249,
      "outputs": [
        {
          "output_type": "stream",
          "name": "stdout",
          "text": [
            "              precision    recall  f1-score   support\n",
            "\n",
            "           0       0.69      0.88      0.77        52\n",
            "           1       0.91      0.74      0.82        82\n",
            "\n",
            "    accuracy                           0.80       134\n",
            "   macro avg       0.80      0.81      0.80       134\n",
            "weighted avg       0.82      0.80      0.80       134\n",
            "\n",
            "\n",
            "Accuracy score: 0.7985074626865671\n"
          ]
        }
      ]
    },
    {
      "cell_type": "markdown",
      "source": [
        "## Building Naive Bayes model for \"message\" column analysis"
      ],
      "metadata": {
        "id": "pF8Bt4yYPpKd"
      }
    },
    {
      "cell_type": "code",
      "metadata": {
        "id": "EaZwlYy2s_ki"
      },
      "source": [
        "# Naive Bayes model for \"message\" column analysis training and tuning\n",
        "\n",
        "NB_mes_model_params = [i/100 for i in range(1, 201)]\n",
        "f1_scores = {}\n",
        "for i in range(len(NB_mes_model_params)):\n",
        "  NB_mes_model = MultinomialNB(alpha=NB_mes_model_params[i])\n",
        "  NB_mes_model.fit(email_message_vectorized_train, y_train)\n",
        "  NB_mes_predictions = NB_mes_model.predict(email_message_vectorized_valid)\n",
        "  f1_score = sk_metrics.f1_score(y_valid, NB_mes_predictions)\n",
        "  f1_scores[NB_mes_model_params[i]] = f1_score\n",
        "  "
      ],
      "execution_count": 250,
      "outputs": []
    },
    {
      "cell_type": "code",
      "source": [
        "# Determining the optimal value for \"alpha\" hyperparameter.\n",
        "\n",
        "best_score = 0\n",
        "best_alpha = 0\n",
        "\n",
        "for alpha, score in f1_scores.items():\n",
        "    if score >= best_score:\n",
        "      best_alpha = alpha\n",
        "      best_score = score\n",
        "\n",
        "print(\"Optimal 'alpha' hyperparameter value:\", best_alpha)\n",
        "\n",
        "print(\"F1 score for optimal hyperparameter value:\", f1_scores[best_alpha])\n"
      ],
      "metadata": {
        "colab": {
          "base_uri": "https://localhost:8080/"
        },
        "id": "R9YeK1AyTOba",
        "outputId": "ca392eb1-c3dd-4f0a-9f04-25060b00804d"
      },
      "execution_count": 251,
      "outputs": [
        {
          "output_type": "stream",
          "name": "stdout",
          "text": [
            "Optimal 'alpha' hyperparameter value: 0.04\n",
            "F1 score for optimal hyperparameter value: 0.7794871794871795\n"
          ]
        }
      ]
    },
    {
      "cell_type": "code",
      "source": [
        "# Naive Bayes model for \"message\" column analysis efficiency plot\n",
        "\n",
        "x = []\n",
        "y = []\n",
        "\n",
        "for key, value in f1_scores.items():\n",
        "  x.append(key)\n",
        "  y.append(value)\n",
        "\n",
        "fig = plt.figure(figsize=(10,6))\n",
        "\n",
        "plt.plot(x, y)\n",
        "\n",
        "plt.xlabel(\"Alpha value\")\n",
        "plt.ylabel(\"F1 score\")\n",
        "\n",
        "plt.show()\n"
      ],
      "metadata": {
        "colab": {
          "base_uri": "https://localhost:8080/",
          "height": 389
        },
        "id": "kwy8rzn3TR3m",
        "outputId": "2b23fcf4-27ba-4e00-c0d8-68d1fa1bf45c"
      },
      "execution_count": 252,
      "outputs": [
        {
          "output_type": "display_data",
          "data": {
            "text/plain": [
              "<Figure size 720x432 with 1 Axes>"
            ],
            "image/png": "[encoded data removed]"
          },
          "metadata": {
            "needs_background": "light"
          }
        }
      ]
    },
    {
      "cell_type": "code",
      "source": [
        "# Training the model using the optimal \"alpha\" hyperparameter value\n",
        "\n",
        "NB_mes_model = MultinomialNB(alpha=best_alpha)\n",
        "\n",
        "NB_mes_model.fit(email_message_vectorized_train, y_train)\n",
        "\n",
        "NB_mes_predictions = NB_mes_model.predict(email_message_vectorized_valid)\n",
        "\n",
        "NB_mes_train_proba = NB_mes_model.predict_proba(email_message_vectorized_train)[:, 1]\n",
        "NB_mes_valid_proba = NB_mes_model.predict_proba(email_message_vectorized_valid)[:, 1]"
      ],
      "metadata": {
        "id": "16dE1psrTftM"
      },
      "execution_count": 253,
      "outputs": []
    },
    {
      "cell_type": "code",
      "source": [
        "# NB model performance results\n",
        "\n",
        "print(sk_metrics.classification_report(y_valid, NB_mes_predictions))\n",
        "print()\n",
        "print(\"Accuracy score:\", sk_metrics.accuracy_score(y_valid, NB_mes_predictions))"
      ],
      "metadata": {
        "colab": {
          "base_uri": "https://localhost:8080/"
        },
        "id": "fY-au1DWTpOE",
        "outputId": "f2fee399-9648-4834-b91c-969b76fa9949"
      },
      "execution_count": 254,
      "outputs": [
        {
          "output_type": "stream",
          "name": "stdout",
          "text": [
            "              precision    recall  f1-score   support\n",
            "\n",
            "           0       0.71      0.29      0.41        52\n",
            "           1       0.67      0.93      0.78        82\n",
            "\n",
            "    accuracy                           0.68       134\n",
            "   macro avg       0.69      0.61      0.60       134\n",
            "weighted avg       0.69      0.68      0.64       134\n",
            "\n",
            "\n",
            "Accuracy score: 0.6791044776119403\n"
          ]
        }
      ]
    },
    {
      "cell_type": "markdown",
      "source": [
        "## Building Logistic Regression model for predicting the validity of applications"
      ],
      "metadata": {
        "id": "Pw4Mn4mHPqg8"
      }
    },
    {
      "cell_type": "code",
      "metadata": {
        "colab": {
          "base_uri": "https://localhost:8080/",
          "height": 206
        },
        "id": "bZeP41c7vGOJ",
        "outputId": "72bfdd33-5c3c-4052-8fd8-4208241fae60"
      },
      "source": [
        "# Data to train and tune LR\n",
        "\n",
        "X_train = X_train.loc[:, [\"valid_first_name\", \"valid_phone_number\"]]\n",
        "X_train = pd.concat([X_train, pd.Series(NB_dom_train_proba, name=\"domain_validity_proba\")], axis=1)\n",
        "X_train = pd.concat([X_train, pd.Series(NB_mes_train_proba, name=\"message_validity_proba\")], axis=1)\n",
        "\n",
        "X_valid_temp = X_valid.loc[:, [\"valid_first_name\", \"valid_phone_number\"]]\n",
        "X_valid_temp = pd.concat([X_valid_temp, pd.Series(NB_dom_valid_proba, name=\"domain_validity_proba\")], axis=1)\n",
        "X_valid_temp = pd.concat([X_valid_temp, pd.Series(NB_mes_valid_proba, name=\"message_validity_proba\")], axis=1)\n",
        "\n",
        "X_train.head()"
      ],
      "execution_count": 255,
      "outputs": [
        {
          "output_type": "execute_result",
          "data": {
            "text/plain": [
              "   valid_first_name  valid_phone_number  domain_validity_proba  \\\n",
              "0                 1                   1               0.153857   \n",
              "1                 0                   0               0.931134   \n",
              "2                 0                   0               0.996137   \n",
              "3                 0                   0               0.923221   \n",
              "4                 0                   0               0.153857   \n",
              "\n",
              "   message_validity_proba  \n",
              "0                0.616129  \n",
              "1                0.616129  \n",
              "2                0.616129  \n",
              "3                0.616129  \n",
              "4                1.000000  "
            ],
            "text/html": [
              "\n",
              "  <div id=\"df-7cf95c2f-d747-420a-862f-99126e8f7664\">\n",
              "    <div class=\"colab-df-container\">\n",
              "      <div>\n",
              "<style scoped>\n",
              "    .dataframe tbody tr th:only-of-type {\n",
              "        vertical-align: middle;\n",
              "    }\n",
              "\n",
              "    .dataframe tbody tr th {\n",
              "        vertical-align: top;\n",
              "    }\n",
              "\n",
              "    .dataframe thead th {\n",
              "        text-align: right;\n",
              "    }\n",
              "</style>\n",
              "<table border=\"1\" class=\"dataframe\">\n",
              "  <thead>\n",
              "    <tr style=\"text-align: right;\">\n",
              "      <th></th>\n",
              "      <th>valid_first_name</th>\n",
              "      <th>valid_phone_number</th>\n",
              "      <th>domain_validity_proba</th>\n",
              "      <th>message_validity_proba</th>\n",
              "    </tr>\n",
              "  </thead>\n",
              "  <tbody>\n",
              "    <tr>\n",
              "      <th>0</th>\n",
              "      <td>1</td>\n",
              "      <td>1</td>\n",
              "      <td>0.153857</td>\n",
              "      <td>0.616129</td>\n",
              "    </tr>\n",
              "    <tr>\n",
              "      <th>1</th>\n",
              "      <td>0</td>\n",
              "      <td>0</td>\n",
              "      <td>0.931134</td>\n",
              "      <td>0.616129</td>\n",
              "    </tr>\n",
              "    <tr>\n",
              "      <th>2</th>\n",
              "      <td>0</td>\n",
              "      <td>0</td>\n",
              "      <td>0.996137</td>\n",
              "      <td>0.616129</td>\n",
              "    </tr>\n",
              "    <tr>\n",
              "      <th>3</th>\n",
              "      <td>0</td>\n",
              "      <td>0</td>\n",
              "      <td>0.923221</td>\n",
              "      <td>0.616129</td>\n",
              "    </tr>\n",
              "    <tr>\n",
              "      <th>4</th>\n",
              "      <td>0</td>\n",
              "      <td>0</td>\n",
              "      <td>0.153857</td>\n",
              "      <td>1.000000</td>\n",
              "    </tr>\n",
              "  </tbody>\n",
              "</table>\n",
              "</div>\n",
              "      <button class=\"colab-df-convert\" onclick=\"convertToInteractive('df-7cf95c2f-d747-420a-862f-99126e8f7664')\"\n",
              "              title=\"Convert this dataframe to an interactive table.\"\n",
              "              style=\"display:none;\">\n",
              "        \n",
              "  <svg xmlns=\"http://www.w3.org/2000/svg\" height=\"24px\"viewBox=\"0 0 24 24\"\n",
              "       width=\"24px\">\n",
              "    <path d=\"M0 0h24v24H0V0z\" fill=\"none\"/>\n",
              "    <path d=\"M18.56 5.44l.94 2.06.94-2.06 2.06-.94-2.06-.94-.94-2.06-.94 2.06-2.06.94zm-11 1L8.5 8.5l.94-2.06 2.06-.94-2.06-.94L8.5 2.5l-.94 2.06-2.06.94zm10 10l.94 2.06.94-2.06 2.06-.94-2.06-.94-.94-2.06-.94 2.06-2.06.94z\"/><path d=\"M17.41 7.96l-1.37-1.37c-.4-.4-.92-.59-1.43-.59-.52 0-1.04.2-1.43.59L10.3 9.45l-7.72 7.72c-.78.78-.78 2.05 0 2.83L4 21.41c.39.39.9.59 1.41.59.51 0 1.02-.2 1.41-.59l7.78-7.78 2.81-2.81c.8-.78.8-2.07 0-2.86zM5.41 20L4 18.59l7.72-7.72 1.47 1.35L5.41 20z\"/>\n",
              "  </svg>\n",
              "      </button>\n",
              "      \n",
              "  <style>\n",
              "    .colab-df-container {\n",
              "      display:flex;\n",
              "      flex-wrap:wrap;\n",
              "      gap: 12px;\n",
              "    }\n",
              "\n",
              "    .colab-df-convert {\n",
              "      background-color: #E8F0FE;\n",
              "      border: none;\n",
              "      border-radius: 50%;\n",
              "      cursor: pointer;\n",
              "      display: none;\n",
              "      fill: #1967D2;\n",
              "      height: 32px;\n",
              "      padding: 0 0 0 0;\n",
              "      width: 32px;\n",
              "    }\n",
              "\n",
              "    .colab-df-convert:hover {\n",
              "      background-color: #E2EBFA;\n",
              "      box-shadow: 0px 1px 2px rgba(60, 64, 67, 0.3), 0px 1px 3px 1px rgba(60, 64, 67, 0.15);\n",
              "      fill: #174EA6;\n",
              "    }\n",
              "\n",
              "    [theme=dark] .colab-df-convert {\n",
              "      background-color: #3B4455;\n",
              "      fill: #D2E3FC;\n",
              "    }\n",
              "\n",
              "    [theme=dark] .colab-df-convert:hover {\n",
              "      background-color: #434B5C;\n",
              "      box-shadow: 0px 1px 3px 1px rgba(0, 0, 0, 0.15);\n",
              "      filter: drop-shadow(0px 1px 2px rgba(0, 0, 0, 0.3));\n",
              "      fill: #FFFFFF;\n",
              "    }\n",
              "  </style>\n",
              "\n",
              "      <script>\n",
              "        const buttonEl =\n",
              "          document.querySelector('#df-7cf95c2f-d747-420a-862f-99126e8f7664 button.colab-df-convert');\n",
              "        buttonEl.style.display =\n",
              "          google.colab.kernel.accessAllowed ? 'block' : 'none';\n",
              "\n",
              "        async function convertToInteractive(key) {\n",
              "          const element = document.querySelector('#df-7cf95c2f-d747-420a-862f-99126e8f7664');\n",
              "          const dataTable =\n",
              "            await google.colab.kernel.invokeFunction('convertToInteractive',\n",
              "                                                     [key], {});\n",
              "          if (!dataTable) return;\n",
              "\n",
              "          const docLinkHtml = 'Like what you see? Visit the ' +\n",
              "            '<a target=\"_blank\" href=https://colab.research.google.com/notebooks/data_table.ipynb>data table notebook</a>'\n",
              "            + ' to learn more about interactive tables.';\n",
              "          element.innerHTML = '';\n",
              "          dataTable['output_type'] = 'display_data';\n",
              "          await google.colab.output.renderOutput(dataTable, element);\n",
              "          const docLink = document.createElement('div');\n",
              "          docLink.innerHTML = docLinkHtml;\n",
              "          element.appendChild(docLink);\n",
              "        }\n",
              "      </script>\n",
              "    </div>\n",
              "  </div>\n",
              "  "
            ]
          },
          "metadata": {},
          "execution_count": 255
        }
      ]
    },
    {
      "cell_type": "code",
      "source": [
        "# Logistic Regression сlassifier training and tuning\n",
        "\n",
        "LR_model = LogisticRegression(max_iter=300)\n",
        "LR_params = {\"penalty\": [\"l1\", \"l2\"],\n",
        "             \"C\": [i/100 for i in range(1, 1001, 10)],\n",
        "             \"solver\": [\"liblinear\", \"saga\"]}\n",
        "\n",
        "clf = sk_ms.GridSearchCV(LR_model, LR_params)\n",
        "\n",
        "clf.fit(X_train, y_train)"
      ],
      "metadata": {
        "id": "FA1yUG75R5o6"
      },
      "execution_count": null,
      "outputs": []
    },
    {
      "cell_type": "code",
      "source": [
        "print(\"Optimal set of hyperparameters:\", clf.best_params_)"
      ],
      "metadata": {
        "colab": {
          "base_uri": "https://localhost:8080/"
        },
        "id": "2e9o0GoydEB5",
        "outputId": "88f919ca-cee9-4612-9665-5cc923fb115f"
      },
      "execution_count": 257,
      "outputs": [
        {
          "output_type": "stream",
          "name": "stdout",
          "text": [
            "Optimal set of hyperparameters: {'C': 0.71, 'penalty': 'l2', 'solver': 'liblinear'}\n"
          ]
        }
      ]
    },
    {
      "cell_type": "code",
      "metadata": {
        "colab": {
          "base_uri": "https://localhost:8080/"
        },
        "id": "-9zwdJt84Ewt",
        "outputId": "f51d9c54-990c-481d-f057-2634969db431"
      },
      "source": [
        "# Logistic Regression classifier performance results\n",
        "\n",
        "LR_predictions = clf.predict(X_valid_temp)\n",
        "\n",
        "print(sk_metrics.classification_report(y_valid, LR_predictions))\n",
        "print()\n",
        "print(\"Accuracy score:\", sk_metrics.accuracy_score(y_valid, LR_predictions))"
      ],
      "execution_count": 258,
      "outputs": [
        {
          "output_type": "stream",
          "name": "stdout",
          "text": [
            "              precision    recall  f1-score   support\n",
            "\n",
            "           0       0.98      1.00      0.99        52\n",
            "           1       1.00      0.99      0.99        82\n",
            "\n",
            "    accuracy                           0.99       134\n",
            "   macro avg       0.99      0.99      0.99       134\n",
            "weighted avg       0.99      0.99      0.99       134\n",
            "\n",
            "\n",
            "Accuracy score: 0.9925373134328358\n"
          ]
        }
      ]
    },
    {
      "cell_type": "markdown",
      "metadata": {
        "id": "pcDkRH-WcdNk"
      },
      "source": [
        "# **Testing the model on test data set**"
      ]
    },
    {
      "cell_type": "code",
      "metadata": {
        "id": "HUYx728wdAYe"
      },
      "source": [
        "# NB model analysis of \"email_domain\" column\n",
        "\n",
        "NB_dom_predictions = NB_dom_model.predict_proba(email_dom_vectorized_test)[:, 1]"
      ],
      "execution_count": 259,
      "outputs": []
    },
    {
      "cell_type": "code",
      "metadata": {
        "id": "XXkfBi0sdAYj"
      },
      "source": [
        "# NB model analysis of \"message\" column\n",
        "\n",
        "NB_mes_predictions = NB_mes_model.predict_proba(email_message_vectorized_test)[:, 1]"
      ],
      "execution_count": 260,
      "outputs": []
    },
    {
      "cell_type": "code",
      "metadata": {
        "colab": {
          "base_uri": "https://localhost:8080/",
          "height": 206
        },
        "id": "A-F480fBdAYl",
        "outputId": "8d4e7d02-1a42-4050-fca6-4446bfe64eb9"
      },
      "source": [
        "# Preparing data for LR\n",
        "\n",
        "temp_df = X_test.loc[:, [\"valid_first_name\", \"valid_phone_number\"]]\n",
        "temp_df = temp_df.reset_index(drop=True)\n",
        "temp_df = pd.concat([temp_df, pd.Series(NB_dom_predictions, name=\"domain_validity_proba\")], axis=1)\n",
        "temp_df = pd.concat([temp_df, pd.Series(NB_mes_predictions, name=\"message_validity_proba\")], axis=1)\n",
        "\n",
        "temp_df.head()"
      ],
      "execution_count": 261,
      "outputs": [
        {
          "output_type": "execute_result",
          "data": {
            "text/plain": [
              "   valid_first_name  valid_phone_number  domain_validity_proba  \\\n",
              "0                 0                   0               0.996065   \n",
              "1                 1                   1               0.616129   \n",
              "2                 1                   1               0.005692   \n",
              "3                 1                   1               0.153857   \n",
              "4                 1                   1               0.329627   \n",
              "\n",
              "   message_validity_proba  \n",
              "0                0.616129  \n",
              "1                0.616129  \n",
              "2                0.616129  \n",
              "3                0.616129  \n",
              "4                0.130186  "
            ],
            "text/html": [
              "\n",
              "  <div id=\"df-7140313d-8960-40c4-98f3-c1eb5f63870c\">\n",
              "    <div class=\"colab-df-container\">\n",
              "      <div>\n",
              "<style scoped>\n",
              "    .dataframe tbody tr th:only-of-type {\n",
              "        vertical-align: middle;\n",
              "    }\n",
              "\n",
              "    .dataframe tbody tr th {\n",
              "        vertical-align: top;\n",
              "    }\n",
              "\n",
              "    .dataframe thead th {\n",
              "        text-align: right;\n",
              "    }\n",
              "</style>\n",
              "<table border=\"1\" class=\"dataframe\">\n",
              "  <thead>\n",
              "    <tr style=\"text-align: right;\">\n",
              "      <th></th>\n",
              "      <th>valid_first_name</th>\n",
              "      <th>valid_phone_number</th>\n",
              "      <th>domain_validity_proba</th>\n",
              "      <th>message_validity_proba</th>\n",
              "    </tr>\n",
              "  </thead>\n",
              "  <tbody>\n",
              "    <tr>\n",
              "      <th>0</th>\n",
              "      <td>0</td>\n",
              "      <td>0</td>\n",
              "      <td>0.996065</td>\n",
              "      <td>0.616129</td>\n",
              "    </tr>\n",
              "    <tr>\n",
              "      <th>1</th>\n",
              "      <td>1</td>\n",
              "      <td>1</td>\n",
              "      <td>0.616129</td>\n",
              "      <td>0.616129</td>\n",
              "    </tr>\n",
              "    <tr>\n",
              "      <th>2</th>\n",
              "      <td>1</td>\n",
              "      <td>1</td>\n",
              "      <td>0.005692</td>\n",
              "      <td>0.616129</td>\n",
              "    </tr>\n",
              "    <tr>\n",
              "      <th>3</th>\n",
              "      <td>1</td>\n",
              "      <td>1</td>\n",
              "      <td>0.153857</td>\n",
              "      <td>0.616129</td>\n",
              "    </tr>\n",
              "    <tr>\n",
              "      <th>4</th>\n",
              "      <td>1</td>\n",
              "      <td>1</td>\n",
              "      <td>0.329627</td>\n",
              "      <td>0.130186</td>\n",
              "    </tr>\n",
              "  </tbody>\n",
              "</table>\n",
              "</div>\n",
              "      <button class=\"colab-df-convert\" onclick=\"convertToInteractive('df-7140313d-8960-40c4-98f3-c1eb5f63870c')\"\n",
              "              title=\"Convert this dataframe to an interactive table.\"\n",
              "              style=\"display:none;\">\n",
              "        \n",
              "  <svg xmlns=\"http://www.w3.org/2000/svg\" height=\"24px\"viewBox=\"0 0 24 24\"\n",
              "       width=\"24px\">\n",
              "    <path d=\"M0 0h24v24H0V0z\" fill=\"none\"/>\n",
              "    <path d=\"M18.56 5.44l.94 2.06.94-2.06 2.06-.94-2.06-.94-.94-2.06-.94 2.06-2.06.94zm-11 1L8.5 8.5l.94-2.06 2.06-.94-2.06-.94L8.5 2.5l-.94 2.06-2.06.94zm10 10l.94 2.06.94-2.06 2.06-.94-2.06-.94-.94-2.06-.94 2.06-2.06.94z\"/><path d=\"M17.41 7.96l-1.37-1.37c-.4-.4-.92-.59-1.43-.59-.52 0-1.04.2-1.43.59L10.3 9.45l-7.72 7.72c-.78.78-.78 2.05 0 2.83L4 21.41c.39.39.9.59 1.41.59.51 0 1.02-.2 1.41-.59l7.78-7.78 2.81-2.81c.8-.78.8-2.07 0-2.86zM5.41 20L4 18.59l7.72-7.72 1.47 1.35L5.41 20z\"/>\n",
              "  </svg>\n",
              "      </button>\n",
              "      \n",
              "  <style>\n",
              "    .colab-df-container {\n",
              "      display:flex;\n",
              "      flex-wrap:wrap;\n",
              "      gap: 12px;\n",
              "    }\n",
              "\n",
              "    .colab-df-convert {\n",
              "      background-color: #E8F0FE;\n",
              "      border: none;\n",
              "      border-radius: 50%;\n",
              "      cursor: pointer;\n",
              "      display: none;\n",
              "      fill: #1967D2;\n",
              "      height: 32px;\n",
              "      padding: 0 0 0 0;\n",
              "      width: 32px;\n",
              "    }\n",
              "\n",
              "    .colab-df-convert:hover {\n",
              "      background-color: #E2EBFA;\n",
              "      box-shadow: 0px 1px 2px rgba(60, 64, 67, 0.3), 0px 1px 3px 1px rgba(60, 64, 67, 0.15);\n",
              "      fill: #174EA6;\n",
              "    }\n",
              "\n",
              "    [theme=dark] .colab-df-convert {\n",
              "      background-color: #3B4455;\n",
              "      fill: #D2E3FC;\n",
              "    }\n",
              "\n",
              "    [theme=dark] .colab-df-convert:hover {\n",
              "      background-color: #434B5C;\n",
              "      box-shadow: 0px 1px 3px 1px rgba(0, 0, 0, 0.15);\n",
              "      filter: drop-shadow(0px 1px 2px rgba(0, 0, 0, 0.3));\n",
              "      fill: #FFFFFF;\n",
              "    }\n",
              "  </style>\n",
              "\n",
              "      <script>\n",
              "        const buttonEl =\n",
              "          document.querySelector('#df-7140313d-8960-40c4-98f3-c1eb5f63870c button.colab-df-convert');\n",
              "        buttonEl.style.display =\n",
              "          google.colab.kernel.accessAllowed ? 'block' : 'none';\n",
              "\n",
              "        async function convertToInteractive(key) {\n",
              "          const element = document.querySelector('#df-7140313d-8960-40c4-98f3-c1eb5f63870c');\n",
              "          const dataTable =\n",
              "            await google.colab.kernel.invokeFunction('convertToInteractive',\n",
              "                                                     [key], {});\n",
              "          if (!dataTable) return;\n",
              "\n",
              "          const docLinkHtml = 'Like what you see? Visit the ' +\n",
              "            '<a target=\"_blank\" href=https://colab.research.google.com/notebooks/data_table.ipynb>data table notebook</a>'\n",
              "            + ' to learn more about interactive tables.';\n",
              "          element.innerHTML = '';\n",
              "          dataTable['output_type'] = 'display_data';\n",
              "          await google.colab.output.renderOutput(dataTable, element);\n",
              "          const docLink = document.createElement('div');\n",
              "          docLink.innerHTML = docLinkHtml;\n",
              "          element.appendChild(docLink);\n",
              "        }\n",
              "      </script>\n",
              "    </div>\n",
              "  </div>\n",
              "  "
            ]
          },
          "metadata": {},
          "execution_count": 261
        }
      ]
    },
    {
      "cell_type": "code",
      "metadata": {
        "colab": {
          "base_uri": "https://localhost:8080/"
        },
        "id": "7bdkNaEfdAYm",
        "outputId": "730ec65c-9cf9-4b23-c230-487a3c9309ed"
      },
      "source": [
        "# Logistic Regression performance results on a test dataset\n",
        "\n",
        "LR_predictions = clf.predict(temp_df)\n",
        "\n",
        "print(sk_metrics.classification_report(y_test, LR_predictions))\n",
        "print(\"Accuracy score:\", sk_metrics.accuracy_score(y_test, LR_predictions))"
      ],
      "execution_count": 262,
      "outputs": [
        {
          "output_type": "stream",
          "name": "stdout",
          "text": [
            "              precision    recall  f1-score   support\n",
            "\n",
            "           0       1.00      0.98      0.99        43\n",
            "           1       0.99      1.00      0.99        69\n",
            "\n",
            "    accuracy                           0.99       112\n",
            "   macro avg       0.99      0.99      0.99       112\n",
            "weighted avg       0.99      0.99      0.99       112\n",
            "\n",
            "Accuracy score: 0.9910714285714286\n"
          ]
        }
      ]
    },
    {
      "cell_type": "code",
      "metadata": {
        "colab": {
          "base_uri": "https://localhost:8080/",
          "height": 618
        },
        "id": "ty2D4jvPdAYn",
        "outputId": "dd26502e-8d1b-4586-e264-f49651bbe8e1"
      },
      "source": [
        "# Inspecting performance of a model on a test dataset visually\n",
        "\n",
        "inspect_df = pd.concat([X_test.reset_index(drop=True), pd.Series(LR_predictions, name=\"prediction\")], axis=1)\n",
        "inspect_df = pd.concat([inspect_df, y_test], axis=1)\n",
        "inspect_df.head(10)"
      ],
      "execution_count": 263,
      "outputs": [
        {
          "output_type": "execute_result",
          "data": {
            "text/plain": [
              "                name  valid_first_name               phone  \\\n",
              "0       iwugaduloviu                 0         88689921336   \n",
              "1    Юцевич Анатолий                 1           979886828   \n",
              "2       Бодоса Ольга                 1           668210251   \n",
              "3   Аплачко Каролина                 1           990894452   \n",
              "4   Черниенко максим                 1        380934000000   \n",
              "5          samuelMus                 0         83735852371   \n",
              "6           RufusWep                 0         86852124733   \n",
              "7    Власова Татьяна                 1        380984000000   \n",
              "8        Eugenerhime                 0         84974855479   \n",
              "9  Александр Гандзий                 1  +38(097)-85-52-237   \n",
              "\n",
              "   valid_phone_number                                             email  \\\n",
              "0                   0                       alxnuuc@otnis.jonjamail.com   \n",
              "1                   1                                                     \n",
              "2                   1                           beladonna195515@ukr.net   \n",
              "3                   1                             aplac3aplac@gmail.com   \n",
              "4                   1                    maximchernienko@protonmail.com   \n",
              "5                   0  michel.d.u.s.t.enwa.ll.st.r.ee.t.7.43.@gmail.com   \n",
              "6                   0                                sharikasak@mail.ru   \n",
              "7                   1                                KostyryaTV@ukr.net   \n",
              "8                   0                          12gyyaqwdst55r@gmail.com   \n",
              "9                   1                   aleksandergandziy1990@gmail.com   \n",
              "\n",
              "          email_domain                                            message  \\\n",
              "0  otnis.jonjamail.com                                                      \n",
              "1                                                                           \n",
              "2              ukr.net                                                      \n",
              "3            gmail.com                                                      \n",
              "4       protonmail.com                                       Магистр онпу   \n",
              "5            gmail.com                                                      \n",
              "6              mail.ru                                                      \n",
              "7              ukr.net                                                      \n",
              "8            gmail.com  ####### OPVA ######## \\nULTIMATE РТНС COLLECTI...   \n",
              "9            gmail.com                                                      \n",
              "\n",
              "   prediction  is_spam  \n",
              "0           1        1  \n",
              "1           0        0  \n",
              "2           0        0  \n",
              "3           0        0  \n",
              "4           0        0  \n",
              "5           1        1  \n",
              "6           1        1  \n",
              "7           0        0  \n",
              "8           1        1  \n",
              "9           0        0  "
            ],
            "text/html": [
              "\n",
              "  <div id=\"df-b8ded2ec-e116-45e4-bfa5-e6caa52d8ff4\">\n",
              "    <div class=\"colab-df-container\">\n",
              "      <div>\n",
              "<style scoped>\n",
              "    .dataframe tbody tr th:only-of-type {\n",
              "        vertical-align: middle;\n",
              "    }\n",
              "\n",
              "    .dataframe tbody tr th {\n",
              "        vertical-align: top;\n",
              "    }\n",
              "\n",
              "    .dataframe thead th {\n",
              "        text-align: right;\n",
              "    }\n",
              "</style>\n",
              "<table border=\"1\" class=\"dataframe\">\n",
              "  <thead>\n",
              "    <tr style=\"text-align: right;\">\n",
              "      <th></th>\n",
              "      <th>name</th>\n",
              "      <th>valid_first_name</th>\n",
              "      <th>phone</th>\n",
              "      <th>valid_phone_number</th>\n",
              "      <th>email</th>\n",
              "      <th>email_domain</th>\n",
              "      <th>message</th>\n",
              "      <th>prediction</th>\n",
              "      <th>is_spam</th>\n",
              "    </tr>\n",
              "  </thead>\n",
              "  <tbody>\n",
              "    <tr>\n",
              "      <th>0</th>\n",
              "      <td>iwugaduloviu</td>\n",
              "      <td>0</td>\n",
              "      <td>88689921336</td>\n",
              "      <td>0</td>\n",
              "      <td>alxnuuc@otnis.jonjamail.com</td>\n",
              "      <td>otnis.jonjamail.com</td>\n",
              "      <td></td>\n",
              "      <td>1</td>\n",
              "      <td>1</td>\n",
              "    </tr>\n",
              "    <tr>\n",
              "      <th>1</th>\n",
              "      <td>Юцевич Анатолий</td>\n",
              "      <td>1</td>\n",
              "      <td>979886828</td>\n",
              "      <td>1</td>\n",
              "      <td></td>\n",
              "      <td></td>\n",
              "      <td></td>\n",
              "      <td>0</td>\n",
              "      <td>0</td>\n",
              "    </tr>\n",
              "    <tr>\n",
              "      <th>2</th>\n",
              "      <td>Бодоса Ольга</td>\n",
              "      <td>1</td>\n",
              "      <td>668210251</td>\n",
              "      <td>1</td>\n",
              "      <td>beladonna195515@ukr.net</td>\n",
              "      <td>ukr.net</td>\n",
              "      <td></td>\n",
              "      <td>0</td>\n",
              "      <td>0</td>\n",
              "    </tr>\n",
              "    <tr>\n",
              "      <th>3</th>\n",
              "      <td>Аплачко Каролина</td>\n",
              "      <td>1</td>\n",
              "      <td>990894452</td>\n",
              "      <td>1</td>\n",
              "      <td>aplac3aplac@gmail.com</td>\n",
              "      <td>gmail.com</td>\n",
              "      <td></td>\n",
              "      <td>0</td>\n",
              "      <td>0</td>\n",
              "    </tr>\n",
              "    <tr>\n",
              "      <th>4</th>\n",
              "      <td>Черниенко максим</td>\n",
              "      <td>1</td>\n",
              "      <td>380934000000</td>\n",
              "      <td>1</td>\n",
              "      <td>maximchernienko@protonmail.com</td>\n",
              "      <td>protonmail.com</td>\n",
              "      <td>Магистр онпу</td>\n",
              "      <td>0</td>\n",
              "      <td>0</td>\n",
              "    </tr>\n",
              "    <tr>\n",
              "      <th>5</th>\n",
              "      <td>samuelMus</td>\n",
              "      <td>0</td>\n",
              "      <td>83735852371</td>\n",
              "      <td>0</td>\n",
              "      <td>michel.d.u.s.t.enwa.ll.st.r.ee.t.7.43.@gmail.com</td>\n",
              "      <td>gmail.com</td>\n",
              "      <td></td>\n",
              "      <td>1</td>\n",
              "      <td>1</td>\n",
              "    </tr>\n",
              "    <tr>\n",
              "      <th>6</th>\n",
              "      <td>RufusWep</td>\n",
              "      <td>0</td>\n",
              "      <td>86852124733</td>\n",
              "      <td>0</td>\n",
              "      <td>sharikasak@mail.ru</td>\n",
              "      <td>mail.ru</td>\n",
              "      <td></td>\n",
              "      <td>1</td>\n",
              "      <td>1</td>\n",
              "    </tr>\n",
              "    <tr>\n",
              "      <th>7</th>\n",
              "      <td>Власова Татьяна</td>\n",
              "      <td>1</td>\n",
              "      <td>380984000000</td>\n",
              "      <td>1</td>\n",
              "      <td>KostyryaTV@ukr.net</td>\n",
              "      <td>ukr.net</td>\n",
              "      <td></td>\n",
              "      <td>0</td>\n",
              "      <td>0</td>\n",
              "    </tr>\n",
              "    <tr>\n",
              "      <th>8</th>\n",
              "      <td>Eugenerhime</td>\n",
              "      <td>0</td>\n",
              "      <td>84974855479</td>\n",
              "      <td>0</td>\n",
              "      <td>12gyyaqwdst55r@gmail.com</td>\n",
              "      <td>gmail.com</td>\n",
              "      <td>####### OPVA ######## \\nULTIMATE РТНС COLLECTI...</td>\n",
              "      <td>1</td>\n",
              "      <td>1</td>\n",
              "    </tr>\n",
              "    <tr>\n",
              "      <th>9</th>\n",
              "      <td>Александр Гандзий</td>\n",
              "      <td>1</td>\n",
              "      <td>+38(097)-85-52-237</td>\n",
              "      <td>1</td>\n",
              "      <td>aleksandergandziy1990@gmail.com</td>\n",
              "      <td>gmail.com</td>\n",
              "      <td></td>\n",
              "      <td>0</td>\n",
              "      <td>0</td>\n",
              "    </tr>\n",
              "  </tbody>\n",
              "</table>\n",
              "</div>\n",
              "      <button class=\"colab-df-convert\" onclick=\"convertToInteractive('df-b8ded2ec-e116-45e4-bfa5-e6caa52d8ff4')\"\n",
              "              title=\"Convert this dataframe to an interactive table.\"\n",
              "              style=\"display:none;\">\n",
              "        \n",
              "  <svg xmlns=\"http://www.w3.org/2000/svg\" height=\"24px\"viewBox=\"0 0 24 24\"\n",
              "       width=\"24px\">\n",
              "    <path d=\"M0 0h24v24H0V0z\" fill=\"none\"/>\n",
              "    <path d=\"M18.56 5.44l.94 2.06.94-2.06 2.06-.94-2.06-.94-.94-2.06-.94 2.06-2.06.94zm-11 1L8.5 8.5l.94-2.06 2.06-.94-2.06-.94L8.5 2.5l-.94 2.06-2.06.94zm10 10l.94 2.06.94-2.06 2.06-.94-2.06-.94-.94-2.06-.94 2.06-2.06.94z\"/><path d=\"M17.41 7.96l-1.37-1.37c-.4-.4-.92-.59-1.43-.59-.52 0-1.04.2-1.43.59L10.3 9.45l-7.72 7.72c-.78.78-.78 2.05 0 2.83L4 21.41c.39.39.9.59 1.41.59.51 0 1.02-.2 1.41-.59l7.78-7.78 2.81-2.81c.8-.78.8-2.07 0-2.86zM5.41 20L4 18.59l7.72-7.72 1.47 1.35L5.41 20z\"/>\n",
              "  </svg>\n",
              "      </button>\n",
              "      \n",
              "  <style>\n",
              "    .colab-df-container {\n",
              "      display:flex;\n",
              "      flex-wrap:wrap;\n",
              "      gap: 12px;\n",
              "    }\n",
              "\n",
              "    .colab-df-convert {\n",
              "      background-color: #E8F0FE;\n",
              "      border: none;\n",
              "      border-radius: 50%;\n",
              "      cursor: pointer;\n",
              "      display: none;\n",
              "      fill: #1967D2;\n",
              "      height: 32px;\n",
              "      padding: 0 0 0 0;\n",
              "      width: 32px;\n",
              "    }\n",
              "\n",
              "    .colab-df-convert:hover {\n",
              "      background-color: #E2EBFA;\n",
              "      box-shadow: 0px 1px 2px rgba(60, 64, 67, 0.3), 0px 1px 3px 1px rgba(60, 64, 67, 0.15);\n",
              "      fill: #174EA6;\n",
              "    }\n",
              "\n",
              "    [theme=dark] .colab-df-convert {\n",
              "      background-color: #3B4455;\n",
              "      fill: #D2E3FC;\n",
              "    }\n",
              "\n",
              "    [theme=dark] .colab-df-convert:hover {\n",
              "      background-color: #434B5C;\n",
              "      box-shadow: 0px 1px 3px 1px rgba(0, 0, 0, 0.15);\n",
              "      filter: drop-shadow(0px 1px 2px rgba(0, 0, 0, 0.3));\n",
              "      fill: #FFFFFF;\n",
              "    }\n",
              "  </style>\n",
              "\n",
              "      <script>\n",
              "        const buttonEl =\n",
              "          document.querySelector('#df-b8ded2ec-e116-45e4-bfa5-e6caa52d8ff4 button.colab-df-convert');\n",
              "        buttonEl.style.display =\n",
              "          google.colab.kernel.accessAllowed ? 'block' : 'none';\n",
              "\n",
              "        async function convertToInteractive(key) {\n",
              "          const element = document.querySelector('#df-b8ded2ec-e116-45e4-bfa5-e6caa52d8ff4');\n",
              "          const dataTable =\n",
              "            await google.colab.kernel.invokeFunction('convertToInteractive',\n",
              "                                                     [key], {});\n",
              "          if (!dataTable) return;\n",
              "\n",
              "          const docLinkHtml = 'Like what you see? Visit the ' +\n",
              "            '<a target=\"_blank\" href=https://colab.research.google.com/notebooks/data_table.ipynb>data table notebook</a>'\n",
              "            + ' to learn more about interactive tables.';\n",
              "          element.innerHTML = '';\n",
              "          dataTable['output_type'] = 'display_data';\n",
              "          await google.colab.output.renderOutput(dataTable, element);\n",
              "          const docLink = document.createElement('div');\n",
              "          docLink.innerHTML = docLinkHtml;\n",
              "          element.appendChild(docLink);\n",
              "        }\n",
              "      </script>\n",
              "    </div>\n",
              "  </div>\n",
              "  "
            ]
          },
          "metadata": {},
          "execution_count": 263
        }
      ]
    }
  ]
}