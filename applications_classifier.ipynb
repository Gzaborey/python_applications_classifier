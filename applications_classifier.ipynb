{
  "nbformat": 4,
  "nbformat_minor": 0,
  "metadata": {
    "colab": {
      "provenance": [],
      "toc_visible": true,
      "collapsed_sections": [
        "P5Z60vHLlNK7"
      ],
      "authorship_tag": "ABX9TyOmi0P9WnbKDk/J15MOIR6K",
      "include_colab_link": true
    },
    "kernelspec": {
      "name": "python3",
      "display_name": "Python 3"
    }
  },
  "cells": [
    {
      "cell_type": "markdown",
      "metadata": {
        "id": "view-in-github",
        "colab_type": "text"
      },
      "source": [
        "<a href=\"https://colab.research.google.com/github/Gzaborey/python_applications_classifier/blob/main/applications_classifier.ipynb\" target=\"_parent\"><img src=\"https://colab.research.google.com/assets/colab-badge.svg\" alt=\"Open In Colab\"/></a>"
      ]
    },
    {
      "cell_type": "code",
      "metadata": {
        "id": "R28n8Wvf0UAg"
      },
      "source": [
        "# Importing necessary libraries\n",
        "\n",
        "import pandas as pd\n",
        "import numpy as np\n",
        "import string\n",
        "import re\n",
        "import matplotlib.pyplot as plt\n",
        "import sklearn.model_selection as sk_ms\n",
        "import sklearn.preprocessing as sk_preprocessing\n",
        "import sklearn.metrics as sk_metrics\n",
        "from sklearn.feature_extraction.text import CountVectorizer\n",
        "from nltk.corpus import stopwords\n",
        "from nltk.stem.snowball import SnowballStemmer\n",
        "from sklearn.linear_model import LogisticRegression\n",
        "from sklearn.naive_bayes import MultinomialNB"
      ],
      "execution_count": 1,
      "outputs": []
    },
    {
      "cell_type": "code",
      "source": [
        "%matplotlib inline"
      ],
      "metadata": {
        "id": "YLP0mHG_pxlw"
      },
      "execution_count": 2,
      "outputs": []
    },
    {
      "cell_type": "code",
      "metadata": {
        "colab": {
          "base_uri": "https://localhost:8080/"
        },
        "id": "X-Uf0xGb4_D-",
        "outputId": "6518bfaf-663f-4e38-ca8d-cc4f71d1f0de"
      },
      "source": [
        "import nltk\n",
        "nltk.download(\"stopwords\")"
      ],
      "execution_count": 3,
      "outputs": [
        {
          "output_type": "stream",
          "name": "stderr",
          "text": [
            "[nltk_data] Downloading package stopwords to /root/nltk_data...\n",
            "[nltk_data]   Unzipping corpora/stopwords.zip.\n"
          ]
        },
        {
          "output_type": "execute_result",
          "data": {
            "text/plain": [
              "True"
            ]
          },
          "metadata": {},
          "execution_count": 3
        }
      ]
    },
    {
      "cell_type": "code",
      "metadata": {
        "id": "swkkjnmi3ysd"
      },
      "source": [
        "# Defining necessary functions to preprocess the data\n",
        "\n",
        "def process_text(text):\n",
        "\n",
        "  \"\"\"Removes punctuation, whitespases, stopwords, english words, short words and digits.\n",
        "     Returns list of words.\"\"\"\n",
        "\n",
        "  stemmer = SnowballStemmer(\"russian\")\n",
        "  eng_regex = re.compile(r\"[a-zA-Z]\")\n",
        "\n",
        "  nopunc = [char for char in text if char not in string.punctuation]\n",
        "  nopunc = ''.join(nopunc)\n",
        "\n",
        "  processed_words = [stemmer.stem(word.lower()) for word in nopunc.split()\\\n",
        "                      if word.lower() not in stopwords.words(\"russian\")\\\n",
        "                      and word.lower() not in stopwords.words(\"english\")\\\n",
        "                      and word.lower().isalpha()\\\n",
        "                      and len(word.lower()) > 4\\\n",
        "                      and word.lower() not in \"\".join(eng_regex.findall(word.lower()))]\n",
        "  return processed_words \n",
        "\n",
        "def validate_name(string_to_validate, name_data):\n",
        "\n",
        "  \"\"\"Checks if given name is common. \n",
        "      If given name is not common (does not appear in a database of names) \n",
        "      it is considered invalid i.e. fake name.\"\"\"\n",
        "\n",
        "  name_validity = 0\n",
        "  for word in string_to_validate.lower().split():\n",
        "    if word in name_data:\n",
        "      name_validity = 1\n",
        "      break\n",
        "    else:\n",
        "      name_validity = 0\n",
        "  return name_validity\n",
        "\n",
        "def validate_phone_number(phone_number):\n",
        "\n",
        "  \"\"\"Checks if given phone number is from Ukraine.\"\"\"\n",
        "\n",
        "  temp1 = [char for char in phone_number if (char not in string.punctuation \\\n",
        "                                             and char is not ' ')]\n",
        "  temp2 = ''.join(temp1)\n",
        "  if len(temp2) > 12 or len(temp2) < 9:\n",
        "    return 0\n",
        "  else:\n",
        "    for char in range(7):\n",
        "      temp1.pop()\n",
        "    temp2 = ''.join(temp1)\n",
        "    pattern1 = re.compile(r\"(380|0|)\")\n",
        "    first_condition = temp2[-3::-1][::-1] in pattern1.findall(temp2[-3::-1][::-1])\n",
        "    pattern2 = re.compile(r\"(39|67|68|96|97|98|50|66|95|99|63|93|91|92|94)\")\n",
        "    second_condition = temp2[-1:-3:-1][::-1] in pattern2.findall(temp2[-1:-3:-1][::-1])\n",
        "    if first_condition and second_condition:\n",
        "      return 1\n",
        "    else:\n",
        "      return 0"
      ],
      "execution_count": 4,
      "outputs": []
    },
    {
      "cell_type": "markdown",
      "metadata": {
        "id": "OC1FvFJaIWYq"
      },
      "source": [
        "# **Preparing the data**"
      ]
    },
    {
      "cell_type": "markdown",
      "metadata": {
        "id": "P5Z60vHLlNK7"
      },
      "source": [
        "## Loading the data and constructing features"
      ]
    },
    {
      "cell_type": "code",
      "metadata": {
        "id": "YN3XFjejHtr1"
      },
      "source": [
        "# Loading data\n",
        "\n",
        "email_data = pd.read_excel(\"https://github.com/Gzaborey/python_applications_classifier/blob/main/data/email_data.xlsx?raw=true\")\n",
        "email_data = email_data.drop([\"Unnamed: 0\"], axis=1, errors=\"ignore\")\n",
        "email_data = email_data.drop_duplicates()\n",
        "email_data = email_data.reset_index(drop=True)\n",
        "email_data = email_data.rename(columns={\"add\": \"message\"})\n",
        "email_data = email_data.sample(frac=1)\n",
        "email_data = email_data.reset_index(drop=True)\n",
        "email_data[\"message\"] = email_data[\"message\"].astype(\"str\")"
      ],
      "execution_count": 5,
      "outputs": []
    },
    {
      "cell_type": "code",
      "metadata": {
        "colab": {
          "base_uri": "https://localhost:8080/",
          "height": 374
        },
        "id": "yiGuPABXyQVr",
        "outputId": "694acae1-bd9f-4f28-c6bb-631b4e70bf1e"
      },
      "source": [
        "# Acquaintance with the data\n",
        "\n",
        "email_data.head()"
      ],
      "execution_count": 40,
      "outputs": [
        {
          "output_type": "execute_result",
          "data": {
            "text/plain": [
              "              name  valid_first_name        phone  valid_phone_number  \\\n",
              "0  Кудюкин Сергей                  1    968355358                   1   \n",
              "1       noqokhajap                 0  88724654154                   0   \n",
              "2      Eugenerhime                 0  86651238557                   0   \n",
              "3            SSavv                 0  82819984212                   0   \n",
              "4            maygg                 0  83937492686                   0   \n",
              "\n",
              "                           email         email_domain  \\\n",
              "0        nsbosevskaa77@gmail.com            gmail.com   \n",
              "1  adudexuza@fhfsd.popmile45.com  fhfsd.popmile45.com   \n",
              "2       12gyyaqwdst55r@gmail.com            gmail.com   \n",
              "3                prokkha@mail.ru              mail.ru   \n",
              "4              pshalya13@mail.ru              mail.ru   \n",
              "\n",
              "                                             message  is_spam  \n",
              "0                                                           0  \n",
              "1                                                           1  \n",
              "2  ######## FREE ######### \\nULTIMATE РТНС COLLEC...        1  \n",
              "3                                                           1  \n",
              "4                                                           1  "
            ],
            "text/html": [
              "\n",
              "  <div id=\"df-911cf405-2058-4a38-b2cd-b580dc08c84d\">\n",
              "    <div class=\"colab-df-container\">\n",
              "      <div>\n",
              "<style scoped>\n",
              "    .dataframe tbody tr th:only-of-type {\n",
              "        vertical-align: middle;\n",
              "    }\n",
              "\n",
              "    .dataframe tbody tr th {\n",
              "        vertical-align: top;\n",
              "    }\n",
              "\n",
              "    .dataframe thead th {\n",
              "        text-align: right;\n",
              "    }\n",
              "</style>\n",
              "<table border=\"1\" class=\"dataframe\">\n",
              "  <thead>\n",
              "    <tr style=\"text-align: right;\">\n",
              "      <th></th>\n",
              "      <th>name</th>\n",
              "      <th>valid_first_name</th>\n",
              "      <th>phone</th>\n",
              "      <th>valid_phone_number</th>\n",
              "      <th>email</th>\n",
              "      <th>email_domain</th>\n",
              "      <th>message</th>\n",
              "      <th>is_spam</th>\n",
              "    </tr>\n",
              "  </thead>\n",
              "  <tbody>\n",
              "    <tr>\n",
              "      <th>0</th>\n",
              "      <td>Кудюкин Сергей</td>\n",
              "      <td>1</td>\n",
              "      <td>968355358</td>\n",
              "      <td>1</td>\n",
              "      <td>nsbosevskaa77@gmail.com</td>\n",
              "      <td>gmail.com</td>\n",
              "      <td></td>\n",
              "      <td>0</td>\n",
              "    </tr>\n",
              "    <tr>\n",
              "      <th>1</th>\n",
              "      <td>noqokhajap</td>\n",
              "      <td>0</td>\n",
              "      <td>88724654154</td>\n",
              "      <td>0</td>\n",
              "      <td>adudexuza@fhfsd.popmile45.com</td>\n",
              "      <td>fhfsd.popmile45.com</td>\n",
              "      <td></td>\n",
              "      <td>1</td>\n",
              "    </tr>\n",
              "    <tr>\n",
              "      <th>2</th>\n",
              "      <td>Eugenerhime</td>\n",
              "      <td>0</td>\n",
              "      <td>86651238557</td>\n",
              "      <td>0</td>\n",
              "      <td>12gyyaqwdst55r@gmail.com</td>\n",
              "      <td>gmail.com</td>\n",
              "      <td>######## FREE ######### \\nULTIMATE РТНС COLLEC...</td>\n",
              "      <td>1</td>\n",
              "    </tr>\n",
              "    <tr>\n",
              "      <th>3</th>\n",
              "      <td>SSavv</td>\n",
              "      <td>0</td>\n",
              "      <td>82819984212</td>\n",
              "      <td>0</td>\n",
              "      <td>prokkha@mail.ru</td>\n",
              "      <td>mail.ru</td>\n",
              "      <td></td>\n",
              "      <td>1</td>\n",
              "    </tr>\n",
              "    <tr>\n",
              "      <th>4</th>\n",
              "      <td>maygg</td>\n",
              "      <td>0</td>\n",
              "      <td>83937492686</td>\n",
              "      <td>0</td>\n",
              "      <td>pshalya13@mail.ru</td>\n",
              "      <td>mail.ru</td>\n",
              "      <td></td>\n",
              "      <td>1</td>\n",
              "    </tr>\n",
              "  </tbody>\n",
              "</table>\n",
              "</div>\n",
              "      <button class=\"colab-df-convert\" onclick=\"convertToInteractive('df-911cf405-2058-4a38-b2cd-b580dc08c84d')\"\n",
              "              title=\"Convert this dataframe to an interactive table.\"\n",
              "              style=\"display:none;\">\n",
              "        \n",
              "  <svg xmlns=\"http://www.w3.org/2000/svg\" height=\"24px\"viewBox=\"0 0 24 24\"\n",
              "       width=\"24px\">\n",
              "    <path d=\"M0 0h24v24H0V0z\" fill=\"none\"/>\n",
              "    <path d=\"M18.56 5.44l.94 2.06.94-2.06 2.06-.94-2.06-.94-.94-2.06-.94 2.06-2.06.94zm-11 1L8.5 8.5l.94-2.06 2.06-.94-2.06-.94L8.5 2.5l-.94 2.06-2.06.94zm10 10l.94 2.06.94-2.06 2.06-.94-2.06-.94-.94-2.06-.94 2.06-2.06.94z\"/><path d=\"M17.41 7.96l-1.37-1.37c-.4-.4-.92-.59-1.43-.59-.52 0-1.04.2-1.43.59L10.3 9.45l-7.72 7.72c-.78.78-.78 2.05 0 2.83L4 21.41c.39.39.9.59 1.41.59.51 0 1.02-.2 1.41-.59l7.78-7.78 2.81-2.81c.8-.78.8-2.07 0-2.86zM5.41 20L4 18.59l7.72-7.72 1.47 1.35L5.41 20z\"/>\n",
              "  </svg>\n",
              "      </button>\n",
              "      \n",
              "  <style>\n",
              "    .colab-df-container {\n",
              "      display:flex;\n",
              "      flex-wrap:wrap;\n",
              "      gap: 12px;\n",
              "    }\n",
              "\n",
              "    .colab-df-convert {\n",
              "      background-color: #E8F0FE;\n",
              "      border: none;\n",
              "      border-radius: 50%;\n",
              "      cursor: pointer;\n",
              "      display: none;\n",
              "      fill: #1967D2;\n",
              "      height: 32px;\n",
              "      padding: 0 0 0 0;\n",
              "      width: 32px;\n",
              "    }\n",
              "\n",
              "    .colab-df-convert:hover {\n",
              "      background-color: #E2EBFA;\n",
              "      box-shadow: 0px 1px 2px rgba(60, 64, 67, 0.3), 0px 1px 3px 1px rgba(60, 64, 67, 0.15);\n",
              "      fill: #174EA6;\n",
              "    }\n",
              "\n",
              "    [theme=dark] .colab-df-convert {\n",
              "      background-color: #3B4455;\n",
              "      fill: #D2E3FC;\n",
              "    }\n",
              "\n",
              "    [theme=dark] .colab-df-convert:hover {\n",
              "      background-color: #434B5C;\n",
              "      box-shadow: 0px 1px 3px 1px rgba(0, 0, 0, 0.15);\n",
              "      filter: drop-shadow(0px 1px 2px rgba(0, 0, 0, 0.3));\n",
              "      fill: #FFFFFF;\n",
              "    }\n",
              "  </style>\n",
              "\n",
              "      <script>\n",
              "        const buttonEl =\n",
              "          document.querySelector('#df-911cf405-2058-4a38-b2cd-b580dc08c84d button.colab-df-convert');\n",
              "        buttonEl.style.display =\n",
              "          google.colab.kernel.accessAllowed ? 'block' : 'none';\n",
              "\n",
              "        async function convertToInteractive(key) {\n",
              "          const element = document.querySelector('#df-911cf405-2058-4a38-b2cd-b580dc08c84d');\n",
              "          const dataTable =\n",
              "            await google.colab.kernel.invokeFunction('convertToInteractive',\n",
              "                                                     [key], {});\n",
              "          if (!dataTable) return;\n",
              "\n",
              "          const docLinkHtml = 'Like what you see? Visit the ' +\n",
              "            '<a target=\"_blank\" href=https://colab.research.google.com/notebooks/data_table.ipynb>data table notebook</a>'\n",
              "            + ' to learn more about interactive tables.';\n",
              "          element.innerHTML = '';\n",
              "          dataTable['output_type'] = 'display_data';\n",
              "          await google.colab.output.renderOutput(dataTable, element);\n",
              "          const docLink = document.createElement('div');\n",
              "          docLink.innerHTML = docLinkHtml;\n",
              "          element.appendChild(docLink);\n",
              "        }\n",
              "      </script>\n",
              "    </div>\n",
              "  </div>\n",
              "  "
            ]
          },
          "metadata": {},
          "execution_count": 40
        }
      ]
    },
    {
      "cell_type": "code",
      "metadata": {
        "colab": {
          "base_uri": "https://localhost:8080/"
        },
        "id": "Q23yt4RUJa85",
        "outputId": "48d49a3d-04f9-4520-ecd9-5af871d0d388"
      },
      "source": [
        "# Observing data (looking for missing values, etc)\n",
        "\n",
        "print(email_data[\"is_spam\"].value_counts())\n",
        "print()\n",
        "print(email_data.isna().sum())\n",
        "print()\n",
        "print(email_data.dtypes)"
      ],
      "execution_count": 7,
      "outputs": [
        {
          "output_type": "stream",
          "name": "stdout",
          "text": [
            "1    342\n",
            "0    214\n",
            "Name: is_spam, dtype: int64\n",
            "\n",
            "name        1\n",
            "phone       1\n",
            "email      36\n",
            "message     0\n",
            "is_spam     0\n",
            "dtype: int64\n",
            "\n",
            "name       object\n",
            "phone      object\n",
            "email      object\n",
            "message    object\n",
            "is_spam     int64\n",
            "dtype: object\n"
          ]
        }
      ]
    },
    {
      "cell_type": "code",
      "metadata": {
        "colab": {
          "base_uri": "https://localhost:8080/"
        },
        "id": "_oqRC5Ezr35u",
        "outputId": "2fa7eb22-73d8-44cc-bf6f-4d4d47f7cbcf"
      },
      "source": [
        "# Filling in missing values\n",
        "\n",
        "email_data = email_data.fillna('')\n",
        "email_data[\"message\"] = email_data[\"message\"].replace(\"nan\", \"\")\n",
        "print(email_data.isna().sum())\n",
        "print()"
      ],
      "execution_count": 8,
      "outputs": [
        {
          "output_type": "stream",
          "name": "stdout",
          "text": [
            "name       0\n",
            "phone      0\n",
            "email      0\n",
            "message    0\n",
            "is_spam    0\n",
            "dtype: int64\n",
            "\n"
          ]
        }
      ]
    },
    {
      "cell_type": "code",
      "metadata": {
        "id": "FyTcpRQA1trY"
      },
      "source": [
        "# Loading dataframe of common names\n",
        "\n",
        "names_data = pd.read_csv(\"https://raw.githubusercontent.com/Gzaborey/python_applications_classifier/main/data/names_dataframe.csv\", index_col=\"Unnamed: 0\")\n",
        "names_list = [str(name).lower() for name in names_data.iloc[:, -1]]"
      ],
      "execution_count": 10,
      "outputs": []
    },
    {
      "cell_type": "code",
      "metadata": {
        "id": "N4CJha6sTWa5",
        "colab": {
          "base_uri": "https://localhost:8080/"
        },
        "outputId": "ba01df6c-a0f6-4b52-ef8b-2ceab8ae6957"
      },
      "source": [
        "# Looking at the size of a names database\n",
        "\n",
        "print(len(names_list))"
      ],
      "execution_count": 41,
      "outputs": [
        {
          "output_type": "stream",
          "name": "stdout",
          "text": [
            "97974\n"
          ]
        }
      ]
    },
    {
      "cell_type": "code",
      "metadata": {
        "id": "nbB8fmeWr4RC"
      },
      "source": [
        "# Constructing features ('email_domain', 'valid_first_name' and 'valid_phone_number')\n",
        "\n",
        "email_data.insert(loc=3, column=\"email_domain\", \n",
        "                               value=email_data[\"email\"].apply(lambda x: x.lower().split(\"@\")[-1].strip()))\n",
        "\n",
        "email_data.insert(loc=1, column=\"valid_first_name\", \n",
        "                               value=email_data.name.astype(\"str\")\\\n",
        "                              .apply(lambda x: validate_name(x, names_list)))\n",
        "\n",
        "email_data.insert(loc=3, column=\"valid_phone_number\", \n",
        "                               value=email_data.phone.astype(\"str\").apply(lambda x: validate_phone_number(x)))"
      ],
      "execution_count": 12,
      "outputs": []
    },
    {
      "cell_type": "markdown",
      "metadata": {
        "id": "jUrUfHgMka-Z"
      },
      "source": [
        "## Dividing the data into test, train and validation sets"
      ]
    },
    {
      "cell_type": "code",
      "metadata": {
        "id": "xzOJo_Y1lA-K",
        "colab": {
          "base_uri": "https://localhost:8080/",
          "height": 374
        },
        "outputId": "06740351-6df4-49b1-b8c2-0a0ef24c3701"
      },
      "source": [
        "# Shuffling dataframe rows \n",
        "\n",
        "email_data = email_data.sample(frac=1)\n",
        "email_data = email_data.reset_index(drop=True)\n",
        "\n",
        "X = email_data.drop(\"is_spam\", axis=1)\n",
        "y = email_data.is_spam\n",
        "\n",
        "email_data.head()"
      ],
      "execution_count": 13,
      "outputs": [
        {
          "output_type": "execute_result",
          "data": {
            "text/plain": [
              "              name  valid_first_name        phone  valid_phone_number  \\\n",
              "0  Кудюкин Сергей                  1    968355358                   1   \n",
              "1       noqokhajap                 0  88724654154                   0   \n",
              "2      Eugenerhime                 0  86651238557                   0   \n",
              "3            SSavv                 0  82819984212                   0   \n",
              "4            maygg                 0  83937492686                   0   \n",
              "\n",
              "                           email         email_domain  \\\n",
              "0        nsbosevskaa77@gmail.com            gmail.com   \n",
              "1  adudexuza@fhfsd.popmile45.com  fhfsd.popmile45.com   \n",
              "2       12gyyaqwdst55r@gmail.com            gmail.com   \n",
              "3                prokkha@mail.ru              mail.ru   \n",
              "4              pshalya13@mail.ru              mail.ru   \n",
              "\n",
              "                                             message  is_spam  \n",
              "0                                                           0  \n",
              "1                                                           1  \n",
              "2  ######## FREE ######### \\nULTIMATE РТНС COLLEC...        1  \n",
              "3                                                           1  \n",
              "4                                                           1  "
            ],
            "text/html": [
              "\n",
              "  <div id=\"df-54737f42-2d5e-4087-ae45-92df96bb33a6\">\n",
              "    <div class=\"colab-df-container\">\n",
              "      <div>\n",
              "<style scoped>\n",
              "    .dataframe tbody tr th:only-of-type {\n",
              "        vertical-align: middle;\n",
              "    }\n",
              "\n",
              "    .dataframe tbody tr th {\n",
              "        vertical-align: top;\n",
              "    }\n",
              "\n",
              "    .dataframe thead th {\n",
              "        text-align: right;\n",
              "    }\n",
              "</style>\n",
              "<table border=\"1\" class=\"dataframe\">\n",
              "  <thead>\n",
              "    <tr style=\"text-align: right;\">\n",
              "      <th></th>\n",
              "      <th>name</th>\n",
              "      <th>valid_first_name</th>\n",
              "      <th>phone</th>\n",
              "      <th>valid_phone_number</th>\n",
              "      <th>email</th>\n",
              "      <th>email_domain</th>\n",
              "      <th>message</th>\n",
              "      <th>is_spam</th>\n",
              "    </tr>\n",
              "  </thead>\n",
              "  <tbody>\n",
              "    <tr>\n",
              "      <th>0</th>\n",
              "      <td>Кудюкин Сергей</td>\n",
              "      <td>1</td>\n",
              "      <td>968355358</td>\n",
              "      <td>1</td>\n",
              "      <td>nsbosevskaa77@gmail.com</td>\n",
              "      <td>gmail.com</td>\n",
              "      <td></td>\n",
              "      <td>0</td>\n",
              "    </tr>\n",
              "    <tr>\n",
              "      <th>1</th>\n",
              "      <td>noqokhajap</td>\n",
              "      <td>0</td>\n",
              "      <td>88724654154</td>\n",
              "      <td>0</td>\n",
              "      <td>adudexuza@fhfsd.popmile45.com</td>\n",
              "      <td>fhfsd.popmile45.com</td>\n",
              "      <td></td>\n",
              "      <td>1</td>\n",
              "    </tr>\n",
              "    <tr>\n",
              "      <th>2</th>\n",
              "      <td>Eugenerhime</td>\n",
              "      <td>0</td>\n",
              "      <td>86651238557</td>\n",
              "      <td>0</td>\n",
              "      <td>12gyyaqwdst55r@gmail.com</td>\n",
              "      <td>gmail.com</td>\n",
              "      <td>######## FREE ######### \\nULTIMATE РТНС COLLEC...</td>\n",
              "      <td>1</td>\n",
              "    </tr>\n",
              "    <tr>\n",
              "      <th>3</th>\n",
              "      <td>SSavv</td>\n",
              "      <td>0</td>\n",
              "      <td>82819984212</td>\n",
              "      <td>0</td>\n",
              "      <td>prokkha@mail.ru</td>\n",
              "      <td>mail.ru</td>\n",
              "      <td></td>\n",
              "      <td>1</td>\n",
              "    </tr>\n",
              "    <tr>\n",
              "      <th>4</th>\n",
              "      <td>maygg</td>\n",
              "      <td>0</td>\n",
              "      <td>83937492686</td>\n",
              "      <td>0</td>\n",
              "      <td>pshalya13@mail.ru</td>\n",
              "      <td>mail.ru</td>\n",
              "      <td></td>\n",
              "      <td>1</td>\n",
              "    </tr>\n",
              "  </tbody>\n",
              "</table>\n",
              "</div>\n",
              "      <button class=\"colab-df-convert\" onclick=\"convertToInteractive('df-54737f42-2d5e-4087-ae45-92df96bb33a6')\"\n",
              "              title=\"Convert this dataframe to an interactive table.\"\n",
              "              style=\"display:none;\">\n",
              "        \n",
              "  <svg xmlns=\"http://www.w3.org/2000/svg\" height=\"24px\"viewBox=\"0 0 24 24\"\n",
              "       width=\"24px\">\n",
              "    <path d=\"M0 0h24v24H0V0z\" fill=\"none\"/>\n",
              "    <path d=\"M18.56 5.44l.94 2.06.94-2.06 2.06-.94-2.06-.94-.94-2.06-.94 2.06-2.06.94zm-11 1L8.5 8.5l.94-2.06 2.06-.94-2.06-.94L8.5 2.5l-.94 2.06-2.06.94zm10 10l.94 2.06.94-2.06 2.06-.94-2.06-.94-.94-2.06-.94 2.06-2.06.94z\"/><path d=\"M17.41 7.96l-1.37-1.37c-.4-.4-.92-.59-1.43-.59-.52 0-1.04.2-1.43.59L10.3 9.45l-7.72 7.72c-.78.78-.78 2.05 0 2.83L4 21.41c.39.39.9.59 1.41.59.51 0 1.02-.2 1.41-.59l7.78-7.78 2.81-2.81c.8-.78.8-2.07 0-2.86zM5.41 20L4 18.59l7.72-7.72 1.47 1.35L5.41 20z\"/>\n",
              "  </svg>\n",
              "      </button>\n",
              "      \n",
              "  <style>\n",
              "    .colab-df-container {\n",
              "      display:flex;\n",
              "      flex-wrap:wrap;\n",
              "      gap: 12px;\n",
              "    }\n",
              "\n",
              "    .colab-df-convert {\n",
              "      background-color: #E8F0FE;\n",
              "      border: none;\n",
              "      border-radius: 50%;\n",
              "      cursor: pointer;\n",
              "      display: none;\n",
              "      fill: #1967D2;\n",
              "      height: 32px;\n",
              "      padding: 0 0 0 0;\n",
              "      width: 32px;\n",
              "    }\n",
              "\n",
              "    .colab-df-convert:hover {\n",
              "      background-color: #E2EBFA;\n",
              "      box-shadow: 0px 1px 2px rgba(60, 64, 67, 0.3), 0px 1px 3px 1px rgba(60, 64, 67, 0.15);\n",
              "      fill: #174EA6;\n",
              "    }\n",
              "\n",
              "    [theme=dark] .colab-df-convert {\n",
              "      background-color: #3B4455;\n",
              "      fill: #D2E3FC;\n",
              "    }\n",
              "\n",
              "    [theme=dark] .colab-df-convert:hover {\n",
              "      background-color: #434B5C;\n",
              "      box-shadow: 0px 1px 3px 1px rgba(0, 0, 0, 0.15);\n",
              "      filter: drop-shadow(0px 1px 2px rgba(0, 0, 0, 0.3));\n",
              "      fill: #FFFFFF;\n",
              "    }\n",
              "  </style>\n",
              "\n",
              "      <script>\n",
              "        const buttonEl =\n",
              "          document.querySelector('#df-54737f42-2d5e-4087-ae45-92df96bb33a6 button.colab-df-convert');\n",
              "        buttonEl.style.display =\n",
              "          google.colab.kernel.accessAllowed ? 'block' : 'none';\n",
              "\n",
              "        async function convertToInteractive(key) {\n",
              "          const element = document.querySelector('#df-54737f42-2d5e-4087-ae45-92df96bb33a6');\n",
              "          const dataTable =\n",
              "            await google.colab.kernel.invokeFunction('convertToInteractive',\n",
              "                                                     [key], {});\n",
              "          if (!dataTable) return;\n",
              "\n",
              "          const docLinkHtml = 'Like what you see? Visit the ' +\n",
              "            '<a target=\"_blank\" href=https://colab.research.google.com/notebooks/data_table.ipynb>data table notebook</a>'\n",
              "            + ' to learn more about interactive tables.';\n",
              "          element.innerHTML = '';\n",
              "          dataTable['output_type'] = 'display_data';\n",
              "          await google.colab.output.renderOutput(dataTable, element);\n",
              "          const docLink = document.createElement('div');\n",
              "          docLink.innerHTML = docLinkHtml;\n",
              "          element.appendChild(docLink);\n",
              "        }\n",
              "      </script>\n",
              "    </div>\n",
              "  </div>\n",
              "  "
            ]
          },
          "metadata": {},
          "execution_count": 13
        }
      ]
    },
    {
      "cell_type": "code",
      "source": [
        "print(\"Number of entries is\", len(email_data))"
      ],
      "metadata": {
        "colab": {
          "base_uri": "https://localhost:8080/"
        },
        "id": "wWLIAh0ghGp8",
        "outputId": "bdd36f26-4748-4e42-bb71-f09a30639ec3"
      },
      "execution_count": 14,
      "outputs": [
        {
          "output_type": "stream",
          "name": "stdout",
          "text": [
            "Number of entries is 556\n"
          ]
        }
      ]
    },
    {
      "cell_type": "code",
      "metadata": {
        "id": "tynMQXiprbON",
        "colab": {
          "base_uri": "https://localhost:8080/",
          "height": 322
        },
        "outputId": "7debe320-04c3-4c16-bb64-ab7756312dfb"
      },
      "source": [
        "# Spliting data into train, valiation and test sets\n",
        "\n",
        "X_rest, X_test, y_rest, y_test = sk_ms.train_test_split(X, y, test_size=0.2, shuffle=True, stratify=y)\n",
        "\n",
        "X_rest = X_rest.reset_index(drop=True)\n",
        "X_test = X_test.reset_index(drop=True)\n",
        "y_rest = y_rest.reset_index(drop=True)\n",
        "y_test = y_test.reset_index(drop=True)\n",
        "\n",
        "X_train, X_valid, y_train, y_valid = sk_ms.train_test_split(X_rest, y_rest, test_size= 0.3, stratify=y_rest)\n",
        "\n",
        "X_train = X_train.reset_index(drop=True)\n",
        "X_valid = X_valid.reset_index(drop=True)\n",
        "y_train = y_train.reset_index(drop=True)\n",
        "y_valid = y_valid.reset_index(drop=True)\n",
        "\n",
        "X_valid.head()"
      ],
      "execution_count": 15,
      "outputs": [
        {
          "output_type": "execute_result",
          "data": {
            "text/plain": [
              "             name  valid_first_name         phone  valid_phone_number  \\\n",
              "0     Julianfreno                 0   85136388292                   0   \n",
              "1         rimmfus                 0   86529729548                   0   \n",
              "2  Чурпита Андрей                 1  380976000000                   1   \n",
              "3     DotonagaSun                 0   86742228366                   0   \n",
              "4             111                 0           222                   0   \n",
              "\n",
              "                              email email_domain  \\\n",
              "0  alena.prockopencko2014@yandex.ru    yandex.ru   \n",
              "1                  66lisa81@mail.ru      mail.ru   \n",
              "2             greens-odessa@ukr.net      ukr.net   \n",
              "3             digisantaser@mail.com     mail.com   \n",
              "4                                                  \n",
              "\n",
              "                                             message  \n",
              "0                                                     \n",
              "1                                                     \n",
              "2  Здравствуйте!\\n\\nинтересует курсы по маркетинг...  \n",
              "3  Manga and Hentai www.mangoflex.co watch the ca...  \n",
              "4                                                     "
            ],
            "text/html": [
              "\n",
              "  <div id=\"df-dd0bcbbb-b1e6-44f0-997b-8c7cb82c45a5\">\n",
              "    <div class=\"colab-df-container\">\n",
              "      <div>\n",
              "<style scoped>\n",
              "    .dataframe tbody tr th:only-of-type {\n",
              "        vertical-align: middle;\n",
              "    }\n",
              "\n",
              "    .dataframe tbody tr th {\n",
              "        vertical-align: top;\n",
              "    }\n",
              "\n",
              "    .dataframe thead th {\n",
              "        text-align: right;\n",
              "    }\n",
              "</style>\n",
              "<table border=\"1\" class=\"dataframe\">\n",
              "  <thead>\n",
              "    <tr style=\"text-align: right;\">\n",
              "      <th></th>\n",
              "      <th>name</th>\n",
              "      <th>valid_first_name</th>\n",
              "      <th>phone</th>\n",
              "      <th>valid_phone_number</th>\n",
              "      <th>email</th>\n",
              "      <th>email_domain</th>\n",
              "      <th>message</th>\n",
              "    </tr>\n",
              "  </thead>\n",
              "  <tbody>\n",
              "    <tr>\n",
              "      <th>0</th>\n",
              "      <td>Julianfreno</td>\n",
              "      <td>0</td>\n",
              "      <td>85136388292</td>\n",
              "      <td>0</td>\n",
              "      <td>alena.prockopencko2014@yandex.ru</td>\n",
              "      <td>yandex.ru</td>\n",
              "      <td></td>\n",
              "    </tr>\n",
              "    <tr>\n",
              "      <th>1</th>\n",
              "      <td>rimmfus</td>\n",
              "      <td>0</td>\n",
              "      <td>86529729548</td>\n",
              "      <td>0</td>\n",
              "      <td>66lisa81@mail.ru</td>\n",
              "      <td>mail.ru</td>\n",
              "      <td></td>\n",
              "    </tr>\n",
              "    <tr>\n",
              "      <th>2</th>\n",
              "      <td>Чурпита Андрей</td>\n",
              "      <td>1</td>\n",
              "      <td>380976000000</td>\n",
              "      <td>1</td>\n",
              "      <td>greens-odessa@ukr.net</td>\n",
              "      <td>ukr.net</td>\n",
              "      <td>Здравствуйте!\\n\\nинтересует курсы по маркетинг...</td>\n",
              "    </tr>\n",
              "    <tr>\n",
              "      <th>3</th>\n",
              "      <td>DotonagaSun</td>\n",
              "      <td>0</td>\n",
              "      <td>86742228366</td>\n",
              "      <td>0</td>\n",
              "      <td>digisantaser@mail.com</td>\n",
              "      <td>mail.com</td>\n",
              "      <td>Manga and Hentai www.mangoflex.co watch the ca...</td>\n",
              "    </tr>\n",
              "    <tr>\n",
              "      <th>4</th>\n",
              "      <td>111</td>\n",
              "      <td>0</td>\n",
              "      <td>222</td>\n",
              "      <td>0</td>\n",
              "      <td></td>\n",
              "      <td></td>\n",
              "      <td></td>\n",
              "    </tr>\n",
              "  </tbody>\n",
              "</table>\n",
              "</div>\n",
              "      <button class=\"colab-df-convert\" onclick=\"convertToInteractive('df-dd0bcbbb-b1e6-44f0-997b-8c7cb82c45a5')\"\n",
              "              title=\"Convert this dataframe to an interactive table.\"\n",
              "              style=\"display:none;\">\n",
              "        \n",
              "  <svg xmlns=\"http://www.w3.org/2000/svg\" height=\"24px\"viewBox=\"0 0 24 24\"\n",
              "       width=\"24px\">\n",
              "    <path d=\"M0 0h24v24H0V0z\" fill=\"none\"/>\n",
              "    <path d=\"M18.56 5.44l.94 2.06.94-2.06 2.06-.94-2.06-.94-.94-2.06-.94 2.06-2.06.94zm-11 1L8.5 8.5l.94-2.06 2.06-.94-2.06-.94L8.5 2.5l-.94 2.06-2.06.94zm10 10l.94 2.06.94-2.06 2.06-.94-2.06-.94-.94-2.06-.94 2.06-2.06.94z\"/><path d=\"M17.41 7.96l-1.37-1.37c-.4-.4-.92-.59-1.43-.59-.52 0-1.04.2-1.43.59L10.3 9.45l-7.72 7.72c-.78.78-.78 2.05 0 2.83L4 21.41c.39.39.9.59 1.41.59.51 0 1.02-.2 1.41-.59l7.78-7.78 2.81-2.81c.8-.78.8-2.07 0-2.86zM5.41 20L4 18.59l7.72-7.72 1.47 1.35L5.41 20z\"/>\n",
              "  </svg>\n",
              "      </button>\n",
              "      \n",
              "  <style>\n",
              "    .colab-df-container {\n",
              "      display:flex;\n",
              "      flex-wrap:wrap;\n",
              "      gap: 12px;\n",
              "    }\n",
              "\n",
              "    .colab-df-convert {\n",
              "      background-color: #E8F0FE;\n",
              "      border: none;\n",
              "      border-radius: 50%;\n",
              "      cursor: pointer;\n",
              "      display: none;\n",
              "      fill: #1967D2;\n",
              "      height: 32px;\n",
              "      padding: 0 0 0 0;\n",
              "      width: 32px;\n",
              "    }\n",
              "\n",
              "    .colab-df-convert:hover {\n",
              "      background-color: #E2EBFA;\n",
              "      box-shadow: 0px 1px 2px rgba(60, 64, 67, 0.3), 0px 1px 3px 1px rgba(60, 64, 67, 0.15);\n",
              "      fill: #174EA6;\n",
              "    }\n",
              "\n",
              "    [theme=dark] .colab-df-convert {\n",
              "      background-color: #3B4455;\n",
              "      fill: #D2E3FC;\n",
              "    }\n",
              "\n",
              "    [theme=dark] .colab-df-convert:hover {\n",
              "      background-color: #434B5C;\n",
              "      box-shadow: 0px 1px 3px 1px rgba(0, 0, 0, 0.15);\n",
              "      filter: drop-shadow(0px 1px 2px rgba(0, 0, 0, 0.3));\n",
              "      fill: #FFFFFF;\n",
              "    }\n",
              "  </style>\n",
              "\n",
              "      <script>\n",
              "        const buttonEl =\n",
              "          document.querySelector('#df-dd0bcbbb-b1e6-44f0-997b-8c7cb82c45a5 button.colab-df-convert');\n",
              "        buttonEl.style.display =\n",
              "          google.colab.kernel.accessAllowed ? 'block' : 'none';\n",
              "\n",
              "        async function convertToInteractive(key) {\n",
              "          const element = document.querySelector('#df-dd0bcbbb-b1e6-44f0-997b-8c7cb82c45a5');\n",
              "          const dataTable =\n",
              "            await google.colab.kernel.invokeFunction('convertToInteractive',\n",
              "                                                     [key], {});\n",
              "          if (!dataTable) return;\n",
              "\n",
              "          const docLinkHtml = 'Like what you see? Visit the ' +\n",
              "            '<a target=\"_blank\" href=https://colab.research.google.com/notebooks/data_table.ipynb>data table notebook</a>'\n",
              "            + ' to learn more about interactive tables.';\n",
              "          element.innerHTML = '';\n",
              "          dataTable['output_type'] = 'display_data';\n",
              "          await google.colab.output.renderOutput(dataTable, element);\n",
              "          const docLink = document.createElement('div');\n",
              "          docLink.innerHTML = docLinkHtml;\n",
              "          element.appendChild(docLink);\n",
              "        }\n",
              "      </script>\n",
              "    </div>\n",
              "  </div>\n",
              "  "
            ]
          },
          "metadata": {},
          "execution_count": 15
        }
      ]
    },
    {
      "cell_type": "code",
      "source": [
        "print(\"Number of training examples\", len(y_train))\n",
        "print(\"Number of validation examples\", len(y_valid))\n",
        "print(\"Number of testing examples\", len(y_test))"
      ],
      "metadata": {
        "colab": {
          "base_uri": "https://localhost:8080/"
        },
        "id": "zfu76gGbiqSr",
        "outputId": "d3bd0662-7e25-4536-8d81-5a78801f9533"
      },
      "execution_count": 16,
      "outputs": [
        {
          "output_type": "stream",
          "name": "stdout",
          "text": [
            "Number of training examples 310\n",
            "Number of validation examples 134\n",
            "Number of testing examples 112\n"
          ]
        }
      ]
    },
    {
      "cell_type": "markdown",
      "metadata": {
        "id": "Mb7eZz4SQWcH"
      },
      "source": [
        "# **Building and training the model**"
      ]
    },
    {
      "cell_type": "markdown",
      "source": [
        "## Converting \"email_domain\" and \"message\" columns into vectors."
      ],
      "metadata": {
        "id": "ryMiZkcbPbi7"
      }
    },
    {
      "cell_type": "code",
      "metadata": {
        "id": "wwHAqetEp4Wj"
      },
      "source": [
        "#Preparing the data vectorizer\n",
        "\n",
        "email_dom_vectorizer = CountVectorizer()\n",
        "email_dom_vectorizer.fit(email_data.email_domain)\n",
        "email_dom_vectorized_train = email_dom_vectorizer.transform(X_train.email_domain)\n",
        "email_dom_vectorized_valid = email_dom_vectorizer.transform(X_valid.email_domain)\n",
        "email_dom_vectorized_test = email_dom_vectorizer.transform(X_test.email_domain)\n",
        "\n",
        "email_message_vectorizer = CountVectorizer(analyzer=process_text)\n",
        "email_message_vectorizer.fit(email_data.message)\n",
        "email_message_vectorized_train = email_message_vectorizer.transform(X_train.message)\n",
        "email_message_vectorized_valid = email_message_vectorizer.transform(X_valid.message)\n",
        "email_message_vectorized_test = email_message_vectorizer.transform(X_test.message)\n"
      ],
      "execution_count": 17,
      "outputs": []
    },
    {
      "cell_type": "code",
      "metadata": {
        "id": "PsFyOojMCZt8"
      },
      "source": [
        " #email_message_vectorizer.get_feature_names()"
      ],
      "execution_count": 18,
      "outputs": []
    },
    {
      "cell_type": "markdown",
      "source": [
        "## Building Naive Bayes model for \"email_domain\" column analysis"
      ],
      "metadata": {
        "id": "P0NFBOYrPhuE"
      }
    },
    {
      "cell_type": "code",
      "source": [
        "# Naive Bayes model for 'email_domain' column analysis training and tuning\n",
        "\n",
        "NB_dom_model_params = [i/100 for i in range(1, 101)]\n",
        "f1_scores = {}\n",
        "for i in range(len(NB_dom_model_params)):\n",
        "  NB_dom_model = MultinomialNB(alpha=NB_dom_model_params[i])\n",
        "  NB_dom_model.fit(email_dom_vectorized_train, y_train)\n",
        "  NB_dom_predictions = NB_dom_model.predict(email_dom_vectorized_valid)\n",
        "  f1_score = sk_metrics.f1_score(y_valid, NB_dom_predictions, average=\"binary\")\n",
        "  f1_scores[NB_dom_model_params[i]] = f1_score\n"
      ],
      "metadata": {
        "id": "cj-agOMVf7ft"
      },
      "execution_count": 19,
      "outputs": []
    },
    {
      "cell_type": "code",
      "source": [
        "# Determining the optimal value for \"alpha\" hyperparameter.\n",
        "\n",
        "best_score = 0\n",
        "best_alpha = 0\n",
        "\n",
        "for alpha, score in f1_scores.items():\n",
        "    if score >= best_score:\n",
        "      best_alpha = alpha\n",
        "      best_score = score\n",
        "\n",
        "print(\"Optimal 'alpha' hyperparameter value:\", best_alpha)\n",
        "\n",
        "print(\"F1 score for optimal hyperparameter value:\", f1_scores[best_alpha])\n"
      ],
      "metadata": {
        "colab": {
          "base_uri": "https://localhost:8080/"
        },
        "id": "hqL8M608xSId",
        "outputId": "288d9d2e-ef30-4557-b897-aa186a4a0056"
      },
      "execution_count": 20,
      "outputs": [
        {
          "output_type": "stream",
          "name": "stdout",
          "text": [
            "0.27\n",
            "0.8\n"
          ]
        }
      ]
    },
    {
      "cell_type": "code",
      "source": [
        "# Naive Bayes model for \"email_domain\" column analysis efficiency plot\n",
        "\n",
        "x = []\n",
        "y = []\n",
        "\n",
        "for key, value in f1_scores.items():\n",
        "  x.append(key)\n",
        "  y.append(value)\n",
        "\n",
        "fig = plt.figure(figsize=(10,6))\n",
        "\n",
        "plt.plot(x, y)\n",
        "\n",
        "plt.xlabel(\"Alpha value\")\n",
        "plt.ylabel(\"F1 score\")\n",
        "\n",
        "plt.show()\n"
      ],
      "metadata": {
        "colab": {
          "base_uri": "https://localhost:8080/",
          "height": 388
        },
        "id": "Jowb6mA2qpzF",
        "outputId": "c1886c2d-483f-499f-b81c-9097441e2147"
      },
      "execution_count": 21,
      "outputs": [
        {
          "output_type": "display_data",
          "data": {
            "text/plain": [
              "<Figure size 720x432 with 1 Axes>"
            ],
            "image/png": "[encoded data removed]"
          },
          "metadata": {
            "needs_background": "light"
          }
        }
      ]
    },
    {
      "cell_type": "code",
      "source": [
        "# Training the model using the optimal \"alpha\" hyperparameter value\n",
        "\n",
        "NB_dom_model = MultinomialNB(alpha=best_alpha)\n",
        "\n",
        "NB_dom_model.fit(email_dom_vectorized_train, y_train)\n",
        "\n",
        "NB_dom_predictions = NB_dom_model.predict(email_dom_vectorized_valid)\n",
        "\n",
        "NB_dom_train_proba = NB_dom_model.predict_proba(email_dom_vectorized_train)[:, 1]\n",
        "NB_dom_valid_proba = NB_dom_model.predict_proba(email_dom_vectorized_valid)[:, 1]\n"
      ],
      "metadata": {
        "id": "F8z2khkz_vwH"
      },
      "execution_count": 22,
      "outputs": []
    },
    {
      "cell_type": "code",
      "metadata": {
        "id": "kPDFXdo2rnSi",
        "colab": {
          "base_uri": "https://localhost:8080/"
        },
        "outputId": "f82eb6b8-b8da-49cd-f0c5-06b3d61f3b46"
      },
      "source": [
        "# NB model performance results\n",
        "\n",
        "print(sk_metrics.classification_report(y_valid, NB_dom_predictions))\n",
        "print()\n",
        "print(\"Accuracy score:\", sk_metrics.accuracy_score(y_valid, NB_dom_predictions))"
      ],
      "execution_count": 23,
      "outputs": [
        {
          "output_type": "stream",
          "name": "stdout",
          "text": [
            "              precision    recall  f1-score   support\n",
            "\n",
            "           0       0.67      0.85      0.75        52\n",
            "           1       0.88      0.73      0.80        82\n",
            "\n",
            "    accuracy                           0.78       134\n",
            "   macro avg       0.77      0.79      0.77       134\n",
            "weighted avg       0.80      0.78      0.78       134\n",
            "\n"
          ]
        }
      ]
    },
    {
      "cell_type": "markdown",
      "source": [
        "## Building Naive Bayes model for \"message\" column analysis"
      ],
      "metadata": {
        "id": "pF8Bt4yYPpKd"
      }
    },
    {
      "cell_type": "code",
      "metadata": {
        "id": "EaZwlYy2s_ki"
      },
      "source": [
        "# Naive Bayes model for \"message\" column analysis training and tuning\n",
        "\n",
        "NB_mes_model_params = [i/100 for i in range(1, 201)]\n",
        "f1_scores = {}\n",
        "for i in range(len(NB_mes_model_params)):\n",
        "  NB_mes_model = MultinomialNB(alpha=NB_mes_model_params[i])\n",
        "  NB_mes_model.fit(email_message_vectorized_train, y_train)\n",
        "  NB_mes_predictions = NB_mes_model.predict(email_message_vectorized_valid)\n",
        "  f1_score = sk_metrics.f1_score(y_valid, NB_mes_predictions)\n",
        "  f1_scores[NB_mes_model_params[i]] = f1_score\n",
        "  "
      ],
      "execution_count": 24,
      "outputs": []
    },
    {
      "cell_type": "code",
      "source": [
        "# Determining the optimal value for \"alpha\" hyperparameter.\n",
        "\n",
        "best_score = 0\n",
        "best_alpha = 0\n",
        "\n",
        "for alpha, score in f1_scores.items():\n",
        "    if score >= best_score:\n",
        "      best_alpha = alpha\n",
        "      best_score = score\n",
        "\n",
        "print(\"Optimal 'alpha' hyperparameter value:\", best_alpha)\n",
        "\n",
        "print(\"F1 score for optimal hyperparameter value:\", f1_scores[best_alpha])\n"
      ],
      "metadata": {
        "colab": {
          "base_uri": "https://localhost:8080/"
        },
        "id": "R9YeK1AyTOba",
        "outputId": "0b720dac-e463-4a39-c102-7cecd00e7f8c"
      },
      "execution_count": 25,
      "outputs": [
        {
          "output_type": "stream",
          "name": "stdout",
          "text": [
            "0.06\n",
            "0.7878787878787878\n"
          ]
        }
      ]
    },
    {
      "cell_type": "code",
      "source": [
        "# Naive Bayes model for \"message\" column analysis efficiency plot\n",
        "\n",
        "x = []\n",
        "y = []\n",
        "\n",
        "for key, value in f1_scores.items():\n",
        "  x.append(key)\n",
        "  y.append(value)\n",
        "\n",
        "fig = plt.figure(figsize=(10,6))\n",
        "\n",
        "plt.plot(x, y)\n",
        "\n",
        "plt.xlabel(\"Alpha value\")\n",
        "plt.ylabel(\"F1 score\")\n",
        "\n",
        "plt.show()\n"
      ],
      "metadata": {
        "colab": {
          "base_uri": "https://localhost:8080/",
          "height": 388
        },
        "id": "kwy8rzn3TR3m",
        "outputId": "09d9ad49-6bfb-408c-bd58-0271168b95e3"
      },
      "execution_count": 26,
      "outputs": [
        {
          "output_type": "display_data",
          "data": {
            "text/plain": [
              "<Figure size 720x432 with 1 Axes>"
            ],
            "image/png": "[encoded data removed]"
          },
          "metadata": {
            "needs_background": "light"
          }
        }
      ]
    },
    {
      "cell_type": "code",
      "source": [
        "# Training the model using the optimal \"alpha\" hyperparameter value\n",
        "\n",
        "NB_mes_model = MultinomialNB(alpha=best_alpha)\n",
        "\n",
        "NB_mes_model.fit(email_message_vectorized_train, y_train)\n",
        "\n",
        "NB_mes_predictions = NB_mes_model.predict(email_message_vectorized_valid)\n",
        "\n",
        "NB_mes_train_proba = NB_mes_model.predict_proba(email_message_vectorized_train)[:, 1]\n",
        "NB_mes_valid_proba = NB_mes_model.predict_proba(email_message_vectorized_valid)[:, 1]"
      ],
      "metadata": {
        "id": "16dE1psrTftM"
      },
      "execution_count": 27,
      "outputs": []
    },
    {
      "cell_type": "code",
      "source": [
        "# NB model performance results\n",
        "\n",
        "print(sk_metrics.classification_report(y_valid, NB_mes_predictions))\n",
        "print()\n",
        "print(\"Accuracy score:\", sk_metrics.accuracy_score(y_valid, NB_mes_predictions))"
      ],
      "metadata": {
        "colab": {
          "base_uri": "https://localhost:8080/"
        },
        "id": "fY-au1DWTpOE",
        "outputId": "2cfdb823-3c88-48fd-cd29-2e41a53ea254"
      },
      "execution_count": 28,
      "outputs": [
        {
          "output_type": "stream",
          "name": "stdout",
          "text": [
            "              precision    recall  f1-score   support\n",
            "\n",
            "           0       0.78      0.27      0.40        52\n",
            "           1       0.67      0.95      0.79        82\n",
            "\n",
            "    accuracy                           0.69       134\n",
            "   macro avg       0.73      0.61      0.59       134\n",
            "weighted avg       0.71      0.69      0.64       134\n",
            "\n"
          ]
        }
      ]
    },
    {
      "cell_type": "markdown",
      "source": [
        "## Building Logistic Regression model for predicting the validity of applications"
      ],
      "metadata": {
        "id": "Pw4Mn4mHPqg8"
      }
    },
    {
      "cell_type": "code",
      "metadata": {
        "colab": {
          "base_uri": "https://localhost:8080/",
          "height": 206
        },
        "id": "bZeP41c7vGOJ",
        "outputId": "56bedff2-f54a-4cce-a1e9-537777160db9"
      },
      "source": [
        "# Data to train and tune LR\n",
        "\n",
        "X_train = X_train.loc[:, [\"valid_first_name\", \"valid_phone_number\"]]\n",
        "X_train = pd.concat([X_train, pd.Series(NB_dom_train_proba, name=\"domain_validity_proba\")], axis=1)\n",
        "X_train = pd.concat([X_train, pd.Series(NB_mes_train_proba, name=\"message_validity_proba\")], axis=1)\n",
        "\n",
        "X_valid_temp = X_valid.loc[:, [\"valid_first_name\", \"valid_phone_number\"]]\n",
        "X_valid_temp = pd.concat([X_valid_temp, pd.Series(NB_dom_valid_proba, name=\"domain_validity_proba\")], axis=1)\n",
        "X_valid_temp = pd.concat([X_valid_temp, pd.Series(NB_mes_valid_proba, name=\"message_validity_proba\")], axis=1)\n",
        "\n",
        "X_train.head()"
      ],
      "execution_count": 29,
      "outputs": [
        {
          "output_type": "execute_result",
          "data": {
            "text/plain": [
              "   valid_first_name  valid_phone_number  domain_validity_proba  \\\n",
              "0                 0                   0               0.984104   \n",
              "1                 1                   1               0.145751   \n",
              "2                 1                   1               0.616129   \n",
              "3                 1                   1               0.145751   \n",
              "4                 1                   0               0.616129   \n",
              "\n",
              "   message_validity_proba  \n",
              "0            6.161290e-01  \n",
              "1            3.263463e-03  \n",
              "2            1.113680e-08  \n",
              "3            4.091857e-08  \n",
              "4            1.088637e-36  "
            ],
            "text/html": [
              "\n",
              "  <div id=\"df-9127f979-c6e7-404e-adf8-170709d1024d\">\n",
              "    <div class=\"colab-df-container\">\n",
              "      <div>\n",
              "<style scoped>\n",
              "    .dataframe tbody tr th:only-of-type {\n",
              "        vertical-align: middle;\n",
              "    }\n",
              "\n",
              "    .dataframe tbody tr th {\n",
              "        vertical-align: top;\n",
              "    }\n",
              "\n",
              "    .dataframe thead th {\n",
              "        text-align: right;\n",
              "    }\n",
              "</style>\n",
              "<table border=\"1\" class=\"dataframe\">\n",
              "  <thead>\n",
              "    <tr style=\"text-align: right;\">\n",
              "      <th></th>\n",
              "      <th>valid_first_name</th>\n",
              "      <th>valid_phone_number</th>\n",
              "      <th>domain_validity_proba</th>\n",
              "      <th>message_validity_proba</th>\n",
              "    </tr>\n",
              "  </thead>\n",
              "  <tbody>\n",
              "    <tr>\n",
              "      <th>0</th>\n",
              "      <td>0</td>\n",
              "      <td>0</td>\n",
              "      <td>0.984104</td>\n",
              "      <td>6.161290e-01</td>\n",
              "    </tr>\n",
              "    <tr>\n",
              "      <th>1</th>\n",
              "      <td>1</td>\n",
              "      <td>1</td>\n",
              "      <td>0.145751</td>\n",
              "      <td>3.263463e-03</td>\n",
              "    </tr>\n",
              "    <tr>\n",
              "      <th>2</th>\n",
              "      <td>1</td>\n",
              "      <td>1</td>\n",
              "      <td>0.616129</td>\n",
              "      <td>1.113680e-08</td>\n",
              "    </tr>\n",
              "    <tr>\n",
              "      <th>3</th>\n",
              "      <td>1</td>\n",
              "      <td>1</td>\n",
              "      <td>0.145751</td>\n",
              "      <td>4.091857e-08</td>\n",
              "    </tr>\n",
              "    <tr>\n",
              "      <th>4</th>\n",
              "      <td>1</td>\n",
              "      <td>0</td>\n",
              "      <td>0.616129</td>\n",
              "      <td>1.088637e-36</td>\n",
              "    </tr>\n",
              "  </tbody>\n",
              "</table>\n",
              "</div>\n",
              "      <button class=\"colab-df-convert\" onclick=\"convertToInteractive('df-9127f979-c6e7-404e-adf8-170709d1024d')\"\n",
              "              title=\"Convert this dataframe to an interactive table.\"\n",
              "              style=\"display:none;\">\n",
              "        \n",
              "  <svg xmlns=\"http://www.w3.org/2000/svg\" height=\"24px\"viewBox=\"0 0 24 24\"\n",
              "       width=\"24px\">\n",
              "    <path d=\"M0 0h24v24H0V0z\" fill=\"none\"/>\n",
              "    <path d=\"M18.56 5.44l.94 2.06.94-2.06 2.06-.94-2.06-.94-.94-2.06-.94 2.06-2.06.94zm-11 1L8.5 8.5l.94-2.06 2.06-.94-2.06-.94L8.5 2.5l-.94 2.06-2.06.94zm10 10l.94 2.06.94-2.06 2.06-.94-2.06-.94-.94-2.06-.94 2.06-2.06.94z\"/><path d=\"M17.41 7.96l-1.37-1.37c-.4-.4-.92-.59-1.43-.59-.52 0-1.04.2-1.43.59L10.3 9.45l-7.72 7.72c-.78.78-.78 2.05 0 2.83L4 21.41c.39.39.9.59 1.41.59.51 0 1.02-.2 1.41-.59l7.78-7.78 2.81-2.81c.8-.78.8-2.07 0-2.86zM5.41 20L4 18.59l7.72-7.72 1.47 1.35L5.41 20z\"/>\n",
              "  </svg>\n",
              "      </button>\n",
              "      \n",
              "  <style>\n",
              "    .colab-df-container {\n",
              "      display:flex;\n",
              "      flex-wrap:wrap;\n",
              "      gap: 12px;\n",
              "    }\n",
              "\n",
              "    .colab-df-convert {\n",
              "      background-color: #E8F0FE;\n",
              "      border: none;\n",
              "      border-radius: 50%;\n",
              "      cursor: pointer;\n",
              "      display: none;\n",
              "      fill: #1967D2;\n",
              "      height: 32px;\n",
              "      padding: 0 0 0 0;\n",
              "      width: 32px;\n",
              "    }\n",
              "\n",
              "    .colab-df-convert:hover {\n",
              "      background-color: #E2EBFA;\n",
              "      box-shadow: 0px 1px 2px rgba(60, 64, 67, 0.3), 0px 1px 3px 1px rgba(60, 64, 67, 0.15);\n",
              "      fill: #174EA6;\n",
              "    }\n",
              "\n",
              "    [theme=dark] .colab-df-convert {\n",
              "      background-color: #3B4455;\n",
              "      fill: #D2E3FC;\n",
              "    }\n",
              "\n",
              "    [theme=dark] .colab-df-convert:hover {\n",
              "      background-color: #434B5C;\n",
              "      box-shadow: 0px 1px 3px 1px rgba(0, 0, 0, 0.15);\n",
              "      filter: drop-shadow(0px 1px 2px rgba(0, 0, 0, 0.3));\n",
              "      fill: #FFFFFF;\n",
              "    }\n",
              "  </style>\n",
              "\n",
              "      <script>\n",
              "        const buttonEl =\n",
              "          document.querySelector('#df-9127f979-c6e7-404e-adf8-170709d1024d button.colab-df-convert');\n",
              "        buttonEl.style.display =\n",
              "          google.colab.kernel.accessAllowed ? 'block' : 'none';\n",
              "\n",
              "        async function convertToInteractive(key) {\n",
              "          const element = document.querySelector('#df-9127f979-c6e7-404e-adf8-170709d1024d');\n",
              "          const dataTable =\n",
              "            await google.colab.kernel.invokeFunction('convertToInteractive',\n",
              "                                                     [key], {});\n",
              "          if (!dataTable) return;\n",
              "\n",
              "          const docLinkHtml = 'Like what you see? Visit the ' +\n",
              "            '<a target=\"_blank\" href=https://colab.research.google.com/notebooks/data_table.ipynb>data table notebook</a>'\n",
              "            + ' to learn more about interactive tables.';\n",
              "          element.innerHTML = '';\n",
              "          dataTable['output_type'] = 'display_data';\n",
              "          await google.colab.output.renderOutput(dataTable, element);\n",
              "          const docLink = document.createElement('div');\n",
              "          docLink.innerHTML = docLinkHtml;\n",
              "          element.appendChild(docLink);\n",
              "        }\n",
              "      </script>\n",
              "    </div>\n",
              "  </div>\n",
              "  "
            ]
          },
          "metadata": {},
          "execution_count": 29
        }
      ]
    },
    {
      "cell_type": "code",
      "source": [
        "# Logistic Regression сlassifier training and tuning\n",
        "\n",
        "LR_model = LogisticRegression()\n",
        "LR_params = {\"penalty\": [\"l1\", \"l2\", \"elasticnet\", \"none\"],\n",
        "             \"C\": [i/100 for i in range(1, 1001, 10)],\n",
        "             \"solver\": [\"newton-cg\", \"lbfgs\", \"liblinear\", \"sag\", \"saga\"]}\n",
        "\n",
        "clf = sk_ms.GridSearchCV(LR_model, LR_params, verbose=0)\n",
        "\n",
        "clf.fit(X_train, y_train)"
      ],
      "metadata": {
        "id": "FA1yUG75R5o6"
      },
      "execution_count": null,
      "outputs": []
    },
    {
      "cell_type": "code",
      "source": [
        "print(\"Optimal set of hyperparameters:\", clf.best_params_)"
      ],
      "metadata": {
        "colab": {
          "base_uri": "https://localhost:8080/"
        },
        "id": "2e9o0GoydEB5",
        "outputId": "20e217ba-fffe-422a-c4b4-68911ae8f7c9"
      },
      "execution_count": 31,
      "outputs": [
        {
          "output_type": "stream",
          "name": "stdout",
          "text": [
            "{'C': 0.11, 'penalty': 'l2', 'solver': 'liblinear'}\n"
          ]
        }
      ]
    },
    {
      "cell_type": "code",
      "metadata": {
        "colab": {
          "base_uri": "https://localhost:8080/"
        },
        "id": "-9zwdJt84Ewt",
        "outputId": "0d88ddf6-1aad-4f74-9431-407329434e27"
      },
      "source": [
        "# Logistic Regression classifier performance results\n",
        "\n",
        "LR_predictions = clf.predict(X_valid_temp)\n",
        "\n",
        "print(sk_metrics.classification_report(y_valid, LR_predictions))\n",
        "print()\n",
        "print(\"Accuracy score:\", sk_metrics.accuracy_score(y_valid, LR_predictions))"
      ],
      "execution_count": 32,
      "outputs": [
        {
          "output_type": "stream",
          "name": "stdout",
          "text": [
            "              precision    recall  f1-score   support\n",
            "\n",
            "           0       0.98      1.00      0.99        52\n",
            "           1       1.00      0.99      0.99        82\n",
            "\n",
            "    accuracy                           0.99       134\n",
            "   macro avg       0.99      0.99      0.99       134\n",
            "weighted avg       0.99      0.99      0.99       134\n",
            "\n",
            "\n",
            "Accuracy score: 0.9925373134328358\n"
          ]
        }
      ]
    },
    {
      "cell_type": "markdown",
      "metadata": {
        "id": "pcDkRH-WcdNk"
      },
      "source": [
        "# **Testing the model on test data set**"
      ]
    },
    {
      "cell_type": "code",
      "metadata": {
        "id": "HUYx728wdAYe"
      },
      "source": [
        "# NB model analysis of \"email_domain\" column\n",
        "\n",
        "NB_dom_predictions = NB_dom_model.predict_proba(email_dom_vectorized_test)[:, 1]"
      ],
      "execution_count": 34,
      "outputs": []
    },
    {
      "cell_type": "code",
      "metadata": {
        "id": "XXkfBi0sdAYj"
      },
      "source": [
        "# NB model analysis of \"message\" column\n",
        "\n",
        "NB_mes_predictions = NB_mes_model.predict_proba(email_message_vectorized_test)[:, 1]"
      ],
      "execution_count": 36,
      "outputs": []
    },
    {
      "cell_type": "code",
      "metadata": {
        "colab": {
          "base_uri": "https://localhost:8080/",
          "height": 206
        },
        "id": "A-F480fBdAYl",
        "outputId": "23d7a614-5e2a-45c2-b0db-d88fd7d75df1"
      },
      "source": [
        "# Preparing data for LR\n",
        "\n",
        "temp_df = X_test.loc[:, [\"valid_first_name\", \"valid_phone_number\"]]\n",
        "temp_df = temp_df.reset_index(drop=True)\n",
        "temp_df = pd.concat([temp_df, pd.Series(NB_dom_predictions, name=\"domain_validity_proba\")], axis=1)\n",
        "temp_df = pd.concat([temp_df, pd.Series(NB_mes_predictions, name=\"message_validity_proba\")], axis=1)\n",
        "\n",
        "temp_df.head()"
      ],
      "execution_count": 37,
      "outputs": [
        {
          "output_type": "execute_result",
          "data": {
            "text/plain": [
              "   valid_first_name  valid_phone_number         0         0\n",
              "0                 1                   1  0.996016  0.616129\n",
              "1                 1                   1  0.145751  0.001589\n",
              "2                 0                   0  0.996080  1.000000\n",
              "3                 0                   0  0.996743  0.616129\n",
              "4                 0                   0  0.145751  0.616129"
            ],
            "text/html": [
              "\n",
              "  <div id=\"df-218a41d9-033d-4f88-9ed6-05503b662b7a\">\n",
              "    <div class=\"colab-df-container\">\n",
              "      <div>\n",
              "<style scoped>\n",
              "    .dataframe tbody tr th:only-of-type {\n",
              "        vertical-align: middle;\n",
              "    }\n",
              "\n",
              "    .dataframe tbody tr th {\n",
              "        vertical-align: top;\n",
              "    }\n",
              "\n",
              "    .dataframe thead th {\n",
              "        text-align: right;\n",
              "    }\n",
              "</style>\n",
              "<table border=\"1\" class=\"dataframe\">\n",
              "  <thead>\n",
              "    <tr style=\"text-align: right;\">\n",
              "      <th></th>\n",
              "      <th>valid_first_name</th>\n",
              "      <th>valid_phone_number</th>\n",
              "      <th>0</th>\n",
              "      <th>0</th>\n",
              "    </tr>\n",
              "  </thead>\n",
              "  <tbody>\n",
              "    <tr>\n",
              "      <th>0</th>\n",
              "      <td>1</td>\n",
              "      <td>1</td>\n",
              "      <td>0.996016</td>\n",
              "      <td>0.616129</td>\n",
              "    </tr>\n",
              "    <tr>\n",
              "      <th>1</th>\n",
              "      <td>1</td>\n",
              "      <td>1</td>\n",
              "      <td>0.145751</td>\n",
              "      <td>0.001589</td>\n",
              "    </tr>\n",
              "    <tr>\n",
              "      <th>2</th>\n",
              "      <td>0</td>\n",
              "      <td>0</td>\n",
              "      <td>0.996080</td>\n",
              "      <td>1.000000</td>\n",
              "    </tr>\n",
              "    <tr>\n",
              "      <th>3</th>\n",
              "      <td>0</td>\n",
              "      <td>0</td>\n",
              "      <td>0.996743</td>\n",
              "      <td>0.616129</td>\n",
              "    </tr>\n",
              "    <tr>\n",
              "      <th>4</th>\n",
              "      <td>0</td>\n",
              "      <td>0</td>\n",
              "      <td>0.145751</td>\n",
              "      <td>0.616129</td>\n",
              "    </tr>\n",
              "  </tbody>\n",
              "</table>\n",
              "</div>\n",
              "      <button class=\"colab-df-convert\" onclick=\"convertToInteractive('df-218a41d9-033d-4f88-9ed6-05503b662b7a')\"\n",
              "              title=\"Convert this dataframe to an interactive table.\"\n",
              "              style=\"display:none;\">\n",
              "        \n",
              "  <svg xmlns=\"http://www.w3.org/2000/svg\" height=\"24px\"viewBox=\"0 0 24 24\"\n",
              "       width=\"24px\">\n",
              "    <path d=\"M0 0h24v24H0V0z\" fill=\"none\"/>\n",
              "    <path d=\"M18.56 5.44l.94 2.06.94-2.06 2.06-.94-2.06-.94-.94-2.06-.94 2.06-2.06.94zm-11 1L8.5 8.5l.94-2.06 2.06-.94-2.06-.94L8.5 2.5l-.94 2.06-2.06.94zm10 10l.94 2.06.94-2.06 2.06-.94-2.06-.94-.94-2.06-.94 2.06-2.06.94z\"/><path d=\"M17.41 7.96l-1.37-1.37c-.4-.4-.92-.59-1.43-.59-.52 0-1.04.2-1.43.59L10.3 9.45l-7.72 7.72c-.78.78-.78 2.05 0 2.83L4 21.41c.39.39.9.59 1.41.59.51 0 1.02-.2 1.41-.59l7.78-7.78 2.81-2.81c.8-.78.8-2.07 0-2.86zM5.41 20L4 18.59l7.72-7.72 1.47 1.35L5.41 20z\"/>\n",
              "  </svg>\n",
              "      </button>\n",
              "      \n",
              "  <style>\n",
              "    .colab-df-container {\n",
              "      display:flex;\n",
              "      flex-wrap:wrap;\n",
              "      gap: 12px;\n",
              "    }\n",
              "\n",
              "    .colab-df-convert {\n",
              "      background-color: #E8F0FE;\n",
              "      border: none;\n",
              "      border-radius: 50%;\n",
              "      cursor: pointer;\n",
              "      display: none;\n",
              "      fill: #1967D2;\n",
              "      height: 32px;\n",
              "      padding: 0 0 0 0;\n",
              "      width: 32px;\n",
              "    }\n",
              "\n",
              "    .colab-df-convert:hover {\n",
              "      background-color: #E2EBFA;\n",
              "      box-shadow: 0px 1px 2px rgba(60, 64, 67, 0.3), 0px 1px 3px 1px rgba(60, 64, 67, 0.15);\n",
              "      fill: #174EA6;\n",
              "    }\n",
              "\n",
              "    [theme=dark] .colab-df-convert {\n",
              "      background-color: #3B4455;\n",
              "      fill: #D2E3FC;\n",
              "    }\n",
              "\n",
              "    [theme=dark] .colab-df-convert:hover {\n",
              "      background-color: #434B5C;\n",
              "      box-shadow: 0px 1px 3px 1px rgba(0, 0, 0, 0.15);\n",
              "      filter: drop-shadow(0px 1px 2px rgba(0, 0, 0, 0.3));\n",
              "      fill: #FFFFFF;\n",
              "    }\n",
              "  </style>\n",
              "\n",
              "      <script>\n",
              "        const buttonEl =\n",
              "          document.querySelector('#df-218a41d9-033d-4f88-9ed6-05503b662b7a button.colab-df-convert');\n",
              "        buttonEl.style.display =\n",
              "          google.colab.kernel.accessAllowed ? 'block' : 'none';\n",
              "\n",
              "        async function convertToInteractive(key) {\n",
              "          const element = document.querySelector('#df-218a41d9-033d-4f88-9ed6-05503b662b7a');\n",
              "          const dataTable =\n",
              "            await google.colab.kernel.invokeFunction('convertToInteractive',\n",
              "                                                     [key], {});\n",
              "          if (!dataTable) return;\n",
              "\n",
              "          const docLinkHtml = 'Like what you see? Visit the ' +\n",
              "            '<a target=\"_blank\" href=https://colab.research.google.com/notebooks/data_table.ipynb>data table notebook</a>'\n",
              "            + ' to learn more about interactive tables.';\n",
              "          element.innerHTML = '';\n",
              "          dataTable['output_type'] = 'display_data';\n",
              "          await google.colab.output.renderOutput(dataTable, element);\n",
              "          const docLink = document.createElement('div');\n",
              "          docLink.innerHTML = docLinkHtml;\n",
              "          element.appendChild(docLink);\n",
              "        }\n",
              "      </script>\n",
              "    </div>\n",
              "  </div>\n",
              "  "
            ]
          },
          "metadata": {},
          "execution_count": 37
        }
      ]
    },
    {
      "cell_type": "code",
      "metadata": {
        "colab": {
          "base_uri": "https://localhost:8080/"
        },
        "id": "7bdkNaEfdAYm",
        "outputId": "b453e4e4-bbc8-4b2f-c5ad-4f249752f1d2"
      },
      "source": [
        "# Logistic Regression performance results on a test dataset\n",
        "\n",
        "LR_predictions = clf.predict(temp_df)\n",
        "\n",
        "print(sk_metrics.classification_report(y_test, LR_predictions))\n",
        "print(\"Accuracy score:\", sk_metrics.accuracy_score(y_test, LR_predictions))"
      ],
      "execution_count": 38,
      "outputs": [
        {
          "output_type": "stream",
          "name": "stdout",
          "text": [
            "              precision    recall  f1-score   support\n",
            "\n",
            "           0       1.00      0.98      0.99        43\n",
            "           1       0.99      1.00      0.99        69\n",
            "\n",
            "    accuracy                           0.99       112\n",
            "   macro avg       0.99      0.99      0.99       112\n",
            "weighted avg       0.99      0.99      0.99       112\n",
            "\n",
            "Accuracy score: 0.9910714285714286\n"
          ]
        },
        {
          "output_type": "stream",
          "name": "stderr",
          "text": [
            "/usr/local/lib/python3.7/dist-packages/sklearn/utils/validation.py:1692: FutureWarning: Feature names only support names that are all strings. Got feature names with dtypes: ['int', 'str']. An error will be raised in 1.2.\n",
            "  FutureWarning,\n",
            "/usr/local/lib/python3.7/dist-packages/sklearn/base.py:451: UserWarning: X does not have valid feature names, but LogisticRegression was fitted with feature names\n",
            "  \"X does not have valid feature names, but\"\n"
          ]
        }
      ]
    },
    {
      "cell_type": "code",
      "metadata": {
        "colab": {
          "base_uri": "https://localhost:8080/",
          "height": 548
        },
        "id": "ty2D4jvPdAYn",
        "outputId": "55d30bae-8d53-4d34-c0a1-76b875d9e6a5"
      },
      "source": [
        "# Inspecting performance of a model on a test dataset visually\n",
        "\n",
        "inspect_df = pd.concat([X_test.reset_index(drop=True), pd.Series(LR_predictions, name=\"prediction\")], axis=1)\n",
        "inspect_df = pd.concat([inspect_df, y_test], axis=1)\n",
        "inspect_df.head(10)"
      ],
      "execution_count": 39,
      "outputs": [
        {
          "output_type": "execute_result",
          "data": {
            "text/plain": [
              "                          name  valid_first_name        phone  \\\n",
              "0               Кушнир Дмитрий                 1    638530046   \n",
              "1                    Хава Поль                 1    986600300   \n",
              "2                      rimmfus                 0  88944228987   \n",
              "3                      minilia                 0  86795652633   \n",
              "4                    Adventist                 0  84185643512   \n",
              "5                  allysonhr69                 0  85697236629   \n",
              "6                   Rufusblola                 0  85771991335   \n",
              "7  Fomin Aleksandr Alekseevich                 1    674812290   \n",
              "8                       Smsdex                 0  87771451338   \n",
              "9                   Jasoncloub                 0  83763733586   \n",
              "\n",
              "   valid_phone_number                                        email  \\\n",
              "0                   1                    dima_kushnir_2017@mail.ru   \n",
              "1                   1                          paulhawa1@gmail.com   \n",
              "2                   0                             s_gorlin@list.ru   \n",
              "3                   0                         axoplarly@ahmail.xyz   \n",
              "4                   0                         serztryu76@gmail.com   \n",
              "5                   0  darcyny11@norio4610.isamu97.forcemix.online   \n",
              "6                   0                         cobylesly8@gmail.com   \n",
              "7                   1                    aleksandr.fomin@gmail.com   \n",
              "8                   0                           fah.igor@yandex.ru   \n",
              "9                   0                    keoncharleemmak@gmail.com   \n",
              "\n",
              "                        email_domain  \\\n",
              "0                            mail.ru   \n",
              "1                          gmail.com   \n",
              "2                            list.ru   \n",
              "3                         ahmail.xyz   \n",
              "4                          gmail.com   \n",
              "5  norio4610.isamu97.forcemix.online   \n",
              "6                          gmail.com   \n",
              "7                          gmail.com   \n",
              "8                          yandex.ru   \n",
              "9                          gmail.com   \n",
              "\n",
              "                                             message  prediction  is_spam  \n",
              "0                                               J211           0        0  \n",
              "1                Я новичок в сфере программирования            0        0  \n",
              "2  Заказать seo поисковую оптимизацию сайта, Зака...           1        1  \n",
              "3                                                              1        1  \n",
              "4                                                 \\n           1        1  \n",
              "5                                                              1        1  \n",
              "6                                                              1        1  \n",
              "7                                              TEST3           0        0  \n",
              "8                                                              1        1  \n",
              "9                                                              1        1  "
            ],
            "text/html": [
              "\n",
              "  <div id=\"df-be014cb1-5dba-4c6f-943a-bef71e65dd07\">\n",
              "    <div class=\"colab-df-container\">\n",
              "      <div>\n",
              "<style scoped>\n",
              "    .dataframe tbody tr th:only-of-type {\n",
              "        vertical-align: middle;\n",
              "    }\n",
              "\n",
              "    .dataframe tbody tr th {\n",
              "        vertical-align: top;\n",
              "    }\n",
              "\n",
              "    .dataframe thead th {\n",
              "        text-align: right;\n",
              "    }\n",
              "</style>\n",
              "<table border=\"1\" class=\"dataframe\">\n",
              "  <thead>\n",
              "    <tr style=\"text-align: right;\">\n",
              "      <th></th>\n",
              "      <th>name</th>\n",
              "      <th>valid_first_name</th>\n",
              "      <th>phone</th>\n",
              "      <th>valid_phone_number</th>\n",
              "      <th>email</th>\n",
              "      <th>email_domain</th>\n",
              "      <th>message</th>\n",
              "      <th>prediction</th>\n",
              "      <th>is_spam</th>\n",
              "    </tr>\n",
              "  </thead>\n",
              "  <tbody>\n",
              "    <tr>\n",
              "      <th>0</th>\n",
              "      <td>Кушнир Дмитрий</td>\n",
              "      <td>1</td>\n",
              "      <td>638530046</td>\n",
              "      <td>1</td>\n",
              "      <td>dima_kushnir_2017@mail.ru</td>\n",
              "      <td>mail.ru</td>\n",
              "      <td>J211</td>\n",
              "      <td>0</td>\n",
              "      <td>0</td>\n",
              "    </tr>\n",
              "    <tr>\n",
              "      <th>1</th>\n",
              "      <td>Хава Поль</td>\n",
              "      <td>1</td>\n",
              "      <td>986600300</td>\n",
              "      <td>1</td>\n",
              "      <td>paulhawa1@gmail.com</td>\n",
              "      <td>gmail.com</td>\n",
              "      <td>Я новичок в сфере программирования</td>\n",
              "      <td>0</td>\n",
              "      <td>0</td>\n",
              "    </tr>\n",
              "    <tr>\n",
              "      <th>2</th>\n",
              "      <td>rimmfus</td>\n",
              "      <td>0</td>\n",
              "      <td>88944228987</td>\n",
              "      <td>0</td>\n",
              "      <td>s_gorlin@list.ru</td>\n",
              "      <td>list.ru</td>\n",
              "      <td>Заказать seo поисковую оптимизацию сайта, Зака...</td>\n",
              "      <td>1</td>\n",
              "      <td>1</td>\n",
              "    </tr>\n",
              "    <tr>\n",
              "      <th>3</th>\n",
              "      <td>minilia</td>\n",
              "      <td>0</td>\n",
              "      <td>86795652633</td>\n",
              "      <td>0</td>\n",
              "      <td>axoplarly@ahmail.xyz</td>\n",
              "      <td>ahmail.xyz</td>\n",
              "      <td></td>\n",
              "      <td>1</td>\n",
              "      <td>1</td>\n",
              "    </tr>\n",
              "    <tr>\n",
              "      <th>4</th>\n",
              "      <td>Adventist</td>\n",
              "      <td>0</td>\n",
              "      <td>84185643512</td>\n",
              "      <td>0</td>\n",
              "      <td>serztryu76@gmail.com</td>\n",
              "      <td>gmail.com</td>\n",
              "      <td>\\n</td>\n",
              "      <td>1</td>\n",
              "      <td>1</td>\n",
              "    </tr>\n",
              "    <tr>\n",
              "      <th>5</th>\n",
              "      <td>allysonhr69</td>\n",
              "      <td>0</td>\n",
              "      <td>85697236629</td>\n",
              "      <td>0</td>\n",
              "      <td>darcyny11@norio4610.isamu97.forcemix.online</td>\n",
              "      <td>norio4610.isamu97.forcemix.online</td>\n",
              "      <td></td>\n",
              "      <td>1</td>\n",
              "      <td>1</td>\n",
              "    </tr>\n",
              "    <tr>\n",
              "      <th>6</th>\n",
              "      <td>Rufusblola</td>\n",
              "      <td>0</td>\n",
              "      <td>85771991335</td>\n",
              "      <td>0</td>\n",
              "      <td>cobylesly8@gmail.com</td>\n",
              "      <td>gmail.com</td>\n",
              "      <td></td>\n",
              "      <td>1</td>\n",
              "      <td>1</td>\n",
              "    </tr>\n",
              "    <tr>\n",
              "      <th>7</th>\n",
              "      <td>Fomin Aleksandr Alekseevich</td>\n",
              "      <td>1</td>\n",
              "      <td>674812290</td>\n",
              "      <td>1</td>\n",
              "      <td>aleksandr.fomin@gmail.com</td>\n",
              "      <td>gmail.com</td>\n",
              "      <td>TEST3</td>\n",
              "      <td>0</td>\n",
              "      <td>0</td>\n",
              "    </tr>\n",
              "    <tr>\n",
              "      <th>8</th>\n",
              "      <td>Smsdex</td>\n",
              "      <td>0</td>\n",
              "      <td>87771451338</td>\n",
              "      <td>0</td>\n",
              "      <td>fah.igor@yandex.ru</td>\n",
              "      <td>yandex.ru</td>\n",
              "      <td></td>\n",
              "      <td>1</td>\n",
              "      <td>1</td>\n",
              "    </tr>\n",
              "    <tr>\n",
              "      <th>9</th>\n",
              "      <td>Jasoncloub</td>\n",
              "      <td>0</td>\n",
              "      <td>83763733586</td>\n",
              "      <td>0</td>\n",
              "      <td>keoncharleemmak@gmail.com</td>\n",
              "      <td>gmail.com</td>\n",
              "      <td></td>\n",
              "      <td>1</td>\n",
              "      <td>1</td>\n",
              "    </tr>\n",
              "  </tbody>\n",
              "</table>\n",
              "</div>\n",
              "      <button class=\"colab-df-convert\" onclick=\"convertToInteractive('df-be014cb1-5dba-4c6f-943a-bef71e65dd07')\"\n",
              "              title=\"Convert this dataframe to an interactive table.\"\n",
              "              style=\"display:none;\">\n",
              "        \n",
              "  <svg xmlns=\"http://www.w3.org/2000/svg\" height=\"24px\"viewBox=\"0 0 24 24\"\n",
              "       width=\"24px\">\n",
              "    <path d=\"M0 0h24v24H0V0z\" fill=\"none\"/>\n",
              "    <path d=\"M18.56 5.44l.94 2.06.94-2.06 2.06-.94-2.06-.94-.94-2.06-.94 2.06-2.06.94zm-11 1L8.5 8.5l.94-2.06 2.06-.94-2.06-.94L8.5 2.5l-.94 2.06-2.06.94zm10 10l.94 2.06.94-2.06 2.06-.94-2.06-.94-.94-2.06-.94 2.06-2.06.94z\"/><path d=\"M17.41 7.96l-1.37-1.37c-.4-.4-.92-.59-1.43-.59-.52 0-1.04.2-1.43.59L10.3 9.45l-7.72 7.72c-.78.78-.78 2.05 0 2.83L4 21.41c.39.39.9.59 1.41.59.51 0 1.02-.2 1.41-.59l7.78-7.78 2.81-2.81c.8-.78.8-2.07 0-2.86zM5.41 20L4 18.59l7.72-7.72 1.47 1.35L5.41 20z\"/>\n",
              "  </svg>\n",
              "      </button>\n",
              "      \n",
              "  <style>\n",
              "    .colab-df-container {\n",
              "      display:flex;\n",
              "      flex-wrap:wrap;\n",
              "      gap: 12px;\n",
              "    }\n",
              "\n",
              "    .colab-df-convert {\n",
              "      background-color: #E8F0FE;\n",
              "      border: none;\n",
              "      border-radius: 50%;\n",
              "      cursor: pointer;\n",
              "      display: none;\n",
              "      fill: #1967D2;\n",
              "      height: 32px;\n",
              "      padding: 0 0 0 0;\n",
              "      width: 32px;\n",
              "    }\n",
              "\n",
              "    .colab-df-convert:hover {\n",
              "      background-color: #E2EBFA;\n",
              "      box-shadow: 0px 1px 2px rgba(60, 64, 67, 0.3), 0px 1px 3px 1px rgba(60, 64, 67, 0.15);\n",
              "      fill: #174EA6;\n",
              "    }\n",
              "\n",
              "    [theme=dark] .colab-df-convert {\n",
              "      background-color: #3B4455;\n",
              "      fill: #D2E3FC;\n",
              "    }\n",
              "\n",
              "    [theme=dark] .colab-df-convert:hover {\n",
              "      background-color: #434B5C;\n",
              "      box-shadow: 0px 1px 3px 1px rgba(0, 0, 0, 0.15);\n",
              "      filter: drop-shadow(0px 1px 2px rgba(0, 0, 0, 0.3));\n",
              "      fill: #FFFFFF;\n",
              "    }\n",
              "  </style>\n",
              "\n",
              "      <script>\n",
              "        const buttonEl =\n",
              "          document.querySelector('#df-be014cb1-5dba-4c6f-943a-bef71e65dd07 button.colab-df-convert');\n",
              "        buttonEl.style.display =\n",
              "          google.colab.kernel.accessAllowed ? 'block' : 'none';\n",
              "\n",
              "        async function convertToInteractive(key) {\n",
              "          const element = document.querySelector('#df-be014cb1-5dba-4c6f-943a-bef71e65dd07');\n",
              "          const dataTable =\n",
              "            await google.colab.kernel.invokeFunction('convertToInteractive',\n",
              "                                                     [key], {});\n",
              "          if (!dataTable) return;\n",
              "\n",
              "          const docLinkHtml = 'Like what you see? Visit the ' +\n",
              "            '<a target=\"_blank\" href=https://colab.research.google.com/notebooks/data_table.ipynb>data table notebook</a>'\n",
              "            + ' to learn more about interactive tables.';\n",
              "          element.innerHTML = '';\n",
              "          dataTable['output_type'] = 'display_data';\n",
              "          await google.colab.output.renderOutput(dataTable, element);\n",
              "          const docLink = document.createElement('div');\n",
              "          docLink.innerHTML = docLinkHtml;\n",
              "          element.appendChild(docLink);\n",
              "        }\n",
              "      </script>\n",
              "    </div>\n",
              "  </div>\n",
              "  "
            ]
          },
          "metadata": {},
          "execution_count": 39
        }
      ]
    }
  ]
}